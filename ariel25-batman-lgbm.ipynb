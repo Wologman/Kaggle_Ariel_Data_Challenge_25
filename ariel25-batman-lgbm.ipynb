{
 "cells": [
  {
   "cell_type": "code",
   "execution_count": 1,
   "id": "4072da6b",
   "metadata": {
    "execution": {
     "iopub.execute_input": "2025-09-24T22:45:35.363748Z",
     "iopub.status.busy": "2025-09-24T22:45:35.363423Z",
     "iopub.status.idle": "2025-09-24T22:45:35.372945Z",
     "shell.execute_reply": "2025-09-24T22:45:35.372018Z"
    },
    "papermill": {
     "duration": 0.042913,
     "end_time": "2025-09-24T22:45:35.374880",
     "exception": false,
     "start_time": "2025-09-24T22:45:35.331967",
     "status": "completed"
    },
    "tags": []
   },
   "outputs": [],
   "source": [
    "SUBMIT_TO_COMPETITION = True #Don't forget to turn on the GPU for submissions\n",
    "FIT_ON_PREPROCESSED = True #Has no effect if submitting\n",
    "MODELS_PATH = '/kaggle/input/ariel25_exp_86/scikitlearn/default/1/Exp_86'"
   ]
  },
  {
   "cell_type": "code",
   "execution_count": 2,
   "id": "0d6d53e5",
   "metadata": {
    "execution": {
     "iopub.execute_input": "2025-09-24T22:45:35.434247Z",
     "iopub.status.busy": "2025-09-24T22:45:35.433894Z",
     "iopub.status.idle": "2025-09-24T22:45:35.438364Z",
     "shell.execute_reply": "2025-09-24T22:45:35.437544Z"
    },
    "papermill": {
     "duration": 0.035636,
     "end_time": "2025-09-24T22:45:35.440298",
     "exception": false,
     "start_time": "2025-09-24T22:45:35.404662",
     "status": "completed"
    },
    "tags": []
   },
   "outputs": [
    {
     "name": "stdout",
     "output_type": "stream",
     "text": [
      "3.10.13 | packaged by conda-forge | (main, Dec 23 2023, 15:36:39) [GCC 12.3.0]\n"
     ]
    }
   ],
   "source": [
    "import sys\n",
    "print(sys.version)"
   ]
  },
  {
   "cell_type": "code",
   "execution_count": 3,
   "id": "9b914a80",
   "metadata": {
    "execution": {
     "iopub.execute_input": "2025-09-24T22:45:35.498594Z",
     "iopub.status.busy": "2025-09-24T22:45:35.497655Z",
     "iopub.status.idle": "2025-09-24T22:46:18.879816Z",
     "shell.execute_reply": "2025-09-24T22:46:18.878718Z"
    },
    "papermill": {
     "duration": 43.414575,
     "end_time": "2025-09-24T22:46:18.882263",
     "exception": false,
     "start_time": "2025-09-24T22:45:35.467688",
     "status": "completed"
    },
    "tags": []
   },
   "outputs": [
    {
     "name": "stdout",
     "output_type": "stream",
     "text": [
      "Processing /kaggle/input/batman-package-for-python-3-10/batman_package-2.5.3-cp310-cp310-manylinux_2_17_x86_64.manylinux2014_x86_64.whl\r\n",
      "Requirement already satisfied: numpy in /opt/conda/lib/python3.10/site-packages (from batman-package==2.5.3) (1.26.4)\r\n",
      "Installing collected packages: batman-package\r\n",
      "Successfully installed batman-package-2.5.3\r\n"
     ]
    }
   ],
   "source": [
    "#!pip install /kaggle/input/batman-package-for-python-3-11/batman_package-2.5.3-cp311-cp311-manylinux_2_17_x86_64.manylinux2014_x86_64.whl    #For 2025 kaggle env\n",
    "!pip install /kaggle/input/batman-package-for-python-3-10/batman_package-2.5.3-cp310-cp310-manylinux_2_17_x86_64.manylinux2014_x86_64.whl  #For 2024 kaggle env\n",
    "import batman"
   ]
  },
  {
   "cell_type": "code",
   "execution_count": 4,
   "id": "d6b5c1bd",
   "metadata": {
    "execution": {
     "iopub.execute_input": "2025-09-24T22:46:18.941810Z",
     "iopub.status.busy": "2025-09-24T22:46:18.940839Z",
     "iopub.status.idle": "2025-09-24T22:46:29.319226Z",
     "shell.execute_reply": "2025-09-24T22:46:29.318264Z"
    },
    "papermill": {
     "duration": 10.410609,
     "end_time": "2025-09-24T22:46:29.321500",
     "exception": false,
     "start_time": "2025-09-24T22:46:18.910891",
     "status": "completed"
    },
    "tags": []
   },
   "outputs": [],
   "source": [
    "import os\n",
    "import time\n",
    "import pandas as pd\n",
    "import numpy as np\n",
    "import math\n",
    "import itertools\n",
    "import random\n",
    "from tqdm import tqdm\n",
    "import multiprocessing as mp\n",
    "from joblib import Parallel, delayed\n",
    "from astropy.stats import sigma_clip\n",
    "from scipy.interpolate import interp1d\n",
    "from scipy.signal import savgol_filter\n",
    "from scipy.signal import medfilt\n",
    "from scipy.optimize import curve_fit\n",
    "from scipy.ndimage import gaussian_filter1d\n",
    "from scipy.optimize import curve_fit\n",
    "import torch\n",
    "import torch.nn.functional as F\n",
    "import scipy.stats\n",
    "import joblib\n",
    "from numpy.polynomial.polynomial import Polynomial\n",
    "import matplotlib.pyplot as plt\n",
    "import lightgbm as lgb\n",
    "from pathlib import Path\n",
    "import seaborn as sns\n",
    "from sklearn.linear_model import LinearRegression\n",
    "from sklearn.decomposition import PCA\n",
    "from sklearn.feature_selection import mutual_info_regression\n",
    "from sklearn.pipeline import Pipeline\n",
    "from sklearn.preprocessing import StandardScaler"
   ]
  },
  {
   "cell_type": "code",
   "execution_count": 5,
   "id": "ea0c2aa3",
   "metadata": {
    "execution": {
     "iopub.execute_input": "2025-09-24T22:46:29.377308Z",
     "iopub.status.busy": "2025-09-24T22:46:29.376813Z",
     "iopub.status.idle": "2025-09-24T22:46:29.387431Z",
     "shell.execute_reply": "2025-09-24T22:46:29.386615Z"
    },
    "papermill": {
     "duration": 0.040108,
     "end_time": "2025-09-24T22:46:29.389102",
     "exception": false,
     "start_time": "2025-09-24T22:46:29.348994",
     "status": "completed"
    },
    "tags": []
   },
   "outputs": [],
   "source": [
    "if SUBMIT_TO_COMPETITION:\n",
    "    FIT_ON_PREPROCESSED = False\n",
    "    GET_METRICS = False\n",
    "    TRAIN_NEW_MODELS = False\n",
    "else:\n",
    "    GET_METRICS = True\n",
    "    TRAIN_NEW_MODELS = True\n",
    "\n",
    "FIT_PCA = False\n",
    "ERROR_PCA = True\n",
    "FOLDS = 10\n",
    "INNER_FOLDS = 5\n",
    "EARLY_STOPPING = False\n",
    "ROOT = \"/kaggle\"\n",
    "MASK_HOT_PIXELS = False\n",
    "SIGNAL_VERSION = 'signal_v5'\n",
    "MIX_SPLITS = False  # Throw 75% of the val split from inner folds back into the fit training split data.  At risk of data leakage between fitting and error models.\n",
    "\n",
    "if MASK_HOT_PIXELS:\n",
    "    SIGNAL_PATH = '/kaggle/input/ariel-updated-signal/signal_v4.npy' if FIT_ON_PREPROCESSED else None\n",
    "else:\n",
    "    SIGNAL_PATH = '/kaggle/input/ariel25-signal-v5/signal_v5.npy' if FIT_ON_PREPROCESSED else None\n",
    "\n",
    "FIT_FEATURES = (['polypoints_std', 'polypoints_range', 'transit_fit_a', 'bat_correction']\n",
    "                + ['Rs', 'Ms', 'Ts', 'Mp', 'P', 'sma', 'cos_i', 'm_ratio'] \n",
    "                + ['half_delta', 'asymmetry', 'transit_half_delta_height']\n",
    "                + [\"transit_residual_std\", \"rel_noise\", \"aspect\", 'mean_first_diff', 'mean_second_diff']\n",
    "                + ['a', 'b', 'c',  'impact', 'fgs_diff',  'darkening_correction']  #'x_centre'\n",
    "                + [\"main_wl_bin\", \"main_mean_diff\", \"local_diff_2\", \"local_diff_4\", \"local_diff_6\"]\n",
    "                + [\"local_diff_8\", \"transit_delta\",  \"transit_delta_width\", 'transit_ratio', 'max_slope']\n",
    "                )\n",
    "\n",
    "LGBM_LOCAL_ERROR_FEATURES =  ([\"main_mean_diff\", \"local_diff_2\", \"local_diff_4\", \"main_wl_bin\"]\n",
    "                              + [\"local_diff_6\", \"local_diff_8\"])\n",
    "\n",
    "ERROR_FEATURES = (['polypoints_range', 'polypoints_std',  'mean_first_diff', 'bat_correction']\n",
    "                   + ['mean_second_diff', 'asymmetry']\n",
    "                   +['max_slope', 'c', 'x_centre',  \"aspect\", 'transit_width', 'rel_noise']\n",
    "                 )\n",
    "\n",
    "LGBM_FIT_PARAMETERS = {\n",
    "                        'num_leaves':12, #got slight drop in score with 14\n",
    "                        'min_child_samples':15,  #current best score 0.494 was with 15\n",
    "                        #'colsample_bytree': 0.9,\n",
    "                        #'reg_alpha': 0.001,\n",
    "                        #'reg_lambda': 0.01,\n",
    "                        'objective': 'regression_l2',\n",
    "                        'learning_rate': 0.01,\n",
    "                        'max_depth': 6,\n",
    "                        'n_estimators': 4000,  #Using early stopping: 8000\n",
    "                        #'tree_learner': 'serial',\n",
    "                        'verbose' : -1\n",
    "                      }\n",
    "\n",
    "LGBM_ERROR_PARAMETERS = {\n",
    "                        'num_leaves': 5,  #was 5   score drops for 4 and 6\n",
    "                        'min_child_samples':10,\n",
    "                        #\"colsample_bytree\": 0.9,\n",
    "                        #'reg_alpha': 0.01,\n",
    "                        #'reg_lambda': 0.1,\n",
    "                        'objective': 'regression_l2',\n",
    "                        'learning_rate': 0.01,\n",
    "                        'max_depth': 4,    #6\n",
    "                        'n_estimators': 800, #8000,  #Using early stopping\n",
    "                        #'tree_learner': 'serial',\n",
    "                        'verbose' : -1\n",
    "                        }\n",
    "\n",
    "EXCLUDE_PLANETS = [1843015807]  #exclude from model building and evaluation ids\n",
    "USE_INTERPOLATED_FIT_THRESHOLD = 0.001 #above this all wavelengths use the fitted value\n",
    "PCA_FEATURES = 6\n",
    "PCA_ERROR_FEATURES = 4\n",
    "NO_BREAKPOINTS_ERROR_FACTOR = 2 #Multiplies the error prediction by this if no breakpoints found (only four examples of this in data)\n",
    "WL_BINS = 12 #12 current best  16 #18 #20 #24 \n",
    "BINNING_KERNEL = 25 #41 #19 #25 #19 #15   Want binning_kernel x WL_bins to be >= 283\n",
    "CONV_KERNEL_LIMITS = {'min':21, 'max': 21} #current best 21, 21  Min/Max concept is flawed.  change to 19 or 25 doesn't make any difference.\n",
    "#It would only make sense if the samples were differeing in wavelength-frequency\n",
    "WL_BUFFER = 5  #Number of wavelengths between last model prediction and the end\n",
    "MODEL_FOLD_VAR_ENSEMBLE_WEIGHTS = 0.5  #between 0 and 1.  Weights the relative importance of modelled variance vs the fold variance\n",
    "#6.  0.486 weight 0.5,  EF 1.2    applying over 0.0005  ERROR_OFFSET 0.00003  \n",
    "#5.  0.481 weight 0.25, EF 1      applying over 0.0005\n",
    "#4.  0.491 weight 0.25, EF 1.25   applying over 0.0005\n",
    "#3.  0.491 weight 1.0   EF 1.25   all\n",
    "#2.  0.44  weight 0.5   EF 1.25   all\n",
    "#1.  0.41  weight 0.25  EF 1.25   all\n",
    "\n",
    "#current theory,  model is more accurate < 0.0005.  Above that we want a higher blend of fold var.  \n",
    "#however there are no actual samples in the public test set > 0.0005 anyway, but there could be in the hidden data\n",
    "\n",
    "ERROR_FACTOR = 1.25 #Allows for slightly worse performance on compeition data?\n",
    "ERROR_OFFSET = 0\n",
    "AIRS_MIN_SIGMA, AIRS_MAX_SIGMA = 0.0001, 0.1  #Public notebooks are using 0008 & 0009\n",
    "WEIGHTED_ENSEMBLE_THRESHOLD = 0.0007  #Above this we include error estimated from fold variance\n",
    "AIRS_MAX_SHIFT = 0.05  #So high it's just to prevent infinty or other crazyness\n",
    "FGS_MAX_SHIFT = 0.05\n",
    "SCALE = 1  #Fudge factor\n",
    "\n",
    "TRANSITION_BUFFER = 15\n",
    "MAX_LEFT_EDGE = 20   \n",
    "MAX_RIGHT_EDGE = 40\n",
    "TOP_POINTS = 10"
   ]
  },
  {
   "cell_type": "code",
   "execution_count": 6,
   "id": "405f79ae",
   "metadata": {
    "execution": {
     "iopub.execute_input": "2025-09-24T22:46:29.486198Z",
     "iopub.status.busy": "2025-09-24T22:46:29.485338Z",
     "iopub.status.idle": "2025-09-24T22:46:29.490164Z",
     "shell.execute_reply": "2025-09-24T22:46:29.489296Z"
    },
    "papermill": {
     "duration": 0.033312,
     "end_time": "2025-09-24T22:46:29.491820",
     "exception": false,
     "start_time": "2025-09-24T22:46:29.458508",
     "status": "completed"
    },
    "tags": []
   },
   "outputs": [],
   "source": [
    "TIME_BINS = 15  #15  was used up until version 97\n",
    "sensor_sizes_dict = {\n",
    "    \"AIRS-CH0\": [[11250, 32, 356], [32, 356]],\n",
    "    \"FGS1\": [[135000, 32, 32], [32, 32]],\n",
    "    \"cl\": 8,\n",
    "    \"cr\": 24\n",
    "    }  # input, mask\n",
    "\n",
    "# 16 center pixels, rest is just noise\n",
    "cl = 8\n",
    "cr = 24"
   ]
  },
  {
   "cell_type": "markdown",
   "id": "273f5b2e",
   "metadata": {
    "papermill": {
     "duration": 0.026237,
     "end_time": "2025-09-24T22:46:29.544927",
     "exception": false,
     "start_time": "2025-09-24T22:46:29.518690",
     "status": "completed"
    },
    "tags": []
   },
   "source": [
    "## Filepaths"
   ]
  },
  {
   "cell_type": "code",
   "execution_count": 7,
   "id": "62ecc979",
   "metadata": {
    "execution": {
     "iopub.execute_input": "2025-09-24T22:46:29.599406Z",
     "iopub.status.busy": "2025-09-24T22:46:29.598804Z",
     "iopub.status.idle": "2025-09-24T22:46:29.606857Z",
     "shell.execute_reply": "2025-09-24T22:46:29.605732Z"
    },
    "papermill": {
     "duration": 0.03788,
     "end_time": "2025-09-24T22:46:29.608594",
     "exception": false,
     "start_time": "2025-09-24T22:46:29.570714",
     "status": "completed"
    },
    "tags": []
   },
   "outputs": [],
   "source": [
    "class Paths():\n",
    "    def __init__(self,\n",
    "                 root,\n",
    "                 train_models,\n",
    "                 saved_models_path=None,\n",
    "                 new_signal_name=None,\n",
    "                 saved_signal_path=None,\n",
    "                 ):\n",
    "        _root = Path(root)\n",
    "        self.working = _root / 'working'\n",
    "        self.data = _root / 'input/ariel-data-challenge-2025'\n",
    "        self.test_dir = self.data / 'test'\n",
    "        self.train_dir = self.data / 'train'\n",
    "        self.wavelengths = self.data / 'wavelengths.csv'\n",
    "        self.train_csv = self.data / 'train.csv'\n",
    "        \n",
    "        if train_models:\n",
    "            self.pred_models = self.working / 'prediction_models'\n",
    "            self.error_models = self.working / 'uncertainty_models'\n",
    "            self.fit_pipeline = self.working / 'fit_pipeline.pkl'\n",
    "            self.error_pipeline = self.working / 'error_pipeline.pkl'\n",
    "            self.pred_models.mkdir(exist_ok=True)\n",
    "            self.error_models.mkdir(exist_ok=True)\n",
    "            self.star_info = self.data / 'train_star_info.csv' \n",
    "            self.signal_folder = self.train_dir \n",
    "        else:\n",
    "            _models_dir = Path(saved_models_path)\n",
    "            print(f'Using models from {saved_models_path}')\n",
    "            self.pred_models = _models_dir / 'prediction_models'\n",
    "            self.error_models = _models_dir / 'uncertainty_models'\n",
    "            self.fit_pipeline = _models_dir / 'fit_pipeline.pkl'\n",
    "            self.error_pipeline = _models_dir / 'error_pipeline.pkl'\n",
    "            self.star_info = self.data / 'test_star_info.csv' \n",
    "            self.signal_folder = self.test_dir\n",
    "\n",
    "        if saved_signal_path is not None:\n",
    "            self.signal_path = saved_signal_path\n",
    "        else:\n",
    "            self.signal_path = self.working / f'{new_signal_name}.npy'"
   ]
  },
  {
   "cell_type": "markdown",
   "id": "ff8e99f7",
   "metadata": {
    "papermill": {
     "duration": 0.026289,
     "end_time": "2025-09-24T22:46:29.662584",
     "exception": false,
     "start_time": "2025-09-24T22:46:29.636295",
     "status": "completed"
    },
    "tags": []
   },
   "source": [
    "## Main Processing Classes\n",
    "### Preprocess"
   ]
  },
  {
   "cell_type": "code",
   "execution_count": 8,
   "id": "71ffc0b8",
   "metadata": {
    "execution": {
     "iopub.execute_input": "2025-09-24T22:46:29.716349Z",
     "iopub.status.busy": "2025-09-24T22:46:29.716024Z",
     "iopub.status.idle": "2025-09-24T22:46:29.742275Z",
     "shell.execute_reply": "2025-09-24T22:46:29.741328Z"
    },
    "papermill": {
     "duration": 0.05517,
     "end_time": "2025-09-24T22:46:29.743820",
     "exception": false,
     "start_time": "2025-09-24T22:46:29.688650",
     "status": "completed"
    },
    "tags": []
   },
   "outputs": [],
   "source": [
    "class PreProcessor():\n",
    "    def __init__(self,\n",
    "                 signal_version: str,\n",
    "                 time_bins: int,\n",
    "                 sensor_sizes: dict,\n",
    "                 signal_source_dir,\n",
    "                 mask_hot=True,\n",
    "                 ):\n",
    "\n",
    "        self.signal_version = signal_version\n",
    "        self.time_bins = time_bins\n",
    "        self.sensor_sizes = sensor_sizes\n",
    "        self.raw_signal_dir = signal_source_dir\n",
    "        self.mask_hot = mask_hot\n",
    "\n",
    "    \n",
    "    def get_gain_offset(self):\n",
    "        \"\"\"\n",
    "        Get the gain and offset for a given planet and sensor\n",
    "    \n",
    "        Unlike last year's challenge, all planets use the same adc_info.\n",
    "        We can just hard code it.\n",
    "        \"\"\"\n",
    "        gain = 0.4369\n",
    "        offset = -1000.0\n",
    "        return gain, offset\n",
    "    \n",
    "    \n",
    "    def read_data(self, planet_id, sensor, folder):\n",
    "        \"\"\"\n",
    "        Read the data for a given planet and sensor\n",
    "        \"\"\"\n",
    "        # get all noise correction frames and signal\n",
    "        signal = pd.read_parquet(\n",
    "            folder / f\"{planet_id}/{sensor}_signal_0.parquet\",\n",
    "            engine=\"pyarrow\",\n",
    "        )\n",
    "        dark_frame = pd.read_parquet(\n",
    "            folder / f\"{planet_id}/{sensor}_calibration_0/dark.parquet\",\n",
    "            engine=\"pyarrow\",\n",
    "        )\n",
    "        dead_frame = pd.read_parquet(\n",
    "             folder / f\"{planet_id}/{sensor}_calibration_0/dead.parquet\",\n",
    "            engine=\"pyarrow\",\n",
    "        )\n",
    "        linear_corr_frame = pd.read_parquet(\n",
    "             folder / f\"{planet_id}/{sensor}_calibration_0/linear_corr.parquet\",\n",
    "            engine=\"pyarrow\",\n",
    "        )\n",
    "        flat_frame = pd.read_parquet(\n",
    "            folder / f\"{planet_id}/{sensor}_calibration_0/flat.parquet\",\n",
    "            engine=\"pyarrow\",\n",
    "        )\n",
    "\n",
    "        signal = signal.values.astype(np.float64).reshape(self.sensor_sizes[sensor][0])[\n",
    "            :, cl:cr, :\n",
    "        ]\n",
    "        dark_frame = dark_frame.values.astype(np.float64).reshape(\n",
    "            self.sensor_sizes[sensor][1]\n",
    "        )[cl:cr, :]\n",
    "        dead_frame = dead_frame.values.reshape(self.sensor_sizes[sensor][1])[cl:cr, :]\n",
    "        flat_frame = flat_frame.values.astype(np.float64).reshape(\n",
    "            self.sensor_sizes[sensor][1]\n",
    "        )[cl:cr, :]\n",
    "        linear_corr = linear_corr_frame.values.astype(np.float64).reshape(\n",
    "            [6] + self.sensor_sizes[sensor][1]\n",
    "        )[:, self.sensor_sizes['cl']:self.sensor_sizes['cr'], :]\n",
    "    \n",
    "        return (\n",
    "            signal,\n",
    "            dark_frame,\n",
    "            dead_frame,\n",
    "            linear_corr,\n",
    "            flat_frame,\n",
    "        )\n",
    "    \n",
    "    \n",
    "    def ADC_convert(self, signal, gain, offset):\n",
    "        \"\"\"\n",
    "        Step 1: Analog-to-Digital Conversion (ADC) correction\n",
    "    \n",
    "        The Analog-to-Digital Conversion (adc) is performed by the detector to convert the\n",
    "        pixel voltage into an integer number. We revert this operation by using the gain\n",
    "        and offset for the calibration files 'train_adc_info.csv'.\n",
    "        \"\"\"\n",
    "    \n",
    "        return signal / gain + offset\n",
    "    \n",
    "    \n",
    "    def mask_hot_dead(self, signal, dead, dark):\n",
    "        \"\"\"\n",
    "        Step 2: Mask hot/dead pixel\n",
    "    \n",
    "        The dead pixels map is a map of the pixels that do not respond to light and, thus,\n",
    "        can't be accounted for any calculation. In all these frames the dead pixels are\n",
    "        masked using python masked arrays. The bad pixels are thus masked but left\n",
    "        uncorrected. Some methods can be used to correct bad-pixels but this task,\n",
    "        if needed, is left to the participants.\n",
    "        \"\"\"\n",
    "    \n",
    "        hot = sigma_clip(dark, sigma=5, maxiters=5).mask\n",
    "        hot = np.tile(hot, (signal.shape[0], 1, 1))\n",
    "        dead = np.tile(dead, (signal.shape[0], 1, 1))\n",
    "    \n",
    "        # Set values to np.nan where dead or hot pixels are found\n",
    "        signal[dead] = np.nan\n",
    "        if self.mask_hot:\n",
    "            signal[hot] = np.nan\n",
    "        return signal\n",
    "    \n",
    "    \n",
    "    def apply_linear_corr(self, c, signal):\n",
    "        \"\"\"\n",
    "        Step 3: linearity Correction\n",
    "    \n",
    "        The non-linearity of the pixels' response can be explained as capacitive leakage\n",
    "        on the readout electronics of each pixel during the integration time. The number\n",
    "        of electrons in the well is proportional to the number of photons that hit the\n",
    "        pixel, with a quantum efficiency coefficient. However, the response of the pixel\n",
    "        is not linear with the number of electrons in the well. This effect can be\n",
    "        described by a polynomial function of the number of electrons actually in the well.\n",
    "        The data is provided with calibration files linear_corr.parquet that are the\n",
    "        coefficients of the inverse polynomial function and can be used to correct this\n",
    "        non-linearity effect.\n",
    "        Using horner's method to evaluate the polynomial\n",
    "        \"\"\"\n",
    "        assert c.shape[0] == 6  # Ensure the polynomial is of degree 5\n",
    "    \n",
    "        return (\n",
    "            (((c[5] * signal + c[4]) * signal + c[3]) * signal + c[2]) * signal + c[1]\n",
    "        ) * signal + c[0]\n",
    "    \n",
    "    \n",
    "    def clean_dark(self, signal, dark, dt):\n",
    "        \"\"\"\n",
    "        Step 4: dark current subtraction\n",
    "    \n",
    "        The data provided include calibration for dark current estimation, which can be\n",
    "        used to pre-process the observations. Dark current represents a constant signal\n",
    "        that accumulates in each pixel during the integration time, independent of the\n",
    "        incoming light. To obtain the corrected image, the following conventional approach\n",
    "        is applied: The data provided include calibration files such as dark frames or\n",
    "        dead pixels' maps. They can be used to pre-process the observations. The dark frame\n",
    "        is a map of the detector response to a very short exposure time, to correct for the\n",
    "        dark current of the detector.\n",
    "    \n",
    "        image - (dark * dt)\n",
    "    \n",
    "        The corrected image is conventionally obtained via the following: where the dark\n",
    "        current map is first corrected for the dead pixel.\n",
    "        \"\"\"\n",
    "    \n",
    "        dark = torch.tile(dark, (signal.shape[0], 1, 1))\n",
    "        signal -= dark * dt[:, None, None]\n",
    "        return signal\n",
    "    \n",
    "    \n",
    "    def get_cds(self, signal):\n",
    "        \"\"\"\n",
    "        Step 5: Get Correlated Double Sampling (CDS)\n",
    "    \n",
    "        The science frames are alternating between the start of the exposure and the end of\n",
    "        the exposure. The lecture scheme is a ramp with a double sampling, called\n",
    "        Correlated Double Sampling (CDS), the detector is read twice, once at the start\n",
    "        of the exposure and once at the end of the exposure. The final CDS is the\n",
    "        difference (End of exposure) - (Start of exposure).\n",
    "        \"\"\"\n",
    "    \n",
    "        return torch.subtract(signal[1::2, :, :], signal[::2, :, :])\n",
    "    \n",
    "    \n",
    "    def bin_obs(self, signal, binning):\n",
    "        \"\"\"\n",
    "        Step 5.1: Bin Observations\n",
    "    \n",
    "        The data provided are binned in the time dimension. The binning is performed by\n",
    "        summing the signal over the time dimension.\n",
    "        \"\"\"\n",
    "    \n",
    "        # Pad if signal.shape[0] is not divisible by binning\n",
    "        remainder = signal.shape[0] % binning\n",
    "        if remainder != 0:\n",
    "            pad_len = binning - remainder\n",
    "            pad = signal[-1:].repeat(pad_len, 1, 1)\n",
    "            signal = torch.cat([signal, pad], dim=0)\n",
    "    \n",
    "        # Allocate output tensor on the same device as input\n",
    "        device = signal.device\n",
    "        cds_binned = torch.zeros(\n",
    "            (\n",
    "                signal.shape[0] // binning,\n",
    "                signal.shape[1],\n",
    "                signal.shape[2],\n",
    "            ),\n",
    "            device=device,\n",
    "        )\n",
    "    \n",
    "        for i in range(signal.shape[0] // binning):\n",
    "            cds_binned[i, :, :] = torch.sum(\n",
    "                signal[i * binning : (i + 1) * binning, :, :], axis=0\n",
    "            )\n",
    "    \n",
    "        return cds_binned\n",
    "\n",
    "\n",
    "    \n",
    "    def correct_flat_field(self, flat, signal):\n",
    "        \"\"\"\n",
    "        Step 6: Flat Field Correction\n",
    "    \n",
    "        The flat field is a map of the detector response to uniform illumination, to\n",
    "        correct for the pixel-to-pixel variations of the detector, for example the\n",
    "        different quantum efficiencies of each pixel.\n",
    "        \"\"\"\n",
    "    \n",
    "        return signal / flat\n",
    "    \n",
    "    \n",
    "    def nan_interpolation(self, tensor):\n",
    "        # Assume tensor is of shape (batch, height, width)\n",
    "        nan_mask = torch.isnan(tensor)\n",
    "    \n",
    "        # Replace NaNs with zero temporarily\n",
    "        tensor_filled = torch.where(\n",
    "            nan_mask, torch.tensor(0.0, device=tensor.device), tensor\n",
    "        )\n",
    "    \n",
    "        # Create a binary mask (0 where NaNs were and 1 elsewhere)\n",
    "        ones = torch.ones_like(tensor, device=tensor.device)\n",
    "        weight = torch.where(nan_mask, torch.tensor(0.0, device=tensor.device), ones)\n",
    "    \n",
    "        # Perform interpolation by convolving with a kernel\n",
    "        # using bilinear interpolation\n",
    "        kernel = torch.ones(1, 1, 1, 3, device=tensor.device, dtype=tensor.dtype)\n",
    "    \n",
    "        # Apply padding to the tensor and weight to prevent boundary issues\n",
    "        tensor_padded = F.pad(\n",
    "            tensor_filled.unsqueeze(1), (1, 1, 0, 0), mode=\"replicate\"\n",
    "        ).squeeze(1)\n",
    "        weight_padded = F.pad(weight.unsqueeze(1), (1, 1, 0, 0), mode=\"replicate\").squeeze(\n",
    "            1\n",
    "        )\n",
    "    \n",
    "        # Convolve the filled tensor and the weight mask\n",
    "        tensor_conv = F.conv2d(tensor_padded.unsqueeze(1), kernel, stride=1)\n",
    "        weight_conv = F.conv2d(weight_padded.unsqueeze(1), kernel, stride=1)\n",
    "    \n",
    "        # Compute interpolated values (normalized by weights)\n",
    "        interpolated_tensor = tensor_conv / weight_conv\n",
    "    \n",
    "        # Apply the interpolated values only to the positions of NaNs\n",
    "        result = torch.where(nan_mask, interpolated_tensor.squeeze(1), tensor)\n",
    "    \n",
    "        return result\n",
    "\n",
    "\n",
    "    def process_planet(self, planet_id, mask_hot=True):\n",
    "        \"\"\"\n",
    "        Process a single planet's data\n",
    "        \"\"\"\n",
    "    \n",
    "        axis_info = pd.read_parquet(self.raw_signal_dir.parent / \"axis_info.parquet\")\n",
    "        dt_airs = axis_info[\"AIRS-CH0-integration_time\"].dropna().values\n",
    "    \n",
    "        for sensor in [\"FGS1\", \"AIRS-CH0\"]:\n",
    "            # load all data for this planet and sensor\n",
    "            signal, dark_frame, dead_frame, linear_corr, flat_frame = self.read_data(\n",
    "                planet_id, sensor, self.raw_signal_dir\n",
    "            )\n",
    "            gain, offset = self.get_gain_offset()\n",
    "    \n",
    "            # Step 1: ADC correction\n",
    "            signal = self.ADC_convert(signal, gain, offset)\n",
    "    \n",
    "            # Step 2: Mask hot/dead pixel\n",
    "            signal = self.mask_hot_dead(signal, dead_frame, dark_frame)\n",
    "    \n",
    "            # clip at 0\n",
    "            signal = signal.clip(0)\n",
    "    \n",
    "            # Step 3: linearity Correction\n",
    "            signal = self.apply_linear_corr(\n",
    "                torch.tensor(linear_corr).to(\"cuda:0\"), torch.tensor(signal).to(\"cuda:0\")\n",
    "            )\n",
    "    \n",
    "            # Step 4: dark current subtraction\n",
    "            if sensor == \"FGS1\":\n",
    "                dt = torch.ones(len(signal), device=\"cuda:0\") * 0.1\n",
    "                dt[1::2] += 4.5\n",
    "            elif sensor == \"AIRS-CH0\":\n",
    "                dt = torch.tensor(dt_airs).to(\"cuda:0\")\n",
    "                dt[1::2] += 0.1\n",
    "    \n",
    "            signal = self.clean_dark(signal, torch.tensor(dark_frame).to(\"cuda:0\"), dt)\n",
    "    \n",
    "            # Step 5: Get Correlated Double Sampling (CDS)\n",
    "            signal = self.get_cds(signal)\n",
    "    \n",
    "            # Step 5.1: Bin Observations\n",
    "            if sensor == \"FGS1\":\n",
    "                signal = self.bin_obs(signal, binning=self.time_bins * 12)\n",
    "            elif sensor == \"AIRS-CH0\":\n",
    "                signal = self.bin_obs(signal, binning=self.time_bins)\n",
    "    \n",
    "            # Step 6: Flat Field Correction\n",
    "            signal = self.correct_flat_field(torch.tensor(flat_frame).to(\"cuda:0\"), signal)\n",
    "    \n",
    "            # Step 7: Interpolate NaNs (twice!)\n",
    "            signal = self.nan_interpolation(signal)\n",
    "            signal = self.nan_interpolation(signal)\n",
    "    \n",
    "            # Step 8: Sum over spatial axis\n",
    "            if sensor == \"FGS1\":\n",
    "                signal = torch.nanmean(signal, axis=[1, 2]).cpu().numpy()\n",
    "            elif sensor == \"AIRS-CH0\":\n",
    "                signal = torch.nanmean(signal, axis=1).cpu().numpy()\n",
    "    \n",
    "            # save the processed signal\n",
    "            np.save(\n",
    "                f\"{planet_id}_{sensor}_signal_{self.signal_version}.npz\",\n",
    "                signal.astype(np.float64),\n",
    "            )\n"
   ]
  },
  {
   "cell_type": "markdown",
   "id": "1fabe511",
   "metadata": {
    "papermill": {
     "duration": 0.026443,
     "end_time": "2025-09-24T22:46:29.796416",
     "exception": false,
     "start_time": "2025-09-24T22:46:29.769973",
     "status": "completed"
    },
    "tags": []
   },
   "source": [
    "### Mid Process"
   ]
  },
  {
   "cell_type": "code",
   "execution_count": 9,
   "id": "fe756621",
   "metadata": {
    "execution": {
     "iopub.execute_input": "2025-09-24T22:46:29.849107Z",
     "iopub.status.busy": "2025-09-24T22:46:29.848835Z",
     "iopub.status.idle": "2025-09-24T22:46:29.870456Z",
     "shell.execute_reply": "2025-09-24T22:46:29.869608Z"
    },
    "papermill": {
     "duration": 0.050157,
     "end_time": "2025-09-24T22:46:29.872305",
     "exception": false,
     "start_time": "2025-09-24T22:46:29.822148",
     "status": "completed"
    },
    "tags": []
   },
   "outputs": [],
   "source": [
    "class MidProcessor():\n",
    "    def __init__(self,\n",
    "                 wavelengths,\n",
    "                 wl_bins: int = WL_BINS,\n",
    "                 binning_kernel: int = BINNING_KERNEL,\n",
    "                 conv_kernel_limits: dict = CONV_KERNEL_LIMITS,\n",
    "                 edge_buffer: int = WL_BUFFER,\n",
    "                 ):\n",
    "\n",
    "        self.wavelengths = wavelengths # pd.read_csv(paths.wavelengths)\n",
    "        self.wl_bins = wl_bins\n",
    "        self.binning_kernel = binning_kernel\n",
    "        self.min_conv_kernel = conv_kernel_limits['min']\n",
    "        self.max_conv_kernel = conv_kernel_limits['max']\n",
    "        self.edge_buffer = edge_buffer        \n",
    "    \n",
    "\n",
    "    def sigma_clip_3d(self, data, window_size=10, sigma=5, use_window_mean=False, mean_window=5):\n",
    "        \"\"\"Performs sigma clip across dimension 3 in a 3d tensor\"\"\"\n",
    "        assert data.ndim == 3, \"Input must be a 3D array\"\n",
    "        if window_size % 2 == 0:\n",
    "            window_size += 1\n",
    "        if mean_window % 2 == 0:\n",
    "            mean_window += 1\n",
    "    \n",
    "        N, T, F = data.shape\n",
    "    \n",
    "        # Apply median filter along axis=1 (time)\n",
    "        local_median = np.apply_along_axis(\n",
    "            lambda x: medfilt(x, kernel_size=window_size),\n",
    "            axis=1,\n",
    "            arr=data\n",
    "        )\n",
    "    \n",
    "        residual = data - local_median\n",
    "        mad = np.median(np.abs(residual), axis=1, keepdims=True)\n",
    "        robust_std = mad * 1.4826\n",
    "        outliers = np.abs(residual) > (sigma * robust_std)\n",
    "    \n",
    "        clean_data = data.copy()\n",
    "    \n",
    "        for i in range(N):\n",
    "            for j in range(F):\n",
    "                outlier_idxs = np.where(outliers[i, :, j])[0]\n",
    "                for t in outlier_idxs:\n",
    "                    if use_window_mean:\n",
    "                        # Use local mean within a window\n",
    "                        half_w = mean_window // 2\n",
    "                        t_start = max(0, t - half_w)\n",
    "                        t_end = min(T, t + half_w + 1)\n",
    "                        local_vals = clean_data[i, t_start:t_end, j]\n",
    "                        valid_vals = local_vals[~outliers[i, t_start:t_end, j]]\n",
    "                        if valid_vals.size > 0:\n",
    "                            clean_data[i, t, j] = valid_vals.mean()\n",
    "                        else:\n",
    "                            fallback = np.median(clean_data[i, :, j][~outliers[i, :, j]])\n",
    "                            clean_data[i, t, j] = fallback\n",
    "                    else:\n",
    "                        # Interpolate from adjacent points\n",
    "                        prev_idx = t - 1\n",
    "                        next_idx = t + 1\n",
    "                        prev_val = clean_data[i, prev_idx, j] if prev_idx >= 0 and not outliers[i, prev_idx, j] else np.nan\n",
    "                        next_val = clean_data[i, next_idx, j] if next_idx < T and not outliers[i, next_idx, j] else np.nan\n",
    "    \n",
    "                        if not np.isnan(prev_val) and not np.isnan(next_val):\n",
    "                            clean_data[i, t, j] = 0.5 * (prev_val + next_val)\n",
    "                        elif not np.isnan(prev_val):\n",
    "                            clean_data[i, t, j] = prev_val\n",
    "                        elif not np.isnan(next_val):\n",
    "                            clean_data[i, t, j] = next_val\n",
    "                        else:\n",
    "                            fallback = np.median(clean_data[i, :, j][~outliers[i, :, j]])\n",
    "                            clean_data[i, t, j] = fallback\n",
    "\n",
    "        return clean_data #, outliers\n",
    "\n",
    "    \n",
    "\n",
    "    def bin_wavelengths_skip_first(self, data, method='mean'):\n",
    "        if data.ndim != 3:\n",
    "            raise ValueError(\"Input must be a 3D array (star, time, wavelength)\")\n",
    "    \n",
    "        N, T, W = data.shape\n",
    "        head = data[:, :, :1]  # Preserve first index (shape N, T, 1)\n",
    "        tail = data[:, :, 1:]  # Wavelengths from index 1 onward (shape N, T, W-1)\n",
    "    \n",
    "        tail_len = tail.shape[-1]\n",
    "        step_size = (tail_len-2*self.edge_buffer) / (self.wl_bins-1)\n",
    "        half_kernel = self.binning_kernel // 2\n",
    "        centres = [int(self.edge_buffer + (n + 1) * step_size) for n in range(self.wl_bins-2)]\n",
    "    \n",
    "        binned_list = []\n",
    "    \n",
    "        first_chunk = tail[:, :, :self.edge_buffer + half_kernel].mean(axis=-1, keepdims=True)\n",
    "        last_chunk = tail[:, :, -half_kernel-self.edge_buffer:].mean(axis=-1, keepdims=True)\n",
    "    \n",
    "        binned_list = [first_chunk]\n",
    "        for centre in centres:\n",
    "            start = max(0, centre - half_kernel)\n",
    "            end = min(tail_len, centre + half_kernel)\n",
    "            chunk = tail[:, :, start:end]  # shape (N, T, kernel_size)\n",
    "            binned_chunk = chunk.mean(axis=-1, keepdims=True)\n",
    "            binned_list.append(binned_chunk)  # shape (N, T, 1)\n",
    "        binned_list.append(last_chunk)\n",
    "        tail_binned = np.concatenate(binned_list, axis=-1)  # shape (N, T, wl_bins)\n",
    "        binned_data = np.concatenate([head, tail_binned], axis=2)  # shape (N, T, 1 + wl_bins)\n",
    "    \n",
    "        return binned_data, [self.edge_buffer] + centres + [W-1-self.edge_buffer]\n",
    "\n",
    "\n",
    "    def convolve_wavelengths_skip_first(self, differences, n_jobs=1):\n",
    "        head = self.full_signal[:, :, :1]   # keep the first wavelength\n",
    "        tail = self.full_signal[:, :, 1:]   # convolve over the rest\n",
    "        N, T, tail_len = tail.shape\n",
    "    \n",
    "        if differences is None:\n",
    "            mean_kernel = self.max_conv_kernel\n",
    "            kernels = [mean_kernel] * N\n",
    "        else:\n",
    "            slope = (self.max_conv_kernel - self.min_conv_kernel)/self.max_conv_kernel\n",
    "            kernels = [self.min_conv_kernel + slope * (1-norm_diff) for norm_diff in differences]\n",
    "    \n",
    "        def gaussian_weights(size, sigma=None):\n",
    "            \"\"\"Generate normalized Gaussian weights of given size.\"\"\"\n",
    "            if sigma is None:\n",
    "                sigma = size / 6  # rule of thumb so ~99% falls inside kernel\n",
    "            center = size // 2\n",
    "            x = np.arange(size)\n",
    "            w = np.exp(-0.5 * ((x - center) / sigma) ** 2)\n",
    "            return w / w.sum()\n",
    "    \n",
    "        def process_array(n):\n",
    "            kernel_size = int(kernels[n])\n",
    "            half_kernel = kernel_size // 2\n",
    "            weights = gaussian_weights(kernel_size)\n",
    "    \n",
    "            binned_list = []\n",
    "            for idx in range(tail_len):\n",
    "                start = max(0, idx - half_kernel)\n",
    "                end = min(tail_len, idx + half_kernel + 1)\n",
    "    \n",
    "                # adjust weights for edge cases\n",
    "                w = weights[(half_kernel - (idx-start)):(half_kernel + (end-idx))]\n",
    "                w = w / w.sum()  # re-normalize so it sums to 1\n",
    "    \n",
    "                chunk = tail[n, :, start:end]   # (T, variable_size)\n",
    "                binned_list.append((chunk * w).sum(axis=-1, keepdims=True))  # weighted sum\n",
    "    \n",
    "            return np.concatenate(binned_list, axis=-1)  # (T, tail_len)\n",
    "    \n",
    "        convolved_list = [process_array(n) for n in range(N)]\n",
    "        tail_binned = np.stack(convolved_list, axis=0)   # (N, T, tail_len)\n",
    "    \n",
    "        return np.concatenate([head, tail_binned], axis=2)  # (N, T, 1+tail_len)\n",
    "\n",
    "    def process_signal(self, signal_path):\n",
    "        full_signal = np.load(signal_path)\n",
    "        full_signal = self.sigma_clip_3d(full_signal, window_size=9, sigma=7, use_window_mean=True, mean_window=5)\n",
    "        if np.isnan(full_signal).any() or np.isinf(full_signal).any():\n",
    "            print(\"Array contains NaN or Inf values\")\n",
    "    \n",
    "        cut_inf, cut_sup = 36, 318\n",
    "        self.full_signal = np.concatenate(\n",
    "            [full_signal[:, :, 0][:, :, None], full_signal[:, :, cut_inf:cut_sup]], axis=2\n",
    "        )\n",
    "        \n",
    "        binned_signal, centres = self.bin_wavelengths_skip_first(self.full_signal, method='mean')\n",
    "        return binned_signal, centres"
   ]
  },
  {
   "cell_type": "markdown",
   "id": "0a16c0b0",
   "metadata": {
    "papermill": {
     "duration": 0.025352,
     "end_time": "2025-09-24T22:46:29.923451",
     "exception": false,
     "start_time": "2025-09-24T22:46:29.898099",
     "status": "completed"
    },
    "tags": []
   },
   "source": [
    "## Helpers Functions"
   ]
  },
  {
   "cell_type": "code",
   "execution_count": 10,
   "id": "fd5bf04f",
   "metadata": {
    "execution": {
     "iopub.execute_input": "2025-09-24T22:46:29.975900Z",
     "iopub.status.busy": "2025-09-24T22:46:29.975641Z",
     "iopub.status.idle": "2025-09-24T22:46:29.990092Z",
     "shell.execute_reply": "2025-09-24T22:46:29.989314Z"
    },
    "papermill": {
     "duration": 0.042928,
     "end_time": "2025-09-24T22:46:29.991860",
     "exception": false,
     "start_time": "2025-09-24T22:46:29.948932",
     "status": "completed"
    },
    "tags": []
   },
   "outputs": [],
   "source": [
    "def format_submission(pred_array,\n",
    "                   index,\n",
    "                   sigma_df):\n",
    "\n",
    "    sigma_cols = [f'sigma_{i+1}' for i in range(283)]\n",
    "    expanded_cols = pd.concat([sigma_df.iloc[:, [1]]] * 282, axis=1)\n",
    "    sigma_expanded = pd.concat([sigma_df.iloc[:, 0], expanded_cols], axis=1)\n",
    "    sigma_expanded.columns = sigma_cols\n",
    "    \n",
    "    if pred_array.shape[1] == 1:\n",
    "        pred_array = np.repeat(pred_array, 283, axis=1)\n",
    "\n",
    "    preds_df = pd.DataFrame(pred_array.clip(0, None), index=index, columns=wavelengths.columns)\n",
    "\n",
    "    formatted = pd.concat([preds_df, sigma_expanded], axis=1)\n",
    "\n",
    "    return formatted\n",
    "\n",
    "\n",
    "class ParticipantVisibleError(Exception):\n",
    "    pass\n",
    "\n",
    "\n",
    "def competition_score(\n",
    "    solution: pd.DataFrame,\n",
    "    submission: pd.DataFrame,\n",
    "    naive_mean: float,\n",
    "    naive_sigma: float,\n",
    "    sigma_true: float = 0.00001,\n",
    "    row_id_column_name: str = \"planet_id\",\n",
    ") -> float:\n",
    "    \"\"\"\n",
    "    This is a Gaussian Log Likelihood based metric. For a submission, which contains\n",
    "    the predicted mean (x_hat) and variance (x_hat_std), we calculate the Gaussian\n",
    "    Log-likelihood (GLL) value to the provided ground truth(x). We treat each pair\n",
    "    of x_hat, x_hat_std as a 1D gaussian, meaning there will be 283 1D gaussian\n",
    "    distributions, hence 283 values for each test spectrum, the GLL value for one\n",
    "    spectrum is the sum of all of them.\n",
    "\n",
    "    Inputs:\n",
    "        - solution: Ground Truth spectra (from test set)\n",
    "            - shape: (nsamples, n_wavelengths)\n",
    "        - submission: Predicted spectra and errors (from participants)\n",
    "            - shape: (nsamples, n_wavelengths*2)\n",
    "        naive_mean: (float) mean from the train set.\n",
    "        naive_sigma: (float) standard deviation from the train set.\n",
    "        sigma_true: (float) essentially sets the scale of the outputs.\n",
    "    \"\"\"\n",
    "\n",
    "    del solution[row_id_column_name]\n",
    "    del submission[row_id_column_name]\n",
    "\n",
    "    if submission.min().min() < 0:\n",
    "        raise ParticipantVisibleError(\"Negative values in the submission\")\n",
    "    for col in submission.columns:\n",
    "        if not pd.api.types.is_numeric_dtype(submission[col]):\n",
    "            raise ParticipantVisibleError(f\"Submission column {col} must be a number\")\n",
    "\n",
    "    n_wavelengths = len(solution.columns)\n",
    "    if len(submission.columns) != n_wavelengths * 2:\n",
    "        raise ParticipantVisibleError(\"Wrong number of columns in the submission\")\n",
    "\n",
    "    y_pred = submission.iloc[:, :n_wavelengths].values\n",
    "    # Set a non-zero minimum sigma pred to prevent division by zero errors.\n",
    "    sigma_pred = np.clip(\n",
    "        submission.iloc[:, n_wavelengths:].values, a_min=10**-15, a_max=None\n",
    "    )\n",
    "    y_true = solution.values\n",
    "\n",
    "    GLL_pred = np.sum(scipy.stats.norm.logpdf(y_true, loc=y_pred, scale=sigma_pred))\n",
    "    GLL_true = np.sum(\n",
    "        scipy.stats.norm.logpdf(\n",
    "            y_true, loc=y_true, scale=sigma_true * np.ones_like(y_true)\n",
    "        )\n",
    "    )\n",
    "    GLL_mean = np.sum(\n",
    "        scipy.stats.norm.logpdf(\n",
    "            y_true,\n",
    "            loc=naive_mean * np.ones_like(y_true),\n",
    "            scale=naive_sigma * np.ones_like(y_true),\n",
    "        )\n",
    "    )\n",
    "\n",
    "    submit_score = (GLL_pred - GLL_mean) / (GLL_true - GLL_mean)\n",
    "    return float(np.clip(submit_score, 0.0, 1.0))\n",
    "\n",
    "\n",
    "def sigma_clip_1d(data, window_size=3, sigma=3):\n",
    "    \"\"\"\n",
    "    Flags local spikes: compare each point to local median, but use global std to define outliers.\n",
    "    \n",
    "    Parameters:\n",
    "        data (np.ndarray): 1D array of values.\n",
    "        window_size (int): Size of the window for local median.\n",
    "        sigma (float): Threshold multiplier for global robust std.\n",
    "        \n",
    "    Returns:\n",
    "        clean_data (np.ndarray): Copy of data with local outliers replaced by NaN.\n",
    "        outliers (np.ndarray): Boolean mask of outlier positions.\n",
    "    \"\"\"\n",
    "    # Local median (or use uniform_filter1d for mean)\n",
    "    local_baseline = medfilt(data, kernel_size=window_size)\n",
    "\n",
    "    # Global robust std using MAD\n",
    "    global_residual = data - np.median(data)\n",
    "    mad = np.median(np.abs(global_residual))\n",
    "    robust_std = mad * 1.4826\n",
    "\n",
    "    # Detect outliers based on local deviation but global threshold\n",
    "    residual = data - local_baseline\n",
    "    outliers = np.abs(residual) > (sigma * robust_std)\n",
    "\n",
    "    # Replace outliers with NaN\n",
    "    clean_data = data.copy()\n",
    "\n",
    "    for i in np.where(outliers)[0]:\n",
    "        if 0 < i < len(data) - 1:\n",
    "            clean_data[i] = 0.5 * (data[i - 1] + data[i + 1])\n",
    "        elif i == 0:\n",
    "            clean_data[i] = data[i + 1]\n",
    "        elif i == len(data) - 1:\n",
    "            clean_data[i] = data[i - 1]\n",
    "\n",
    "    return clean_data #, outliers\n",
    "\n",
    "\n",
    "def interpolate_predictions(bin_values, pred_indices, output_length=282, kind='cubic'):\n",
    "    \"\"\"\n",
    "    Interpolates 12-point predictions to a full 282-length array using cubic spline.\n",
    "\n",
    "    Parameters:\n",
    "    - predicted_values: np.ndarray of shape (N, 12)\n",
    "    - pred_indices: array-like of shape (12,) with indices of the predicted values (must be increasing)\n",
    "    - output_length: int, length of the final interpolated array (default=282)\n",
    "    - kind: interpolation type, e.g., 'linear', 'cubic', 'quadratic'\n",
    "\n",
    "    Returns:\n",
    "    - interpolated: np.ndarray of shape (N, output_length)\n",
    "    \"\"\"\n",
    "\n",
    "    pred_indices = [0] + pred_indices + [output_length]\n",
    "\n",
    "    first_col = bin_values[:, [0]]\n",
    "    last_col = bin_values[:, [-1]]\n",
    "    extended = np.hstack([first_col, bin_values, last_col])\n",
    "    \n",
    "    N, num_preds = extended.shape\n",
    "    if len(pred_indices) != num_preds:\n",
    "        raise ValueError(\"Number of pred_indices must match number of columns in predicted_values.\")\n",
    "\n",
    "    x_full = np.arange(output_length)\n",
    "    interpolated = np.empty((N, output_length))\n",
    "\n",
    "    for i in range(N):\n",
    "        #clipped = sigma_clip_1d(extended[i], window_size = 3, sigma = 2)  #remove local spikes\n",
    "        #interp_func = interp1d(pred_indices, clipped, kind=kind, fill_value=\"extrapolate\")  #extended[i]\n",
    "        interp_func = interp1d(pred_indices, extended[i], kind=kind, fill_value=\"extrapolate\")  #extended[i]\n",
    "        interpolated[i] = interp_func(x_full)\n",
    "\n",
    "    return interpolated"
   ]
  },
  {
   "cell_type": "markdown",
   "id": "594fba46",
   "metadata": {
    "papermill": {
     "duration": 0.025454,
     "end_time": "2025-09-24T22:46:30.042653",
     "exception": false,
     "start_time": "2025-09-24T22:46:30.017199",
     "status": "completed"
    },
    "tags": []
   },
   "source": [
    "### Offset Quadratic Fitting\n",
    "\n",
    "In the baseline regions:\n",
    "$$\n",
    "y = b x + c\n",
    "$$\n",
    "\n",
    "In the transition regions: \n",
    "$$\n",
    "y = a(x - x_0)^2 + b x + c + \\delta\n",
    "$$\n",
    "\n",
    "The key goal here is to fit b, then use it later to adjust the signal for any linear drift"
   ]
  },
  {
   "cell_type": "code",
   "execution_count": 11,
   "id": "546654a8",
   "metadata": {
    "execution": {
     "iopub.execute_input": "2025-09-24T22:46:30.098819Z",
     "iopub.status.busy": "2025-09-24T22:46:30.098187Z",
     "iopub.status.idle": "2025-09-24T22:46:30.107642Z",
     "shell.execute_reply": "2025-09-24T22:46:30.106749Z"
    },
    "papermill": {
     "duration": 0.040657,
     "end_time": "2025-09-24T22:46:30.109236",
     "exception": false,
     "start_time": "2025-09-24T22:46:30.068579",
     "status": "completed"
    },
    "tags": []
   },
   "outputs": [],
   "source": [
    "def edge_detector(data,\n",
    "                  breakpoints,\n",
    "                  verbose=True,\n",
    "                  ):\n",
    "                   #fallback_width=60):\n",
    "    '''This is to work with an existing breakpoint, to detect the edge of the ingress/egress \n",
    "    for a single planet in the vacinity of the breakpoint'''\n",
    "    \n",
    "\n",
    "    left_corner, right_corner = 0, len(data)  #Initialise in case of no BP available\n",
    "\n",
    "    def plot_result(y, second_derivative, corner_idx):\n",
    "        fig, ax1 = plt.subplots()\n",
    "    \n",
    "        ax1.plot(y, color=\"grey\", alpha=0.5, label=\"original\")\n",
    "        ax1.set_ylabel(\"Original signal\", color=\"grey\")\n",
    "    \n",
    "        ax2 = ax1.twinx()\n",
    "        ax2.plot(second_derivative, color=\"green\", alpha=0.9, label=\"second derivative\")\n",
    "        ax2.set_ylabel(\"Second derivative\", color=\"green\")\n",
    "    \n",
    "        ax1.axvline(corner_idx, color=\"r\")\n",
    "        plt.title(\"Signal and second derivative\")\n",
    "        plt.show()\n",
    "\n",
    "    def find_corner(y, verbose):\n",
    "        first_derivative = np.gradient(y)\n",
    "        second_derivative = np.gradient(first_derivative)\n",
    "        corner_idx = np.argmin(second_derivative)\n",
    "        if verbose:\n",
    "            plot_result(y, second_derivative, corner_idx)\n",
    "        return corner_idx\n",
    "    \n",
    "    left_bp = breakpoints[0]\n",
    "    right_bp = breakpoints[1]\n",
    "    if left_bp is not None and left_bp >= 10: \n",
    "        start = max([0, left_bp-40])\n",
    "        left_data = data[start:left_bp]\n",
    "        left_corner = find_corner(left_data, verbose=verbose) + start\n",
    "        #left_corner = int(np.max([left_corner, left_bp - 40]))  #redundant\n",
    "        \n",
    "    if right_bp is not None and right_bp < len(data) - 10:\n",
    "        stop = min([right_bp  + 40, len(data)])\n",
    "        right_data = data[right_bp: stop]\n",
    "        right_corner = find_corner(right_data, verbose=verbose)\n",
    "        #right_corner = int(np.min([right_corner, 40]))  #redundant\n",
    "        right_corner = right_bp + right_corner #make relative to the breakpoint\n",
    "\n",
    "    if verbose:\n",
    "        print(f'The left corner is {left_corner} right is {right_corner}')\n",
    "\n",
    "    return left_corner, right_corner"
   ]
  },
  {
   "cell_type": "code",
   "execution_count": 12,
   "id": "927aacf4",
   "metadata": {
    "execution": {
     "iopub.execute_input": "2025-09-24T22:46:30.170517Z",
     "iopub.status.busy": "2025-09-24T22:46:30.170179Z",
     "iopub.status.idle": "2025-09-24T22:46:30.230807Z",
     "shell.execute_reply": "2025-09-24T22:46:30.229762Z"
    },
    "papermill": {
     "duration": 0.093669,
     "end_time": "2025-09-24T22:46:30.233113",
     "exception": false,
     "start_time": "2025-09-24T22:46:30.139444",
     "status": "completed"
    },
    "tags": []
   },
   "outputs": [],
   "source": [
    "# find transit zones\n",
    "def phase_detector(signal_orig,\n",
    "                   binning_num,\n",
    "                   buffer = 10,\n",
    "                   smooth_window=11,\n",
    "                   verbose=True\n",
    "                   ):\n",
    "                   #fallback_width=60):\n",
    "    \n",
    "    signal = signal_orig.reshape(-1, binning_num).mean(-1)  # collapse by 15; 375\n",
    "    signal = savgol_filter(signal, smooth_window, 2)  # smooth\n",
    "    first_derivative = np.gradient(signal)\n",
    "    left_bp = np.argmin(first_derivative)\n",
    "    right_bp = np.argmax(first_derivative)\n",
    "\n",
    "    left_edge, right_edge = edge_detector(signal,\n",
    "                                         (left_bp, right_bp),\n",
    "                                          verbose = verbose \n",
    "                                          )\n",
    "\n",
    "    if verbose:\n",
    "        plt.plot(signal_orig, color=\"grey\", alpha=0.5, label=\"original\")\n",
    "        plt.plot(signal, color=\"blue\", alpha=0.9, label=\"smoothed\")\n",
    "        plt.axvline(left_edge, color=\"orange\")\n",
    "        plt.axvline(left_bp, color=\"r\")\n",
    "        plt.axvline(right_bp, color=\"r\")\n",
    "        plt.axvline(right_edge, color=\"orange\")\n",
    "        plt.show()\n",
    "        plt.plot(first_derivative, color=\"green\", alpha=0.9, label=\"first derivative\")\n",
    "        plt.show()\n",
    "\n",
    "    full_length = signal.shape[0]\n",
    "    #first_bit= full_length // 32\n",
    "    #last_bit = 31 * full_length // 32\n",
    "    if left_bp >= right_bp:\n",
    "        print(f'The breakpoints are: {left_pb}, {right_bp} with length {full_length}')\n",
    "        centre = np.argmin(signal_orig)\n",
    "        #if not (first_bit < centre < last_bit):\n",
    "        #    centre = full_length // 2\n",
    "        #    print('min in the first or last bit')\n",
    "        #phase1_idx = max(0, centre - fallback_width)\n",
    "        #phase2_idx = min(signal_orig.shape[0], centre + fallback_width)\n",
    "        #print(f'The fallbacks are {phase1_idx}, {phase2_idx}, with min at {centre}, centre {full_length//2}')\n",
    "\n",
    "        plt.plot(signal_orig, color=\"grey\", alpha=0.5, label=\"original\")\n",
    "        plt.plot(signal, color=\"blue\", alpha=0.9, label=\"smoothed\")\n",
    "        plt.axvline(left_bp, color=\"r\")\n",
    "        plt.axvline(right_bp, color=\"r\")\n",
    "        plt.show()\n",
    "        plt.plot(first_derivative, color=\"green\", alpha=0.9, label=\"first derivative\")\n",
    "        plt.show()\n",
    "\n",
    "    if left_bp is not None and right_bp is not None:\n",
    "        if left_bp >= right_bp:  #it's no use unless there are actually enough points to fit to\n",
    "            if left_bp >= full_length // 2:\n",
    "                left_bp = None\n",
    "            if right_bp <= full_length // 2:\n",
    "                right_bp = None\n",
    "    #So at this point one or both could potentially be None     \n",
    "    if left_bp is not None and left_bp < buffer + 20:\n",
    "        left_bp = None\n",
    "    if right_bp is not None and right_bp > full_length - buffer - 20:\n",
    "        right_bp = None\n",
    "\n",
    "    if left_bp is None:\n",
    "        left_edge = 0\n",
    "    if right_bp is None:\n",
    "        right_edge = full_length\n",
    "        \n",
    "    return (left_bp, right_bp), (left_edge, right_edge)\n",
    "\n",
    "\n",
    "\n",
    "def get_breakpoints(x, pre_binned_time, binning_num, buffer = 10, verbose=True):\n",
    "    breakpoints = []\n",
    "    edges = []\n",
    "    for i in range(x.shape[0]):\n",
    "        verbose = True if i <= 5 else False\n",
    "        signal = x[i].mean(-1)\n",
    "        try:\n",
    "            bps, edge_positions  = phase_detector(signal,\n",
    "                                                  binning_num = binning_num // pre_binned_time,\n",
    "                                                  buffer = buffer,\n",
    "                                                  smooth_window=21,\n",
    "                                                  verbose=verbose   #was smooth window=19\n",
    "                                                  )\n",
    "            #bps = (None, None)                #for troubleshooting only remove later\n",
    "            #edge_positions = (0, len(signal))\n",
    "        except:\n",
    "            bps = (None, None)\n",
    "            edge_positions = (0, len(signal))\n",
    "        breakpoints.append(bps)  #either or both could be None\n",
    "        #print(bps, edge_positions)\n",
    "        edges.append(edge_positions)\n",
    "\n",
    "    return breakpoints, edges   #list of tuples, with position corresponding to index of the planet in signal array\n",
    "\n",
    "\n",
    "def crop_transitions(signal,\n",
    "                     breakpoints,\n",
    "                     edges,\n",
    "                     buffer,\n",
    "                     plot=False,\n",
    "                     reflect=None,\n",
    "                     min_main_width=10,\n",
    "                     max_edge_widths= (40,40),\n",
    "                     top_points = 10\n",
    "                     ):\n",
    "\n",
    "    no_breakpoints = False\n",
    "    two_breakpoints = False\n",
    "    trim_left, trim_right = 0, 0 \n",
    "\n",
    "    if breakpoints[0] is None and breakpoints[1] is None:\n",
    "        no_breakpoints = True\n",
    "        #print('Setting no_breakpoints to True')\n",
    "    \n",
    "    if breakpoints[0] is not None and breakpoints[1] is not None:\n",
    "        two_breakpoints = True\n",
    "\n",
    "    reflected = False\n",
    "    N = len(signal)\n",
    "\n",
    "    left_max = np.max(signal[:100])\n",
    "    right_max = np.max(signal[-100:])\n",
    "    reflect_conditions = right_max > left_max  #(right_max > left_max) or (breakpoints[0] is None and breakpoints[1] is not None)\n",
    "    reflect = reflect if reflect is not None else reflect_conditions\n",
    "\n",
    "    # Normalize breakpoints input\n",
    "    bp_left_orig, bp_right_orig = breakpoints\n",
    "\n",
    "    if reflect:\n",
    "        reflected = True\n",
    "        signal = signal[::-1]\n",
    "        # Correct transformation of both breakpoints after reversing:\n",
    "        # new_index = (N - 1) - old_index\n",
    "        left_breakpoint = None if bp_right_orig is None else (N - 1 - int(bp_right_orig))\n",
    "        right_breakpoint = None if bp_left_orig is None else (N - 1 - int(bp_left_orig))\n",
    "        left_edge = N - int(edges[1])\n",
    "        right_edge =  N - int(edges[0])\n",
    "    else:\n",
    "        left_breakpoint = None if bp_left_orig is None else int(bp_left_orig)\n",
    "        right_breakpoint = None if bp_right_orig is None else int(bp_right_orig)\n",
    "        left_edge, right_edge = edges[0],  edges[1]\n",
    "\n",
    "    # Buffers: if a breakpoint is missing, add extra margin\n",
    "\n",
    "    #let's estimate the distance from transit start to and from breakpoint (mid ingress/egress)\n",
    "    buffers = []\n",
    "    fallback = buffer\n",
    "    if left_breakpoint is not None:\n",
    "        left_internal_buffer = np.max([fallback, left_breakpoint - left_edge])\n",
    "        buffers.append(left_internal_buffer)\n",
    "    if right_breakpoint is not None:\n",
    "        right_internal_buffer = np.max([fallback, right_edge - right_breakpoint])\n",
    "        buffers.append(right_internal_buffer)\n",
    "    if buffers:\n",
    "        buffer = int(np.mean(buffers))\n",
    "\n",
    "    #print(f'the new buffer is {buffer}')\n",
    "        \n",
    "    left_buffer = buffer + 20 if left_breakpoint is None else buffer\n",
    "    right_buffer = buffer + 20 if right_breakpoint is None else buffer\n",
    "\n",
    "    # Defaults: use full-range semantics (right_bp is exclusive)\n",
    "    left_bp = 0 if left_breakpoint is None else left_breakpoint\n",
    "    right_bp = N if right_breakpoint is None else right_breakpoint\n",
    "\n",
    "    # Clamp to valid range\n",
    "    left_bp = max(0, min(left_bp, N))\n",
    "    right_bp = max(0, min(right_bp, N))\n",
    "\n",
    "    # Available \"main\" width after buffers\n",
    "    available = right_bp - left_bp - left_buffer - right_buffer\n",
    "\n",
    "    # If nothing fits, try to reduce buffers to salvage the main section if breakpoints exist\n",
    "    if available <= 0 and (left_breakpoint is not None or right_breakpoint is not None):\n",
    "        total_span = max(1, right_bp - left_bp)\n",
    "        # shrink each buffer proportionally but keep them non-negative\n",
    "        left_buffer = min(left_buffer, max(0, total_span // 4))\n",
    "        right_buffer = min(right_buffer, max(0, total_span // 4))\n",
    "\n",
    "    #centre = (left_bp + right_bp) // 2\n",
    "\n",
    "    x = np.arange(N)\n",
    "\n",
    "    if no_breakpoints:\n",
    "        # original \"no breakpoints\" behavior\n",
    "        #print('Using the no-breakpoints fallback')\n",
    "        left_peak_idx = int(np.argmax(signal[: N//2]))\n",
    "        x0 = x[:left_peak_idx+1]\n",
    "        skip_start = left_peak_idx + buffer + 25\n",
    "        # guard against out-of-range slicing\n",
    "        start = min(skip_start, N)\n",
    "        stop = max(N - (buffer + 20), start)\n",
    "        x1 = x[start:stop]\n",
    "        x2 = np.array([], dtype=int)\n",
    "        #x_centre = int(np.argmin(signal))\n",
    "\n",
    "    elif left_breakpoint is None:\n",
    "        left_peak_idx = int(np.argmax(signal[: N//2]))\n",
    "        x0 = x[:left_peak_idx+1]\n",
    "        skip_start = left_peak_idx + buffer + 25\n",
    "        # guard against out-of-range slicing\n",
    "        start = min(skip_start, N)\n",
    "        stop = right_bp - right_buffer\n",
    "        # ensure at least one element in x1 if possible\n",
    "        if stop <= start:\n",
    "            stop = start + 1\n",
    "            if stop > N:\n",
    "                stop = N\n",
    "                start = max(0, stop - 1)\n",
    "        x1 = np.arange(start, stop)\n",
    "\n",
    "        # right chunk\n",
    "        if right_bp < N - 1:\n",
    "            right_idx = min(right_bp + buffer, N - 5)\n",
    "            right_idx = max(right_idx, 0)\n",
    "            x2 = np.arange(right_idx, N) if right_idx < N else np.array([], dtype=int)\n",
    "        else:\n",
    "            x2 = np.array([], dtype=int)\n",
    "    else:\n",
    "        #For this branch, there is definately a left breakpoint, but there might not be a right one\n",
    "\n",
    "        if left_edge >=5:\n",
    "            left_posn = max(5, left_edge)  #want at least 5 points, but not getting too close to the inflection point\n",
    "            x0 = np.arange(left_posn)\n",
    "        else:\n",
    "            x0 = np.array([], dtype=int)\n",
    "\n",
    "        # main block\n",
    "        start = left_bp + left_buffer\n",
    "        stop = right_bp - right_buffer\n",
    "        # ensure at least one element in x1 if possible\n",
    "        if stop <= start:\n",
    "            stop = start + 1\n",
    "            if stop > N:\n",
    "                stop = N\n",
    "                start = max(0, stop - 1)\n",
    "        x1 = np.arange(start, stop)\n",
    "\n",
    "        # right chunk.  Want it limited to the edge plus about 20 points, but not greater than the edge of the array\n",
    "        if right_bp < N - 1:\n",
    "            right_idx = min(right_edge, N - 5)\n",
    "            right_idx = max(right_idx, 0)\n",
    "            x2 = np.arange(right_idx, N) if right_idx < N else np.array([], dtype=int)\n",
    "        else:\n",
    "            x2 = np.array([], dtype=int)\n",
    "    \n",
    "    original_x0 = len(x0)\n",
    "    original_x2 = len(x2)\n",
    "    x0 = x0[-max_edge_widths[0]:]\n",
    "    x2 = x2[:max_edge_widths[1]]\n",
    "    trimmed = (original_x0-len(x0), original_x2 - len(x2))\n",
    "    \n",
    "\n",
    "    x_idxs = np.concatenate([x0, x1, x2]) if (len(x0) + len(x1) + len(x2)) > 0 else np.array([], dtype=int)\n",
    "\n",
    "    \n",
    "    if len(x0) > 0 and len(x2) > 0:  \n",
    "        # Since we have two breakpoints, we can remove any issues with wandering sensors outside ingress/egress\n",
    "        y0 = signal[x0]\n",
    "        top_idx_0 = np.argsort(y0)[-top_points:]    #[-15:]\n",
    "        x_top_0 = x0[top_idx_0]\n",
    "        y_top_0 = y0[top_idx_0]\n",
    "    \n",
    "        y2 = signal[x2]\n",
    "        top_idx_2 = np.argsort(y2)[-top_points:]  #  [:15]\n",
    "        x_top_2 = x2[top_idx_2]\n",
    "        y_top_2 = y2[top_idx_2]\n",
    "    \n",
    "        # Combine points for fitting\n",
    "        x = np.concatenate([x_top_0, x_top_2])\n",
    "        y = np.concatenate([y_top_0, y_top_2])\n",
    "    \n",
    "        # Fit straight line\n",
    "        m, b = np.polyfit(x, y, 1)\n",
    "    \n",
    "        # Evaluate the fitted line separately for each group\n",
    "        y0_fit = m * x0 + b\n",
    "        y1 = signal[x1]   # unchanged\n",
    "        y2_fit = m * x2 + b\n",
    "    \n",
    "        # Concatenate in correct order\n",
    "        y_final = np.concatenate([y0_fit, y1, y2_fit])\n",
    "    else:\n",
    "        y_final = signal[x_idxs] if x_idxs.size else np.array([], dtype=signal.dtype)\n",
    "        \n",
    "    left_transition = len(x0)\n",
    "    right_transition = len(x0) + len(x1)\n",
    "\n",
    "    x_offset = x0[-1] if len(x0) > 0 else 0\n",
    "\n",
    "    x_final = x_idxs - x_offset #offset so that 0 occurs around the left transition\n",
    "    centre = (right_transition + left_transition) // 2 #centre - x_offset\n",
    "\n",
    "\n",
    "    width = right_transition - left_transition\n",
    "    part_width = width / 4\n",
    "    if not left_transition + part_width < centre < right_transition - part_width:\n",
    "        print(f'There is a problem with crop_transitions.  The final tuple is {(left_transition, centre, right_transition)}')\n",
    "\n",
    "    return x_final, y_final, (left_transition, centre, right_transition), no_breakpoints, two_breakpoints, reflected, x_offset, trimmed\n",
    "\n",
    "\n",
    "def shifted_quadratic_model(x, a, b, c, delta, x0, transition_1, transition_2):\n",
    "    \"\"\"Piecewise model:\n",
    "       - y = b*x + c for baseline (outside transition)\n",
    "       - y = a*(x - x0)^2 + b*x + c + c_offset for transition\n",
    "    \"\"\"\n",
    "    x = np.asarray(x)\n",
    "    N = len(x)\n",
    "\n",
    "    baseline_mask = np.zeros(N, dtype=bool)\n",
    "    baseline_mask[:transition_1] = True\n",
    "    baseline_mask[transition_2:] = True\n",
    "    transit_mask = ~baseline_mask\n",
    "\n",
    "    y_fit = np.zeros(N)\n",
    "    y_fit[baseline_mask] = b * x[baseline_mask] + c\n",
    "    y_fit[transit_mask] = a * (x[transit_mask] - x0)**2 + b * x[transit_mask] + c + delta\n",
    "\n",
    "    return y_fit\n",
    "\n",
    "\n",
    "def fit_shifted_model(x, y, transitions, edges, plot=False, no_breakpoints=False, initial_fit=None, breakpoints=None, fit_centre=True):\n",
    "   \n",
    "    def parameters_are_sensible(popt, transitions):\n",
    "        #if fixed_x0:\n",
    "        if len(popt) == 3:\n",
    "            a, b, delta = popt\n",
    "        else:\n",
    "            a, b, delta, centre = popt\n",
    "\n",
    "        if popt is None or not np.all(np.isfinite(popt)):\n",
    "            return False\n",
    "        if np.any(np.abs(popt) > 1e6):\n",
    "            return False\n",
    "        if not (-.05 < b < 0.05):\n",
    "            return False\n",
    "        if delta > 0.1:\n",
    "            return False\n",
    "        part_width = (transitions[2] - transitions[0]) / 6\n",
    "        if not transitions[0] + part_width < transitions[1] < transitions[2] - part_width:\n",
    "            print(f'There is a problem with the centre fit, transitions are now {transitions}')\n",
    "            return False\n",
    "\n",
    "        \n",
    "        return True\n",
    "    \n",
    "    #print(f'The edges are {edges}')\n",
    "    #print(f'The transitions are (left, centre, edge) {transitions}')\n",
    "\n",
    "    transition_0 = transitions[0]\n",
    "    centre_idx = transitions[1]\n",
    "    centre_val = x[centre_idx]\n",
    "    transition_2 = transitions[2]\n",
    "    x = np.asarray(x)\n",
    "    y = np.asarray(y)\n",
    "    \n",
    "    left_slice = y[:np.max([1,transition_0])]\n",
    "    right_slice = y[np.min([len(y) - 1, transition_2]):]\n",
    "    left_mean = np.nanmean(left_slice)\n",
    "    right_mean = np.nanmean(right_slice)\n",
    "    #fixed_c = np.max([left_mean, right_mean])  #only used with fixed x0\n",
    "    fixed_c = left_mean if len(left_slice) >1 else np.nanmax(y[:20])\n",
    "\n",
    "\n",
    "    if initial_fit is not None:\n",
    "        p0 = [initial_fit['a'],\n",
    "              initial_fit['b'],\n",
    "              #initial_fit['c'],\n",
    "              initial_fit['delta']]\n",
    "              #initial_fit['x0']]\n",
    "    else:\n",
    "        p0 = [0.0, 0.0, 0.01]  # a, b, delta\n",
    "      \n",
    "\n",
    "    def wrapped_model(x, a, b, delta):\n",
    "        return shifted_quadratic_model(x, a, b, fixed_c, delta,  centre_val, transition_0, transition_2)\n",
    "\n",
    "    def wrapped_model_fit_centre(x, a, b, delta, centre):\n",
    "        return shifted_quadratic_model(x, a, b, fixed_c, delta,  centre_val, transition_0, transition_2)\n",
    "\n",
    "    fallback_factor = 1\n",
    "    \n",
    "    try:\n",
    "        try:\n",
    "            #improve this with another try-except\n",
    "            if fit_centre:\n",
    "                try:\n",
    "                    popt, pcov = curve_fit(wrapped_model_fit_centre, x, y, p0=p0 + [centre_val], maxfev=5000)\n",
    "                    a, b, delta, centre_val = popt\n",
    "                    y_fit = wrapped_model_fit_centre(x, *popt)\n",
    "                    correction_fit = b*x + fixed_c\n",
    "                    if not parameters_are_sensible(popt, (x[transition_0], centre_val, x[transition_2 - 1])):\n",
    "                        plot=True\n",
    "                        raise ValueError(\"Unreasonable parameter from the first attempt fitting the centre\")\n",
    "                    #Need to adjust the transitions to get the index that matches this value\n",
    "                    value_to_index = {val: idx for idx, val in enumerate(x)}\n",
    "                    centre_idx = value_to_index[int(centre_val)]  \n",
    "                    transitions = (transition_0, centre_idx, transition_2)  #only over-writing the centre if it passes above test\n",
    "                except:\n",
    "                    popt, pcov = curve_fit(wrapped_model, x, y, p0=p0, maxfev=5000)\n",
    "                    a, b, delta = popt\n",
    "                    y_fit = wrapped_model(x, *popt)\n",
    "                    correction_fit = b*x + fixed_c\n",
    "                    if not parameters_are_sensible(popt, transitions):\n",
    "                        raise ValueError(\"Unreasonable parameter values from the fallback, fixing the centre\")      \n",
    "            else:\n",
    "                popt, pcov = curve_fit(wrapped_model, x, y, p0=p0, maxfev=5000)\n",
    "                a, b, delta = popt\n",
    "                y_fit = wrapped_model(x, *popt)\n",
    "                correction_fit = b*x + fixed_c\n",
    "                \n",
    "                if not parameters_are_sensible(popt, transitions):\n",
    "                    raise ValueError(\"Unreasonable parameter values without attempting to fit the centre\")\n",
    "            \n",
    "            if plot:\n",
    "                print(f'The fit as expected with no_breakpoints = {no_breakpoints}')\n",
    "                plt.figure(figsize=(10, 5))\n",
    "                plt.plot(x, y, 'o', alpha=0.5, label='Data')\n",
    "                plt.plot(x, y_fit, '-', color = 'purple', linewidth=2, label='Fitted curve')\n",
    "                plt.plot(x, correction_fit, '_', color = 'green', linewidth=2, label='Fitted correction')\n",
    "                plt.axvline(x[transition_0+1], linestyle='--', color='gray', label='Transition start')\n",
    "                plt.axvline(x[transition_2-1], linestyle='--', color='gray', label='Transition end')\n",
    "                #plt.axvline(x[edges[0] - transition_0], linestyle='--', color='green', label='Ingress start')  #not quite got this right yet\n",
    "                #plt.axvline(edges[1], linestyle='--', color='gray', label='Egress end')\n",
    "                plt.axvline(x[centre_idx], linestyle=':', color='red', label='x0')\n",
    "                plt.xlabel(\"x\")\n",
    "                plt.ylabel(\"y\")\n",
    "                plt.legend()\n",
    "                plt.title(\"Shifted Quadratic Fit with Shared Linear Drift\")\n",
    "                plt.grid(True)\n",
    "                plt.tight_layout()\n",
    "                plt.show()\n",
    "    \n",
    "        \n",
    "        except Exception as e:\n",
    "            fallback_factor = 1   #score dropped slightly with 1.5\n",
    "            print(f'The error from the first fit attempt was {e}')\n",
    "            try:\n",
    "                left_idx = np.max([60, transition_0])\n",
    "                right_idx = np.min([len(x) - 60, transition_2])\n",
    "                x_cropped = x[left_idx:right_idx]\n",
    "                y_cropped = y[left_idx:right_idx]\n",
    "        \n",
    "                transit_coeffs = np.polyfit(x_cropped-centre_val, y_cropped, 2)\n",
    "                transit_poly = np.poly1d(transit_coeffs)\n",
    "                y_fit = transit_poly(x-centre_val)\n",
    "                delta = fixed_c - np.min(y_fit)\n",
    "                a = transit_coeffs[0]\n",
    "                if len(right_slice) <=1:\n",
    "                    right_mean = left_mean\n",
    "                b = (right_mean - left_mean)/(x[-1] - x[0])\n",
    "                c=fixed_c\n",
    "                baseline = b * x + c\n",
    "                \n",
    "                min_idx = np.argmin(y)\n",
    "                delta = baseline[min_idx] - y[min_idx]\n",
    "\n",
    "                y_fit[:60] = b * x[:60] + c\n",
    "                y_fit[-60:] = b * x[-60:] + c\n",
    "            \n",
    "                if plot:\n",
    "                    print('The fallback fit, because the main fit failed')\n",
    "                    print(f'first value of x is {x[0]} first val of y is {y[0]}')\n",
    "                    plt.figure(figsize=(10, 5))\n",
    "                    plt.plot(x, y, 'o', alpha=0.5, label='Data')\n",
    "                    plt.plot(x, y_fit, '-', linewidth=2, label='Fitted curve')\n",
    "                    plt.axvline(x[transition_0+1], linestyle='--', color='gray', label='Transition start')\n",
    "                    plt.axvline(x[transition_2-1], linestyle='--', color='gray', label='Transition end')\n",
    "                    plt.axvline(x[centre_idx], linestyle=':', color='red', label='centre')\n",
    "                    plt.xlabel(\"x\")\n",
    "                    plt.ylabel(\"y\")\n",
    "                    plt.legend()\n",
    "                    plt.title(\"Fallback fit\")\n",
    "                    plt.grid(True)\n",
    "                    plt.tight_layout()\n",
    "                    plt.show() \n",
    "            \n",
    "                    #y_correction = b * x + ccrop_transitions\n",
    "            except Exception as e2:\n",
    "                print(f\"Second fit failed: {e2}\")\n",
    "        \n",
    "    except:\n",
    "        fallback_factor = 1  #score dropped slightly with 1.5\n",
    "        print('Using the last backup exception')\n",
    "        a = 0\n",
    "        b = 0\n",
    "        delta = np.max(y) - np.min(y)\n",
    "        y_fit = y\n",
    "\n",
    "    transit_points = transition_2 - transition_0\n",
    "    transit_width =  x[transition_2-1] - x[transition_0]\n",
    "    transit_delta =  (y_fit[transition_0] + y_fit[transition_2-1])/2 - y_fit[centre_idx]\n",
    "    half_delta = (y_fit[transition_0 + transit_points//2] + y_fit[transition_2-1 - transit_points//2])/2 - y_fit[centre_idx]\n",
    "    transit_delta_height = transit_delta / delta\n",
    "    transit_half_delta_height = half_delta / delta\n",
    "    transit_delta_width = transit_delta / transit_width\n",
    "    max_slope = a * transit_width / 2\n",
    "\n",
    "    \n",
    "    return {\n",
    "        \"a\": a,\n",
    "        \"b\": b,\n",
    "        \"c\": fixed_c,\n",
    "        \"a_c\": a / fixed_c,\n",
    "        \"delta\": delta,\n",
    "        \"x_centre\": centre_val,\n",
    "        'transit_width': transit_width,\n",
    "        'transit_delta': transit_delta,\n",
    "        'half_delta': half_delta,\n",
    "        \"transit_delta_width\": transit_delta_width,\n",
    "        #\"transit_delta_height\": transit_delta_height,\n",
    "        'transit_half_delta_height': transit_half_delta_height,\n",
    "        'max_slope': max_slope,\n",
    "        'fallback_factor': fallback_factor,\n",
    "        #\"y_fit\": y_fit,\n",
    "        #\"params\": popt,\n",
    "        #\"covariance\": pcov,\n",
    "        }, (x, y_fit), transitions\n",
    "\n",
    "def fit_transit(x, y):\n",
    "    original_length = len(y)\n",
    "    min_width = 3 * original_length // 4  #Score dropped with 20 Only need to increase this if we would like to use other prameters like 'curvyness'\n",
    "    final_length = np.min([min_width, original_length])\n",
    "    to_trim = (original_length - final_length)//2\n",
    "\n",
    "    if to_trim > 0:\n",
    "        x = x[to_trim:-to_trim]\n",
    "        y = y[to_trim:-to_trim]\n",
    "\n",
    "    try:\n",
    "        transit_coeffs = np.polyfit(x, y, 2)\n",
    "        transit_poly = np.poly1d(transit_coeffs)\n",
    "        transit_fit_y = transit_poly(x)\n",
    "        [a, b, c] = transit_coeffs\n",
    "    \n",
    "        # Transit depth is the minimum of the fitted second polynomial\n",
    "        transit_depth = 1 - np.min(transit_fit_y)\n",
    "        residual_std = np.std(transit_fit_y - y)\n",
    "        relative_size = residual_std / transit_depth  \n",
    "    except:\n",
    "        transit_depth = 1-np.min(y)\n",
    "        residual_std = np.std(1 - y)\n",
    "        a = 0\n",
    "        \n",
    "    # Residuals from second fit\n",
    "    #baseline_residual_std = np.std(signal_02)\n",
    "    transit_width = len(x)\n",
    "    aspect_ratio = transit_depth/(len(x))\n",
    "    relative_size = residual_std / transit_depth\n",
    "\n",
    "    return {\"transit_width\": transit_width,\n",
    "            \"max_wl_depth\":  transit_depth,\n",
    "            \"mean_wl_depth\": 1 - np.mean(transit_fit_y),\n",
    "            \"transit_residual_std\": residual_std,\n",
    "            \"rel_noise\": relative_size,\n",
    "            \"aspect\": aspect_ratio,\n",
    "            \"transit_fit_a\": a,\n",
    "            }, (x, transit_fit_y)\n",
    "\n",
    "\n",
    "def correct_k2_old(delta_obs, a, x_ingress, x_egress, b):\n",
    "    '''Trying to estimate a limb darkening correction from characteristics of the fitted parabola'''\n",
    "    T14 = x_egress - x_ingress\n",
    "    mu0 = np.max([math.sqrt(max(0.0, 1.0 - b*b)), 1e-6])\n",
    "    # protection: if mu0==0 (b~1) the formula degenerates; handle separately\n",
    "    #if mu0 <= 1e-6:\n",
    "    #    raise ValueError(\"impact parameter too close to 1; mu0~0. Use a different method.\")\n",
    "    correction = (a * T14**2) / (2.0 * mu0) * (mu0 - 1.0/3.0)\n",
    "    k2 = delta_obs + correction\n",
    "    return correction\n",
    "\n",
    "def correct_k2(delta_obs, a, x_ingress, x_egress, b):\n",
    "    \"\"\"\n",
    "    Estimate a limb darkening correction from characteristics of the fitted parabola.\n",
    "    Internally rescales x so that ingress=0 and egress=1.\n",
    "    \n",
    "    Parameters\n",
    "    ----------\n",
    "    delta_obs : float\n",
    "        Observed transit depth (e.g. 0.01 for 1%).\n",
    "    a : float\n",
    "        Quadratic coefficient from fit to transit curve (in original x-units).\n",
    "    x_ingress : float\n",
    "        Index or time of ingress.\n",
    "    x_egress : float\n",
    "        Index or time of egress.\n",
    "    b : float\n",
    "        Impact parameter (0 = central transit, 1 = grazing).\n",
    "    \"\"\"\n",
    "    # Normalize x so that ingress=0 and egress=1\n",
    "    T14 = x_egress - x_ingress\n",
    "    if T14 <= 0:\n",
    "        print(f'T14 was a negative value : {T14}')\n",
    "        #raise ValueError(\"x_egress must be larger than x_ingress\")\n",
    "\n",
    "    # Rescale quadratic coefficient to normalized coordinates\n",
    "    # Transformation: x_norm = (x - x_ingress) / T14\n",
    "    # => parabola y = a*(x - x0)^2 becomes (a*T14^2)*x_norm^2 in normalized space\n",
    "    a_norm = a * T14**2\n",
    "\n",
    "    # Geometric factor\n",
    "    mu0 = max(math.sqrt(max(0.0, 1.0 - b*b)), 1e-6)\n",
    "\n",
    "    # Correction in normalized coordinates\n",
    "    correction = (a_norm / (2.0 * mu0)) * (mu0 - 1.0/3.0)\n",
    "\n",
    "    #k2 = delta_obs + correction\n",
    "    return correction"
   ]
  },
  {
   "cell_type": "code",
   "execution_count": 13,
   "id": "5e97a82f",
   "metadata": {
    "execution": {
     "iopub.execute_input": "2025-09-24T22:46:30.295063Z",
     "iopub.status.busy": "2025-09-24T22:46:30.294070Z",
     "iopub.status.idle": "2025-09-24T22:46:30.302354Z",
     "shell.execute_reply": "2025-09-24T22:46:30.301396Z"
    },
    "papermill": {
     "duration": 0.040398,
     "end_time": "2025-09-24T22:46:30.304318",
     "exception": false,
     "start_time": "2025-09-24T22:46:30.263920",
     "status": "completed"
    },
    "tags": []
   },
   "outputs": [],
   "source": [
    "def batman_fit(bat_signal, params, initial_rp, plot=False):\n",
    "    x, y = bat_signal\n",
    "    \n",
    "    # ---- Model wrapper for fitting ----\n",
    "    # Holds the minimum point at the previously fitted min and fits for u1, u2\n",
    "    def transit_model(time, rp, u1, u2):\n",
    "        params.rp = rp\n",
    "        params.u = [u1, u2]\n",
    "        model = batman.TransitModel(params, time)\n",
    "        flux = model.light_curve(params)\n",
    "        \n",
    "        # Rescale depth so min matches measured_min but OOT baseline stays at 1\n",
    "        flux_min_model = flux.min()\n",
    "        scale = (initial_rp**2) / (1 - flux_min_model)\n",
    "        flux_scaled = 1 - (1 - flux) * scale\n",
    "        return flux_scaled\n",
    "    \n",
    "    # ---- Fit ----\n",
    "    p0 = [initial_rp, 0.3, 0.1]  # initial guesses\n",
    "    bounds = ([0.05, 0.0, 0.0], [0.5, 1.0, 1.0])\n",
    "    popt, pcov = curve_fit(transit_model, x, y, p0=p0, bounds=bounds) #\n",
    "    rp_fit, u1_fit, u2_fit = popt\n",
    "\n",
    "    correction = initial_rp**2 - rp_fit**2\n",
    "    # ---- Results ----\n",
    "    #print(f\"True depth ~ {true_rp**2:.5f}\")\n",
    "    \n",
    "    \n",
    "    # ---- Plot ----\n",
    "    if plot:\n",
    "        print(f\"Initial depth {initial_rp**2:.4f}  → fitted depth ~ {rp_fit**2:.4f}, difference: {correction:.5f}\")\n",
    "        print(f\"Fitted U: u1={u1_fit:.3f}, u2={u2_fit:.3f}\")\n",
    "        \n",
    "        plt.scatter(x, y, s=10, color=\"k\", alpha=0.5, label=\"data\")\n",
    "        #plt.plot(time_obs, flux_true, \"r--\", label=\"true\")\n",
    "        plt.plot(x, transit_model(x, *popt), \"b\", label=\"fit\")\n",
    "        plt.xlabel(\"time (days)\")\n",
    "        plt.ylabel(\"flux\")\n",
    "        plt.legend()\n",
    "        plt.show()\n",
    "\n",
    "    return correction"
   ]
  },
  {
   "cell_type": "code",
   "execution_count": 14,
   "id": "24db2136",
   "metadata": {
    "execution": {
     "iopub.execute_input": "2025-09-24T22:46:30.364080Z",
     "iopub.status.busy": "2025-09-24T22:46:30.363300Z",
     "iopub.status.idle": "2025-09-24T22:46:30.371303Z",
     "shell.execute_reply": "2025-09-24T22:46:30.370416Z"
    },
    "papermill": {
     "duration": 0.038427,
     "end_time": "2025-09-24T22:46:30.373069",
     "exception": false,
     "start_time": "2025-09-24T22:46:30.334642",
     "status": "completed"
    },
    "tags": []
   },
   "outputs": [],
   "source": [
    "def get_bat_crops(signal, x_cropped, y_cropped, trimmed, reflected, transitions, b, c, days_per_bin):\n",
    "    '''signal:  The original signal\n",
    "       x_cropped concatenated x0, x1, x2\n",
    "                   x0: fitted linear slope pre-transit,  offset so 0 is the last element \n",
    "                   x1: full occlusion transit,\n",
    "                   x2: fitted linear sloping post transti\n",
    "       y_cropped:  The corresponding y values\n",
    "       trimmed from the left side of x0:  The number of indices the zero was moved (so just the last value in the original x0)\n",
    "       reflected: the original signal was reflected\n",
    "       transitions: Tuple, (x0 end, centre of x1, x2 start)\n",
    "       b & c:   linear fit parameters for the linear correction  y = bx + c  in the crops reference frame\n",
    "    '''\n",
    "    one_sided = True if transitions[2] == len(x_cropped) else False\n",
    "    \n",
    "    if reflected:\n",
    "        signal = signal[::-1]\n",
    "\n",
    "    left_trim = trimmed[0]\n",
    "    right_trim = trimmed[1]\n",
    "\n",
    "    signal = signal[left_trim:] #So now the LHS lines up with the out of transit portion of y_cropped\n",
    "    if right_trim > 0:\n",
    "        signal = signal[:-right_trim]\n",
    "    pre_transit = np.max([0, transitions[0] - 15])  #The 15 is because otherwise we risk messing with the egress/ingress\n",
    "    post_transit = np.max([len(x_cropped) - transitions[2], len(x_cropped) - transitions[2] - 15])\n",
    "\n",
    "    x = np.arange(len(signal)) - transitions[0]  #So now it's in the same reference frame\n",
    "    centre_idx = x_cropped[transitions[1]] - x[0]\n",
    "    linear_correction = b * x + c\n",
    "    signal[:pre_transit] = y_cropped[:pre_transit]\n",
    "    if post_transit > 0:\n",
    "        signal[-post_transit:] = y_cropped[-post_transit:]  #Put the fitted portions of the crops in\n",
    "    y = signal / linear_correction\n",
    "\n",
    "    if one_sided:\n",
    "        #reflect about the minimum\n",
    "        left_side = y[:centre_idx]\n",
    "        right_side = left_side[::-1]\n",
    "        y = np.concatenate([left_side, right_side])\n",
    "\n",
    "    x = (np.arange(len(y)) - centre_idx) * days_per_bin\n",
    "    return (x,y), one_sided    #hopefully it's now corrected, trimmed, and the out of transit portions are all a flat line = 1"
   ]
  },
  {
   "cell_type": "code",
   "execution_count": 15,
   "id": "f588053b",
   "metadata": {
    "execution": {
     "iopub.execute_input": "2025-09-24T22:46:30.433719Z",
     "iopub.status.busy": "2025-09-24T22:46:30.432869Z",
     "iopub.status.idle": "2025-09-24T22:46:30.438653Z",
     "shell.execute_reply": "2025-09-24T22:46:30.437727Z"
    },
    "papermill": {
     "duration": 0.038682,
     "end_time": "2025-09-24T22:46:30.440427",
     "exception": false,
     "start_time": "2025-09-24T22:46:30.401745",
     "status": "completed"
    },
    "tags": []
   },
   "outputs": [],
   "source": [
    "def make_transit_params(row, omega_deg=90.0, limb_law=\"quadratic\"):\n",
    "    \"\"\"\n",
    "    Build a batman.TransitParams object from a DataFrame row.\n",
    "\n",
    "    Parameters\n",
    "    ----------\n",
    "    df : pandas.DataFrame\n",
    "        Must have columns: Rs, Ms, Ts, Mp, e, P, sma, i\n",
    "    idx : int or label\n",
    "        Index of the row\n",
    "    omega_deg : float\n",
    "        Argument of periastron in degrees (default=90.0 if unknown)\n",
    "    limb_law : str\n",
    "        Limb darkening law (default=\"quadratic\")\n",
    "    u : list\n",
    "        Limb darkening coefficients [u1, u2]\n",
    "\n",
    "    Returns\n",
    "    -------\n",
    "    params : batman.TransitParams\n",
    "    \"\"\"\n",
    "    \n",
    "    params = batman.TransitParams()\n",
    "    params.t0 = 0.0                 # mid-transit time\n",
    "    params.per = row[\"P\"]           # orbital period (days)\n",
    "    params.rp = 0.1                 # Rp/R* (placeholder, to be fitted later)\n",
    "    params.a = row[\"sma\"]           # a/R*\n",
    "    params.inc = row[\"i\"]           # inclination in deg\n",
    "    params.ecc = row[\"e\"]           # eccentricity\n",
    "    params.w = omega_deg            # argument of periastron (deg)\n",
    "    params.limb_dark = limb_law\n",
    "\n",
    "    return params\n"
   ]
  },
  {
   "cell_type": "code",
   "execution_count": 16,
   "id": "37a45c96",
   "metadata": {
    "execution": {
     "iopub.execute_input": "2025-09-24T22:46:30.500720Z",
     "iopub.status.busy": "2025-09-24T22:46:30.500354Z",
     "iopub.status.idle": "2025-09-24T22:46:30.524568Z",
     "shell.execute_reply": "2025-09-24T22:46:30.523637Z"
    },
    "papermill": {
     "duration": 0.056996,
     "end_time": "2025-09-24T22:46:30.526285",
     "exception": false,
     "start_time": "2025-09-24T22:46:30.469289",
     "status": "completed"
    },
    "tags": []
   },
   "outputs": [],
   "source": [
    "def fit_all_curves(signals,\n",
    "                   centres,\n",
    "                   star_df,\n",
    "                   breakpoints,\n",
    "                   edges,\n",
    "                   days_per_bin,\n",
    "                   impacts,\n",
    "                   scale=0.95,\n",
    "                   limb_law = 'quadratic',\n",
    "                   buffer=25,\n",
    "                   smooth_window=21,\n",
    "                   bad_planets=[], \n",
    "                   show_plots=False,\n",
    "                   max_edge_widths=(40,40),\n",
    "                   top_points=10,\n",
    "                   do_bat_fit=True\n",
    "                  ):\n",
    "    #all_bp, all_bp2 = breakpoints\n",
    "\n",
    "    planets, time, wl = signals.shape\n",
    "    spectra = []\n",
    "    mean_features = []\n",
    "    all_wl_fits = {}\n",
    "    for idx in tqdm(range(len(signals))):\n",
    "        fits = {}\n",
    "        data = signals[idx]\n",
    "        buffer_size_poly = 150 // TIME_BINS\n",
    "        breakpoint_tuple = breakpoints[idx]\n",
    "        edge_tuple = edges[idx]\n",
    "\n",
    "        depths = {}\n",
    "\n",
    "        mean_signal=data[:, 1:].mean(1) / data[:, 1:].mean(1).mean()\n",
    "        mean_signal = savgol_filter(mean_signal, smooth_window, 2)\n",
    "\n",
    "        plot = (idx <= 3 and show_plots) or idx in bad_planets\n",
    "\n",
    "        x, y, transitions, no_bps, two_bps, reflected, offset, trim = crop_transitions(mean_signal,\n",
    "                                                                                  breakpoint_tuple,\n",
    "                                                                                  edge_tuple,\n",
    "                                                                                  buffer=buffer,\n",
    "                                                                                  plot=True,\n",
    "                                                                                  reflect = None,\n",
    "                                                                                  max_edge_widths = max_edge_widths,\n",
    "                                                                                  top_points=top_points)\n",
    "        \n",
    "        #note that the x and y here are not the originals but the ones fitted to the top of the mean signal\n",
    "        #also transitions is relative to the positions in the modified x,y above, not the original\n",
    "\n",
    "        if plot:\n",
    "            print(f'The edge tuple was {edge_tuple}')\n",
    "            print(f'The breakpoints were {breakpoint_tuple}')\n",
    "            print(f'The transitions are {transitions}, reflected is {reflected}')\n",
    "\n",
    "        #x and y and the transitions are in the new coordinate system, shifted by the trimming\n",
    "        mean_baseline, fits['mean_baseline'], transitions = fit_shifted_model(x,\n",
    "                                                                             y,\n",
    "                                                                             transitions,\n",
    "                                                                             edge_tuple,\n",
    "                                                                             no_breakpoints=no_bps,\n",
    "                                                                             plot=plot,\n",
    "                                                                             breakpoints = breakpoint_tuple,\n",
    "                                                                             fit_centre = two_bps)\n",
    "\n",
    "        #so this mean baseline and the parameters a, b & c are in the new coordinate system with 0 at the start of ingress\n",
    "        #Transitions are still relative to that modified x,y signal\n",
    "\n",
    "        egress = 0\n",
    "        ingress = 0\n",
    "        \n",
    "        if breakpoint_tuple[0] is not None and edge_tuple[0] is not None:\n",
    "            igress = 2 * (breakpoint_tuple[0] - edge_tuple[0])\n",
    "        if breakpoint_tuple[1] is not None and edge_tuple[1] is not None:\n",
    "            egress =  2* (edge_tuple[1] - breakpoint_tuple[1])\n",
    "\n",
    "        num_valid = len([item for item in [ingress, egress] if item > 0])\n",
    "        ingress = (ingress + egress) / num_valid if num_valid > 0 else 30\n",
    "        transit_length = len(mean_signal) - 2 * ingress - egress\n",
    "        transit_ratio = ingress / transit_length\n",
    "        transit_ratio_2 = transit_ratio **2\n",
    "\n",
    "        \n",
    "        a = mean_baseline['b']\n",
    "        b = mean_baseline['b']\n",
    "        c = mean_baseline['c']\n",
    "\n",
    "        #Also fit a quadratic to the in-transit curve for feature generation\n",
    "        _x = x[transitions[0]:transitions[2]]  #\n",
    "        linear_correction = b * _x + c\n",
    "        fits['baseline_mean_parameters'] = (b, c)\n",
    "        _y =  y[transitions[0]:transitions[2]] / linear_correction  #All this in the shifted coordinate system\n",
    "\n",
    "        mean_baseline['transit_ratio'] = transit_ratio\n",
    "        mean_baseline['transit_ratio_2'] = transit_ratio_2\n",
    "        mean_transit, fits['mean_transit'] = fit_transit(_x,_y)\n",
    "        mean_baseline['has_no_breakpoints'] = no_bps\n",
    "        mean_baseline['has_two_breakpoints'] = two_bps\n",
    "        mean_baseline['darkening_correction'] = correct_k2(mean_transit[\"max_wl_depth\"],\n",
    "                                                           a,\n",
    "                                                           transitions[0],\n",
    "                                                           transitions[1],\n",
    "                                                           impacts[idx])\n",
    "        mean_baseline['left_transition'] = transitions[0]\n",
    "        mean_baseline['centre'] = transitions[1]\n",
    "        mean_baseline['right_transition']= transitions[2]\n",
    "        mean_baseline['asymmetry'] = mean_baseline['max_slope'] * np.abs((transitions[2] - transitions[0])/2 - transitions[1]) / (transitions[2] - transitions[0])\n",
    "        mean_baseline['reflected'] = reflected\n",
    "        mean_baseline['x_offset'] = offset\n",
    "        mean_transit['mean_depth'] = mean_transit[\"mean_wl_depth\"] #+ mean_baseline['half_delta']\n",
    "        \n",
    "        #reprocess the signal to be centred on the minimum, and with linear correction by the baseline, in time units of days, then fit with batman methods\n",
    "        if do_bat_fit:\n",
    "            try:\n",
    "                bat_signal, one_sided = get_bat_crops(mean_signal, x, y, trim, reflected, transitions, b, c, days_per_bin)  #(signal, x_cropped, y_cropped, trimmed, reflected, transitions, b, c):\n",
    "                bat_plot = True if (idx <= 10 or one_sided) and show_plots else False\n",
    "                params = make_transit_params(star_df.iloc[idx,:], omega_deg=90.0, limb_law=limb_law)\n",
    "                mean_baseline['bat_correction'] = batman_fit(bat_signal,\n",
    "                                                  params=params,\n",
    "                                                  initial_rp = np.sqrt(mean_transit[\"max_wl_depth\"]),\n",
    "                                                  plot=bat_plot)\n",
    "            except:\n",
    "                mean_baseline['bat_correction'] = 0\n",
    "\n",
    "        mean_features.append(mean_transit | mean_baseline)\n",
    "\n",
    "        all_centres = [0] + centres\n",
    "        \n",
    "        for wavelength_idx in range(wl):\n",
    "            plot = (idx in bad_planets) and wavelength_idx == 0 and show_plots\n",
    "            \n",
    "            wavelength = all_centres[wavelength_idx]\n",
    "            flux = data[:, wavelength_idx]\n",
    "            flux_normalized = flux / flux.mean()\n",
    "            signal = savgol_filter(flux_normalized, smooth_window, 2)\n",
    "            if plot:\n",
    "                print(f'Fitting planet {idx}')\n",
    "            try:\n",
    "                x, y, transitions, _ , _, _ , _, _,  = crop_transitions(signal,\n",
    "                                                                        breakpoint_tuple,\n",
    "                                                                        edge_tuple,\n",
    "                                                                        buffer=buffer,\n",
    "                                                                        plot=False,\n",
    "                                                                        reflect = reflected,\n",
    "                                                                        max_edge_widths =  max_edge_widths, #(40,40),\n",
    "                                                                        top_points = top_points,\n",
    "                                                                        )\n",
    "            except Exception as e:\n",
    "                f'There was an exception in crop_transitions {e}'\n",
    "                x = np.arange(len(signal))\n",
    "                y = signal[::-1] if reflected else signal\n",
    "                transitions = (20, len_signal//2, len(signal)-20)\n",
    "            \n",
    "            per_wl_model, per_wl_fit, _ = fit_shifted_model(x,\n",
    "                                                        y,\n",
    "                                                        transitions,\n",
    "                                                        edge_tuple,\n",
    "                                                        plot=plot,\n",
    "                                                        initial_fit=mean_baseline,\n",
    "                                                        no_breakpoints = no_bps,\n",
    "                                                        breakpoints = breakpoint_tuple,\n",
    "                                                        fit_centre = False\n",
    "                                                        )\n",
    "            \n",
    "            b = per_wl_model['b']\n",
    "            c = per_wl_model['c']\n",
    "\n",
    "            _b = fits['baseline_mean_parameters'][0]   #This approach was just a tiny bit worse.  Could retry later\n",
    "            _c = fits['baseline_mean_parameters'][1]\n",
    "\n",
    "            #x = np.arange(len(mean_signal))   ####################   This looks questionable, removed in batman version  ################################\n",
    "            x = x[transitions[0]:transitions[2]]   #Transitions are the indices to be used in the original baseline x, not this new one above\n",
    "            linear_correction = b * x + c\n",
    "            y = y[transitions[0]:transitions[2]] / linear_correction\n",
    "            transit, transit_fit = fit_transit(x,y)\n",
    "            fits[f'wl_{wavelength_idx}_first_fit'] = per_wl_fit\n",
    "            fits[f'wl_{wavelength_idx}_transit_fit'] = transit_fit\n",
    "            \n",
    "            if do_bat_fit:\n",
    "                try:\n",
    "                    bat_signal, one_sided = get_bat_crops(signal, x, y, trim, reflected, transitions, b, c, days_per_bin)  #(signal, x_cropped, y_cropped, trimmed, reflected, transitions, b, c):\n",
    "                    bat_plot =  False\n",
    "                    params = make_transit_params(star_df.iloc[idx,:], omega_deg=90.0, limb_law=limb_law)\n",
    "                    bat_correction = batman_fit(bat_signal,\n",
    "                                                      params=params,\n",
    "                                                      initial_rp = np.sqrt(mean_transit[\"max_wl_depth\"]),\n",
    "                                                      plot=False)\n",
    "                except:\n",
    "                    bat_correction = 0\n",
    "            \n",
    "                per_wl_model['bat_correction'] = bat_correction\n",
    "            \n",
    "            \n",
    "            fits[f'bin_{wavelength}'] = per_wl_model\n",
    "            \n",
    "            #mean_transit['depth_minus_half_delta'] = mean_transit[\"mean_wl_depth\"] - mean_baseline['half_delta']\n",
    "            #depths[f'bin_{wavelength}'] = transit[\"mean_wl_depth\"] * scale\n",
    "            depths[f'bin_{wavelength}'] = transit[\"mean_wl_depth\"] #+ per_wl_model[\"half_delta\"]\n",
    "        \n",
    "            \n",
    "        \n",
    "        \n",
    "        \n",
    "        spectra.append(depths)  # fit is already a dictionary\n",
    "\n",
    "        all_wl_fits[idx] = fits\n",
    "    depths_df = pd.DataFrame(spectra, index=star_info.index)\n",
    "    \n",
    "    mean_features_df = pd.DataFrame(mean_features, index=star_info.index)\n",
    "    mean_features_df['fgs_diff'] = depths_df.values[:,0] - depths_df.values[:,:20].mean(axis=1)\n",
    "    #depths_df.iloc[:,0] = depths_df.values[:,:5].mean(axis=1)  #average over four from airs since they have less noise\n",
    "    #no need for this.  Instead rely on the offset to make the best prediction relative to the baseline, so leave the fgs point unaltered\n",
    "\n",
    "    mean_features_df['a_w2_depth'] = a * (transitions[1] - transitions[2]) / mean_transit[\"max_wl_depth\"]\n",
    "    mean_features_df['polypoints_range'] = depths_df.max(axis=1) - depths_df.min(axis=1)  #.iloc[:,1:]\n",
    "    mean_features_df['polypoints_std'] = depths_df.iloc[:,1:].std(axis=1)  #\n",
    "    mean_features_df['polypoints_mean'] = depths_df.iloc[:,1:].std(axis=1)\n",
    "\n",
    "    return depths_df, mean_features_df, all_wl_fits"
   ]
  },
  {
   "cell_type": "markdown",
   "id": "7b64fc9a",
   "metadata": {
    "papermill": {
     "duration": 0.027333,
     "end_time": "2025-09-24T22:46:30.580980",
     "exception": false,
     "start_time": "2025-09-24T22:46:30.553647",
     "status": "completed"
    },
    "tags": []
   },
   "source": [
    "### Model Training Functions"
   ]
  },
  {
   "cell_type": "code",
   "execution_count": 17,
   "id": "4f523534",
   "metadata": {
    "execution": {
     "iopub.execute_input": "2025-09-24T22:46:30.638491Z",
     "iopub.status.busy": "2025-09-24T22:46:30.638168Z",
     "iopub.status.idle": "2025-09-24T22:46:30.659241Z",
     "shell.execute_reply": "2025-09-24T22:46:30.658330Z"
    },
    "papermill": {
     "duration": 0.052311,
     "end_time": "2025-09-24T22:46:30.661097",
     "exception": false,
     "start_time": "2025-09-24T22:46:30.608786",
     "status": "completed"
    },
    "tags": []
   },
   "outputs": [],
   "source": [
    "def load_target(filepath, ids):\n",
    "    try:\n",
    "        df = pd.read_csv(filepath)\n",
    "        df.set_index('planet_id', inplace=True)\n",
    "        df = df.loc[ids]\n",
    "        print(\"All files loaded successfully!\")\n",
    "    except FileNotFoundError as e:\n",
    "        print(f\"Error loading files: {e}\")\n",
    "        print(\"Please ensure your notebook is connected to the competition dataset.\")\n",
    "    return df\n",
    "\n",
    "\n",
    "def transform_target(df, poly_df, centres, ids):\n",
    "    fgs1_vals = df.values[:,:1]\n",
    "    airs_vals = df.values[:,centres]#[:,1:]  \n",
    "    true_binned = np.concatenate([fgs1_vals, airs_vals], axis=1)\n",
    "    col_names = ['bin_0'] + [f'bin_{centre}' for centre in centres]\n",
    "    true_binned_df = pd.DataFrame(true_binned, index=ids, columns=col_names)\n",
    "    target_df = pd.DataFrame(true_binned_df.values - poly_df.values, columns=true_binned_df.columns, index=true_binned_df.index) \n",
    "    return target_df\n",
    "\n",
    "\n",
    "def local_mean_diff(df, target_col, n=1):\n",
    "    \"\"\"\n",
    "    Returns a Series of the difference between target_col and\n",
    "    the mean of its n nearest neighboring columns (excluding the first column).\n",
    "    \"\"\"\n",
    "    all_cols = df.columns\n",
    "    feature_cols = df.columns[1:]  # skip first column\n",
    "    \n",
    "    i = list(all_cols).index(target_col)\n",
    "    start = max(0, i - n)\n",
    "    end = min(len(feature_cols), i + n + 1)\n",
    "\n",
    "    # neighbors excluding the target column itself\n",
    "    neighbors = [c for j, c in enumerate(feature_cols[start:end]) if j + start != i]\n",
    "\n",
    "    if not neighbors:\n",
    "        raise ValueError(\"No neighbors found — maybe n is too small or only one feature column exists.\")\n",
    "\n",
    "    local_mean = df[neighbors].mean(axis=1)\n",
    "    diff_series = df[target_col] - local_mean\n",
    "\n",
    "    return diff_series\n",
    "\n",
    "\n",
    "\n",
    "def feature_eng(poly_df, extras_df, star_df, all_wl_fits, use_features):\n",
    "    extras_df['original_fgs'] = poly_df['bin_0']\n",
    "    star_df['m_ratio'] = star_df['Mp'] / star_df['Ms']\n",
    "    star_df[\"impact\"] = (star_info['sma'] / star_info['Rs']) * np.cos(np.radians(star_info['i']))\n",
    "    star_df[\"cos_i\"] =  np.cos(np.radians(star_df['i']))\n",
    "    star_df['sma_rs'] = star_df['sma'] / star_df['Rs']\n",
    "    star_df['Ts_Rs'] = (star_df['Ts']**4) * (star_df['Rs']**2)\n",
    "    extras_df['mean_first_diff'] = poly_df.iloc[:,1:].diff(axis=1).abs().mean(axis=1)\n",
    "    extras_df['mean_second_diff'] = poly_df.iloc[:,1:].diff(axis=1).diff(axis=1).abs().mean(axis=1)\n",
    "    extras_df['first_second_std_sum'] = extras_df['mean_first_diff'] + extras_df['mean_second_diff'] + extras_df['polypoints_std']\n",
    "    extras_df['c_delta'] = extras_df['c'] - extras_df['delta']\n",
    "    #star_info['t_time'] = star_info['P'] /star_info['sma']  #didn't help\n",
    "\n",
    "    #Now let's reduce the poly_df to features that really matter.\n",
    "    poly_columns = list(poly_df.columns)\n",
    "    feats_dict = {}\n",
    "    for col in poly_columns:\n",
    "        local_diff_2 = local_mean_diff(poly_df, target_col=col, n=2)\n",
    "        local_diff_4 = local_mean_diff(poly_df, target_col=col, n=4)\n",
    "        local_diff_6 = local_mean_diff(poly_df, target_col=col, n=6)\n",
    "        local_diff_8 = local_mean_diff(poly_df, target_col=col, n=8)\n",
    "        mean_airs = poly_df.iloc[:, 1:].mean(axis=1)\n",
    "        main_wl_bin = poly_df[col]\n",
    "        main_mean_diff = main_wl_bin - mean_airs\n",
    "\n",
    "        new_df = pd.DataFrame({\n",
    "                                \"main_wl_bin\": main_wl_bin,\n",
    "                                \"main_mean_diff\": main_mean_diff,\n",
    "                                \"local_diff_2\": local_diff_2,\n",
    "                                \"local_diff_4\": local_diff_4,\n",
    "                                \"local_diff_6\": local_diff_6,\n",
    "                                \"local_diff_8\": local_diff_8,\n",
    "                              })\n",
    "        df = pd.concat([star_df, extras_df, new_df], axis=1)\n",
    "        df = df[use_features]\n",
    "\n",
    "        wl_feats = {}\n",
    "        for idx, (row_idx, row) in enumerate(star_df.iterrows()):\n",
    "            wl_fit = all_wl_fits[idx][col]\n",
    "            global_c = extras_df.iloc[idx, extras_df.columns.get_loc('c')]\n",
    "        \n",
    "            wl_feats[row_idx] = {\n",
    "                \"wl_bat_correction\": wl_fit['bat_correction'],\n",
    "                \"wl_c_c\": wl_fit[\"c\"] - global_c,\n",
    "                \"wl_max_slope\": wl_fit[\"max_slope\"],\n",
    "                \"wl_a\": wl_fit[\"a\"],\n",
    "                \"wl_b\": wl_fit[\"b\"],\n",
    "                \"wl_c\": wl_fit[\"c\"],\n",
    "                \"wl_a_c\": wl_fit[\"a\"] / wl_fit[\"c\"],   #low score, but I removed the mean one instead\n",
    "                #\"wl_delta\": wl_fit[\"delta\"],  #low importance score\n",
    "                #\"x_centre\": centre,\n",
    "                #'transit_width': transit_width,\n",
    "                'wl_transit_delta': wl_fit[\"transit_delta\"],\n",
    "                #\"wl_transit_delta_width\": wl_fit[\"transit_delta_width\"], #low importance score\n",
    "            }\n",
    "        wl_feats_df = pd.DataFrame.from_dict(wl_feats, orient=\"index\")\n",
    "\n",
    "        feats_dict[col] = pd.concat([df, poly_df, wl_feats_df], axis=1)\n",
    "        #feats_dict[col] = pd.concat([df, poly_df['bin_0']], axis=1)  #tried with the less informative bins removed\n",
    "    return feats_dict #, poly_df\n",
    "\n",
    "\n",
    "def train_models(features: dict, # Dict of DataFrames with keys bin_##  \n",
    "                 targets: pd.DataFrame,\n",
    "                 train_ids,\n",
    "                 val_ids,\n",
    "                 model_parameters,\n",
    "                 pipeline,  #preprocessing pipeline for PCA features\n",
    "                 early_stopping = True\n",
    "                 ):\n",
    "\n",
    "    targets_train = targets.loc[train_ids]\n",
    "    targets_val = targets.loc[val_ids]\n",
    "\n",
    "    models = {}\n",
    "    feature_imps = []\n",
    "\n",
    "    for target_col in tqdm(targets.columns):\n",
    "        bin_features = features[target_col]#.drop(columns = ['has_two_breakpoints'])\n",
    "        X = features[target_col]\n",
    "        if pipeline is not None:\n",
    "            X_trfmd = pipeline.transform(bin_features)\n",
    "            pca_columns = [f\"PC{i+1}\" for i in range(X_train_transformed.shape[1])]\n",
    "            X_df = pd.DataFrame(\n",
    "                                        X_trfmd,\n",
    "                                        index=bin_features.index,\n",
    "                                        columns=pca_columns\n",
    "                                        )\n",
    "    \n",
    "            X = pd.concat([features[target_col], X_df], axis=1)\n",
    "        X_train = X.loc[train_ids]\n",
    "        X_val = X.loc[val_ids]\n",
    "        feature_list = list(X.columns)\n",
    "        \n",
    "        y_train = targets_train[target_col]\n",
    "        y_val = targets_val[target_col]\n",
    "                \n",
    "        model = lgb.LGBMRegressor(**model_parameters)\n",
    "\n",
    "        if early_stopping:\n",
    "            model.fit(X_train, y_train,\n",
    "                      eval_set=[(X_val, y_val)],\n",
    "                      eval_metric=\"l2\",\n",
    "                      callbacks=[lgb.early_stopping(300)]\n",
    "                     )\n",
    "        else:\n",
    "            model.fit(X_train, y_train,\n",
    "                      eval_metric=\"l2\",\n",
    "                      eval_set=[(X_val, y_val)],\n",
    "                      )\n",
    "            \n",
    "        models[target_col] = model\n",
    "        feature_imps.append(pd.DataFrame(sorted(zip(model.feature_importances_, feature_list)), columns=['Value','Feature']))\n",
    "    return models, pd.concat(feature_imps, axis=0)\n",
    "\n",
    "\n",
    "def train_linear_model(features: pd.DataFrame,\n",
    "                       targets: pd.DataFrame,\n",
    "                       train_ids,\n",
    "                       val_ids):\n",
    "\n",
    "    X_train = features.loc[train_ids]\n",
    "    X_val = features.loc[val_ids]  # Not actually used for fitting here, but you might use for eval\n",
    "    targets_train = targets.loc[train_ids]\n",
    "    targets_val = targets.loc[val_ids]\n",
    "\n",
    "    y_train = targets_train['airs_std']\n",
    "    \n",
    "    model = LinearRegression()\n",
    "    model.fit(X_train, y_train)\n",
    "    \n",
    "    return model"
   ]
  },
  {
   "cell_type": "markdown",
   "id": "9304c6a1",
   "metadata": {
    "papermill": {
     "duration": 0.026291,
     "end_time": "2025-09-24T22:46:30.715297",
     "exception": false,
     "start_time": "2025-09-24T22:46:30.689006",
     "status": "completed"
    },
    "tags": []
   },
   "source": [
    "## Visualisation Functions"
   ]
  },
  {
   "cell_type": "code",
   "execution_count": 18,
   "id": "c8543f13",
   "metadata": {
    "execution": {
     "iopub.execute_input": "2025-09-24T22:46:30.771095Z",
     "iopub.status.busy": "2025-09-24T22:46:30.770768Z",
     "iopub.status.idle": "2025-09-24T22:46:30.796797Z",
     "shell.execute_reply": "2025-09-24T22:46:30.795926Z"
    },
    "papermill": {
     "duration": 0.057082,
     "end_time": "2025-09-24T22:46:30.798500",
     "exception": false,
     "start_time": "2025-09-24T22:46:30.741418",
     "status": "completed"
    },
    "tags": []
   },
   "outputs": [],
   "source": [
    "def plot_spectra(data, num_curves=5,\n",
    "                 planet_idx=None, \n",
    "                 wavelength_idx=None,\n",
    "                 sum_wavelengths=False):\n",
    "    np.random.seed()\n",
    "    \n",
    "    if data.ndim != 3:\n",
    "        raise ValueError(\"Expected a 3D array (star, time, wavelength)\")\n",
    "    num_stars, num_time, num_wavelengths = data.shape\n",
    "\n",
    "    if planet_idx is None:\n",
    "        num_curves = min(num_curves, num_stars * num_wavelengths)\n",
    "        curves = random.choices(range(num_stars), k=num_curves)\n",
    "    else:\n",
    "        curves = [planet_idx]\n",
    "        \n",
    "    if wavelength_idx is not None:\n",
    "        data = data[:, :, wavelength_idx]\n",
    "    elif sum_wavelengths:\n",
    "        data = data.sum(axis=2)\n",
    "    else:\n",
    "        wavelength_idx = np.random.randint(num_wavelengths)\n",
    "        data = data[:, :, wavelength_idx]\n",
    "\n",
    "    plt.figure(figsize=(10, 6))\n",
    "    for planet_idx in curves:\n",
    "\n",
    "        y = data[planet_idx, :]\n",
    "        x = np.arange(num_time)\n",
    "\n",
    "        plt.plot(x, y, label=f\"Star {planet_idx}, λ {wavelength_idx}\")\n",
    "\n",
    "    plt.xlabel(\"Time (dim=1)\")\n",
    "    plt.ylabel(\"Flux (or value)\")\n",
    "    plt.title(\"Random Curves: Time Series from Random Stars and Wavelengths\")\n",
    "    plt.legend()\n",
    "    plt.grid(True)\n",
    "    plt.tight_layout()\n",
    "    plt.show()\n",
    "\n",
    "                         \n",
    "\n",
    "class PlanetPlotter:\n",
    "    def __init__(self,\n",
    "                 planet_ids,\n",
    "                 all_signal,\n",
    "                 all_fits,\n",
    "                 breakpoints,\n",
    "                 edges,\n",
    "                 poly_df,\n",
    "                 sub_df,\n",
    "                 targ_df,\n",
    "                 feature_df,\n",
    "                 ):\n",
    "        self.ids = planet_ids\n",
    "        self.signals = all_signal\n",
    "        self.fits = all_fits\n",
    "        self.bps = breakpoints\n",
    "        self.edges = edges\n",
    "        self.id_to_idx = {pid : idx for idx, pid in enumerate(self.ids)}\n",
    "        self.poly_df = poly_df\n",
    "        self.sub_df = sub_df\n",
    "        self.targ_df = targ_df\n",
    "        self.feat_df = feature_df\n",
    "\n",
    "    \n",
    "    def plot_transmission(self,\n",
    "                          planet_ids,\n",
    "                          wavelengths=None, \n",
    "                          df_true=None,\n",
    "                          y_center=None, \n",
    "                          y_range=0.01, \n",
    "                          show_uncertainty=True,\n",
    "                          fitted_points=None):\n",
    "        \"\"\"\n",
    "        Plots transit depth predictions (and optional ground truth) for one or more planet_ids,\n",
    "        with optional ±1σ uncertainty bands around the ground truth.\n",
    "    \n",
    "        Parameters:\n",
    "        - df_pred: DataFrame with first 283 columns as predicted depth, next 283 as 1σ uncertainties\n",
    "        - planet_ids: int or list of ints\n",
    "        - wavelengths: list of x-axis values (optional)\n",
    "        - df_true: optional DataFrame of ground truth values\n",
    "        - y_center: center of y-axis (auto-computed if None)\n",
    "        - y_range: total y-axis range\n",
    "        - show_uncertainty: if True, plots shaded ±1σ band around ground truth\n",
    "        \"\"\"\n",
    "\n",
    "        if planet_ids is None:\n",
    "            planet_ids = random.choice(self.ids)\n",
    "        \n",
    "        plot_bins = False\n",
    "        \n",
    "        if isinstance(planet_ids, int) and fitted_points is not None:\n",
    "            plot_bins = True\n",
    "            bin_numbers = fitted_points.index.str.extract(r'bin_(\\d+)').astype(int).values.flatten()\n",
    "            bin_values = fitted_points.values\n",
    "        \n",
    "        if isinstance(planet_ids, int):\n",
    "            planet_ids = [planet_ids]\n",
    "    \n",
    "        if wavelengths is None:\n",
    "            wavelengths = range(1, 284)\n",
    "    \n",
    "        # Auto-calculate y-axis center if needed\n",
    "        if y_center is None:\n",
    "            all_depths = []\n",
    "            for pid in planet_ids:\n",
    "                if pid in self.sub_df.index:\n",
    "                    all_depths.append(sub_df.loc[pid, sub_df.columns[:283]].values)\n",
    "            y_center = np.mean(np.concatenate(all_depths)) if all_depths else 0.01\n",
    "    \n",
    "        y_min = y_center - y_range / 2\n",
    "        y_max = y_center + y_range / 2\n",
    "    \n",
    "        plt.figure(figsize=(6, 3))\n",
    "    \n",
    "        for pid in planet_ids:\n",
    "            if pid not in self.sub_df.index:\n",
    "                print(f\"planet_id {pid} not found in predictions DataFrame.\")\n",
    "                continue\n",
    "    \n",
    "            pred_depth = self.sub_df.loc[pid, self.sub_df.columns[:283]].values\n",
    "            pred_sigma = self.sub_df.loc[pid, self.sub_df.columns[283:566]].values  # columns 284–566\n",
    "    \n",
    "            # Plot prediction\n",
    "            plt.plot(wavelengths, pred_depth, label=f\"Predicted {pid}\")\n",
    "            plt.plot(wavelengths[0], pred_depth[0], marker='o', color='blue')\n",
    "    \n",
    "            # Plot ground truth\n",
    "            if df_true is not None and pid in df_true.index:\n",
    "                true_depth = df_true.loc[pid, df_true.columns[:283]].values\n",
    "                plt.plot(wavelengths, true_depth, label=f\"Truth {pid}\", linestyle='--', linewidth=2)\n",
    "    \n",
    "                if show_uncertainty:\n",
    "                    lower = true_depth - pred_sigma\n",
    "                    upper = true_depth + pred_sigma\n",
    "                    plt.fill_between(wavelengths, lower, upper, color='gray', alpha=0.3,\n",
    "                                     label=f\"±1σ {pid}\" if pid == planet_ids[0] else None)\n",
    "    \n",
    "            print(f'The planet id is {pid}')\n",
    "    \n",
    "        #plot the geometrically fitted points for each bin\n",
    "        if plot_bins:\n",
    "            plt.plot(bin_numbers, bin_values, marker='o', color='red')\n",
    "    \n",
    "        plt.ylim(y_min, y_max)\n",
    "        plt.xlabel(\"Wavelength\")\n",
    "        plt.ylabel(\"Transit Depth\")\n",
    "        plt.title(\"Transmission Spectra with Uncertainty Bands\")\n",
    "        plt.legend()\n",
    "        plt.grid(True)\n",
    "        plt.tight_layout()\n",
    "        plt.show()\n",
    "\n",
    "\n",
    "    def plot_planet(self, planet_id=None, f_y_range=None, t_y_range=0.01):\n",
    "        random_idx = np.random.randint(0, 1100) if planet_id is None else self.id_to_idx[planet_id]\n",
    "        random_choice = planet_ids[random_idx]\n",
    "        \n",
    "        y_all_wl = self.signals[random_idx].mean(axis=1)\n",
    "        #x_offset = self.feat_df.loc[random_choice]['left_transition']\n",
    "        #trimmed = self.feat_df.loc[random_choice]['trimmed']\n",
    "        x_offset = self.feat_df.loc[random_choice]['x_offset']\n",
    "        \n",
    "        y = y_all_wl / y_all_wl.mean()\n",
    "        x_unshifted = np.arange(len(y))\n",
    "        reflected = self.feat_df.loc[random_choice]['reflected']\n",
    "        N = len(y)\n",
    "        if reflected:\n",
    "            y = y[::-1]\n",
    "            print('This signal was reflected left to right')\n",
    "            left_breakpoint = None if self.bps[random_idx][1] is None else (N - 1 - int(self.bps[random_idx][1]))\n",
    "            right_breakpoint = None if self.bps[random_idx][0] is None else (N - 1 - int(self.bps[random_idx][0]))\n",
    "            left_edge = (N - 1 - int(self.edges[random_idx][1]))\n",
    "            right_edge = (N - 1 - int(self.edges[random_idx][0]))\n",
    "        else:\n",
    "            left_breakpoint = None if self.bps[random_idx][0] is None else int(self.bps[random_idx][0])\n",
    "            right_breakpoint = None if self.bps[random_idx][1] is None else int(self.bps[random_idx][1])\n",
    "            left_edge = self.edges[random_idx][0]\n",
    "            right_edge = self.edges[random_idx][1]\n",
    "        \n",
    "        bp_left = left_breakpoint or 0\n",
    "        bp_right = right_breakpoint or len(y)\n",
    "        \n",
    "        b = self.fits[random_idx]['baseline_mean_parameters'][0]\n",
    "        c = self.fits[random_idx]['baseline_mean_parameters'][1]\n",
    "        \n",
    "        x = x_unshifted - self.feat_df.loc[random_choice]['x_offset']\n",
    "        \n",
    "        x_fit = self.fits[random_idx]['mean_baseline'][0]\n",
    "        y_fit = self.fits[random_idx]['mean_baseline'][1]\n",
    "        y_correction = b * x_fit + c\n",
    "\n",
    "        plt.figure(figsize=(6, 3))\n",
    "        if f_y_range is not None:\n",
    "            y_center = np.mean(y)\n",
    "            y_min = y_center - f_y_range / 4\n",
    "            y_max = y_center + 3*f_y_range / 4\n",
    "            plt.ylim(y_min, y_max)\n",
    "\n",
    "        plt.plot(x, y, 'o', alpha=0.5, label='Data')\n",
    "        plt.plot(x_fit, y_fit, '-', linewidth=2, label='Fitted curve')\n",
    "        plt.plot(x_fit, y_correction, '-', linewidth=2, label='Linear baseline')\n",
    "        plt.axvline(bp_left - x_offset, linestyle='--', color='green', label='Left Breakpoint') \n",
    "        plt.axvline(bp_right - x_offset, linestyle='--', color='gray', label='Right Breakpoint') \n",
    "        plt.axvline(left_edge - x_offset, linestyle= ':', color='green', label='Left Breakpoint') \n",
    "        plt.axvline(right_edge - x_offset, linestyle= ':', color='gray', label='Right Breakpoint') \n",
    "        plt.xlabel(\"x\")\n",
    "        plt.ylabel(\"y\")\n",
    "        plt.legend()\n",
    "        plt.title(\"Shifted Quadratic Fit with Shared Linear Drift\")\n",
    "        plt.grid(True)\n",
    "        plt.tight_layout()\n",
    "        plt.show()\n",
    "    \n",
    "        poly_preds = self.poly_df.loc[random_choice]\n",
    "        self.plot_transmission(random_choice, df_true=self.targ_df, fitted_points = poly_preds, y_range = t_y_range)"
   ]
  },
  {
   "cell_type": "markdown",
   "id": "e8be03cf",
   "metadata": {
    "papermill": {
     "duration": 0.027656,
     "end_time": "2025-09-24T22:46:30.853916",
     "exception": false,
     "start_time": "2025-09-24T22:46:30.826260",
     "status": "completed"
    },
    "tags": []
   },
   "source": [
    "## Start Main Workflow"
   ]
  },
  {
   "cell_type": "code",
   "execution_count": 19,
   "id": "e040bc89",
   "metadata": {
    "execution": {
     "iopub.execute_input": "2025-09-24T22:46:30.910628Z",
     "iopub.status.busy": "2025-09-24T22:46:30.909889Z",
     "iopub.status.idle": "2025-09-24T22:46:30.914673Z",
     "shell.execute_reply": "2025-09-24T22:46:30.913840Z"
    },
    "papermill": {
     "duration": 0.034043,
     "end_time": "2025-09-24T22:46:30.916339",
     "exception": false,
     "start_time": "2025-09-24T22:46:30.882296",
     "status": "completed"
    },
    "tags": []
   },
   "outputs": [
    {
     "name": "stdout",
     "output_type": "stream",
     "text": [
      "Using models from /kaggle/input/ariel25_exp_86/scikitlearn/default/1/Exp_86\n"
     ]
    }
   ],
   "source": [
    "paths=Paths(root = ROOT,\n",
    "            train_models = TRAIN_NEW_MODELS,\n",
    "            saved_models_path = MODELS_PATH,\n",
    "            new_signal_name = SIGNAL_VERSION,\n",
    "            saved_signal_path = SIGNAL_PATH)"
   ]
  },
  {
   "cell_type": "code",
   "execution_count": 20,
   "id": "d4093285",
   "metadata": {
    "execution": {
     "iopub.execute_input": "2025-09-24T22:46:30.969847Z",
     "iopub.status.busy": "2025-09-24T22:46:30.969588Z",
     "iopub.status.idle": "2025-09-24T22:46:37.991553Z",
     "shell.execute_reply": "2025-09-24T22:46:37.990361Z"
    },
    "papermill": {
     "duration": 7.051116,
     "end_time": "2025-09-24T22:46:37.993707",
     "exception": false,
     "start_time": "2025-09-24T22:46:30.942591",
     "status": "completed"
    },
    "tags": []
   },
   "outputs": [
    {
     "name": "stderr",
     "output_type": "stream",
     "text": [
      "100%|██████████| 1/1 [00:06<00:00,  6.76s/it]"
     ]
    },
    {
     "name": "stdout",
     "output_type": "stream",
     "text": [
      "Processing complete!\n"
     ]
    },
    {
     "name": "stderr",
     "output_type": "stream",
     "text": [
      "\n"
     ]
    }
   ],
   "source": [
    "if __name__ == \"__main__\": \n",
    "    star_info = pd.read_csv(paths.star_info)\n",
    "    star_info['original_index'] = star_info.index\n",
    "    star_info[\"planet_id\"] = star_info[\"planet_id\"].astype(int)\n",
    "    star_info = star_info.set_index(\"planet_id\")\n",
    "    planet_ids = star_info.index.tolist()\n",
    "    id_to_idx = {pid : idx for idx, pid in enumerate(planet_ids)}\n",
    "\n",
    "    preprocessor = PreProcessor(SIGNAL_VERSION,\n",
    "                                TIME_BINS,\n",
    "                                sensor_sizes_dict,\n",
    "                                paths.signal_folder,\n",
    "                                mask_hot = MASK_HOT_PIXELS\n",
    "                                )\n",
    "\n",
    "    if not FIT_ON_PREPROCESSED: \n",
    "        with mp.Pool(processes=4) as pool:\n",
    "            list(tqdm(pool.imap(preprocessor.process_planet, planet_ids), total=len(planet_ids)))\n",
    "    \n",
    "        preprocesed_signals = []\n",
    "    \n",
    "        for planet_id in planet_ids:\n",
    "            f_raw = np.load(f\"{planet_id}_FGS1_signal_{SIGNAL_VERSION}.npz.npy\")\n",
    "            a_raw = np.load(f\"{planet_id}_AIRS-CH0_signal_{SIGNAL_VERSION}.npz.npy\")\n",
    "    \n",
    "            # flip a_raw\n",
    "            signal = np.concatenate([f_raw[:, None], a_raw[:, ::-1]], axis=1)\n",
    "            preprocesed_signals.append(signal)\n",
    "    \n",
    "        reprocessed_and_joined = np.array(preprocesed_signals)\n",
    "        np.save(f\"{SIGNAL_VERSION}.npy\", reprocessed_and_joined, allow_pickle=False)\n",
    "\n",
    "    print(\"Processing complete!\")"
   ]
  },
  {
   "cell_type": "code",
   "execution_count": 21,
   "id": "fe4cc271",
   "metadata": {
    "execution": {
     "iopub.execute_input": "2025-09-24T22:46:38.049468Z",
     "iopub.status.busy": "2025-09-24T22:46:38.048818Z",
     "iopub.status.idle": "2025-09-24T22:46:39.136140Z",
     "shell.execute_reply": "2025-09-24T22:46:39.135028Z"
    },
    "papermill": {
     "duration": 1.117423,
     "end_time": "2025-09-24T22:46:39.138056",
     "exception": false,
     "start_time": "2025-09-24T22:46:38.020633",
     "status": "completed"
    },
    "tags": []
   },
   "outputs": [],
   "source": [
    "!rm -rf *FGS1_signal*"
   ]
  },
  {
   "cell_type": "code",
   "execution_count": 22,
   "id": "dde401f4",
   "metadata": {
    "execution": {
     "iopub.execute_input": "2025-09-24T22:46:39.194636Z",
     "iopub.status.busy": "2025-09-24T22:46:39.193811Z",
     "iopub.status.idle": "2025-09-24T22:46:40.276058Z",
     "shell.execute_reply": "2025-09-24T22:46:40.274713Z"
    },
    "papermill": {
     "duration": 1.112193,
     "end_time": "2025-09-24T22:46:40.278367",
     "exception": false,
     "start_time": "2025-09-24T22:46:39.166174",
     "status": "completed"
    },
    "tags": []
   },
   "outputs": [],
   "source": [
    "!rm -rf *AIRS-CH0_signal*"
   ]
  },
  {
   "cell_type": "code",
   "execution_count": 23,
   "id": "d3881d16",
   "metadata": {
    "execution": {
     "iopub.execute_input": "2025-09-24T22:46:40.339029Z",
     "iopub.status.busy": "2025-09-24T22:46:40.338713Z",
     "iopub.status.idle": "2025-09-24T22:46:41.415701Z",
     "shell.execute_reply": "2025-09-24T22:46:41.414752Z"
    },
    "papermill": {
     "duration": 1.108525,
     "end_time": "2025-09-24T22:46:41.418028",
     "exception": false,
     "start_time": "2025-09-24T22:46:40.309503",
     "status": "completed"
    },
    "tags": []
   },
   "outputs": [
    {
     "name": "stdout",
     "output_type": "stream",
     "text": [
      "__notebook__.ipynb  signal_v5.npy\r\n"
     ]
    }
   ],
   "source": [
    "!ls"
   ]
  },
  {
   "cell_type": "raw",
   "id": "f912e207",
   "metadata": {
    "papermill": {
     "duration": 0.027417,
     "end_time": "2025-09-24T22:46:41.473837",
     "exception": false,
     "start_time": "2025-09-24T22:46:41.446420",
     "status": "completed"
    },
    "tags": []
   },
   "source": [
    "## Mid-Process"
   ]
  },
  {
   "cell_type": "code",
   "execution_count": 24,
   "id": "bc1aa595",
   "metadata": {
    "execution": {
     "iopub.execute_input": "2025-09-24T22:46:41.529605Z",
     "iopub.status.busy": "2025-09-24T22:46:41.529239Z",
     "iopub.status.idle": "2025-09-24T22:46:41.606032Z",
     "shell.execute_reply": "2025-09-24T22:46:41.605181Z"
    },
    "papermill": {
     "duration": 0.107485,
     "end_time": "2025-09-24T22:46:41.608291",
     "exception": false,
     "start_time": "2025-09-24T22:46:41.500806",
     "status": "completed"
    },
    "tags": []
   },
   "outputs": [],
   "source": [
    "wavelengths = pd.read_csv(paths.wavelengths)\n",
    "midprocessor = MidProcessor(wavelengths,\n",
    "                            wl_bins = WL_BINS,\n",
    "                            binning_kernel = BINNING_KERNEL,\n",
    "                            conv_kernel_limits = CONV_KERNEL_LIMITS,\n",
    "                            edge_buffer = WL_BUFFER)\n",
    "\n",
    "binned_signal, centres = midprocessor.process_signal(paths.signal_path)"
   ]
  },
  {
   "cell_type": "code",
   "execution_count": 25,
   "id": "ecd60d8a",
   "metadata": {
    "execution": {
     "iopub.execute_input": "2025-09-24T22:46:41.670629Z",
     "iopub.status.busy": "2025-09-24T22:46:41.669815Z",
     "iopub.status.idle": "2025-09-24T22:46:41.676924Z",
     "shell.execute_reply": "2025-09-24T22:46:41.676173Z"
    },
    "papermill": {
     "duration": 0.038557,
     "end_time": "2025-09-24T22:46:41.678801",
     "exception": false,
     "start_time": "2025-09-24T22:46:41.640244",
     "status": "completed"
    },
    "tags": []
   },
   "outputs": [
    {
     "data": {
      "text/plain": [
       "(1, 375, 13)"
      ]
     },
     "execution_count": 25,
     "metadata": {},
     "output_type": "execute_result"
    }
   ],
   "source": [
    "binned_signal.shape"
   ]
  },
  {
   "cell_type": "code",
   "execution_count": 26,
   "id": "64e1065d",
   "metadata": {
    "execution": {
     "iopub.execute_input": "2025-09-24T22:46:41.733639Z",
     "iopub.status.busy": "2025-09-24T22:46:41.733395Z",
     "iopub.status.idle": "2025-09-24T22:46:41.738257Z",
     "shell.execute_reply": "2025-09-24T22:46:41.737530Z"
    },
    "papermill": {
     "duration": 0.034287,
     "end_time": "2025-09-24T22:46:41.739863",
     "exception": false,
     "start_time": "2025-09-24T22:46:41.705576",
     "status": "completed"
    },
    "tags": []
   },
   "outputs": [
    {
     "data": {
      "text/plain": [
       "[5, 29, 54, 79, 103, 128, 153, 178, 202, 227, 252, 277]"
      ]
     },
     "execution_count": 26,
     "metadata": {},
     "output_type": "execute_result"
    }
   ],
   "source": [
    "centres"
   ]
  },
  {
   "cell_type": "code",
   "execution_count": 27,
   "id": "4c2fbf31",
   "metadata": {
    "execution": {
     "iopub.execute_input": "2025-09-24T22:46:41.794153Z",
     "iopub.status.busy": "2025-09-24T22:46:41.793908Z",
     "iopub.status.idle": "2025-09-24T22:46:42.238801Z",
     "shell.execute_reply": "2025-09-24T22:46:42.237846Z"
    },
    "papermill": {
     "duration": 0.475044,
     "end_time": "2025-09-24T22:46:42.240875",
     "exception": false,
     "start_time": "2025-09-24T22:46:41.765831",
     "status": "completed"
    },
    "tags": []
   },
   "outputs": [
    {
     "data": {
      "image/png": "[encoded data removed]",
      "text/plain": [
       "<Figure size 1000x600 with 1 Axes>"
      ]
     },
     "metadata": {},
     "output_type": "display_data"
    }
   ],
   "source": [
    "all_signal = np.load(paths.signal_path)\n",
    "plot_spectra(all_signal, num_curves=1)"
   ]
  },
  {
   "cell_type": "code",
   "execution_count": 28,
   "id": "369a7a10",
   "metadata": {
    "execution": {
     "iopub.execute_input": "2025-09-24T22:46:42.307735Z",
     "iopub.status.busy": "2025-09-24T22:46:42.307059Z",
     "iopub.status.idle": "2025-09-24T22:46:42.312071Z",
     "shell.execute_reply": "2025-09-24T22:46:42.310874Z"
    },
    "papermill": {
     "duration": 0.041322,
     "end_time": "2025-09-24T22:46:42.314116",
     "exception": false,
     "start_time": "2025-09-24T22:46:42.272794",
     "status": "completed"
    },
    "tags": []
   },
   "outputs": [],
   "source": [
    "if not SUBMIT_TO_COMPETITION:\n",
    "    bad_planet_idx = id_to_idx[1665810843]\n",
    "    plot_spectra(all_signal, sum_wavelengths=True, planet_idx = bad_planet_idx)"
   ]
  },
  {
   "cell_type": "code",
   "execution_count": 29,
   "id": "df10aac2",
   "metadata": {
    "execution": {
     "iopub.execute_input": "2025-09-24T22:46:42.378346Z",
     "iopub.status.busy": "2025-09-24T22:46:42.377758Z",
     "iopub.status.idle": "2025-09-24T22:46:42.382296Z",
     "shell.execute_reply": "2025-09-24T22:46:42.381340Z"
    },
    "papermill": {
     "duration": 0.038409,
     "end_time": "2025-09-24T22:46:42.384018",
     "exception": false,
     "start_time": "2025-09-24T22:46:42.345609",
     "status": "completed"
    },
    "tags": []
   },
   "outputs": [],
   "source": [
    "if not SUBMIT_TO_COMPETITION:\n",
    "    bad_planet_idx = id_to_idx[1124834224]\n",
    "    plot_spectra(all_signal, sum_wavelengths=True, planet_idx = bad_planet_idx)"
   ]
  },
  {
   "cell_type": "code",
   "execution_count": 30,
   "id": "24b47667",
   "metadata": {
    "execution": {
     "iopub.execute_input": "2025-09-24T22:46:42.443354Z",
     "iopub.status.busy": "2025-09-24T22:46:42.442902Z",
     "iopub.status.idle": "2025-09-24T22:46:42.446984Z",
     "shell.execute_reply": "2025-09-24T22:46:42.446283Z"
    },
    "papermill": {
     "duration": 0.035166,
     "end_time": "2025-09-24T22:46:42.448598",
     "exception": false,
     "start_time": "2025-09-24T22:46:42.413432",
     "status": "completed"
    },
    "tags": []
   },
   "outputs": [],
   "source": [
    "if not SUBMIT_TO_COMPETITION:\n",
    "    plot_spectra(all_signal, wavelength_idx=40, planet_idx = bad_planet_idx)"
   ]
  },
  {
   "cell_type": "code",
   "execution_count": 31,
   "id": "96b32e86",
   "metadata": {
    "execution": {
     "iopub.execute_input": "2025-09-24T22:46:42.506650Z",
     "iopub.status.busy": "2025-09-24T22:46:42.505926Z",
     "iopub.status.idle": "2025-09-24T22:46:42.509683Z",
     "shell.execute_reply": "2025-09-24T22:46:42.509005Z"
    },
    "papermill": {
     "duration": 0.034376,
     "end_time": "2025-09-24T22:46:42.511168",
     "exception": false,
     "start_time": "2025-09-24T22:46:42.476792",
     "status": "completed"
    },
    "tags": []
   },
   "outputs": [],
   "source": [
    "if not SUBMIT_TO_COMPETITION:\n",
    "    plot_spectra(all_signal, planet_idx = 0)"
   ]
  },
  {
   "cell_type": "code",
   "execution_count": 32,
   "id": "5f295cac",
   "metadata": {
    "execution": {
     "iopub.execute_input": "2025-09-24T22:46:42.572975Z",
     "iopub.status.busy": "2025-09-24T22:46:42.572333Z",
     "iopub.status.idle": "2025-09-24T22:46:42.576337Z",
     "shell.execute_reply": "2025-09-24T22:46:42.575492Z"
    },
    "papermill": {
     "duration": 0.03818,
     "end_time": "2025-09-24T22:46:42.578074",
     "exception": false,
     "start_time": "2025-09-24T22:46:42.539894",
     "status": "completed"
    },
    "tags": []
   },
   "outputs": [],
   "source": [
    "if not SUBMIT_TO_COMPETITION:\n",
    "    plot_spectra(all_signal, planet_idx = 0, sum_wavelengths=True)"
   ]
  },
  {
   "cell_type": "code",
   "execution_count": 33,
   "id": "b266f4a3",
   "metadata": {
    "execution": {
     "iopub.execute_input": "2025-09-24T22:46:42.638394Z",
     "iopub.status.busy": "2025-09-24T22:46:42.638053Z",
     "iopub.status.idle": "2025-09-24T22:46:42.642294Z",
     "shell.execute_reply": "2025-09-24T22:46:42.641405Z"
    },
    "papermill": {
     "duration": 0.036954,
     "end_time": "2025-09-24T22:46:42.643918",
     "exception": false,
     "start_time": "2025-09-24T22:46:42.606964",
     "status": "completed"
    },
    "tags": []
   },
   "outputs": [],
   "source": [
    "if not SUBMIT_TO_COMPETITION:\n",
    "    plot_spectra(all_signal, num_curves=1, sum_wavelengths=True)"
   ]
  },
  {
   "cell_type": "code",
   "execution_count": 34,
   "id": "77b2c07f",
   "metadata": {
    "execution": {
     "iopub.execute_input": "2025-09-24T22:46:42.702870Z",
     "iopub.status.busy": "2025-09-24T22:46:42.702317Z",
     "iopub.status.idle": "2025-09-24T22:46:42.706483Z",
     "shell.execute_reply": "2025-09-24T22:46:42.705568Z"
    },
    "papermill": {
     "duration": 0.035046,
     "end_time": "2025-09-24T22:46:42.708230",
     "exception": false,
     "start_time": "2025-09-24T22:46:42.673184",
     "status": "completed"
    },
    "tags": []
   },
   "outputs": [],
   "source": [
    "if not SUBMIT_TO_COMPETITION:\n",
    "    plot_spectra(all_signal, planet_idx=0, num_curves=1, wavelength_idx=10)"
   ]
  },
  {
   "cell_type": "code",
   "execution_count": 35,
   "id": "ff3945de",
   "metadata": {
    "execution": {
     "iopub.execute_input": "2025-09-24T22:46:42.766798Z",
     "iopub.status.busy": "2025-09-24T22:46:42.766495Z",
     "iopub.status.idle": "2025-09-24T22:46:42.770753Z",
     "shell.execute_reply": "2025-09-24T22:46:42.769876Z"
    },
    "papermill": {
     "duration": 0.03557,
     "end_time": "2025-09-24T22:46:42.772630",
     "exception": false,
     "start_time": "2025-09-24T22:46:42.737060",
     "status": "completed"
    },
    "tags": []
   },
   "outputs": [],
   "source": [
    "if not SUBMIT_TO_COMPETITION:\n",
    "    plot_spectra(binned_signal, planet_idx=0, num_curves=1, wavelength_idx=6)"
   ]
  },
  {
   "cell_type": "code",
   "execution_count": 36,
   "id": "a83c61ea",
   "metadata": {
    "execution": {
     "iopub.execute_input": "2025-09-24T22:46:42.831213Z",
     "iopub.status.busy": "2025-09-24T22:46:42.830897Z",
     "iopub.status.idle": "2025-09-24T22:46:42.835711Z",
     "shell.execute_reply": "2025-09-24T22:46:42.835032Z"
    },
    "papermill": {
     "duration": 0.036486,
     "end_time": "2025-09-24T22:46:42.837435",
     "exception": false,
     "start_time": "2025-09-24T22:46:42.800949",
     "status": "completed"
    },
    "tags": []
   },
   "outputs": [],
   "source": [
    "if not SUBMIT_TO_COMPETITION:\n",
    "    planet_idx  = random.randint(1, 1099)\n",
    "    plot_spectra(all_signal, num_curves=1, planet_idx=planet_idx)"
   ]
  },
  {
   "cell_type": "code",
   "execution_count": 37,
   "id": "6d34d048",
   "metadata": {
    "execution": {
     "iopub.execute_input": "2025-09-24T22:46:42.895455Z",
     "iopub.status.busy": "2025-09-24T22:46:42.895202Z",
     "iopub.status.idle": "2025-09-24T22:46:42.899318Z",
     "shell.execute_reply": "2025-09-24T22:46:42.898506Z"
    },
    "papermill": {
     "duration": 0.034236,
     "end_time": "2025-09-24T22:46:42.900841",
     "exception": false,
     "start_time": "2025-09-24T22:46:42.866605",
     "status": "completed"
    },
    "tags": []
   },
   "outputs": [],
   "source": [
    "if not SUBMIT_TO_COMPETITION:\n",
    "    bad_planet_idx = id_to_idx[1665810843]\n",
    "    plot_spectra(all_signal, num_curves=1, planet_idx=bad_planet_idx)"
   ]
  },
  {
   "cell_type": "markdown",
   "id": "1fe5d8ce",
   "metadata": {
    "papermill": {
     "duration": 0.027784,
     "end_time": "2025-09-24T22:46:42.956228",
     "exception": false,
     "start_time": "2025-09-24T22:46:42.928444",
     "status": "completed"
    },
    "tags": []
   },
   "source": [
    "## Curve Fitting"
   ]
  },
  {
   "cell_type": "code",
   "execution_count": 38,
   "id": "be2330f0",
   "metadata": {
    "execution": {
     "iopub.execute_input": "2025-09-24T22:46:43.012608Z",
     "iopub.status.busy": "2025-09-24T22:46:43.012040Z",
     "iopub.status.idle": "2025-09-24T22:46:44.214488Z",
     "shell.execute_reply": "2025-09-24T22:46:44.213515Z"
    },
    "papermill": {
     "duration": 1.232809,
     "end_time": "2025-09-24T22:46:44.216674",
     "exception": false,
     "start_time": "2025-09-24T22:46:42.983865",
     "status": "completed"
    },
    "tags": []
   },
   "outputs": [
    {
     "data": {
      "image/png": "[encoded data removed]",
      "text/plain": [
       "<Figure size 640x480 with 2 Axes>"
      ]
     },
     "metadata": {},
     "output_type": "display_data"
    },
    {
     "data": {
      "image/png": "[encoded data removed]",
      "text/plain": [
       "<Figure size 640x480 with 2 Axes>"
      ]
     },
     "metadata": {},
     "output_type": "display_data"
    },
    {
     "name": "stdout",
     "output_type": "stream",
     "text": [
      "The left corner is 114 right is 303\n"
     ]
    },
    {
     "data": {
      "image/png": "[encoded data removed]",
      "text/plain": [
       "<Figure size 640x480 with 1 Axes>"
      ]
     },
     "metadata": {},
     "output_type": "display_data"
    },
    {
     "data": {
      "image/png": "[encoded data removed]",
      "text/plain": [
       "<Figure size 640x480 with 1 Axes>"
      ]
     },
     "metadata": {},
     "output_type": "display_data"
    },
    {
     "name": "stdout",
     "output_type": "stream",
     "text": [
      "[(125, 297)]\n"
     ]
    }
   ],
   "source": [
    "breakpoints, edges = get_breakpoints(all_signal,\n",
    "                                  TIME_BINS,\n",
    "                                  TIME_BINS,\n",
    "                                  buffer = TRANSITION_BUFFER,\n",
    "                                  verbose=False)\n",
    "\n",
    "print(breakpoints[:5])"
   ]
  },
  {
   "cell_type": "code",
   "execution_count": 39,
   "id": "3a71398c",
   "metadata": {
    "execution": {
     "iopub.execute_input": "2025-09-24T22:46:44.279784Z",
     "iopub.status.busy": "2025-09-24T22:46:44.279453Z",
     "iopub.status.idle": "2025-09-24T22:46:44.283703Z",
     "shell.execute_reply": "2025-09-24T22:46:44.282788Z"
    },
    "papermill": {
     "duration": 0.037483,
     "end_time": "2025-09-24T22:46:44.285432",
     "exception": false,
     "start_time": "2025-09-24T22:46:44.247949",
     "status": "completed"
    },
    "tags": []
   },
   "outputs": [],
   "source": [
    "missing_breakpoints = [entry for entry in breakpoints if None in entry]\n",
    "#missing_breakpoints"
   ]
  },
  {
   "cell_type": "code",
   "execution_count": 40,
   "id": "44cdbe76",
   "metadata": {
    "execution": {
     "iopub.execute_input": "2025-09-24T22:46:44.348347Z",
     "iopub.status.busy": "2025-09-24T22:46:44.348081Z",
     "iopub.status.idle": "2025-09-24T22:46:44.364017Z",
     "shell.execute_reply": "2025-09-24T22:46:44.363199Z"
    },
    "papermill": {
     "duration": 0.048153,
     "end_time": "2025-09-24T22:46:44.365658",
     "exception": false,
     "start_time": "2025-09-24T22:46:44.317505",
     "status": "completed"
    },
    "tags": []
   },
   "outputs": [
    {
     "data": {
      "text/html": [
       "<div>\n",
       "<style scoped>\n",
       "    .dataframe tbody tr th:only-of-type {\n",
       "        vertical-align: middle;\n",
       "    }\n",
       "\n",
       "    .dataframe tbody tr th {\n",
       "        vertical-align: top;\n",
       "    }\n",
       "\n",
       "    .dataframe thead th {\n",
       "        text-align: right;\n",
       "    }\n",
       "</style>\n",
       "<table border=\"1\" class=\"dataframe\">\n",
       "  <thead>\n",
       "    <tr style=\"text-align: right;\">\n",
       "      <th></th>\n",
       "      <th>Rs</th>\n",
       "      <th>Ms</th>\n",
       "      <th>Ts</th>\n",
       "      <th>Mp</th>\n",
       "      <th>e</th>\n",
       "      <th>P</th>\n",
       "      <th>sma</th>\n",
       "      <th>i</th>\n",
       "      <th>original_index</th>\n",
       "    </tr>\n",
       "    <tr>\n",
       "      <th>planet_id</th>\n",
       "      <th></th>\n",
       "      <th></th>\n",
       "      <th></th>\n",
       "      <th></th>\n",
       "      <th></th>\n",
       "      <th></th>\n",
       "      <th></th>\n",
       "      <th></th>\n",
       "      <th></th>\n",
       "    </tr>\n",
       "  </thead>\n",
       "  <tbody>\n",
       "    <tr>\n",
       "      <th>1103775</th>\n",
       "      <td>0.965432</td>\n",
       "      <td>0.9591</td>\n",
       "      <td>5539.03037</td>\n",
       "      <td>1.665007</td>\n",
       "      <td>0.0</td>\n",
       "      <td>6.932871</td>\n",
       "      <td>15.43293</td>\n",
       "      <td>89.533139</td>\n",
       "      <td>0</td>\n",
       "    </tr>\n",
       "  </tbody>\n",
       "</table>\n",
       "</div>"
      ],
      "text/plain": [
       "                 Rs      Ms          Ts        Mp    e         P       sma  \\\n",
       "planet_id                                                                    \n",
       "1103775    0.965432  0.9591  5539.03037  1.665007  0.0  6.932871  15.43293   \n",
       "\n",
       "                   i  original_index  \n",
       "planet_id                             \n",
       "1103775    89.533139               0  "
      ]
     },
     "execution_count": 40,
     "metadata": {},
     "output_type": "execute_result"
    }
   ],
   "source": [
    "star_info.head()"
   ]
  },
  {
   "cell_type": "code",
   "execution_count": 41,
   "id": "2ac555a7",
   "metadata": {
    "execution": {
     "iopub.execute_input": "2025-09-24T22:46:44.468286Z",
     "iopub.status.busy": "2025-09-24T22:46:44.467558Z",
     "iopub.status.idle": "2025-09-24T22:46:44.474749Z",
     "shell.execute_reply": "2025-09-24T22:46:44.473858Z"
    },
    "papermill": {
     "duration": 0.040026,
     "end_time": "2025-09-24T22:46:44.476356",
     "exception": false,
     "start_time": "2025-09-24T22:46:44.436330",
     "status": "completed"
    },
    "tags": []
   },
   "outputs": [
    {
     "data": {
      "text/plain": [
       "[0.13025285424300123]"
      ]
     },
     "execution_count": 41,
     "metadata": {},
     "output_type": "execute_result"
    }
   ],
   "source": [
    "impacts = list((star_info['sma'] / star_info['Rs']) * np.cos(np.radians(star_info['i'])))\n",
    "impacts[:5]"
   ]
  },
  {
   "cell_type": "code",
   "execution_count": 42,
   "id": "1641df76",
   "metadata": {
    "execution": {
     "iopub.execute_input": "2025-09-24T22:46:44.543840Z",
     "iopub.status.busy": "2025-09-24T22:46:44.542989Z",
     "iopub.status.idle": "2025-09-24T22:46:44.726160Z",
     "shell.execute_reply": "2025-09-24T22:46:44.724940Z"
    },
    "papermill": {
     "duration": 0.218947,
     "end_time": "2025-09-24T22:46:44.728317",
     "exception": false,
     "start_time": "2025-09-24T22:46:44.509370",
     "status": "completed"
    },
    "tags": []
   },
   "outputs": [
    {
     "name": "stderr",
     "output_type": "stream",
     "text": [
      "  0%|          | 0/1 [00:00<?, ?it/s]/opt/conda/lib/python3.10/site-packages/scipy/optimize/_minpack_py.py:1010: OptimizeWarning: Covariance of the parameters could not be estimated\n",
      "  warnings.warn('Covariance of the parameters could not be estimated',\n",
      "100%|██████████| 1/1 [00:00<00:00,  6.34it/s]\n"
     ]
    },
    {
     "data": {
      "text/html": [
       "<div>\n",
       "<style scoped>\n",
       "    .dataframe tbody tr th:only-of-type {\n",
       "        vertical-align: middle;\n",
       "    }\n",
       "\n",
       "    .dataframe tbody tr th {\n",
       "        vertical-align: top;\n",
       "    }\n",
       "\n",
       "    .dataframe thead th {\n",
       "        text-align: right;\n",
       "    }\n",
       "</style>\n",
       "<table border=\"1\" class=\"dataframe\">\n",
       "  <thead>\n",
       "    <tr style=\"text-align: right;\">\n",
       "      <th></th>\n",
       "      <th>bin_0</th>\n",
       "      <th>bin_5</th>\n",
       "      <th>bin_29</th>\n",
       "      <th>bin_54</th>\n",
       "      <th>bin_79</th>\n",
       "      <th>bin_103</th>\n",
       "      <th>bin_128</th>\n",
       "      <th>bin_153</th>\n",
       "      <th>bin_178</th>\n",
       "      <th>bin_202</th>\n",
       "      <th>bin_227</th>\n",
       "      <th>bin_252</th>\n",
       "      <th>bin_277</th>\n",
       "    </tr>\n",
       "    <tr>\n",
       "      <th>planet_id</th>\n",
       "      <th></th>\n",
       "      <th></th>\n",
       "      <th></th>\n",
       "      <th></th>\n",
       "      <th></th>\n",
       "      <th></th>\n",
       "      <th></th>\n",
       "      <th></th>\n",
       "      <th></th>\n",
       "      <th></th>\n",
       "      <th></th>\n",
       "      <th></th>\n",
       "      <th></th>\n",
       "    </tr>\n",
       "  </thead>\n",
       "  <tbody>\n",
       "    <tr>\n",
       "      <th>1103775</th>\n",
       "      <td>0.017869</td>\n",
       "      <td>0.016893</td>\n",
       "      <td>0.016841</td>\n",
       "      <td>0.016943</td>\n",
       "      <td>0.016797</td>\n",
       "      <td>0.016837</td>\n",
       "      <td>0.016671</td>\n",
       "      <td>0.016671</td>\n",
       "      <td>0.016712</td>\n",
       "      <td>0.016706</td>\n",
       "      <td>0.016649</td>\n",
       "      <td>0.016854</td>\n",
       "      <td>0.01712</td>\n",
       "    </tr>\n",
       "  </tbody>\n",
       "</table>\n",
       "</div>"
      ],
      "text/plain": [
       "              bin_0     bin_5    bin_29    bin_54    bin_79   bin_103  \\\n",
       "planet_id                                                               \n",
       "1103775    0.017869  0.016893  0.016841  0.016943  0.016797  0.016837   \n",
       "\n",
       "            bin_128   bin_153   bin_178   bin_202   bin_227   bin_252  bin_277  \n",
       "planet_id                                                                       \n",
       "1103775    0.016671  0.016671  0.016712  0.016706  0.016649  0.016854  0.01712  "
      ]
     },
     "execution_count": 42,
     "metadata": {},
     "output_type": "execute_result"
    }
   ],
   "source": [
    "if SUBMIT_TO_COMPETITION:\n",
    "    bad_planets = []\n",
    "    show_plots = False\n",
    "else:\n",
    "    bad_planet_ids = [1665810843, 2270815333] # 546732951, 2270815333,3224114655, 1370368610 ]  #[2401913267]   #[1665810843, 1739553248, 2757227373, 1124834224, 3352800080]   2401913267\n",
    "    bad_planets = [id_to_idx[pid] for pid in bad_planet_ids]\n",
    "    print(bad_planets)\n",
    "    show_plots = True\n",
    "\n",
    "#impact_list = list((star_info['sma'] / star_info['Rs']) * np.cos(star_info['i']))\n",
    "\n",
    "poly_df, extra_feats_df, all_wl_fits = fit_all_curves(binned_signal,\n",
    "                                                      centres,\n",
    "                                                      star_info,\n",
    "                                                      breakpoints,\n",
    "                                                      edges,\n",
    "                                                      days_per_bin =  4.6 * TIME_BINS / (60 * 60 * 24),\n",
    "                                                      impacts = impacts,\n",
    "                                                      scale=SCALE,\n",
    "                                                      limb_law = 'quadratic',\n",
    "                                                      buffer = TRANSITION_BUFFER,\n",
    "                                                      bad_planets = bad_planets,\n",
    "                                                      show_plots = show_plots,\n",
    "                                                      max_edge_widths = (MAX_LEFT_EDGE, MAX_RIGHT_EDGE),\n",
    "                                                      top_points = TOP_POINTS,\n",
    "                                                      do_bat_fit = True\n",
    "                                                      )\n",
    "\n",
    "\n",
    "poly_df.head(3)"
   ]
  },
  {
   "cell_type": "code",
   "execution_count": 43,
   "id": "a92e35e9",
   "metadata": {
    "execution": {
     "iopub.execute_input": "2025-09-24T22:46:44.800577Z",
     "iopub.status.busy": "2025-09-24T22:46:44.799920Z",
     "iopub.status.idle": "2025-09-24T22:46:44.815409Z",
     "shell.execute_reply": "2025-09-24T22:46:44.814186Z"
    },
    "papermill": {
     "duration": 0.052148,
     "end_time": "2025-09-24T22:46:44.817448",
     "exception": false,
     "start_time": "2025-09-24T22:46:44.765300",
     "status": "completed"
    },
    "tags": []
   },
   "outputs": [
    {
     "data": {
      "text/html": [
       "<div>\n",
       "<style scoped>\n",
       "    .dataframe tbody tr th:only-of-type {\n",
       "        vertical-align: middle;\n",
       "    }\n",
       "\n",
       "    .dataframe tbody tr th {\n",
       "        vertical-align: top;\n",
       "    }\n",
       "\n",
       "    .dataframe thead th {\n",
       "        text-align: right;\n",
       "    }\n",
       "</style>\n",
       "<table border=\"1\" class=\"dataframe\">\n",
       "  <thead>\n",
       "    <tr style=\"text-align: right;\">\n",
       "      <th></th>\n",
       "      <th>bin_0</th>\n",
       "      <th>bin_5</th>\n",
       "      <th>bin_29</th>\n",
       "      <th>bin_54</th>\n",
       "      <th>bin_79</th>\n",
       "      <th>bin_103</th>\n",
       "      <th>bin_128</th>\n",
       "      <th>bin_153</th>\n",
       "      <th>bin_178</th>\n",
       "      <th>bin_202</th>\n",
       "      <th>bin_227</th>\n",
       "      <th>bin_252</th>\n",
       "      <th>bin_277</th>\n",
       "    </tr>\n",
       "    <tr>\n",
       "      <th>planet_id</th>\n",
       "      <th></th>\n",
       "      <th></th>\n",
       "      <th></th>\n",
       "      <th></th>\n",
       "      <th></th>\n",
       "      <th></th>\n",
       "      <th></th>\n",
       "      <th></th>\n",
       "      <th></th>\n",
       "      <th></th>\n",
       "      <th></th>\n",
       "      <th></th>\n",
       "      <th></th>\n",
       "    </tr>\n",
       "  </thead>\n",
       "  <tbody>\n",
       "    <tr>\n",
       "      <th>1103775</th>\n",
       "      <td>0.017869</td>\n",
       "      <td>0.016893</td>\n",
       "      <td>0.016841</td>\n",
       "      <td>0.016943</td>\n",
       "      <td>0.016797</td>\n",
       "      <td>0.016837</td>\n",
       "      <td>0.016671</td>\n",
       "      <td>0.016671</td>\n",
       "      <td>0.016712</td>\n",
       "      <td>0.016706</td>\n",
       "      <td>0.016649</td>\n",
       "      <td>0.016854</td>\n",
       "      <td>0.01712</td>\n",
       "    </tr>\n",
       "  </tbody>\n",
       "</table>\n",
       "</div>"
      ],
      "text/plain": [
       "              bin_0     bin_5    bin_29    bin_54    bin_79   bin_103  \\\n",
       "planet_id                                                               \n",
       "1103775    0.017869  0.016893  0.016841  0.016943  0.016797  0.016837   \n",
       "\n",
       "            bin_128   bin_153   bin_178   bin_202   bin_227   bin_252  bin_277  \n",
       "planet_id                                                                       \n",
       "1103775    0.016671  0.016671  0.016712  0.016706  0.016649  0.016854  0.01712  "
      ]
     },
     "execution_count": 43,
     "metadata": {},
     "output_type": "execute_result"
    }
   ],
   "source": [
    "poly_df.head()"
   ]
  },
  {
   "cell_type": "code",
   "execution_count": 44,
   "id": "9c8d3d06",
   "metadata": {
    "execution": {
     "iopub.execute_input": "2025-09-24T22:46:44.889647Z",
     "iopub.status.busy": "2025-09-24T22:46:44.888572Z",
     "iopub.status.idle": "2025-09-24T22:46:44.968164Z",
     "shell.execute_reply": "2025-09-24T22:46:44.967187Z"
    },
    "papermill": {
     "duration": 0.11839,
     "end_time": "2025-09-24T22:46:44.970200",
     "exception": false,
     "start_time": "2025-09-24T22:46:44.851810",
     "status": "completed"
    },
    "tags": []
   },
   "outputs": [
    {
     "data": {
      "text/html": [
       "<div>\n",
       "<style scoped>\n",
       "    .dataframe tbody tr th:only-of-type {\n",
       "        vertical-align: middle;\n",
       "    }\n",
       "\n",
       "    .dataframe tbody tr th {\n",
       "        vertical-align: top;\n",
       "    }\n",
       "\n",
       "    .dataframe thead th {\n",
       "        text-align: right;\n",
       "    }\n",
       "</style>\n",
       "<table border=\"1\" class=\"dataframe\">\n",
       "  <thead>\n",
       "    <tr style=\"text-align: right;\">\n",
       "      <th></th>\n",
       "      <th>transit_width</th>\n",
       "      <th>max_wl_depth</th>\n",
       "      <th>mean_wl_depth</th>\n",
       "      <th>transit_residual_std</th>\n",
       "      <th>rel_noise</th>\n",
       "      <th>aspect</th>\n",
       "      <th>transit_fit_a</th>\n",
       "      <th>mean_depth</th>\n",
       "      <th>a</th>\n",
       "      <th>b</th>\n",
       "      <th>...</th>\n",
       "      <th>centre</th>\n",
       "      <th>right_transition</th>\n",
       "      <th>asymmetry</th>\n",
       "      <th>x_offset</th>\n",
       "      <th>bat_correction</th>\n",
       "      <th>fgs_diff</th>\n",
       "      <th>a_w2_depth</th>\n",
       "      <th>polypoints_range</th>\n",
       "      <th>polypoints_std</th>\n",
       "      <th>polypoints_mean</th>\n",
       "    </tr>\n",
       "  </thead>\n",
       "  <tbody>\n",
       "    <tr>\n",
       "      <th>count</th>\n",
       "      <td>1.0</td>\n",
       "      <td>1.000000</td>\n",
       "      <td>1.00000</td>\n",
       "      <td>1.000000</td>\n",
       "      <td>1.000000</td>\n",
       "      <td>1.00000</td>\n",
       "      <td>1.000000e+00</td>\n",
       "      <td>1.00000</td>\n",
       "      <td>1.000000e+00</td>\n",
       "      <td>1.000000e+00</td>\n",
       "      <td>...</td>\n",
       "      <td>1.0</td>\n",
       "      <td>1.0</td>\n",
       "      <td>1.000000</td>\n",
       "      <td>1.0</td>\n",
       "      <td>1.000000</td>\n",
       "      <td>1.00000</td>\n",
       "      <td>1.000000</td>\n",
       "      <td>1.00000</td>\n",
       "      <td>1.000000</td>\n",
       "      <td>1.000000</td>\n",
       "    </tr>\n",
       "    <tr>\n",
       "      <th>mean</th>\n",
       "      <td>141.0</td>\n",
       "      <td>0.017011</td>\n",
       "      <td>0.01681</td>\n",
       "      <td>0.000025</td>\n",
       "      <td>0.001469</td>\n",
       "      <td>0.00016</td>\n",
       "      <td>2.146297e-07</td>\n",
       "      <td>0.01681</td>\n",
       "      <td>2.496438e-07</td>\n",
       "      <td>3.813539e-07</td>\n",
       "      <td>...</td>\n",
       "      <td>91.0</td>\n",
       "      <td>162.0</td>\n",
       "      <td>0.000002</td>\n",
       "      <td>71.0</td>\n",
       "      <td>0.004346</td>\n",
       "      <td>0.00098</td>\n",
       "      <td>-0.001592</td>\n",
       "      <td>0.00122</td>\n",
       "      <td>0.000138</td>\n",
       "      <td>0.000138</td>\n",
       "    </tr>\n",
       "    <tr>\n",
       "      <th>std</th>\n",
       "      <td>NaN</td>\n",
       "      <td>NaN</td>\n",
       "      <td>NaN</td>\n",
       "      <td>NaN</td>\n",
       "      <td>NaN</td>\n",
       "      <td>NaN</td>\n",
       "      <td>NaN</td>\n",
       "      <td>NaN</td>\n",
       "      <td>NaN</td>\n",
       "      <td>NaN</td>\n",
       "      <td>...</td>\n",
       "      <td>NaN</td>\n",
       "      <td>NaN</td>\n",
       "      <td>NaN</td>\n",
       "      <td>NaN</td>\n",
       "      <td>NaN</td>\n",
       "      <td>NaN</td>\n",
       "      <td>NaN</td>\n",
       "      <td>NaN</td>\n",
       "      <td>NaN</td>\n",
       "      <td>NaN</td>\n",
       "    </tr>\n",
       "    <tr>\n",
       "      <th>min</th>\n",
       "      <td>141.0</td>\n",
       "      <td>0.017011</td>\n",
       "      <td>0.01681</td>\n",
       "      <td>0.000025</td>\n",
       "      <td>0.001469</td>\n",
       "      <td>0.00016</td>\n",
       "      <td>2.146297e-07</td>\n",
       "      <td>0.01681</td>\n",
       "      <td>2.496438e-07</td>\n",
       "      <td>3.813539e-07</td>\n",
       "      <td>...</td>\n",
       "      <td>91.0</td>\n",
       "      <td>162.0</td>\n",
       "      <td>0.000002</td>\n",
       "      <td>71.0</td>\n",
       "      <td>0.004346</td>\n",
       "      <td>0.00098</td>\n",
       "      <td>-0.001592</td>\n",
       "      <td>0.00122</td>\n",
       "      <td>0.000138</td>\n",
       "      <td>0.000138</td>\n",
       "    </tr>\n",
       "    <tr>\n",
       "      <th>25%</th>\n",
       "      <td>141.0</td>\n",
       "      <td>0.017011</td>\n",
       "      <td>0.01681</td>\n",
       "      <td>0.000025</td>\n",
       "      <td>0.001469</td>\n",
       "      <td>0.00016</td>\n",
       "      <td>2.146297e-07</td>\n",
       "      <td>0.01681</td>\n",
       "      <td>2.496438e-07</td>\n",
       "      <td>3.813539e-07</td>\n",
       "      <td>...</td>\n",
       "      <td>91.0</td>\n",
       "      <td>162.0</td>\n",
       "      <td>0.000002</td>\n",
       "      <td>71.0</td>\n",
       "      <td>0.004346</td>\n",
       "      <td>0.00098</td>\n",
       "      <td>-0.001592</td>\n",
       "      <td>0.00122</td>\n",
       "      <td>0.000138</td>\n",
       "      <td>0.000138</td>\n",
       "    </tr>\n",
       "    <tr>\n",
       "      <th>50%</th>\n",
       "      <td>141.0</td>\n",
       "      <td>0.017011</td>\n",
       "      <td>0.01681</td>\n",
       "      <td>0.000025</td>\n",
       "      <td>0.001469</td>\n",
       "      <td>0.00016</td>\n",
       "      <td>2.146297e-07</td>\n",
       "      <td>0.01681</td>\n",
       "      <td>2.496438e-07</td>\n",
       "      <td>3.813539e-07</td>\n",
       "      <td>...</td>\n",
       "      <td>91.0</td>\n",
       "      <td>162.0</td>\n",
       "      <td>0.000002</td>\n",
       "      <td>71.0</td>\n",
       "      <td>0.004346</td>\n",
       "      <td>0.00098</td>\n",
       "      <td>-0.001592</td>\n",
       "      <td>0.00122</td>\n",
       "      <td>0.000138</td>\n",
       "      <td>0.000138</td>\n",
       "    </tr>\n",
       "    <tr>\n",
       "      <th>75%</th>\n",
       "      <td>141.0</td>\n",
       "      <td>0.017011</td>\n",
       "      <td>0.01681</td>\n",
       "      <td>0.000025</td>\n",
       "      <td>0.001469</td>\n",
       "      <td>0.00016</td>\n",
       "      <td>2.146297e-07</td>\n",
       "      <td>0.01681</td>\n",
       "      <td>2.496438e-07</td>\n",
       "      <td>3.813539e-07</td>\n",
       "      <td>...</td>\n",
       "      <td>91.0</td>\n",
       "      <td>162.0</td>\n",
       "      <td>0.000002</td>\n",
       "      <td>71.0</td>\n",
       "      <td>0.004346</td>\n",
       "      <td>0.00098</td>\n",
       "      <td>-0.001592</td>\n",
       "      <td>0.00122</td>\n",
       "      <td>0.000138</td>\n",
       "      <td>0.000138</td>\n",
       "    </tr>\n",
       "    <tr>\n",
       "      <th>max</th>\n",
       "      <td>141.0</td>\n",
       "      <td>0.017011</td>\n",
       "      <td>0.01681</td>\n",
       "      <td>0.000025</td>\n",
       "      <td>0.001469</td>\n",
       "      <td>0.00016</td>\n",
       "      <td>2.146297e-07</td>\n",
       "      <td>0.01681</td>\n",
       "      <td>2.496438e-07</td>\n",
       "      <td>3.813539e-07</td>\n",
       "      <td>...</td>\n",
       "      <td>91.0</td>\n",
       "      <td>162.0</td>\n",
       "      <td>0.000002</td>\n",
       "      <td>71.0</td>\n",
       "      <td>0.004346</td>\n",
       "      <td>0.00098</td>\n",
       "      <td>-0.001592</td>\n",
       "      <td>0.00122</td>\n",
       "      <td>0.000138</td>\n",
       "      <td>0.000138</td>\n",
       "    </tr>\n",
       "  </tbody>\n",
       "</table>\n",
       "<p>8 rows × 34 columns</p>\n",
       "</div>"
      ],
      "text/plain": [
       "       transit_width  max_wl_depth  mean_wl_depth  transit_residual_std  \\\n",
       "count            1.0      1.000000        1.00000              1.000000   \n",
       "mean           141.0      0.017011        0.01681              0.000025   \n",
       "std              NaN           NaN            NaN                   NaN   \n",
       "min            141.0      0.017011        0.01681              0.000025   \n",
       "25%            141.0      0.017011        0.01681              0.000025   \n",
       "50%            141.0      0.017011        0.01681              0.000025   \n",
       "75%            141.0      0.017011        0.01681              0.000025   \n",
       "max            141.0      0.017011        0.01681              0.000025   \n",
       "\n",
       "       rel_noise   aspect  transit_fit_a  mean_depth             a  \\\n",
       "count   1.000000  1.00000   1.000000e+00     1.00000  1.000000e+00   \n",
       "mean    0.001469  0.00016   2.146297e-07     0.01681  2.496438e-07   \n",
       "std          NaN      NaN            NaN         NaN           NaN   \n",
       "min     0.001469  0.00016   2.146297e-07     0.01681  2.496438e-07   \n",
       "25%     0.001469  0.00016   2.146297e-07     0.01681  2.496438e-07   \n",
       "50%     0.001469  0.00016   2.146297e-07     0.01681  2.496438e-07   \n",
       "75%     0.001469  0.00016   2.146297e-07     0.01681  2.496438e-07   \n",
       "max     0.001469  0.00016   2.146297e-07     0.01681  2.496438e-07   \n",
       "\n",
       "                  b  ...  centre  right_transition  asymmetry  x_offset  \\\n",
       "count  1.000000e+00  ...     1.0               1.0   1.000000       1.0   \n",
       "mean   3.813539e-07  ...    91.0             162.0   0.000002      71.0   \n",
       "std             NaN  ...     NaN               NaN        NaN       NaN   \n",
       "min    3.813539e-07  ...    91.0             162.0   0.000002      71.0   \n",
       "25%    3.813539e-07  ...    91.0             162.0   0.000002      71.0   \n",
       "50%    3.813539e-07  ...    91.0             162.0   0.000002      71.0   \n",
       "75%    3.813539e-07  ...    91.0             162.0   0.000002      71.0   \n",
       "max    3.813539e-07  ...    91.0             162.0   0.000002      71.0   \n",
       "\n",
       "       bat_correction  fgs_diff  a_w2_depth  polypoints_range  polypoints_std  \\\n",
       "count        1.000000   1.00000    1.000000           1.00000        1.000000   \n",
       "mean         0.004346   0.00098   -0.001592           0.00122        0.000138   \n",
       "std               NaN       NaN         NaN               NaN             NaN   \n",
       "min          0.004346   0.00098   -0.001592           0.00122        0.000138   \n",
       "25%          0.004346   0.00098   -0.001592           0.00122        0.000138   \n",
       "50%          0.004346   0.00098   -0.001592           0.00122        0.000138   \n",
       "75%          0.004346   0.00098   -0.001592           0.00122        0.000138   \n",
       "max          0.004346   0.00098   -0.001592           0.00122        0.000138   \n",
       "\n",
       "       polypoints_mean  \n",
       "count         1.000000  \n",
       "mean          0.000138  \n",
       "std                NaN  \n",
       "min           0.000138  \n",
       "25%           0.000138  \n",
       "50%           0.000138  \n",
       "75%           0.000138  \n",
       "max           0.000138  \n",
       "\n",
       "[8 rows x 34 columns]"
      ]
     },
     "execution_count": 44,
     "metadata": {},
     "output_type": "execute_result"
    }
   ],
   "source": [
    "extra_feats_df.describe()"
   ]
  },
  {
   "cell_type": "code",
   "execution_count": 45,
   "id": "083a3c51",
   "metadata": {
    "execution": {
     "iopub.execute_input": "2025-09-24T22:46:45.041343Z",
     "iopub.status.busy": "2025-09-24T22:46:45.040985Z",
     "iopub.status.idle": "2025-09-24T22:46:45.047343Z",
     "shell.execute_reply": "2025-09-24T22:46:45.046469Z"
    },
    "papermill": {
     "duration": 0.043662,
     "end_time": "2025-09-24T22:46:45.049159",
     "exception": false,
     "start_time": "2025-09-24T22:46:45.005497",
     "status": "completed"
    },
    "tags": []
   },
   "outputs": [
    {
     "data": {
      "text/plain": [
       "Index(['transit_width', 'max_wl_depth', 'mean_wl_depth',\n",
       "       'transit_residual_std', 'rel_noise', 'aspect', 'transit_fit_a',\n",
       "       'mean_depth', 'a', 'b', 'c', 'a_c', 'delta', 'x_centre',\n",
       "       'transit_delta', 'half_delta', 'transit_delta_width',\n",
       "       'transit_half_delta_height', 'max_slope', 'fallback_factor',\n",
       "       'transit_ratio', 'transit_ratio_2', 'has_no_breakpoints',\n",
       "       'has_two_breakpoints', 'darkening_correction', 'left_transition',\n",
       "       'centre', 'right_transition', 'asymmetry', 'reflected', 'x_offset',\n",
       "       'bat_correction', 'fgs_diff', 'a_w2_depth', 'polypoints_range',\n",
       "       'polypoints_std', 'polypoints_mean'],\n",
       "      dtype='object')"
      ]
     },
     "execution_count": 45,
     "metadata": {},
     "output_type": "execute_result"
    }
   ],
   "source": [
    "extra_feats_df.columns"
   ]
  },
  {
   "cell_type": "code",
   "execution_count": 46,
   "id": "99ce53d9",
   "metadata": {
    "execution": {
     "iopub.execute_input": "2025-09-24T22:46:45.123347Z",
     "iopub.status.busy": "2025-09-24T22:46:45.122549Z",
     "iopub.status.idle": "2025-09-24T22:46:45.146837Z",
     "shell.execute_reply": "2025-09-24T22:46:45.145752Z"
    },
    "papermill": {
     "duration": 0.065266,
     "end_time": "2025-09-24T22:46:45.148884",
     "exception": false,
     "start_time": "2025-09-24T22:46:45.083618",
     "status": "completed"
    },
    "tags": []
   },
   "outputs": [
    {
     "data": {
      "text/html": [
       "<div>\n",
       "<style scoped>\n",
       "    .dataframe tbody tr th:only-of-type {\n",
       "        vertical-align: middle;\n",
       "    }\n",
       "\n",
       "    .dataframe tbody tr th {\n",
       "        vertical-align: top;\n",
       "    }\n",
       "\n",
       "    .dataframe thead th {\n",
       "        text-align: right;\n",
       "    }\n",
       "</style>\n",
       "<table border=\"1\" class=\"dataframe\">\n",
       "  <thead>\n",
       "    <tr style=\"text-align: right;\">\n",
       "      <th></th>\n",
       "      <th>transit_width</th>\n",
       "      <th>max_wl_depth</th>\n",
       "      <th>mean_wl_depth</th>\n",
       "      <th>transit_residual_std</th>\n",
       "      <th>rel_noise</th>\n",
       "      <th>aspect</th>\n",
       "      <th>transit_fit_a</th>\n",
       "      <th>mean_depth</th>\n",
       "      <th>a</th>\n",
       "      <th>b</th>\n",
       "      <th>...</th>\n",
       "      <th>right_transition</th>\n",
       "      <th>asymmetry</th>\n",
       "      <th>reflected</th>\n",
       "      <th>x_offset</th>\n",
       "      <th>bat_correction</th>\n",
       "      <th>fgs_diff</th>\n",
       "      <th>a_w2_depth</th>\n",
       "      <th>polypoints_range</th>\n",
       "      <th>polypoints_std</th>\n",
       "      <th>polypoints_mean</th>\n",
       "    </tr>\n",
       "    <tr>\n",
       "      <th>planet_id</th>\n",
       "      <th></th>\n",
       "      <th></th>\n",
       "      <th></th>\n",
       "      <th></th>\n",
       "      <th></th>\n",
       "      <th></th>\n",
       "      <th></th>\n",
       "      <th></th>\n",
       "      <th></th>\n",
       "      <th></th>\n",
       "      <th></th>\n",
       "      <th></th>\n",
       "      <th></th>\n",
       "      <th></th>\n",
       "      <th></th>\n",
       "      <th></th>\n",
       "      <th></th>\n",
       "      <th></th>\n",
       "      <th></th>\n",
       "      <th></th>\n",
       "      <th></th>\n",
       "    </tr>\n",
       "  </thead>\n",
       "  <tbody>\n",
       "    <tr>\n",
       "      <th>1103775</th>\n",
       "      <td>141</td>\n",
       "      <td>0.017011</td>\n",
       "      <td>0.01681</td>\n",
       "      <td>0.000025</td>\n",
       "      <td>0.001469</td>\n",
       "      <td>0.00016</td>\n",
       "      <td>2.146297e-07</td>\n",
       "      <td>0.01681</td>\n",
       "      <td>2.496438e-07</td>\n",
       "      <td>3.813539e-07</td>\n",
       "      <td>...</td>\n",
       "      <td>162</td>\n",
       "      <td>0.000002</td>\n",
       "      <td>True</td>\n",
       "      <td>71</td>\n",
       "      <td>0.004346</td>\n",
       "      <td>0.00098</td>\n",
       "      <td>-0.001592</td>\n",
       "      <td>0.00122</td>\n",
       "      <td>0.000138</td>\n",
       "      <td>0.000138</td>\n",
       "    </tr>\n",
       "  </tbody>\n",
       "</table>\n",
       "<p>1 rows × 37 columns</p>\n",
       "</div>"
      ],
      "text/plain": [
       "           transit_width  max_wl_depth  mean_wl_depth  transit_residual_std  \\\n",
       "planet_id                                                                     \n",
       "1103775              141      0.017011        0.01681              0.000025   \n",
       "\n",
       "           rel_noise   aspect  transit_fit_a  mean_depth             a  \\\n",
       "planet_id                                                                \n",
       "1103775     0.001469  0.00016   2.146297e-07     0.01681  2.496438e-07   \n",
       "\n",
       "                      b  ...  right_transition  asymmetry  reflected  \\\n",
       "planet_id                ...                                           \n",
       "1103775    3.813539e-07  ...               162   0.000002       True   \n",
       "\n",
       "           x_offset  bat_correction  fgs_diff  a_w2_depth  polypoints_range  \\\n",
       "planet_id                                                                     \n",
       "1103775          71        0.004346   0.00098   -0.001592           0.00122   \n",
       "\n",
       "           polypoints_std  polypoints_mean  \n",
       "planet_id                                   \n",
       "1103775          0.000138         0.000138  \n",
       "\n",
       "[1 rows x 37 columns]"
      ]
     },
     "execution_count": 46,
     "metadata": {},
     "output_type": "execute_result"
    }
   ],
   "source": [
    "extra_feats_df.head()"
   ]
  },
  {
   "cell_type": "code",
   "execution_count": 47,
   "id": "f2454168",
   "metadata": {
    "execution": {
     "iopub.execute_input": "2025-09-24T22:46:45.222944Z",
     "iopub.status.busy": "2025-09-24T22:46:45.222097Z",
     "iopub.status.idle": "2025-09-24T22:46:45.226030Z",
     "shell.execute_reply": "2025-09-24T22:46:45.225239Z"
    },
    "papermill": {
     "duration": 0.042272,
     "end_time": "2025-09-24T22:46:45.227648",
     "exception": false,
     "start_time": "2025-09-24T22:46:45.185376",
     "status": "completed"
    },
    "tags": []
   },
   "outputs": [],
   "source": [
    "#if len(poly_df) > 1:\n",
    "#    print(\"So far so good,  let's wait for an hour...\")\n",
    "#    time.sleep(3600)  # pause for 4800 seconds\n",
    "#    print(\"Resuming execution...\")"
   ]
  },
  {
   "cell_type": "markdown",
   "id": "73cac845",
   "metadata": {
    "papermill": {
     "duration": 0.033473,
     "end_time": "2025-09-24T22:46:45.294891",
     "exception": false,
     "start_time": "2025-09-24T22:46:45.261418",
     "status": "completed"
    },
    "tags": []
   },
   "source": [
    "## Corrective model training\n",
    "### Prepare Targets"
   ]
  },
  {
   "cell_type": "code",
   "execution_count": 48,
   "id": "9c2722af",
   "metadata": {
    "execution": {
     "iopub.execute_input": "2025-09-24T22:46:45.366337Z",
     "iopub.status.busy": "2025-09-24T22:46:45.365578Z",
     "iopub.status.idle": "2025-09-24T22:46:45.369991Z",
     "shell.execute_reply": "2025-09-24T22:46:45.369166Z"
    },
    "papermill": {
     "duration": 0.042478,
     "end_time": "2025-09-24T22:46:45.371574",
     "exception": false,
     "start_time": "2025-09-24T22:46:45.329096",
     "status": "completed"
    },
    "tags": []
   },
   "outputs": [],
   "source": [
    "if TRAIN_NEW_MODELS:\n",
    "    targ_df = load_target(paths.train_csv, planet_ids) \n",
    "    display(targ_df.head(3))"
   ]
  },
  {
   "cell_type": "code",
   "execution_count": 49,
   "id": "8dfd3b3c",
   "metadata": {
    "execution": {
     "iopub.execute_input": "2025-09-24T22:46:45.438988Z",
     "iopub.status.busy": "2025-09-24T22:46:45.438401Z",
     "iopub.status.idle": "2025-09-24T22:46:45.442784Z",
     "shell.execute_reply": "2025-09-24T22:46:45.441939Z"
    },
    "papermill": {
     "duration": 0.040725,
     "end_time": "2025-09-24T22:46:45.444629",
     "exception": false,
     "start_time": "2025-09-24T22:46:45.403904",
     "status": "completed"
    },
    "tags": []
   },
   "outputs": [],
   "source": [
    "if TRAIN_NEW_MODELS:\n",
    "    target_df = transform_target(targ_df, poly_df, centres, planet_ids)\n",
    "    display(target_df.head(3))"
   ]
  },
  {
   "cell_type": "markdown",
   "id": "e06b5135",
   "metadata": {
    "papermill": {
     "duration": 0.033287,
     "end_time": "2025-09-24T22:46:45.511919",
     "exception": false,
     "start_time": "2025-09-24T22:46:45.478632",
     "status": "completed"
    },
    "tags": []
   },
   "source": [
    "### Feature Engineering"
   ]
  },
  {
   "cell_type": "code",
   "execution_count": 50,
   "id": "e3658718",
   "metadata": {
    "execution": {
     "iopub.execute_input": "2025-09-24T22:46:45.582721Z",
     "iopub.status.busy": "2025-09-24T22:46:45.582013Z",
     "iopub.status.idle": "2025-09-24T22:46:45.593909Z",
     "shell.execute_reply": "2025-09-24T22:46:45.593023Z"
    },
    "papermill": {
     "duration": 0.049525,
     "end_time": "2025-09-24T22:46:45.595820",
     "exception": false,
     "start_time": "2025-09-24T22:46:45.546295",
     "status": "completed"
    },
    "tags": []
   },
   "outputs": [
    {
     "data": {
      "text/html": [
       "<div>\n",
       "<style scoped>\n",
       "    .dataframe tbody tr th:only-of-type {\n",
       "        vertical-align: middle;\n",
       "    }\n",
       "\n",
       "    .dataframe tbody tr th {\n",
       "        vertical-align: top;\n",
       "    }\n",
       "\n",
       "    .dataframe thead th {\n",
       "        text-align: right;\n",
       "    }\n",
       "</style>\n",
       "<table border=\"1\" class=\"dataframe\">\n",
       "  <thead>\n",
       "    <tr style=\"text-align: right;\">\n",
       "      <th></th>\n",
       "      <th>Rs</th>\n",
       "      <th>Ms</th>\n",
       "      <th>Ts</th>\n",
       "      <th>Mp</th>\n",
       "      <th>e</th>\n",
       "      <th>P</th>\n",
       "      <th>sma</th>\n",
       "      <th>i</th>\n",
       "      <th>original_index</th>\n",
       "    </tr>\n",
       "    <tr>\n",
       "      <th>planet_id</th>\n",
       "      <th></th>\n",
       "      <th></th>\n",
       "      <th></th>\n",
       "      <th></th>\n",
       "      <th></th>\n",
       "      <th></th>\n",
       "      <th></th>\n",
       "      <th></th>\n",
       "      <th></th>\n",
       "    </tr>\n",
       "  </thead>\n",
       "  <tbody>\n",
       "    <tr>\n",
       "      <th>1103775</th>\n",
       "      <td>0.965432</td>\n",
       "      <td>0.9591</td>\n",
       "      <td>5539.03037</td>\n",
       "      <td>1.665007</td>\n",
       "      <td>0.0</td>\n",
       "      <td>6.932871</td>\n",
       "      <td>15.43293</td>\n",
       "      <td>89.533139</td>\n",
       "      <td>0</td>\n",
       "    </tr>\n",
       "  </tbody>\n",
       "</table>\n",
       "</div>"
      ],
      "text/plain": [
       "                 Rs      Ms          Ts        Mp    e         P       sma  \\\n",
       "planet_id                                                                    \n",
       "1103775    0.965432  0.9591  5539.03037  1.665007  0.0  6.932871  15.43293   \n",
       "\n",
       "                   i  original_index  \n",
       "planet_id                             \n",
       "1103775    89.533139               0  "
      ]
     },
     "execution_count": 50,
     "metadata": {},
     "output_type": "execute_result"
    }
   ],
   "source": [
    "star_info.head()"
   ]
  },
  {
   "cell_type": "code",
   "execution_count": 51,
   "id": "3ab803f8",
   "metadata": {
    "execution": {
     "iopub.execute_input": "2025-09-24T22:46:45.671065Z",
     "iopub.status.busy": "2025-09-24T22:46:45.670768Z",
     "iopub.status.idle": "2025-09-24T22:46:45.684293Z",
     "shell.execute_reply": "2025-09-24T22:46:45.683437Z"
    },
    "papermill": {
     "duration": 0.052673,
     "end_time": "2025-09-24T22:46:45.686100",
     "exception": false,
     "start_time": "2025-09-24T22:46:45.633427",
     "status": "completed"
    },
    "tags": []
   },
   "outputs": [
    {
     "data": {
      "text/html": [
       "<div>\n",
       "<style scoped>\n",
       "    .dataframe tbody tr th:only-of-type {\n",
       "        vertical-align: middle;\n",
       "    }\n",
       "\n",
       "    .dataframe tbody tr th {\n",
       "        vertical-align: top;\n",
       "    }\n",
       "\n",
       "    .dataframe thead th {\n",
       "        text-align: right;\n",
       "    }\n",
       "</style>\n",
       "<table border=\"1\" class=\"dataframe\">\n",
       "  <thead>\n",
       "    <tr style=\"text-align: right;\">\n",
       "      <th></th>\n",
       "      <th>bin_0</th>\n",
       "      <th>bin_5</th>\n",
       "      <th>bin_29</th>\n",
       "      <th>bin_54</th>\n",
       "      <th>bin_79</th>\n",
       "      <th>bin_103</th>\n",
       "      <th>bin_128</th>\n",
       "      <th>bin_153</th>\n",
       "      <th>bin_178</th>\n",
       "      <th>bin_202</th>\n",
       "      <th>bin_227</th>\n",
       "      <th>bin_252</th>\n",
       "      <th>bin_277</th>\n",
       "    </tr>\n",
       "    <tr>\n",
       "      <th>planet_id</th>\n",
       "      <th></th>\n",
       "      <th></th>\n",
       "      <th></th>\n",
       "      <th></th>\n",
       "      <th></th>\n",
       "      <th></th>\n",
       "      <th></th>\n",
       "      <th></th>\n",
       "      <th></th>\n",
       "      <th></th>\n",
       "      <th></th>\n",
       "      <th></th>\n",
       "      <th></th>\n",
       "    </tr>\n",
       "  </thead>\n",
       "  <tbody>\n",
       "    <tr>\n",
       "      <th>1103775</th>\n",
       "      <td>0.017869</td>\n",
       "      <td>0.016893</td>\n",
       "      <td>0.016841</td>\n",
       "      <td>0.016943</td>\n",
       "      <td>0.016797</td>\n",
       "      <td>0.016837</td>\n",
       "      <td>0.016671</td>\n",
       "      <td>0.016671</td>\n",
       "      <td>0.016712</td>\n",
       "      <td>0.016706</td>\n",
       "      <td>0.016649</td>\n",
       "      <td>0.016854</td>\n",
       "      <td>0.01712</td>\n",
       "    </tr>\n",
       "  </tbody>\n",
       "</table>\n",
       "</div>"
      ],
      "text/plain": [
       "              bin_0     bin_5    bin_29    bin_54    bin_79   bin_103  \\\n",
       "planet_id                                                               \n",
       "1103775    0.017869  0.016893  0.016841  0.016943  0.016797  0.016837   \n",
       "\n",
       "            bin_128   bin_153   bin_178   bin_202   bin_227   bin_252  bin_277  \n",
       "planet_id                                                                       \n",
       "1103775    0.016671  0.016671  0.016712  0.016706  0.016649  0.016854  0.01712  "
      ]
     },
     "execution_count": 51,
     "metadata": {},
     "output_type": "execute_result"
    }
   ],
   "source": [
    "poly_df.head()"
   ]
  },
  {
   "cell_type": "code",
   "execution_count": 52,
   "id": "ffc5152f",
   "metadata": {
    "execution": {
     "iopub.execute_input": "2025-09-24T22:46:45.752895Z",
     "iopub.status.busy": "2025-09-24T22:46:45.752603Z",
     "iopub.status.idle": "2025-09-24T22:46:45.858345Z",
     "shell.execute_reply": "2025-09-24T22:46:45.857628Z"
    },
    "papermill": {
     "duration": 0.140208,
     "end_time": "2025-09-24T22:46:45.859985",
     "exception": false,
     "start_time": "2025-09-24T22:46:45.719777",
     "status": "completed"
    },
    "tags": []
   },
   "outputs": [],
   "source": [
    "feat_dfs = feature_eng(poly_df,\n",
    "                       extra_feats_df,\n",
    "                       star_info,\n",
    "                       all_wl_fits,\n",
    "                       FIT_FEATURES)"
   ]
  },
  {
   "cell_type": "code",
   "execution_count": 53,
   "id": "ffb124f6",
   "metadata": {
    "execution": {
     "iopub.execute_input": "2025-09-24T22:46:45.926721Z",
     "iopub.status.busy": "2025-09-24T22:46:45.926464Z",
     "iopub.status.idle": "2025-09-24T22:46:45.944022Z",
     "shell.execute_reply": "2025-09-24T22:46:45.943174Z"
    },
    "papermill": {
     "duration": 0.052642,
     "end_time": "2025-09-24T22:46:45.945760",
     "exception": false,
     "start_time": "2025-09-24T22:46:45.893118",
     "status": "completed"
    },
    "tags": []
   },
   "outputs": [
    {
     "data": {
      "text/html": [
       "<div>\n",
       "<style scoped>\n",
       "    .dataframe tbody tr th:only-of-type {\n",
       "        vertical-align: middle;\n",
       "    }\n",
       "\n",
       "    .dataframe tbody tr th {\n",
       "        vertical-align: top;\n",
       "    }\n",
       "\n",
       "    .dataframe thead th {\n",
       "        text-align: right;\n",
       "    }\n",
       "</style>\n",
       "<table border=\"1\" class=\"dataframe\">\n",
       "  <thead>\n",
       "    <tr style=\"text-align: right;\">\n",
       "      <th></th>\n",
       "      <th>polypoints_std</th>\n",
       "      <th>polypoints_range</th>\n",
       "      <th>transit_fit_a</th>\n",
       "      <th>bat_correction</th>\n",
       "      <th>Rs</th>\n",
       "      <th>Ms</th>\n",
       "      <th>Ts</th>\n",
       "      <th>Mp</th>\n",
       "      <th>P</th>\n",
       "      <th>sma</th>\n",
       "      <th>...</th>\n",
       "      <th>bin_252</th>\n",
       "      <th>bin_277</th>\n",
       "      <th>wl_bat_correction</th>\n",
       "      <th>wl_c_c</th>\n",
       "      <th>wl_max_slope</th>\n",
       "      <th>wl_a</th>\n",
       "      <th>wl_b</th>\n",
       "      <th>wl_c</th>\n",
       "      <th>wl_a_c</th>\n",
       "      <th>wl_transit_delta</th>\n",
       "    </tr>\n",
       "  </thead>\n",
       "  <tbody>\n",
       "    <tr>\n",
       "      <th>1103775</th>\n",
       "      <td>0.000138</td>\n",
       "      <td>0.00122</td>\n",
       "      <td>2.146297e-07</td>\n",
       "      <td>0.004346</td>\n",
       "      <td>0.965432</td>\n",
       "      <td>0.9591</td>\n",
       "      <td>5539.03037</td>\n",
       "      <td>1.665007</td>\n",
       "      <td>6.932871</td>\n",
       "      <td>15.43293</td>\n",
       "      <td>...</td>\n",
       "      <td>0.016854</td>\n",
       "      <td>0.01712</td>\n",
       "      <td>-0.232989</td>\n",
       "      <td>-0.000155</td>\n",
       "      <td>0.000048</td>\n",
       "      <td>6.859849e-07</td>\n",
       "      <td>0.000003</td>\n",
       "      <td>1.007457</td>\n",
       "      <td>6.809074e-07</td>\n",
       "      <td>0.003408</td>\n",
       "    </tr>\n",
       "  </tbody>\n",
       "</table>\n",
       "<p>1 rows × 57 columns</p>\n",
       "</div>"
      ],
      "text/plain": [
       "         polypoints_std  polypoints_range  transit_fit_a  bat_correction  \\\n",
       "1103775        0.000138           0.00122   2.146297e-07        0.004346   \n",
       "\n",
       "               Rs      Ms          Ts        Mp         P       sma  ...  \\\n",
       "1103775  0.965432  0.9591  5539.03037  1.665007  6.932871  15.43293  ...   \n",
       "\n",
       "          bin_252  bin_277  wl_bat_correction    wl_c_c  wl_max_slope  \\\n",
       "1103775  0.016854  0.01712          -0.232989 -0.000155      0.000048   \n",
       "\n",
       "                 wl_a      wl_b      wl_c        wl_a_c  wl_transit_delta  \n",
       "1103775  6.859849e-07  0.000003  1.007457  6.809074e-07          0.003408  \n",
       "\n",
       "[1 rows x 57 columns]"
      ]
     },
     "execution_count": 53,
     "metadata": {},
     "output_type": "execute_result"
    }
   ],
   "source": [
    "feat_dfs['bin_0'].head()"
   ]
  },
  {
   "cell_type": "code",
   "execution_count": 54,
   "id": "af8fa67c",
   "metadata": {
    "execution": {
     "iopub.execute_input": "2025-09-24T22:46:46.012773Z",
     "iopub.status.busy": "2025-09-24T22:46:46.012033Z",
     "iopub.status.idle": "2025-09-24T22:46:46.031991Z",
     "shell.execute_reply": "2025-09-24T22:46:46.030980Z"
    },
    "papermill": {
     "duration": 0.055949,
     "end_time": "2025-09-24T22:46:46.033700",
     "exception": false,
     "start_time": "2025-09-24T22:46:45.977751",
     "status": "completed"
    },
    "tags": []
   },
   "outputs": [
    {
     "data": {
      "text/html": [
       "<div>\n",
       "<style scoped>\n",
       "    .dataframe tbody tr th:only-of-type {\n",
       "        vertical-align: middle;\n",
       "    }\n",
       "\n",
       "    .dataframe tbody tr th {\n",
       "        vertical-align: top;\n",
       "    }\n",
       "\n",
       "    .dataframe thead th {\n",
       "        text-align: right;\n",
       "    }\n",
       "</style>\n",
       "<table border=\"1\" class=\"dataframe\">\n",
       "  <thead>\n",
       "    <tr style=\"text-align: right;\">\n",
       "      <th></th>\n",
       "      <th>polypoints_std</th>\n",
       "      <th>polypoints_range</th>\n",
       "      <th>transit_fit_a</th>\n",
       "      <th>bat_correction</th>\n",
       "      <th>Rs</th>\n",
       "      <th>Ms</th>\n",
       "      <th>Ts</th>\n",
       "      <th>Mp</th>\n",
       "      <th>P</th>\n",
       "      <th>sma</th>\n",
       "      <th>...</th>\n",
       "      <th>bin_252</th>\n",
       "      <th>bin_277</th>\n",
       "      <th>wl_bat_correction</th>\n",
       "      <th>wl_c_c</th>\n",
       "      <th>wl_max_slope</th>\n",
       "      <th>wl_a</th>\n",
       "      <th>wl_b</th>\n",
       "      <th>wl_c</th>\n",
       "      <th>wl_a_c</th>\n",
       "      <th>wl_transit_delta</th>\n",
       "    </tr>\n",
       "  </thead>\n",
       "  <tbody>\n",
       "    <tr>\n",
       "      <th>1103775</th>\n",
       "      <td>0.000138</td>\n",
       "      <td>0.00122</td>\n",
       "      <td>2.146297e-07</td>\n",
       "      <td>0.004346</td>\n",
       "      <td>0.965432</td>\n",
       "      <td>0.9591</td>\n",
       "      <td>5539.03037</td>\n",
       "      <td>1.665007</td>\n",
       "      <td>6.932871</td>\n",
       "      <td>15.43293</td>\n",
       "      <td>...</td>\n",
       "      <td>0.016854</td>\n",
       "      <td>0.01712</td>\n",
       "      <td>-0.232989</td>\n",
       "      <td>-0.000155</td>\n",
       "      <td>0.000048</td>\n",
       "      <td>6.859849e-07</td>\n",
       "      <td>0.000003</td>\n",
       "      <td>1.007457</td>\n",
       "      <td>6.809074e-07</td>\n",
       "      <td>0.003408</td>\n",
       "    </tr>\n",
       "  </tbody>\n",
       "</table>\n",
       "<p>1 rows × 57 columns</p>\n",
       "</div>"
      ],
      "text/plain": [
       "         polypoints_std  polypoints_range  transit_fit_a  bat_correction  \\\n",
       "1103775        0.000138           0.00122   2.146297e-07        0.004346   \n",
       "\n",
       "               Rs      Ms          Ts        Mp         P       sma  ...  \\\n",
       "1103775  0.965432  0.9591  5539.03037  1.665007  6.932871  15.43293  ...   \n",
       "\n",
       "          bin_252  bin_277  wl_bat_correction    wl_c_c  wl_max_slope  \\\n",
       "1103775  0.016854  0.01712          -0.232989 -0.000155      0.000048   \n",
       "\n",
       "                 wl_a      wl_b      wl_c        wl_a_c  wl_transit_delta  \n",
       "1103775  6.859849e-07  0.000003  1.007457  6.809074e-07          0.003408  \n",
       "\n",
       "[1 rows x 57 columns]"
      ]
     },
     "execution_count": 54,
     "metadata": {},
     "output_type": "execute_result"
    }
   ],
   "source": [
    "feat_dfs['bin_0'].head()"
   ]
  },
  {
   "cell_type": "markdown",
   "id": "38eb17da",
   "metadata": {
    "papermill": {
     "duration": 0.042726,
     "end_time": "2025-09-24T22:46:46.110603",
     "exception": false,
     "start_time": "2025-09-24T22:46:46.067877",
     "status": "completed"
    },
    "tags": []
   },
   "source": [
    "### PCA and MI analysis"
   ]
  },
  {
   "cell_type": "code",
   "execution_count": 55,
   "id": "09b36dba",
   "metadata": {
    "execution": {
     "iopub.execute_input": "2025-09-24T22:46:46.184653Z",
     "iopub.status.busy": "2025-09-24T22:46:46.183810Z",
     "iopub.status.idle": "2025-09-24T22:46:46.189845Z",
     "shell.execute_reply": "2025-09-24T22:46:46.188906Z"
    },
    "papermill": {
     "duration": 0.046013,
     "end_time": "2025-09-24T22:46:46.191820",
     "exception": false,
     "start_time": "2025-09-24T22:46:46.145807",
     "status": "completed"
    },
    "tags": []
   },
   "outputs": [],
   "source": [
    "if FIT_PCA and TRAIN_NEW_MODELS:\n",
    "    first_bin = poly_df.columns[1]\n",
    "    display(first_bin)\n",
    "    X = feat_dfs[first_bin].copy()#.drop(columns = ['has_two_breakpoints'])\n",
    "    X_scaled = (X - X.mean(axis=0)) / X.std(axis=0)\n",
    "    pca = PCA(n_components=6)\n",
    "    X_pca = pca.fit_transform(X_scaled, )\n",
    "    component_names = [f\"PC{i+1}\" for i in range(X_pca.shape[1])]\n",
    "    X_pca = pd.DataFrame(X_pca, columns=component_names)\n",
    "    display(X_pca.head())"
   ]
  },
  {
   "cell_type": "code",
   "execution_count": 56,
   "id": "c31159cf",
   "metadata": {
    "execution": {
     "iopub.execute_input": "2025-09-24T22:46:46.280819Z",
     "iopub.status.busy": "2025-09-24T22:46:46.279650Z",
     "iopub.status.idle": "2025-09-24T22:46:46.286914Z",
     "shell.execute_reply": "2025-09-24T22:46:46.285821Z"
    },
    "papermill": {
     "duration": 0.059603,
     "end_time": "2025-09-24T22:46:46.289390",
     "exception": false,
     "start_time": "2025-09-24T22:46:46.229787",
     "status": "completed"
    },
    "tags": []
   },
   "outputs": [],
   "source": [
    "if FIT_PCA and TRAIN_NEW_MODELS:\n",
    "    y = target_df[first_bin].copy()\n",
    "    y = y.loc[y.index.intersection(X.index)]\n",
    "    mi_scores = mutual_info_regression(X_pca, y, random_state=0)\n",
    "    mi_scores = pd.Series(mi_scores, name=\"MI Scores\", index=X_pca.columns)\n",
    "    mi_scores = mi_scores.sort_values(ascending=False)\n",
    "    ordered_scores = list(mi_scores.index)\n",
    "    display(mi_scores)"
   ]
  },
  {
   "cell_type": "code",
   "execution_count": 57,
   "id": "2b9b67fd",
   "metadata": {
    "execution": {
     "iopub.execute_input": "2025-09-24T22:46:46.371860Z",
     "iopub.status.busy": "2025-09-24T22:46:46.371054Z",
     "iopub.status.idle": "2025-09-24T22:46:46.375986Z",
     "shell.execute_reply": "2025-09-24T22:46:46.375044Z"
    },
    "papermill": {
     "duration": 0.043305,
     "end_time": "2025-09-24T22:46:46.377959",
     "exception": false,
     "start_time": "2025-09-24T22:46:46.334654",
     "status": "completed"
    },
    "tags": []
   },
   "outputs": [],
   "source": [
    "if FIT_PCA and TRAIN_NEW_MODELS:\n",
    "    loadings = pd.DataFrame(\n",
    "    pca.components_.T,  # transpose the matrix of loadings\n",
    "    columns=component_names,  # so the columns are the principal components\n",
    "    index=X.columns)[ordered_scores] # and the rows are the original features\n",
    "    display(loadings)"
   ]
  },
  {
   "cell_type": "markdown",
   "id": "7df1524e",
   "metadata": {
    "papermill": {
     "duration": 0.037219,
     "end_time": "2025-09-24T22:46:46.451850",
     "exception": false,
     "start_time": "2025-09-24T22:46:46.414631",
     "status": "completed"
    },
    "tags": []
   },
   "source": [
    "Let's repeat this but use a pipeline to pass the transform to inference"
   ]
  },
  {
   "cell_type": "code",
   "execution_count": 58,
   "id": "050feb13",
   "metadata": {
    "execution": {
     "iopub.execute_input": "2025-09-24T22:46:46.526841Z",
     "iopub.status.busy": "2025-09-24T22:46:46.526019Z",
     "iopub.status.idle": "2025-09-24T22:46:46.531792Z",
     "shell.execute_reply": "2025-09-24T22:46:46.530904Z"
    },
    "papermill": {
     "duration": 0.045271,
     "end_time": "2025-09-24T22:46:46.533533",
     "exception": false,
     "start_time": "2025-09-24T22:46:46.488262",
     "status": "completed"
    },
    "tags": []
   },
   "outputs": [],
   "source": [
    "if FIT_PCA and TRAIN_NEW_MODELS:\n",
    "    preprocess = Pipeline([\n",
    "    (\"scaler\", StandardScaler()),\n",
    "    (\"pca\", PCA(n_components=PCA_FEATURES))\n",
    "    ])\n",
    "\n",
    "    X_train_transformed = preprocess.fit_transform(X)\n",
    "\n",
    "    joblib.dump(preprocess, paths.fit_pipeline)\n",
    "\n",
    "\n",
    "    pca_columns = [f\"PC{i+1}\" for i in range(X_train_transformed.shape[1])]\n",
    "\n",
    "    X_train_transformed_df = pd.DataFrame(\n",
    "    X_train_transformed,\n",
    "    index=X.index,     # preserve row indices\n",
    "    columns=pca_columns      # give meaningful column names\n",
    "    )\n",
    "\n",
    "    display(X_train_transformed_df.head())\n",
    "else:\n",
    "    preprocess = None\n",
    "    "
   ]
  },
  {
   "cell_type": "markdown",
   "id": "bb770ac7",
   "metadata": {
    "papermill": {
     "duration": 0.035053,
     "end_time": "2025-09-24T22:46:46.603155",
     "exception": false,
     "start_time": "2025-09-24T22:46:46.568102",
     "status": "completed"
    },
    "tags": []
   },
   "source": [
    "Create splits by dataframe index"
   ]
  },
  {
   "cell_type": "code",
   "execution_count": 59,
   "id": "26be0b21",
   "metadata": {
    "execution": {
     "iopub.execute_input": "2025-09-24T22:46:46.676084Z",
     "iopub.status.busy": "2025-09-24T22:46:46.675388Z",
     "iopub.status.idle": "2025-09-24T22:46:46.682965Z",
     "shell.execute_reply": "2025-09-24T22:46:46.682036Z"
    },
    "papermill": {
     "duration": 0.046262,
     "end_time": "2025-09-24T22:46:46.684708",
     "exception": false,
     "start_time": "2025-09-24T22:46:46.638446",
     "status": "completed"
    },
    "tags": []
   },
   "outputs": [],
   "source": [
    "random_ids = planet_ids.copy()\n",
    "random_ids = [x for x in random_ids if x not in EXCLUDE_PLANETS]\n",
    "random.shuffle(random_ids)\n",
    "\n",
    "test_size = int(len(planet_ids) // FOLDS)\n",
    "\n",
    "fold_ids={}\n",
    "for outer_fold in range(FOLDS):\n",
    "    test_ids = random_ids[test_size * outer_fold : test_size * (outer_fold + 1)]\n",
    "    remaining = [id for id in random_ids if id not in test_ids]\n",
    "    val_size = int(len(remaining) /INNER_FOLDS)\n",
    "    val_ids = {}\n",
    "    train_ids = {}\n",
    "    random.shuffle(remaining)\n",
    "    for n in range(INNER_FOLDS):\n",
    "        val_id_pool = remaining[n*val_size : (n+1)*val_size]\n",
    "        sub_pool_size = (INNER_FOLDS-1) * len(val_id_pool) // INNER_FOLDS  \n",
    "        val_sub_pool = val_id_pool[:sub_pool_size]\n",
    "        val_ids[f'f{n}_val'] = val_id_pool\n",
    "        train_id_pool = [planet for planet in remaining if planet not in val_ids[f'f{n}_val'] ]\n",
    "        if MIX_SPLITS:\n",
    "            #Super-dodgy, but with not much to loose at this stage, let's try it anyway\n",
    "            train_id_pool = train_id_pool + val_sub_pool\n",
    "        train_ids[f'f{n}_train'] = train_id_pool\n",
    "\n",
    "    fold_ids[outer_fold] = {'train_ids': train_ids, 'val_ids': val_ids, 'test_ids': test_ids}  #None of these will contain EXCLUDED_PLANETS"
   ]
  },
  {
   "cell_type": "code",
   "execution_count": 60,
   "id": "5515f11b",
   "metadata": {
    "execution": {
     "iopub.execute_input": "2025-09-24T22:46:46.753787Z",
     "iopub.status.busy": "2025-09-24T22:46:46.753475Z",
     "iopub.status.idle": "2025-09-24T22:46:46.759966Z",
     "shell.execute_reply": "2025-09-24T22:46:46.759072Z"
    },
    "papermill": {
     "duration": 0.043702,
     "end_time": "2025-09-24T22:46:46.761704",
     "exception": false,
     "start_time": "2025-09-24T22:46:46.718002",
     "status": "completed"
    },
    "tags": []
   },
   "outputs": [],
   "source": [
    "if TRAIN_NEW_MODELS:\n",
    "    feat_imps = []\n",
    "    for outer_fold in tqdm(range(FOLDS)):\n",
    "        outer_destn = paths.pred_models / f'outer_fold_{outer_fold}'\n",
    "        outer_destn.mkdir(exist_ok=True)\n",
    "        for inner_fold in range(INNER_FOLDS):\n",
    "            models, feature_imp = train_models(feat_dfs,\n",
    "                                                target_df,\n",
    "                                                fold_ids[outer_fold]['train_ids'][f'f{inner_fold}_train'],\n",
    "                                                fold_ids[outer_fold]['val_ids'][f'f{inner_fold}_val'],\n",
    "                                                LGBM_FIT_PARAMETERS,\n",
    "                                                preprocess,\n",
    "                                                EARLY_STOPPING)\n",
    "            inner_destn = outer_destn / f'fold_{inner_fold}'\n",
    "            inner_destn.mkdir(exist_ok=True)\n",
    "            feat_imps.append(feature_imp)\n",
    "            for name, model in models.items():\n",
    "                joblib.dump(model, inner_destn / f'{name}.pkl')\n",
    "    feat_imp_df = pd.concat(feat_imps, axis=0)"
   ]
  },
  {
   "cell_type": "markdown",
   "id": "d8765625",
   "metadata": {
    "papermill": {
     "duration": 0.033805,
     "end_time": "2025-09-24T22:46:46.829607",
     "exception": false,
     "start_time": "2025-09-24T22:46:46.795802",
     "status": "completed"
    },
    "tags": []
   },
   "source": [
    "No value:\n",
    "mean_wl_depth, polypoints_mean, has_two_breakpoints, has_no_breakpoints, e"
   ]
  },
  {
   "cell_type": "code",
   "execution_count": 61,
   "id": "359f927e",
   "metadata": {
    "execution": {
     "iopub.execute_input": "2025-09-24T22:46:46.900679Z",
     "iopub.status.busy": "2025-09-24T22:46:46.899924Z",
     "iopub.status.idle": "2025-09-24T22:46:46.904233Z",
     "shell.execute_reply": "2025-09-24T22:46:46.903555Z"
    },
    "papermill": {
     "duration": 0.041585,
     "end_time": "2025-09-24T22:46:46.905965",
     "exception": false,
     "start_time": "2025-09-24T22:46:46.864380",
     "status": "completed"
    },
    "tags": []
   },
   "outputs": [],
   "source": [
    "if TRAIN_NEW_MODELS:\n",
    "    plt.figure(figsize=(6, 8))\n",
    "    sns.barplot(x=\"Value\", y=\"Feature\", data=feat_imp_df)\n",
    "    plt.show()"
   ]
  },
  {
   "cell_type": "code",
   "execution_count": 62,
   "id": "44ce3a52",
   "metadata": {
    "execution": {
     "iopub.execute_input": "2025-09-24T22:46:46.973410Z",
     "iopub.status.busy": "2025-09-24T22:46:46.972588Z",
     "iopub.status.idle": "2025-09-24T22:47:45.247567Z",
     "shell.execute_reply": "2025-09-24T22:47:45.246685Z"
    },
    "papermill": {
     "duration": 58.311247,
     "end_time": "2025-09-24T22:47:45.249733",
     "exception": false,
     "start_time": "2025-09-24T22:46:46.938486",
     "status": "completed"
    },
    "tags": []
   },
   "outputs": [],
   "source": [
    "models = {}\n",
    "for outer_fold in range(FOLDS):\n",
    "    inner_models = {}\n",
    "    for inner_fold in range(INNER_FOLDS):\n",
    "        fold_path = paths.pred_models / f'outer_fold_{outer_fold}' / f'fold_{inner_fold}'\n",
    "        pkl_files = list(fold_path.glob('*.pkl'))\n",
    "        bin_models = {}\n",
    "        for model in pkl_files:\n",
    "            bin_models[model.stem] = joblib.load(model)\n",
    "        inner_models[f'fold_{inner_fold}'] = bin_models\n",
    "    models[outer_fold] = inner_models\n",
    "\n",
    "preprocess = joblib.load(paths.fit_pipeline) if FIT_PCA else None"
   ]
  },
  {
   "cell_type": "code",
   "execution_count": 63,
   "id": "53dba4d2",
   "metadata": {
    "execution": {
     "iopub.execute_input": "2025-09-24T22:47:45.321514Z",
     "iopub.status.busy": "2025-09-24T22:47:45.321153Z",
     "iopub.status.idle": "2025-09-24T22:47:46.644100Z",
     "shell.execute_reply": "2025-09-24T22:47:46.643153Z"
    },
    "papermill": {
     "duration": 1.360632,
     "end_time": "2025-09-24T22:47:46.646253",
     "exception": false,
     "start_time": "2025-09-24T22:47:45.285621",
     "status": "completed"
    },
    "tags": []
   },
   "outputs": [
    {
     "name": "stderr",
     "output_type": "stream",
     "text": [
      "100%|██████████| 10/10 [00:01<00:00,  7.68it/s]\n"
     ]
    },
    {
     "data": {
      "text/html": [
       "<div>\n",
       "<style scoped>\n",
       "    .dataframe tbody tr th:only-of-type {\n",
       "        vertical-align: middle;\n",
       "    }\n",
       "\n",
       "    .dataframe tbody tr th {\n",
       "        vertical-align: top;\n",
       "    }\n",
       "\n",
       "    .dataframe thead th {\n",
       "        text-align: right;\n",
       "    }\n",
       "</style>\n",
       "<table border=\"1\" class=\"dataframe\">\n",
       "  <thead>\n",
       "    <tr style=\"text-align: right;\">\n",
       "      <th></th>\n",
       "      <th>bin_0</th>\n",
       "      <th>bin_5</th>\n",
       "      <th>bin_29</th>\n",
       "      <th>bin_54</th>\n",
       "      <th>bin_79</th>\n",
       "      <th>bin_103</th>\n",
       "      <th>bin_128</th>\n",
       "      <th>bin_153</th>\n",
       "      <th>bin_178</th>\n",
       "      <th>bin_202</th>\n",
       "      <th>bin_227</th>\n",
       "      <th>bin_252</th>\n",
       "      <th>bin_277</th>\n",
       "    </tr>\n",
       "  </thead>\n",
       "  <tbody>\n",
       "    <tr>\n",
       "      <th>1103775</th>\n",
       "      <td>-0.002078</td>\n",
       "      <td>-0.001015</td>\n",
       "      <td>-0.000972</td>\n",
       "      <td>-0.000973</td>\n",
       "      <td>-0.000822</td>\n",
       "      <td>-0.000858</td>\n",
       "      <td>-0.000716</td>\n",
       "      <td>-0.000754</td>\n",
       "      <td>-0.000714</td>\n",
       "      <td>-0.000706</td>\n",
       "      <td>-0.000706</td>\n",
       "      <td>-0.000881</td>\n",
       "      <td>-0.001096</td>\n",
       "    </tr>\n",
       "  </tbody>\n",
       "</table>\n",
       "</div>"
      ],
      "text/plain": [
       "            bin_0     bin_5    bin_29    bin_54    bin_79   bin_103   bin_128  \\\n",
       "1103775 -0.002078 -0.001015 -0.000972 -0.000973 -0.000822 -0.000858 -0.000716   \n",
       "\n",
       "          bin_153   bin_178   bin_202   bin_227   bin_252   bin_277  \n",
       "1103775 -0.000754 -0.000714 -0.000706 -0.000706 -0.000881 -0.001096  "
      ]
     },
     "execution_count": 63,
     "metadata": {},
     "output_type": "execute_result"
    }
   ],
   "source": [
    "offset_predictions = {}\n",
    "for outer_fold in tqdm(range(FOLDS)):\n",
    "    for inner_fold in range(INNER_FOLDS):\n",
    "        predictions = {}\n",
    "        for bin_id, model in  models[outer_fold][f'fold_{inner_fold}'].items():\n",
    "            if FIT_PCA:\n",
    "                pca_feats = preprocess.transform(feat_dfs[bin_id])#.drop(columns = ['has_two_breakpoints'])\n",
    "                pca_columns = [f\"PC{i+1}\" for i in range(pca_feats.shape[1])]\n",
    "                pca_feat_df = pd.DataFrame(\n",
    "                                        pca_feats,\n",
    "                                        index=feat_dfs[bin_id].index,\n",
    "                                        columns=pca_columns\n",
    "                                        )\n",
    "                wl_feats = pd.concat([feat_dfs[bin_id], pca_feat_df], axis=1)\n",
    "            else:\n",
    "                wl_feats = feat_dfs[bin_id]\n",
    "            predictions[bin_id] =  model.predict(wl_feats)\n",
    "        pred_df = pd.DataFrame(predictions, index=feat_dfs['bin_0'].index)\n",
    "        pred_df = pred_df.reindex(columns=poly_df.columns)\n",
    "        offset_predictions[f'fold_{outer_fold}_{inner_fold}'] = pred_df\n",
    "\n",
    "offset_predictions['fold_0_0'].head(2)"
   ]
  },
  {
   "cell_type": "markdown",
   "id": "4ac6cced",
   "metadata": {
    "papermill": {
     "duration": 0.033233,
     "end_time": "2025-09-24T22:47:46.717019",
     "exception": false,
     "start_time": "2025-09-24T22:47:46.683786",
     "status": "completed"
    },
    "tags": []
   },
   "source": [
    "## High resolution fit"
   ]
  },
  {
   "cell_type": "markdown",
   "id": "4bd075b3",
   "metadata": {
    "papermill": {
     "duration": 0.033512,
     "end_time": "2025-09-24T22:47:46.784659",
     "exception": false,
     "start_time": "2025-09-24T22:47:46.751147",
     "status": "completed"
    },
    "tags": []
   },
   "source": [
    "What we want to know is how big are the maximum second-order differences, over all the bins,  the approach below only looks at bin_0!"
   ]
  },
  {
   "cell_type": "code",
   "execution_count": 64,
   "id": "928c65f7",
   "metadata": {
    "execution": {
     "iopub.execute_input": "2025-09-24T22:47:46.854257Z",
     "iopub.status.busy": "2025-09-24T22:47:46.853418Z",
     "iopub.status.idle": "2025-09-24T22:47:46.861198Z",
     "shell.execute_reply": "2025-09-24T22:47:46.860337Z"
    },
    "papermill": {
     "duration": 0.044868,
     "end_time": "2025-09-24T22:47:46.862866",
     "exception": false,
     "start_time": "2025-09-24T22:47:46.817998",
     "status": "completed"
    },
    "tags": []
   },
   "outputs": [],
   "source": [
    "second_diffs = pd.DataFrame({\n",
    "    key: df['mean_second_diff']\n",
    "    for key, df in feat_dfs.items()\n",
    "})\n",
    "second_diffs['row_max_excl_first2'] = second_diffs.iloc[:, 2:].max(axis=1)"
   ]
  },
  {
   "cell_type": "code",
   "execution_count": 65,
   "id": "e42826e0",
   "metadata": {
    "execution": {
     "iopub.execute_input": "2025-09-24T22:47:46.940405Z",
     "iopub.status.busy": "2025-09-24T22:47:46.939605Z",
     "iopub.status.idle": "2025-09-24T22:47:47.192467Z",
     "shell.execute_reply": "2025-09-24T22:47:47.191468Z"
    },
    "papermill": {
     "duration": 0.293475,
     "end_time": "2025-09-24T22:47:47.194505",
     "exception": false,
     "start_time": "2025-09-24T22:47:46.901030",
     "status": "completed"
    },
    "tags": []
   },
   "outputs": [
    {
     "data": {
      "image/png": "[encoded data removed]",
      "text/plain": [
       "<Figure size 640x480 with 1 Axes>"
      ]
     },
     "metadata": {},
     "output_type": "display_data"
    }
   ],
   "source": [
    "second_diffs[\"row_max_excl_first2\"].hist(bins=50, edgecolor=\"black\")\n",
    "plt.xlabel(\"Mean difference between fitted bins\")\n",
    "plt.ylabel(\"Frequency\")\n",
    "plt.title(\"Histogram the mean of the first order bin difference\")\n",
    "plt.show()"
   ]
  },
  {
   "cell_type": "code",
   "execution_count": 66,
   "id": "eff86ceb",
   "metadata": {
    "execution": {
     "iopub.execute_input": "2025-09-24T22:47:47.272366Z",
     "iopub.status.busy": "2025-09-24T22:47:47.271693Z",
     "iopub.status.idle": "2025-09-24T22:47:47.276909Z",
     "shell.execute_reply": "2025-09-24T22:47:47.275945Z"
    },
    "papermill": {
     "duration": 0.045149,
     "end_time": "2025-09-24T22:47:47.278660",
     "exception": false,
     "start_time": "2025-09-24T22:47:47.233511",
     "status": "completed"
    },
    "tags": []
   },
   "outputs": [],
   "source": [
    "max_mean_diff = second_diffs[\"row_max_excl_first2\"].max()\n",
    "norm_differences = (second_diffs[\"row_max_excl_first2\"] / max_mean_diff).to_list()"
   ]
  },
  {
   "cell_type": "code",
   "execution_count": 67,
   "id": "bdd1fdf8",
   "metadata": {
    "execution": {
     "iopub.execute_input": "2025-09-24T22:47:47.354014Z",
     "iopub.status.busy": "2025-09-24T22:47:47.353082Z",
     "iopub.status.idle": "2025-09-24T22:47:47.371947Z",
     "shell.execute_reply": "2025-09-24T22:47:47.370983Z"
    },
    "papermill": {
     "duration": 0.059415,
     "end_time": "2025-09-24T22:47:47.374309",
     "exception": false,
     "start_time": "2025-09-24T22:47:47.314894",
     "status": "completed"
    },
    "tags": []
   },
   "outputs": [],
   "source": [
    "convolved_signal = midprocessor.convolve_wavelengths_skip_first(differences = norm_differences)\n",
    "all_centres = [idx for idx in range(1, convolved_signal.shape[2] + 1)]"
   ]
  },
  {
   "cell_type": "code",
   "execution_count": 68,
   "id": "3a52c53d",
   "metadata": {
    "execution": {
     "iopub.execute_input": "2025-09-24T22:47:47.450072Z",
     "iopub.status.busy": "2025-09-24T22:47:47.449342Z",
     "iopub.status.idle": "2025-09-24T22:47:47.997180Z",
     "shell.execute_reply": "2025-09-24T22:47:47.996082Z"
    },
    "papermill": {
     "duration": 0.587515,
     "end_time": "2025-09-24T22:47:47.998992",
     "exception": false,
     "start_time": "2025-09-24T22:47:47.411477",
     "status": "completed"
    },
    "tags": []
   },
   "outputs": [
    {
     "name": "stderr",
     "output_type": "stream",
     "text": [
      "  0%|          | 0/1 [00:00<?, ?it/s]/opt/conda/lib/python3.10/site-packages/scipy/optimize/_minpack_py.py:1010: OptimizeWarning: Covariance of the parameters could not be estimated\n",
      "  warnings.warn('Covariance of the parameters could not be estimated',\n",
      "100%|██████████| 1/1 [00:00<00:00,  1.94it/s]\n"
     ]
    },
    {
     "data": {
      "text/html": [
       "<div>\n",
       "<style scoped>\n",
       "    .dataframe tbody tr th:only-of-type {\n",
       "        vertical-align: middle;\n",
       "    }\n",
       "\n",
       "    .dataframe tbody tr th {\n",
       "        vertical-align: top;\n",
       "    }\n",
       "\n",
       "    .dataframe thead th {\n",
       "        text-align: right;\n",
       "    }\n",
       "</style>\n",
       "<table border=\"1\" class=\"dataframe\">\n",
       "  <thead>\n",
       "    <tr style=\"text-align: right;\">\n",
       "      <th></th>\n",
       "      <th>bin_0</th>\n",
       "      <th>bin_1</th>\n",
       "      <th>bin_2</th>\n",
       "      <th>bin_3</th>\n",
       "      <th>bin_4</th>\n",
       "      <th>bin_5</th>\n",
       "      <th>bin_6</th>\n",
       "      <th>bin_7</th>\n",
       "      <th>bin_8</th>\n",
       "      <th>bin_9</th>\n",
       "      <th>...</th>\n",
       "      <th>bin_273</th>\n",
       "      <th>bin_274</th>\n",
       "      <th>bin_275</th>\n",
       "      <th>bin_276</th>\n",
       "      <th>bin_277</th>\n",
       "      <th>bin_278</th>\n",
       "      <th>bin_279</th>\n",
       "      <th>bin_280</th>\n",
       "      <th>bin_281</th>\n",
       "      <th>bin_282</th>\n",
       "    </tr>\n",
       "    <tr>\n",
       "      <th>planet_id</th>\n",
       "      <th></th>\n",
       "      <th></th>\n",
       "      <th></th>\n",
       "      <th></th>\n",
       "      <th></th>\n",
       "      <th></th>\n",
       "      <th></th>\n",
       "      <th></th>\n",
       "      <th></th>\n",
       "      <th></th>\n",
       "      <th></th>\n",
       "      <th></th>\n",
       "      <th></th>\n",
       "      <th></th>\n",
       "      <th></th>\n",
       "      <th></th>\n",
       "      <th></th>\n",
       "      <th></th>\n",
       "      <th></th>\n",
       "      <th></th>\n",
       "      <th></th>\n",
       "    </tr>\n",
       "  </thead>\n",
       "  <tbody>\n",
       "    <tr>\n",
       "      <th>1103775</th>\n",
       "      <td>0.017869</td>\n",
       "      <td>0.016858</td>\n",
       "      <td>0.016853</td>\n",
       "      <td>0.016853</td>\n",
       "      <td>0.016859</td>\n",
       "      <td>0.016871</td>\n",
       "      <td>0.016881</td>\n",
       "      <td>0.016893</td>\n",
       "      <td>0.0169</td>\n",
       "      <td>0.016901</td>\n",
       "      <td>...</td>\n",
       "      <td>0.017291</td>\n",
       "      <td>0.01742</td>\n",
       "      <td>0.017512</td>\n",
       "      <td>0.017555</td>\n",
       "      <td>0.01757</td>\n",
       "      <td>0.017576</td>\n",
       "      <td>0.017576</td>\n",
       "      <td>0.017594</td>\n",
       "      <td>0.017646</td>\n",
       "      <td>0.017722</td>\n",
       "    </tr>\n",
       "  </tbody>\n",
       "</table>\n",
       "<p>1 rows × 283 columns</p>\n",
       "</div>"
      ],
      "text/plain": [
       "              bin_0     bin_1     bin_2     bin_3     bin_4     bin_5  \\\n",
       "planet_id                                                               \n",
       "1103775    0.017869  0.016858  0.016853  0.016853  0.016859  0.016871   \n",
       "\n",
       "              bin_6     bin_7   bin_8     bin_9  ...   bin_273  bin_274  \\\n",
       "planet_id                                        ...                      \n",
       "1103775    0.016881  0.016893  0.0169  0.016901  ...  0.017291  0.01742   \n",
       "\n",
       "            bin_275   bin_276  bin_277   bin_278   bin_279   bin_280  \\\n",
       "planet_id                                                              \n",
       "1103775    0.017512  0.017555  0.01757  0.017576  0.017576  0.017594   \n",
       "\n",
       "            bin_281   bin_282  \n",
       "planet_id                      \n",
       "1103775    0.017646  0.017722  \n",
       "\n",
       "[1 rows x 283 columns]"
      ]
     },
     "execution_count": 68,
     "metadata": {},
     "output_type": "execute_result"
    }
   ],
   "source": [
    "high_res_df, _, _ = fit_all_curves(convolved_signal,\n",
    "                                   all_centres,\n",
    "                                   star_info,\n",
    "                                   breakpoints,\n",
    "                                   edges,\n",
    "                                   days_per_bin =  4.6 * TIME_BINS / (60 * 60 * 24),\n",
    "                                   impacts = impacts,\n",
    "                                   scale=SCALE,\n",
    "                                   limb_law = 'quadratic',\n",
    "                                   buffer = TRANSITION_BUFFER,\n",
    "                                   bad_planets = [],\n",
    "                                   show_plots = False,\n",
    "                                   max_edge_widths = (MAX_LEFT_EDGE,MAX_RIGHT_EDGE),\n",
    "                                   top_points = TOP_POINTS,\n",
    "                                   do_bat_fit = False\n",
    "                                   )\n",
    "\n",
    "high_res_df.head(3)"
   ]
  },
  {
   "cell_type": "markdown",
   "id": "9aa2cbe8",
   "metadata": {
    "papermill": {
     "duration": 0.03531,
     "end_time": "2025-09-24T22:47:48.071446",
     "exception": false,
     "start_time": "2025-09-24T22:47:48.036136",
     "status": "completed"
    },
    "tags": []
   },
   "source": [
    "## Postprocessing"
   ]
  },
  {
   "cell_type": "code",
   "execution_count": 69,
   "id": "8762d866",
   "metadata": {
    "execution": {
     "iopub.execute_input": "2025-09-24T22:47:48.145487Z",
     "iopub.status.busy": "2025-09-24T22:47:48.144559Z",
     "iopub.status.idle": "2025-09-24T22:47:48.182305Z",
     "shell.execute_reply": "2025-09-24T22:47:48.181405Z"
    },
    "papermill": {
     "duration": 0.076417,
     "end_time": "2025-09-24T22:47:48.184005",
     "exception": false,
     "start_time": "2025-09-24T22:47:48.107588",
     "status": "completed"
    },
    "tags": []
   },
   "outputs": [
    {
     "data": {
      "text/plain": [
       "array([0.0157914 , 0.01584263, 0.01583723, 0.01583719, 0.01584359])"
      ]
     },
     "execution_count": 69,
     "metadata": {},
     "output_type": "execute_result"
    }
   ],
   "source": [
    "high_res_predictions = {}\n",
    "\n",
    "for outer_fold in range(FOLDS):\n",
    "    fold_predictions = {}\n",
    "    for inner_fold in range(INNER_FOLDS):\n",
    "        offset_df = offset_predictions[f'fold_{outer_fold}_{inner_fold}'] \n",
    "        fgs_clipped = offset_df.iloc[:,:1].values.clip(min = -FGS_MAX_SHIFT, max = FGS_MAX_SHIFT)\n",
    "        airs_clipped = offset_df.iloc[:,1:].values.clip(min = -AIRS_MAX_SHIFT, max = AIRS_MAX_SHIFT)\n",
    "        interpolated_airs = interpolate_predictions(airs_clipped, centres, kind='quadratic')  #Doing this because the offset dataframe has only 13 points\n",
    "        interpolated = np.concatenate([fgs_clipped, interpolated_airs], axis=1)\n",
    "        fold_predictions[f'fold_{inner_fold}']  = high_res_df.values + interpolated\n",
    "    high_res_predictions[outer_fold] = fold_predictions\n",
    "\n",
    "high_res_predictions[0]['fold_0'][0,:5]"
   ]
  },
  {
   "cell_type": "code",
   "execution_count": 70,
   "id": "810d328d",
   "metadata": {
    "execution": {
     "iopub.execute_input": "2025-09-24T22:47:48.255832Z",
     "iopub.status.busy": "2025-09-24T22:47:48.255517Z",
     "iopub.status.idle": "2025-09-24T22:47:48.306036Z",
     "shell.execute_reply": "2025-09-24T22:47:48.305173Z"
    },
    "papermill": {
     "duration": 0.088305,
     "end_time": "2025-09-24T22:47:48.307741",
     "exception": false,
     "start_time": "2025-09-24T22:47:48.219436",
     "status": "completed"
    },
    "tags": []
   },
   "outputs": [
    {
     "data": {
      "text/plain": [
       "array([0.0157914 , 0.01587815, 0.01587839, 0.0158785 , 0.0158785 ])"
      ]
     },
     "execution_count": 70,
     "metadata": {},
     "output_type": "execute_result"
    }
   ],
   "source": [
    "interp_predictions = {}\n",
    "\n",
    "for outer_fold in range(FOLDS):\n",
    "    fold_predictions = {}\n",
    "    for inner_fold in range(INNER_FOLDS):\n",
    "        offset_df = offset_predictions[f'fold_{outer_fold}_{inner_fold}'] \n",
    "        fgs_clipped = offset_df.iloc[:,:1].values.clip(min = -FGS_MAX_SHIFT, max = FGS_MAX_SHIFT)\n",
    "        airs_clipped = offset_df.iloc[:,1:].values.clip(min = -AIRS_MAX_SHIFT, max = AIRS_MAX_SHIFT)\n",
    "        interpolated_airs = interpolate_predictions(airs_clipped, centres, kind='quadratic')  #quadratic, linear\n",
    "        interpolated_fits =  interpolate_predictions(poly_df.values[:,1:], centres, kind='quadratic')\n",
    "        fgs_predictions = fgs_clipped + poly_df.values[:,:1]\n",
    "        airs_predictions = interpolated_airs + interpolated_fits\n",
    "        fold_predictions[f'fold_{inner_fold}']  = np.concatenate([fgs_predictions, airs_predictions], axis=1)\n",
    "    interp_predictions[outer_fold] = fold_predictions\n",
    "\n",
    "interp_predictions[0]['fold_0'][0,:5]"
   ]
  },
  {
   "cell_type": "markdown",
   "id": "e17da3d5",
   "metadata": {
    "papermill": {
     "duration": 0.035276,
     "end_time": "2025-09-24T22:47:48.379375",
     "exception": false,
     "start_time": "2025-09-24T22:47:48.344099",
     "status": "completed"
    },
    "tags": []
   },
   "source": [
    "Now select the high res for the planets with a large transmission range."
   ]
  },
  {
   "cell_type": "markdown",
   "id": "7e530a82",
   "metadata": {
    "papermill": {
     "duration": 0.035443,
     "end_time": "2025-09-24T22:47:48.452368",
     "exception": false,
     "start_time": "2025-09-24T22:47:48.416925",
     "status": "completed"
    },
    "tags": []
   },
   "source": [
    "## Model the Uncertainty"
   ]
  },
  {
   "cell_type": "code",
   "execution_count": 71,
   "id": "93cd667e",
   "metadata": {
    "execution": {
     "iopub.execute_input": "2025-09-24T22:47:48.530434Z",
     "iopub.status.busy": "2025-09-24T22:47:48.529801Z",
     "iopub.status.idle": "2025-09-24T22:47:48.535822Z",
     "shell.execute_reply": "2025-09-24T22:47:48.534838Z"
    },
    "papermill": {
     "duration": 0.04709,
     "end_time": "2025-09-24T22:47:48.537786",
     "exception": false,
     "start_time": "2025-09-24T22:47:48.490696",
     "status": "completed"
    },
    "tags": []
   },
   "outputs": [],
   "source": [
    "def transform_target(df, poly_df, centres, ids):\n",
    "    fgs1_vals = df.values[:,:1]\n",
    "    airs_vals = df.values[:,centres]\n",
    "    true_binned = np.concatenate([fgs1_vals, airs_vals], axis=1)\n",
    "    col_names = ['bin_0'] + [f'bin_{centre}' for centre in centres]\n",
    "    true_binned_df = pd.DataFrame(true_binned, index=ids, columns=col_names)\n",
    "    target_df = pd.DataFrame(true_binned_df.values - poly_df.values, columns=true_binned_df.columns, index=true_binned_df.index) \n",
    "    return target_df"
   ]
  },
  {
   "cell_type": "code",
   "execution_count": 72,
   "id": "a2b2e07e",
   "metadata": {
    "execution": {
     "iopub.execute_input": "2025-09-24T22:47:48.614215Z",
     "iopub.status.busy": "2025-09-24T22:47:48.613475Z",
     "iopub.status.idle": "2025-09-24T22:47:48.622428Z",
     "shell.execute_reply": "2025-09-24T22:47:48.621477Z"
    },
    "papermill": {
     "duration": 0.049178,
     "end_time": "2025-09-24T22:47:48.624268",
     "exception": false,
     "start_time": "2025-09-24T22:47:48.575090",
     "status": "completed"
    },
    "tags": []
   },
   "outputs": [],
   "source": [
    "def bin_wavelengths_skip_first(self, data, method='mean'):\n",
    "        if data.ndim != 3:\n",
    "            raise ValueError(\"Input must be a 3D array (star, time, wavelength)\")\n",
    "    \n",
    "        N, T, W = data.shape\n",
    "        head = data[:, :, :1]  # Preserve first index (shape N, T, 1)\n",
    "        tail = data[:, :, 1:]  # Wavelengths from index 1 onward (shape N, T, W-1)\n",
    "    \n",
    "        tail_len = tail.shape[-1]\n",
    "        step_size = (tail_len-2*self.edge_buffer) / (self.wl_bins-1)\n",
    "        half_kernel = self.binning_kernel // 2\n",
    "        centres = [int(self.edge_buffer + (n + 1) * step_size) for n in range(self.wl_bins-2)]\n",
    "    \n",
    "        binned_list = []\n",
    "    \n",
    "        first_chunk = tail[:, :, :self.edge_buffer + half_kernel].mean(axis=-1, keepdims=True)\n",
    "        last_chunk = tail[:, :, -half_kernel-self.edge_buffer:].mean(axis=-1, keepdims=True)\n",
    "    \n",
    "        binned_list = [first_chunk]\n",
    "        for centre in centres:\n",
    "            start = max(0, centre - half_kernel)\n",
    "            end = min(tail_len, centre + half_kernel)\n",
    "            chunk = tail[:, :, start:end]  # shape (N, T, kernel_size)\n",
    "            binned_chunk = chunk.mean(axis=-1, keepdims=True)\n",
    "            binned_list.append(binned_chunk)  # shape (N, T, 1)\n",
    "        binned_list.append(last_chunk)\n",
    "        tail_binned = np.concatenate(binned_list, axis=-1)  # shape (N, T, wl_bins)\n",
    "        binned_data = np.concatenate([head, tail_binned], axis=2)  # shape (N, T, 1 + wl_bins)\n",
    "    \n",
    "        return binned_data, [self.edge_buffer] + centres + [W-1-self.edge_buffer]"
   ]
  },
  {
   "cell_type": "markdown",
   "id": "299da592",
   "metadata": {
    "papermill": {
     "duration": 0.036299,
     "end_time": "2025-09-24T22:47:48.696232",
     "exception": false,
     "start_time": "2025-09-24T22:47:48.659933",
     "status": "completed"
    },
    "tags": []
   },
   "source": [
    "#The centres are integers with respect to the airs columns (skips the first which is for FGS sensor),  for example  [5, 29, 54, 79, 103, 128, 153, 178, 202, 227, 252, 277]"
   ]
  },
  {
   "cell_type": "code",
   "execution_count": 73,
   "id": "7d34cf10",
   "metadata": {
    "execution": {
     "iopub.execute_input": "2025-09-24T22:47:48.776098Z",
     "iopub.status.busy": "2025-09-24T22:47:48.775430Z",
     "iopub.status.idle": "2025-09-24T22:47:48.782224Z",
     "shell.execute_reply": "2025-09-24T22:47:48.781162Z"
    },
    "papermill": {
     "duration": 0.048386,
     "end_time": "2025-09-24T22:47:48.784211",
     "exception": false,
     "start_time": "2025-09-24T22:47:48.735825",
     "status": "completed"
    },
    "tags": []
   },
   "outputs": [],
   "source": [
    "def localized_rmse(df, col_indices, kernel_size):\n",
    "    \"\"\"\n",
    "    Compute localized RMSE over sliding windows of columns.\n",
    "        \n",
    "    Returns\n",
    "    -------\n",
    "    pd.DataFrame\n",
    "        DataFrame with one column per index in `col_indices`,\n",
    "        each column containing the localized RMSE per row.\n",
    "    \"\"\"\n",
    "    results = {}\n",
    "    n_cols = df.shape[1]\n",
    "\n",
    "    for idx in col_indices:\n",
    "        # Define the window range\n",
    "        left = max(0, idx - kernel_size)\n",
    "        right = min(n_cols, idx + kernel_size + 1)\n",
    "        \n",
    "        # Extract subset and compute RMSE\n",
    "        window = df.iloc[:, left:right]\n",
    "        rmse = window.pow(2).mean(axis=1).pow(0.5)\n",
    "        results[f\"rmse_{idx}\"] = rmse\n",
    "\n",
    "    return pd.DataFrame(results, index=df.index)"
   ]
  },
  {
   "cell_type": "code",
   "execution_count": 74,
   "id": "494b2553",
   "metadata": {
    "execution": {
     "iopub.execute_input": "2025-09-24T22:47:48.862080Z",
     "iopub.status.busy": "2025-09-24T22:47:48.861364Z",
     "iopub.status.idle": "2025-09-24T22:47:48.868466Z",
     "shell.execute_reply": "2025-09-24T22:47:48.867384Z"
    },
    "papermill": {
     "duration": 0.048372,
     "end_time": "2025-09-24T22:47:48.870618",
     "exception": false,
     "start_time": "2025-09-24T22:47:48.822246",
     "status": "completed"
    },
    "tags": []
   },
   "outputs": [],
   "source": [
    "def get_error_dfs(preds,\n",
    "                  targets,\n",
    "                  centres,\n",
    "                  kernel_size = 35,\n",
    "                  #error_factor = ERROR_FACTOR,\n",
    "                  outer_folds = FOLDS,\n",
    "                  inner_folds = INNER_FOLDS,\n",
    "                  index = star_info.index\n",
    "                  ):\n",
    "\n",
    "    error_dfs = {}\n",
    "    for outer_fold in range(outer_folds):\n",
    "        for inner_fold in range(inner_folds):\n",
    "            error_df = pd.DataFrame(preds[outer_fold][f'fold_{inner_fold}'] - targets.values, columns=targets.columns, index = index)   #So we want to bin this with bins matching the predictions.\n",
    "            fgs_std = error_df.loc[fold_ids[outer_fold]['val_ids'][f'f{inner_fold}_val']].iloc[:, 0].abs() \n",
    "            airs_errors = error_df.iloc[:, 1:]\n",
    "            airs_local_rmse = localized_rmse(airs_errors, centres, kernel_size=35)  #Estimates the rsme in a window around the list of centres\n",
    "            airs_local_rmse = airs_local_rmse# * ERROR_FACTOR\n",
    "            fgs_std_df = error_df.iloc[:, 0].abs().to_frame(name='rmse_0')# * ERROR_FACTOR  \n",
    "            std_df = pd.concat([fgs_std_df, airs_local_rmse], axis=1)\n",
    "            error_dfs[f'fold_{outer_fold}_{inner_fold}'] = std_df  #airs_local_rmse  #airs_std_df\n",
    "\n",
    "    return error_dfs\n",
    "    "
   ]
  },
  {
   "cell_type": "code",
   "execution_count": 75,
   "id": "6dc945d0",
   "metadata": {
    "execution": {
     "iopub.execute_input": "2025-09-24T22:47:48.946327Z",
     "iopub.status.busy": "2025-09-24T22:47:48.945656Z",
     "iopub.status.idle": "2025-09-24T22:47:48.950123Z",
     "shell.execute_reply": "2025-09-24T22:47:48.949301Z"
    },
    "papermill": {
     "duration": 0.04356,
     "end_time": "2025-09-24T22:47:48.952077",
     "exception": false,
     "start_time": "2025-09-24T22:47:48.908517",
     "status": "completed"
    },
    "tags": []
   },
   "outputs": [],
   "source": [
    "if TRAIN_NEW_MODELS:\n",
    "    lf_error_dfs = get_error_dfs(interp_predictions,targ_df, centres)\n",
    "    hf_error_dfs = get_error_dfs(high_res_predictions,targ_df, centres)\n",
    "    display(lf_error_dfs['fold_0_0'] )"
   ]
  },
  {
   "cell_type": "markdown",
   "id": "7e89ff53",
   "metadata": {
    "papermill": {
     "duration": 0.035463,
     "end_time": "2025-09-24T22:47:49.023961",
     "exception": false,
     "start_time": "2025-09-24T22:47:48.988498",
     "status": "completed"
    },
    "tags": []
   },
   "source": [
    "**Now let's visualise this error and have a think about how to comine the hf predictions and interpolated predictions.**"
   ]
  },
  {
   "cell_type": "code",
   "execution_count": 76,
   "id": "00a59fbe",
   "metadata": {
    "execution": {
     "iopub.execute_input": "2025-09-24T22:47:49.096470Z",
     "iopub.status.busy": "2025-09-24T22:47:49.096101Z",
     "iopub.status.idle": "2025-09-24T22:47:49.103262Z",
     "shell.execute_reply": "2025-09-24T22:47:49.102406Z"
    },
    "papermill": {
     "duration": 0.045472,
     "end_time": "2025-09-24T22:47:49.105027",
     "exception": false,
     "start_time": "2025-09-24T22:47:49.059555",
     "status": "completed"
    },
    "tags": []
   },
   "outputs": [],
   "source": [
    "def stack_and_plot_dfs(dfs, index = star_info.index):\n",
    "    '''Take a dictionary of dataframes, stack them and take the mean, then plot a histogram'''\n",
    "    arr = np.stack([df.to_numpy() for df in dfs.values()], axis=0)\n",
    "    stacked_error_df = pd.concat(dfs, names=['source', 'original_index']).reset_index()  #So this dataframe has a 'localised error around each of the bins'\n",
    "\n",
    "    plt.figure(figsize=(10, 6))\n",
    "    values = stacked_error_df.iloc[:, 3:].values.ravel()\n",
    "    mean_values = np.mean(values)\n",
    "    print(mean_values)\n",
    "    values = pd.Series(values).replace([np.inf, -np.inf], np.nan).dropna()\n",
    "    sns.histplot(values, bins=40, kde=False)  \n",
    "    plt.title('Histogram of Row-wise Standard Deviation')\n",
    "    plt.xlabel('RMS error')\n",
    "    plt.ylabel('Count')\n",
    "    plt.yscale('log')\n",
    "    plt.tight_layout()\n",
    "    plt.show()\n",
    "\n",
    "if TRAIN_NEW_MODELS:\n",
    "    stack_and_plot_dfs(lf_error_dfs)"
   ]
  },
  {
   "cell_type": "code",
   "execution_count": 77,
   "id": "0f5a404c",
   "metadata": {
    "execution": {
     "iopub.execute_input": "2025-09-24T22:47:49.178765Z",
     "iopub.status.busy": "2025-09-24T22:47:49.177968Z",
     "iopub.status.idle": "2025-09-24T22:47:49.182134Z",
     "shell.execute_reply": "2025-09-24T22:47:49.181275Z"
    },
    "papermill": {
     "duration": 0.042712,
     "end_time": "2025-09-24T22:47:49.183910",
     "exception": false,
     "start_time": "2025-09-24T22:47:49.141198",
     "status": "completed"
    },
    "tags": []
   },
   "outputs": [],
   "source": [
    "if TRAIN_NEW_MODELS:\n",
    "    stack_and_plot_dfs(hf_error_dfs)"
   ]
  },
  {
   "cell_type": "markdown",
   "id": "43809b52",
   "metadata": {
    "papermill": {
     "duration": 0.036185,
     "end_time": "2025-09-24T22:47:49.255892",
     "exception": false,
     "start_time": "2025-09-24T22:47:49.219707",
     "status": "completed"
    },
    "tags": []
   },
   "source": [
    "Interesting result, but not completely unexpected.  Essentially we've binned the high-res df back into the same bins as the low-res df, so the 'localised' error is virtually identical.\n",
    "\n",
    "Let's look at the overall rmse error for the whole curve."
   ]
  },
  {
   "cell_type": "code",
   "execution_count": 78,
   "id": "b763d468",
   "metadata": {
    "execution": {
     "iopub.execute_input": "2025-09-24T22:47:49.328029Z",
     "iopub.status.busy": "2025-09-24T22:47:49.327106Z",
     "iopub.status.idle": "2025-09-24T22:47:49.333482Z",
     "shell.execute_reply": "2025-09-24T22:47:49.332627Z"
    },
    "papermill": {
     "duration": 0.044282,
     "end_time": "2025-09-24T22:47:49.335091",
     "exception": false,
     "start_time": "2025-09-24T22:47:49.290809",
     "status": "completed"
    },
    "tags": []
   },
   "outputs": [],
   "source": [
    "def get_global_rmse(preds,\n",
    "                    targets,\n",
    "                    #error_factor=ERROR_FACTOR,\n",
    "                    outer_folds=FOLDS,\n",
    "                    inner_folds=INNER_FOLDS,\n",
    "                    index=star_info.index,\n",
    "                    exclude = EXCLUDE_PLANETS[0],\n",
    "                    ):\n",
    "\n",
    "    rmse_list = []\n",
    "    for outer_fold in range(outer_folds):\n",
    "        for inner_fold in range(inner_folds):\n",
    "            error_df = pd.DataFrame(\n",
    "                preds[outer_fold][f'fold_{inner_fold}'] - targets.values,\n",
    "                columns=targets.columns,\n",
    "                index=index\n",
    "            ).drop(index=exclude)\n",
    "            rmse = error_df.pow(2).mean(axis=1).pow(0.5) #* error_factor\n",
    "            rmse_list.append(rmse)\n",
    "\n",
    "    # Combine into DataFrame: rows = index, cols = folds\n",
    "    rmse_df = pd.concat(rmse_list, axis=1)\n",
    "\n",
    "    # Mean across folds\n",
    "    return rmse_df.mean(axis=1)"
   ]
  },
  {
   "cell_type": "code",
   "execution_count": 79,
   "id": "0429848b",
   "metadata": {
    "execution": {
     "iopub.execute_input": "2025-09-24T22:47:49.406298Z",
     "iopub.status.busy": "2025-09-24T22:47:49.405963Z",
     "iopub.status.idle": "2025-09-24T22:47:49.410608Z",
     "shell.execute_reply": "2025-09-24T22:47:49.409777Z"
    },
    "papermill": {
     "duration": 0.042245,
     "end_time": "2025-09-24T22:47:49.412478",
     "exception": false,
     "start_time": "2025-09-24T22:47:49.370233",
     "status": "completed"
    },
    "tags": []
   },
   "outputs": [],
   "source": [
    "if TRAIN_NEW_MODELS:\n",
    "    hf_rmse = get_global_rmse(high_res_predictions, targ_df)\n",
    "    lf_rmse =  get_global_rmse(interp_predictions, targ_df)\n",
    "    display(np.mean(hf_rmse))\n",
    "    display(np.mean(lf_rmse))"
   ]
  },
  {
   "cell_type": "markdown",
   "id": "48dc202d",
   "metadata": {
    "papermill": {
     "duration": 0.036305,
     "end_time": "2025-09-24T22:47:49.484402",
     "exception": false,
     "start_time": "2025-09-24T22:47:49.448097",
     "status": "completed"
    },
    "tags": []
   },
   "source": [
    "That's a huge win for the LF RMSE!    But I suspect the story is more nuanced.  Let's plot histograms."
   ]
  },
  {
   "cell_type": "code",
   "execution_count": 80,
   "id": "1cf6fc5c",
   "metadata": {
    "execution": {
     "iopub.execute_input": "2025-09-24T22:47:49.555449Z",
     "iopub.status.busy": "2025-09-24T22:47:49.555061Z",
     "iopub.status.idle": "2025-09-24T22:47:49.560897Z",
     "shell.execute_reply": "2025-09-24T22:47:49.560030Z"
    },
    "papermill": {
     "duration": 0.043245,
     "end_time": "2025-09-24T22:47:49.562659",
     "exception": false,
     "start_time": "2025-09-24T22:47:49.519414",
     "status": "completed"
    },
    "tags": []
   },
   "outputs": [],
   "source": [
    "if TRAIN_NEW_MODELS:\n",
    "    rmse_df = pd.DataFrame({\n",
    "                            \"High-res\": hf_rmse,\n",
    "                            \"Low-res\": lf_rmse\n",
    "                            }).melt(var_name=\"Type\", value_name=\"RMSE\")\n",
    "    \n",
    "    # Clean up infinities and NaNs\n",
    "    rmse_df = rmse_df.replace([np.inf, -np.inf], np.nan).dropna(subset=[\"RMSE\"])\n",
    "    \n",
    "    plt.figure(figsize=(10, 6))\n",
    "    sns.histplot(data=rmse_df, x=\"RMSE\", hue=\"Type\", bins=50, alpha=0.5, kde=False)\n",
    "    \n",
    "    plt.xlabel(\"Mean RMSE across folds (per index)\")\n",
    "    plt.yscale('log')\n",
    "    plt.ylabel(\"Frequency\")\n",
    "    plt.title(\"Distribution of RMSE (High-res vs Low-res)\")\n",
    "    plt.show()"
   ]
  },
  {
   "cell_type": "markdown",
   "id": "9fffc27e",
   "metadata": {
    "papermill": {
     "duration": 0.034734,
     "end_time": "2025-09-24T22:47:49.632063",
     "exception": false,
     "start_time": "2025-09-24T22:47:49.597329",
     "status": "completed"
    },
    "tags": []
   },
   "source": [
    "Now the trick is to figure out if there is a feature that could seperate these two."
   ]
  },
  {
   "cell_type": "code",
   "execution_count": 81,
   "id": "9137ab7a",
   "metadata": {
    "execution": {
     "iopub.execute_input": "2025-09-24T22:47:49.704078Z",
     "iopub.status.busy": "2025-09-24T22:47:49.703727Z",
     "iopub.status.idle": "2025-09-24T22:47:49.708897Z",
     "shell.execute_reply": "2025-09-24T22:47:49.708008Z"
    },
    "papermill": {
     "duration": 0.043954,
     "end_time": "2025-09-24T22:47:49.710711",
     "exception": false,
     "start_time": "2025-09-24T22:47:49.666757",
     "status": "completed"
    },
    "tags": []
   },
   "outputs": [],
   "source": [
    "if TRAIN_NEW_MODELS:\n",
    "    difference_df = lf_rmse - hf_rmse  #negative means that hf_rmse is a larger value, therefore lf_rmse is a better choice\n",
    "\n",
    "    plt.figure(figsize=(10, 6))\n",
    "    sns.histplot(data=difference_df, bins=50, alpha=0.5, kde=False)\n",
    "    \n",
    "    plt.xlabel(\"Mean RMSE across folds (per index)\")\n",
    "    plt.yscale('log')\n",
    "    plt.ylabel(\"Frequency\")\n",
    "    plt.title(\"Distribution of RMSE (High-res vs Low-res)\")\n",
    "    plt.show()"
   ]
  },
  {
   "cell_type": "code",
   "execution_count": 82,
   "id": "ae1838c4",
   "metadata": {
    "execution": {
     "iopub.execute_input": "2025-09-24T22:47:49.786759Z",
     "iopub.status.busy": "2025-09-24T22:47:49.786416Z",
     "iopub.status.idle": "2025-09-24T22:47:49.791928Z",
     "shell.execute_reply": "2025-09-24T22:47:49.791069Z"
    },
    "papermill": {
     "duration": 0.045736,
     "end_time": "2025-09-24T22:47:49.793613",
     "exception": false,
     "start_time": "2025-09-24T22:47:49.747877",
     "status": "completed"
    },
    "tags": []
   },
   "outputs": [],
   "source": [
    "if TRAIN_NEW_MODELS:\n",
    "    cols_of_interest = ['polypoints_std', 'polypoints_range', 'rel_noise', 'mean_first_diff', 'mean_second_diff']  #I've inspected the rest, none looked helpful    'has_two_breakpoints'\n",
    "\n",
    "    for col in cols_of_interest:\n",
    "        plt.figure(figsize=(10, 6))\n",
    "        sns.scatterplot(x=feat_dfs['bin_0'][col], y=difference_df, s=5)\n",
    "        plt.xlabel(col)\n",
    "        plt.axhline(0, color='red', linestyle='--', linewidth=1)  # horizontal line at 0\n",
    "        plt.ylabel(\"Interpolated rmse - fully fitted rmse\")\n",
    "        plt.title(f\"{difference_df.name} vs {col}\")\n",
    "        plt.show()"
   ]
  },
  {
   "cell_type": "markdown",
   "id": "0cdfa22f",
   "metadata": {
    "papermill": {
     "duration": 0.03727,
     "end_time": "2025-09-24T22:47:49.866647",
     "exception": false,
     "start_time": "2025-09-24T22:47:49.829377",
     "status": "completed"
    },
    "tags": []
   },
   "source": [
    "So in general it's better to use the interpolated fit.     Could try 'mean_first_diff' > 0.0008  as a mask to select the hf fit.  We would get a decent way to select the better samples for hf fitting.   I suspect what is really going on here is something to do with relative noise, compared to the range/slope.  So creating a feature like this might help.  Might also try adding  'has_two_breakpoints'  to the condition"
   ]
  },
  {
   "cell_type": "code",
   "execution_count": 83,
   "id": "660cd5b9",
   "metadata": {
    "execution": {
     "iopub.execute_input": "2025-09-24T22:47:49.945675Z",
     "iopub.status.busy": "2025-09-24T22:47:49.945344Z",
     "iopub.status.idle": "2025-09-24T22:47:49.953879Z",
     "shell.execute_reply": "2025-09-24T22:47:49.953023Z"
    },
    "papermill": {
     "duration": 0.04991,
     "end_time": "2025-09-24T22:47:49.955650",
     "exception": false,
     "start_time": "2025-09-24T22:47:49.905740",
     "status": "completed"
    },
    "tags": []
   },
   "outputs": [
    {
     "data": {
      "text/plain": [
       "(1, 283)"
      ]
     },
     "execution_count": 83,
     "metadata": {},
     "output_type": "execute_result"
    }
   ],
   "source": [
    "mask = (feat_dfs['bin_0']['mean_first_diff'] < USE_INTERPOLATED_FIT_THRESHOLD).to_numpy()[:, None]   #fold doesn't matter here\n",
    "combined_predictions = {}\n",
    "\n",
    "for outer_fold in range(FOLDS):\n",
    "    inner_fold_predictions = {}\n",
    "    for inner_fold in range(INNER_FOLDS):\n",
    "        combined_preds =  np.where(mask, interp_predictions[outer_fold][f'fold_{inner_fold}'], high_res_predictions[outer_fold][f'fold_{inner_fold}'])\n",
    "        inner_fold_predictions[f'fold_{inner_fold}'] = combined_preds\n",
    "    combined_predictions[outer_fold] = inner_fold_predictions\n",
    "\n",
    "combined_predictions[0]['fold_0'].shape"
   ]
  },
  {
   "cell_type": "code",
   "execution_count": 84,
   "id": "0e37dcd6",
   "metadata": {
    "execution": {
     "iopub.execute_input": "2025-09-24T22:47:50.034956Z",
     "iopub.status.busy": "2025-09-24T22:47:50.034069Z",
     "iopub.status.idle": "2025-09-24T22:47:50.040604Z",
     "shell.execute_reply": "2025-09-24T22:47:50.039712Z"
    },
    "papermill": {
     "duration": 0.047198,
     "end_time": "2025-09-24T22:47:50.042373",
     "exception": false,
     "start_time": "2025-09-24T22:47:49.995175",
     "status": "completed"
    },
    "tags": []
   },
   "outputs": [],
   "source": [
    "if TRAIN_NEW_MODELS:\n",
    "    error_dfs = {}\n",
    "    for outer_fold in range(FOLDS):\n",
    "        for inner_fold in range(INNER_FOLDS):\n",
    "            error_df = pd.DataFrame(combined_predictions[outer_fold][f'fold_{inner_fold}'] - targ_df.values, columns=targ_df.columns, index = star_info.index)   #So we want to bin this with bins matching the predictions.\n",
    "            fgs_std = error_df.loc[fold_ids[outer_fold]['val_ids'][f'f{inner_fold}_val']].iloc[:, 0].abs() \n",
    "            airs_errors = error_df.iloc[:, 1:]\n",
    "            airs_local_rmse = localized_rmse(airs_errors, centres, kernel_size=35)  #Estimates the rsme in a window around the list of centres\n",
    "            #airs_local_rmse = airs_local_rmse * ERROR_FACTOR\n",
    "            fgs_std_df = error_df.iloc[:, 0].abs().to_frame(name='rmse_0') #* ERROR_FACTOR\n",
    "            std_df = pd.concat([fgs_std_df, airs_local_rmse], axis=1)\n",
    "            error_dfs[f'fold_{outer_fold}_{inner_fold}'] = std_df"
   ]
  },
  {
   "cell_type": "code",
   "execution_count": 85,
   "id": "da59fbf5",
   "metadata": {
    "execution": {
     "iopub.execute_input": "2025-09-24T22:47:50.118863Z",
     "iopub.status.busy": "2025-09-24T22:47:50.118524Z",
     "iopub.status.idle": "2025-09-24T22:47:50.125557Z",
     "shell.execute_reply": "2025-09-24T22:47:50.124507Z"
    },
    "papermill": {
     "duration": 0.047839,
     "end_time": "2025-09-24T22:47:50.127377",
     "exception": false,
     "start_time": "2025-09-24T22:47:50.079538",
     "status": "completed"
    },
    "tags": []
   },
   "outputs": [],
   "source": [
    "def stack_and_plot_dfs(dfs, index = star_info.index):\n",
    "    '''Take a dictionary of dataframes, stack them and take the mean, then plot a histogram'''\n",
    "    arr = np.stack([df.to_numpy() for df in dfs.values()], axis=0)\n",
    "    mean_arr = arr.mean(axis=0)\n",
    "    mean_error_df = pd.DataFrame(mean_arr, index = index)  #, columns = [0] + [centres]\n",
    "    stacked_error_df = pd.concat(error_dfs, names=['source', 'original_index']).reset_index()  #So this dataframe has a 'localised error around each of the bins'\n",
    "\n",
    "    plt.figure(figsize=(10, 6))\n",
    "    values = stacked_error_df.iloc[:, 3:].values.ravel()\n",
    "    values = pd.Series(values).replace([np.inf, -np.inf], np.nan).dropna()\n",
    "    sns.histplot(values, bins=40, kde=False)  \n",
    "    plt.title('Histogram of Row-wise Standard Deviation')\n",
    "    plt.xlabel('RMS error')\n",
    "    plt.ylabel('Count')\n",
    "    plt.yscale('log')\n",
    "    plt.tight_layout()\n",
    "    plt.show()\n",
    "    "
   ]
  },
  {
   "cell_type": "code",
   "execution_count": 86,
   "id": "84537004",
   "metadata": {
    "execution": {
     "iopub.execute_input": "2025-09-24T22:47:50.256139Z",
     "iopub.status.busy": "2025-09-24T22:47:50.255489Z",
     "iopub.status.idle": "2025-09-24T22:47:50.261398Z",
     "shell.execute_reply": "2025-09-24T22:47:50.260462Z"
    },
    "papermill": {
     "duration": 0.098414,
     "end_time": "2025-09-24T22:47:50.263290",
     "exception": false,
     "start_time": "2025-09-24T22:47:50.164876",
     "status": "completed"
    },
    "tags": []
   },
   "outputs": [],
   "source": [
    "if TRAIN_NEW_MODELS:\n",
    "    rmse_cols = [b.replace(\"bin_\", \"rmse_\") for b in poly_df.columns]\n",
    "    arr = np.stack([df.to_numpy() for df in error_dfs.values()], axis=0)\n",
    "    print(arr.shape)\n",
    "\n",
    "    # Take mean over that axis This is for visualisation only, no worries about data leakage\n",
    "    mean_arr = arr.mean(axis=0)\n",
    "    \n",
    "    # Rebuild DataFrame\n",
    "    mean_error_df = pd.DataFrame(mean_arr, index=star_info.index, columns = rmse_cols)  #, columns = [0] + [centres]\n",
    "    stacked_error_df = pd.concat(error_dfs, names=['source', 'original_index']).reset_index()  #So this dataframe has a 'localised error around each of the bins'"
   ]
  },
  {
   "cell_type": "code",
   "execution_count": 87,
   "id": "2bb5f15b",
   "metadata": {
    "execution": {
     "iopub.execute_input": "2025-09-24T22:47:50.340874Z",
     "iopub.status.busy": "2025-09-24T22:47:50.340020Z",
     "iopub.status.idle": "2025-09-24T22:47:50.345993Z",
     "shell.execute_reply": "2025-09-24T22:47:50.345057Z"
    },
    "papermill": {
     "duration": 0.047496,
     "end_time": "2025-09-24T22:47:50.347846",
     "exception": false,
     "start_time": "2025-09-24T22:47:50.300350",
     "status": "completed"
    },
    "tags": []
   },
   "outputs": [],
   "source": [
    "if TRAIN_NEW_MODELS:\n",
    "    plt.figure(figsize=(10, 6))\n",
    "    values = stacked_error_df.iloc[:, 3:].values.ravel()\n",
    "    values = pd.Series(values).replace([np.inf, -np.inf], np.nan).dropna()\n",
    "    sns.histplot(values, bins=40, kde=False)  \n",
    "    plt.title('Histogram of Row-wise Standard Deviation')\n",
    "    plt.xlabel('RMS error')\n",
    "    plt.ylabel('Count')\n",
    "    plt.yscale('log')\n",
    "    plt.tight_layout()\n",
    "    plt.show()"
   ]
  },
  {
   "cell_type": "code",
   "execution_count": 88,
   "id": "8d1468f7",
   "metadata": {
    "execution": {
     "iopub.execute_input": "2025-09-24T22:47:50.427700Z",
     "iopub.status.busy": "2025-09-24T22:47:50.426721Z",
     "iopub.status.idle": "2025-09-24T22:47:50.431937Z",
     "shell.execute_reply": "2025-09-24T22:47:50.431173Z"
    },
    "papermill": {
     "duration": 0.047753,
     "end_time": "2025-09-24T22:47:50.433653",
     "exception": false,
     "start_time": "2025-09-24T22:47:50.385900",
     "status": "completed"
    },
    "tags": []
   },
   "outputs": [],
   "source": [
    "if TRAIN_NEW_MODELS:\n",
    "    airs_badies = list(stacked_error_df[stacked_error_df[f'rmse_{centres[0]}'] >= 0.002]['original_index'].unique())\n",
    "    print(airs_badies)"
   ]
  },
  {
   "cell_type": "code",
   "execution_count": 89,
   "id": "08908a45",
   "metadata": {
    "execution": {
     "iopub.execute_input": "2025-09-24T22:47:50.510097Z",
     "iopub.status.busy": "2025-09-24T22:47:50.509391Z",
     "iopub.status.idle": "2025-09-24T22:47:50.520462Z",
     "shell.execute_reply": "2025-09-24T22:47:50.519672Z"
    },
    "papermill": {
     "duration": 0.052014,
     "end_time": "2025-09-24T22:47:50.522169",
     "exception": false,
     "start_time": "2025-09-24T22:47:50.470155",
     "status": "completed"
    },
    "tags": []
   },
   "outputs": [],
   "source": [
    "def get_local_features(bins_df, preds, high_res_df, hf_preds, lf_preds, centre, kernel_size=19):\n",
    "    '''Derive features related to the local behavior around the bin centre\n",
    "       bins_df:  Predicted offsets from previous LGBM model for this fold\n",
    "       preds_df:  Fitted Polynomials for every point\n",
    "       centre:  The bin index,  ie bin_{centre}\n",
    "    '''\n",
    "    \n",
    "    def mean_bin_diff_at_col(df, col_name):\n",
    "        \"\"\"\n",
    "        Compute mean difference for a given column name in a DataFrame.\n",
    "        - Middle columns: difference to mean of neighbors\n",
    "        - Edge columns: difference to single neighbor\n",
    "        \"\"\"\n",
    "        cols = df.columns\n",
    "        col_idx = cols.get_loc(col_name)  # get positional index\n",
    "        n_cols = len(cols)\n",
    "    \n",
    "        if col_idx == 0:\n",
    "            # first column, only right neighbor\n",
    "            return df[col_name] - df.iloc[:, col_idx + 1]\n",
    "        elif col_idx == n_cols - 1:\n",
    "            # last column, only left neighbor\n",
    "            return df[col_name] - df.iloc[:, col_idx - 1]\n",
    "        else:\n",
    "            # middle columns, average of left and right\n",
    "            return df[col_name] - (df.iloc[:, col_idx - 1] + df.iloc[:, col_idx + 1]) / 2\n",
    "\n",
    "    #preds = preds_df.values\n",
    "    bins = bins_df.values\n",
    "    \n",
    "    bin_names = list(bins_df.columns)\n",
    "    bin_idxs = [int(b.split(\"_\")[1]) for b in bin_names]\n",
    "    \n",
    "\n",
    "    \n",
    "    min_idx = max(0, centre - kernel_size//2)\n",
    "    max_idx = min(preds.shape[1], centre + kernel_size//2)\n",
    "    local_col_idxs = list(range(min_idx, max_idx))\n",
    "\n",
    "    local_bins = bins_df[f'bin_{centre}'].values\n",
    "    local_preds = preds[:,local_col_idxs]\n",
    "    local_first_diffs = np.diff(local_preds, n=1, axis=1)\n",
    "    local_second_diffs = np.diff(local_preds, n=2, axis=1)\n",
    "\n",
    "\n",
    "    local_mean_first_diffs = np.mean(local_first_diffs, axis=1)\n",
    "    local_max_second_diffs = np.max(local_second_diffs, axis=1)\n",
    "    local_mean_second_diffs = np.mean(local_second_diffs, axis=1)\n",
    "\n",
    "    \n",
    "    \n",
    "    local_means = np.mean(local_preds, axis=1)\n",
    "    local_residuals = local_preds -  preds[:,[centre]]\n",
    "\n",
    "    local_residuals_mean = np.mean(local_residuals, axis=1)\n",
    "    local_residuals_std = np.std(local_residuals, axis=1)\n",
    "    # flatten the difference to 1D\n",
    "    local_mean_diff = (local_means - preds[:, centre])\n",
    "    bin_slope = mean_bin_diff_at_col(bins_df, f'bin_{centre}').values\n",
    "\n",
    "    local_hf_lf_diff = hf_preds - lf_preds \n",
    "    local_rms_hf_lf_diff =rms = np.sqrt(np.mean(local_hf_lf_diff**2, axis=1))\n",
    "\n",
    "    \n",
    "\n",
    "    local_feats = np.concatenate([local_residuals_mean[:, None],\n",
    "                                 local_residuals_std[:, None],\n",
    "                                 #local_mean_diff[:, None]\n",
    "                                  bin_slope[:,None],\n",
    "                                  #local_mean_first_diffs[:,None],\n",
    "                                  local_max_second_diffs[:,None],\n",
    "                                  #local_mean_second_diffs[:,None],\n",
    "                                  #local_rms_hf_lf_diff[:,None]\n",
    "                                 ],\n",
    "                                 axis=1)\n",
    "\n",
    "    col_names = ['local_residuals_mean', 'local_residuals_std', 'bin_slope', 'local_max_second_diffs', ] # 'local_mean_diff' 'local_mean_first_diffs',  'local_max_second_diffs', 'local_mean_second_diffs' 'local_rms_hf_lf_diff' \n",
    "    local_feats_df = pd.DataFrame(local_feats, index=bins_df.index, columns = col_names)\n",
    "    \n",
    "    return local_feats_df"
   ]
  },
  {
   "cell_type": "code",
   "execution_count": 90,
   "id": "0a8a29e1",
   "metadata": {
    "execution": {
     "iopub.execute_input": "2025-09-24T22:47:50.595806Z",
     "iopub.status.busy": "2025-09-24T22:47:50.595104Z",
     "iopub.status.idle": "2025-09-24T22:47:50.604115Z",
     "shell.execute_reply": "2025-09-24T22:47:50.603379Z"
    },
    "papermill": {
     "duration": 0.048445,
     "end_time": "2025-09-24T22:47:50.605984",
     "exception": false,
     "start_time": "2025-09-24T22:47:50.557539",
     "status": "completed"
    },
    "tags": []
   },
   "outputs": [],
   "source": [
    "def residual_by_savgol(X, window=51, polyorder=3):\n",
    "\n",
    "    n_rows, n_cols = X.shape\n",
    "    if window >= n_cols:\n",
    "        window = n_cols - 1 if (n_cols - 1) % 2 == 1 else n_cols - 2\n",
    "    if window % 2 == 0:\n",
    "        window += 1\n",
    "    \n",
    "    trends = np.zeros_like(X)\n",
    "    residuals = np.zeros_like(X)\n",
    "    for i in range(n_rows):\n",
    "        trends[i] = savgol_filter(X[i], window_length=window, polyorder=polyorder, mode='mirror')\n",
    "        residuals[i] = X[i] - trends[i]\n",
    "    return residuals \n",
    "\n",
    "\n",
    "def get_global_features(binned_offsets,\n",
    "                        binned_fits,\n",
    "                        high_res_fits,\n",
    "                        hf_preds,\n",
    "                        lf_preds):\n",
    "\n",
    "    lf_residuals = residual_by_savgol(high_res_fits.values, window=51)\n",
    "    hf_residuals = residual_by_savgol(high_res_fits.values, window=11)\n",
    "\n",
    "    rms_offset = np.sqrt(np.mean(binned_offsets**2, axis=1))\n",
    "    rms_residual_lf = np.sqrt(np.mean(lf_residuals**2, axis=1))\n",
    "    max_residual_lf = np.sqrt(np.max(lf_residuals**2, axis=1))\n",
    "    rms_residual_hf = np.sqrt(np.mean(hf_residuals**2, axis=1))\n",
    "    max_residual_hf = np.sqrt(np.max(hf_residuals**2, axis=1))\n",
    "    binned_fits_range = np.ptp(binned_fits.iloc[:, 1:].values, axis=1)\n",
    "    hf_residual_bin_range_ratio = rms_residual_hf / binned_fits_range\n",
    "    \n",
    "    hf_lf_diff = hf_preds - lf_preds\n",
    "    hf_lf_rms_diff = np.sqrt(np.mean(hf_lf_diff**2, axis=1))\n",
    "\n",
    "    global_df = pd.DataFrame({\n",
    "        'rms_residual_lf': rms_residual_lf,\n",
    "        'max_residual_lf': max_residual_lf,   \n",
    "        #'rms_residual_hf': rms_residual_hf,   #removed for batman version\n",
    "        #'max_residual_hf': max_residual_hf,   #removed for batman version \n",
    "        'rms_offset': rms_offset,\n",
    "        'hf_residual_bin_range_ratio': hf_residual_bin_range_ratio,\n",
    "        'hf_lf_rms_diff': hf_lf_rms_diff,\n",
    "    }, index=high_res_fits.index)\n",
    "\n",
    "    return global_df"
   ]
  },
  {
   "cell_type": "code",
   "execution_count": 91,
   "id": "296de0e4",
   "metadata": {
    "execution": {
     "iopub.execute_input": "2025-09-24T22:47:50.678741Z",
     "iopub.status.busy": "2025-09-24T22:47:50.678106Z",
     "iopub.status.idle": "2025-09-24T22:47:52.362052Z",
     "shell.execute_reply": "2025-09-24T22:47:52.360992Z"
    },
    "papermill": {
     "duration": 1.722069,
     "end_time": "2025-09-24T22:47:52.364220",
     "exception": false,
     "start_time": "2025-09-24T22:47:50.642151",
     "status": "completed"
    },
    "tags": []
   },
   "outputs": [],
   "source": [
    "fold_features = {}\n",
    "for outer_fold in range(FOLDS):\n",
    "    #Let's create a feature here from the variance of the inner fold predictions for the outer-fold\n",
    "    #We can work directly with the offsets, since all folds use the same base fit\n",
    "    offset_dfs = [offset_predictions[f'fold_{outer_fold}_{inner_fold}'] for inner_fold in range(INNER_FOLDS)]\n",
    "\n",
    "    stacked = np.stack([df.values for df in offset_dfs], axis=0)\n",
    "    std_values = np.std(stacked, axis=0, ddof=0) \n",
    "    columns = [f'std_{col}' for col in offset_dfs[0].columns]\n",
    "    fold_rms_df = pd.DataFrame(std_values, index=offset_dfs[0].index, columns=columns)\n",
    "    #columns will have headers rms_rmse_**\n",
    "    \n",
    "    for inner_fold in range(INNER_FOLDS):\n",
    "        binned_preds_df = offset_predictions[f'fold_{outer_fold}_{inner_fold}'].copy()\n",
    "        features_df = pd.concat([extra_feats_df, star_info], axis = 1)\n",
    "        features_df = features_df[ERROR_FEATURES]\n",
    "        lf_preds_df = interp_predictions[outer_fold][f'fold_{inner_fold}']\n",
    "        hf_preds_df = high_res_predictions[outer_fold][f'fold_{inner_fold}']\n",
    "        comb_preds = combined_predictions[outer_fold][f'fold_{inner_fold}']\n",
    "        \n",
    "        features_df = pd.concat([binned_preds_df,\n",
    "                                 #poly_df,\n",
    "                                 features_df], axis = 1)\n",
    "        \n",
    "        features_df = features_df[ERROR_FEATURES + list(binned_preds_df.columns)]  #Need to add bin-specific features here\n",
    "\n",
    "        global_features_df = get_global_features(binned_preds_df, poly_df, high_res_df, hf_preds_df, lf_preds_df)\n",
    "        #global_features_df['use_interpolated'] = (features_df['polypoints_range'] <= USE_INTERPOLATED_FIT_THRESHOLD).astype(int)\n",
    "\n",
    "        features_dfs = {}\n",
    "        for centre in [0] + centres:\n",
    "            local_features_df = get_local_features(binned_preds_df,\n",
    "                                                   comb_preds,  #Numpy array\n",
    "                                                   high_res_df,\n",
    "                                                   hf_preds_df,\n",
    "                                                   lf_preds_df,\n",
    "                                                   centre,\n",
    "                                                   kernel_size = 19)\n",
    "            \n",
    "            local_fit_features = feat_dfs[f'bin_{centre}'][LGBM_LOCAL_ERROR_FEATURES]\n",
    "\n",
    "            #local_std_df = fold_rms_df[f'std_bin_{centre}'].rename(columns={f'std_bin_{centre}': 'fold_std'})\n",
    "            local_std_df = fold_rms_df[[f'std_bin_{centre}']]#.rename(columns={f'bin_std_bin_{centre}': 'my_col'})\n",
    "            local_std_df.columns = ['fold_bin_std']\n",
    "        \n",
    "            features_dfs[f'rmse_{centre}'] =  pd.concat([features_df, \n",
    "                                                         global_features_df,\n",
    "                                                         local_features_df,\n",
    "                                                         local_fit_features,\n",
    "                                                         local_std_df,\n",
    "                                                         #global_features_df\n",
    "                                                        ], axis=1)\n",
    "            #{f'rmse_{centre}':features_df for centre in [0] + centres}\n",
    "        \n",
    "        fold_features[f'fold_{outer_fold}_{inner_fold}'] = features_dfs "
   ]
  },
  {
   "cell_type": "code",
   "execution_count": 92,
   "id": "f9f6edf3",
   "metadata": {
    "execution": {
     "iopub.execute_input": "2025-09-24T22:47:52.439348Z",
     "iopub.status.busy": "2025-09-24T22:47:52.438435Z",
     "iopub.status.idle": "2025-09-24T22:47:52.443915Z",
     "shell.execute_reply": "2025-09-24T22:47:52.443023Z"
    },
    "papermill": {
     "duration": 0.044844,
     "end_time": "2025-09-24T22:47:52.445671",
     "exception": false,
     "start_time": "2025-09-24T22:47:52.400827",
     "status": "completed"
    },
    "tags": []
   },
   "outputs": [],
   "source": [
    "def plot_one_feature(df, error_df, feature):\n",
    "    plt.figure(figsize=(6, 4))\n",
    "    cols = error_df.columns\n",
    "    plt.scatter(df[feature], error_df[cols[1]], s=1)\n",
    "    plt.xlabel(feature)\n",
    "    plt.ylabel('rmse')\n",
    "    plt.title(f'Scatter Plot with error feature {feature}')\n",
    "    plt.tight_layout()\n",
    "    plt.show()"
   ]
  },
  {
   "cell_type": "markdown",
   "id": "8da0199b",
   "metadata": {
    "papermill": {
     "duration": 0.036349,
     "end_time": "2025-09-24T22:47:52.517899",
     "exception": false,
     "start_time": "2025-09-24T22:47:52.481550",
     "status": "completed"
    },
    "tags": []
   },
   "source": [
    "'mean_wl_depth',\n",
    "'aspect',\n",
    " 'polypoints_range',\n",
    " 'polypoints_std',\n",
    " 'polypoints_mean',\n",
    " 'c',\n",
    " 'delta',\n",
    " 'mean_first_diff',\n",
    " 'mean_second_diff'"
   ]
  },
  {
   "cell_type": "code",
   "execution_count": 93,
   "id": "c339e571",
   "metadata": {
    "execution": {
     "iopub.execute_input": "2025-09-24T22:47:52.589098Z",
     "iopub.status.busy": "2025-09-24T22:47:52.588760Z",
     "iopub.status.idle": "2025-09-24T22:47:52.690826Z",
     "shell.execute_reply": "2025-09-24T22:47:52.690088Z"
    },
    "papermill": {
     "duration": 0.140403,
     "end_time": "2025-09-24T22:47:52.692841",
     "exception": false,
     "start_time": "2025-09-24T22:47:52.552438",
     "status": "completed"
    },
    "tags": []
   },
   "outputs": [],
   "source": [
    "all_dfs = [df for outer in fold_features.values() for df in outer.values()]\n",
    "stacked = pd.concat(all_dfs, axis=0, ignore_index=True)\n",
    "mean_features_df = pd.concat(all_dfs).groupby(level=0).mean()"
   ]
  },
  {
   "cell_type": "code",
   "execution_count": 94,
   "id": "35baec24",
   "metadata": {
    "execution": {
     "iopub.execute_input": "2025-09-24T22:47:52.768083Z",
     "iopub.status.busy": "2025-09-24T22:47:52.767152Z",
     "iopub.status.idle": "2025-09-24T22:47:52.772456Z",
     "shell.execute_reply": "2025-09-24T22:47:52.771448Z"
    },
    "papermill": {
     "duration": 0.045017,
     "end_time": "2025-09-24T22:47:52.774646",
     "exception": false,
     "start_time": "2025-09-24T22:47:52.729629",
     "status": "completed"
    },
    "tags": []
   },
   "outputs": [],
   "source": [
    "if TRAIN_NEW_MODELS:\n",
    "    cols_to_plot = set(mean_features_df.columns) - set(poly_df.columns)\n",
    "    for feature in cols_to_plot:\n",
    "        plot_one_feature(mean_features_df.drop(index = EXCLUDE_PLANETS),\n",
    "                         mean_error_df.drop(index = EXCLUDE_PLANETS),\n",
    "                         feature)"
   ]
  },
  {
   "cell_type": "code",
   "execution_count": 95,
   "id": "8a773516",
   "metadata": {
    "execution": {
     "iopub.execute_input": "2025-09-24T22:47:52.850836Z",
     "iopub.status.busy": "2025-09-24T22:47:52.850206Z",
     "iopub.status.idle": "2025-09-24T22:47:52.855186Z",
     "shell.execute_reply": "2025-09-24T22:47:52.854104Z"
    },
    "papermill": {
     "duration": 0.045013,
     "end_time": "2025-09-24T22:47:52.856924",
     "exception": false,
     "start_time": "2025-09-24T22:47:52.811911",
     "status": "completed"
    },
    "tags": []
   },
   "outputs": [],
   "source": [
    "#linear_features = ['mean_wl_depth', 'polypoints_range', 'polypoints_std', 'cos_i', 'a', 'b', 'c', 'delta']\n",
    "#if TRAIN_NEW_MODELS:\n",
    "#    for outer_fold in tqdm(range(FOLDS)):\n",
    "#        outer_destn = paths.error_models / f'outer_fold_{outer_fold}'\n",
    "#        outer_destn.mkdir(exist_ok=True)\n",
    "#        for inner_fold in range(4):\n",
    "#            val_std_ids = random.sample(fold_ids[outer_fold]['val_ids'][f'f{inner_fold}_val'], k=len(fold_ids[outer_fold]['val_ids'][f'f{inner_fold}_val'])//10)\n",
    "#            train_std_ids = [planet for planet in fold_ids[outer_fold]['val_ids'][f'f{inner_fold}_val'] if planet not in val_std_ids]\n",
    "\n",
    "#            features = fold_features[f'fold_{outer_fold}_{inner_fold}'][linear_features]\n",
    "#            error_model = train_linear_model(features = features,\n",
    "#                                             targets = airs_error_dfs[f'fold_{outer_fold}_{inner_fold}'].abs(),\n",
    "#                                             train_ids = train_std_ids,\n",
    "#                                             val_ids = val_std_ids)\n",
    "#        \n",
    "#            destn = outer_destn / f'fold_{inner_fold}'\n",
    "#            destn.mkdir(exist_ok=True)\n",
    "#            joblib.dump(error_model, destn / 'airs_std.pkl')"
   ]
  },
  {
   "cell_type": "code",
   "execution_count": 96,
   "id": "89f16b4d",
   "metadata": {
    "execution": {
     "iopub.execute_input": "2025-09-24T22:47:52.936188Z",
     "iopub.status.busy": "2025-09-24T22:47:52.935774Z",
     "iopub.status.idle": "2025-09-24T22:47:52.941866Z",
     "shell.execute_reply": "2025-09-24T22:47:52.941017Z"
    },
    "papermill": {
     "duration": 0.047153,
     "end_time": "2025-09-24T22:47:52.943775",
     "exception": false,
     "start_time": "2025-09-24T22:47:52.896622",
     "status": "completed"
    },
    "tags": []
   },
   "outputs": [
    {
     "data": {
      "text/plain": [
       "dict_keys(['rmse_0', 'rmse_5', 'rmse_29', 'rmse_54', 'rmse_79', 'rmse_103', 'rmse_128', 'rmse_153', 'rmse_178', 'rmse_202', 'rmse_227', 'rmse_252', 'rmse_277'])"
      ]
     },
     "execution_count": 96,
     "metadata": {},
     "output_type": "execute_result"
    }
   ],
   "source": [
    "fold_features['fold_0_0'].keys()"
   ]
  },
  {
   "cell_type": "code",
   "execution_count": 97,
   "id": "ee209f8b",
   "metadata": {
    "execution": {
     "iopub.execute_input": "2025-09-24T22:47:53.019707Z",
     "iopub.status.busy": "2025-09-24T22:47:53.019086Z",
     "iopub.status.idle": "2025-09-24T22:47:53.025020Z",
     "shell.execute_reply": "2025-09-24T22:47:53.024175Z"
    },
    "papermill": {
     "duration": 0.045681,
     "end_time": "2025-09-24T22:47:53.026796",
     "exception": false,
     "start_time": "2025-09-24T22:47:52.981115",
     "status": "completed"
    },
    "tags": []
   },
   "outputs": [],
   "source": [
    "if ERROR_PCA and TRAIN_NEW_MODELS:\n",
    "    first_bin = 'rmse_5'  #fold_features['fold_0_0'].columns[1]\n",
    "    X = fold_features['fold_0_0'][first_bin].copy()#.drop(columns = ['use_interpolated'])\n",
    "    error_preprocess = Pipeline([\n",
    "    (\"scaler\", StandardScaler()),\n",
    "    (\"pca\", PCA(n_components=PCA_ERROR_FEATURES))\n",
    "    ])\n",
    "\n",
    "    X_train_transformed = error_preprocess.fit_transform(X)\n",
    "\n",
    "    joblib.dump(error_preprocess, paths.error_pipeline)\n",
    "    \n",
    "    pca_columns = [f\"PC{i+1}\" for i in range(X_train_transformed.shape[1])]\n",
    "\n",
    "    X_train_transformed_df = pd.DataFrame(\n",
    "        X_train_transformed,\n",
    "        index=X.index,     # preserve row indices\n",
    "        columns=pca_columns      # give meaningful column names\n",
    "        )\n",
    "\n",
    "    display(X_train_transformed_df.head(3))\n",
    "else:\n",
    "    error_preprocess = None"
   ]
  },
  {
   "cell_type": "code",
   "execution_count": 98,
   "id": "53771f53",
   "metadata": {
    "execution": {
     "iopub.execute_input": "2025-09-24T22:47:53.104674Z",
     "iopub.status.busy": "2025-09-24T22:47:53.103941Z",
     "iopub.status.idle": "2025-09-24T22:47:53.113717Z",
     "shell.execute_reply": "2025-09-24T22:47:53.112726Z"
    },
    "papermill": {
     "duration": 0.052728,
     "end_time": "2025-09-24T22:47:53.115785",
     "exception": false,
     "start_time": "2025-09-24T22:47:53.063057",
     "status": "completed"
    },
    "tags": []
   },
   "outputs": [],
   "source": [
    "def train_error_models(features: dict, # Dict of DataFrames with keys bin_##  \n",
    "                       targets: pd.DataFrame,\n",
    "                       train_ids,\n",
    "                       val_ids,\n",
    "                       model_parameters,\n",
    "                       pipeline,  #preprocessing pipeline for PCA features\n",
    "                       early_stopping,\n",
    "                       ):\n",
    "\n",
    "    if not early_stopping:\n",
    "        train_ids = train_ids + val_ids  #no need for a split anymore\n",
    "    \n",
    "    targets_train = targets.loc[train_ids]\n",
    "    targets_val = targets.loc[val_ids]\n",
    "\n",
    "    models = {}\n",
    "    feature_imps = []\n",
    "\n",
    "    for target_col in tqdm(targets.columns):\n",
    "        X_pre_transformed = features[target_col]#.drop(columns = ['use_interpolated'])\n",
    "\n",
    "        if pipeline is not None:\n",
    "            X_trfmd = pipeline.transform(X_pre_transformed)\n",
    "            pca_columns = [f\"PC{i+1}\" for i in range(X_trfmd.shape[1])]\n",
    "            X_df = pd.DataFrame(\n",
    "                                        X_trfmd,\n",
    "                                        index=features[target_col].index,\n",
    "                                        columns=pca_columns\n",
    "                                        )\n",
    "    \n",
    "            X = pd.concat([features[target_col], X_df], axis=1)\n",
    "        else:\n",
    "            X = features[target_col]\n",
    "        \n",
    "        X_train = X.loc[train_ids]\n",
    "        X_val = X.loc[val_ids]\n",
    "        feature_list = list(X.columns)\n",
    "        \n",
    "        y_train = targets_train[target_col]\n",
    "        y_val = targets_val[target_col]\n",
    "                \n",
    "        model = lgb.LGBMRegressor(**model_parameters)\n",
    "\n",
    "        if early_stopping:\n",
    "            model.fit(X_train, y_train,\n",
    "                      eval_set=[(X_val, y_val)],\n",
    "                      eval_metric=\"l2\",\n",
    "                      callbacks=[lgb.early_stopping(300)]\n",
    "                     )\n",
    "        else:\n",
    "            model.fit(X_train, y_train,\n",
    "                      eval_set=[(X_val, y_val)],\n",
    "                      eval_metric=\"l2\",\n",
    "                     )\n",
    "            \n",
    "        models[target_col] = model\n",
    "        feature_imps.append(pd.DataFrame(sorted(zip(model.feature_importances_, feature_list)), columns=['Value','Feature']))\n",
    "    return models, pd.concat(feature_imps, axis=0)"
   ]
  },
  {
   "cell_type": "code",
   "execution_count": 99,
   "id": "ac4d1656",
   "metadata": {
    "execution": {
     "iopub.execute_input": "2025-09-24T22:47:53.194102Z",
     "iopub.status.busy": "2025-09-24T22:47:53.193500Z",
     "iopub.status.idle": "2025-09-24T22:47:53.203112Z",
     "shell.execute_reply": "2025-09-24T22:47:53.202395Z"
    },
    "papermill": {
     "duration": 0.050573,
     "end_time": "2025-09-24T22:47:53.205156",
     "exception": false,
     "start_time": "2025-09-24T22:47:53.154583",
     "status": "completed"
    },
    "tags": []
   },
   "outputs": [],
   "source": [
    "#rmse_target_columns = list(error_dfs['fold_0_0'].columns)\n",
    "if ERROR_PCA:\n",
    "    error_preprocess = joblib.load(paths.error_pipeline)\n",
    "else:\n",
    "    error_preprocess = None"
   ]
  },
  {
   "cell_type": "code",
   "execution_count": 100,
   "id": "299d38e2",
   "metadata": {
    "execution": {
     "iopub.execute_input": "2025-09-24T22:47:53.279104Z",
     "iopub.status.busy": "2025-09-24T22:47:53.278762Z",
     "iopub.status.idle": "2025-09-24T22:47:53.285615Z",
     "shell.execute_reply": "2025-09-24T22:47:53.284683Z"
    },
    "papermill": {
     "duration": 0.045349,
     "end_time": "2025-09-24T22:47:53.287327",
     "exception": false,
     "start_time": "2025-09-24T22:47:53.241978",
     "status": "completed"
    },
    "tags": []
   },
   "outputs": [],
   "source": [
    "error_feat_imps = []\n",
    "if TRAIN_NEW_MODELS:\n",
    "    for outer_fold in range(FOLDS):\n",
    "        outer_destn = paths.error_models / f'outer_fold_{outer_fold}'\n",
    "        outer_destn.mkdir(exist_ok=True)\n",
    "        for inner_fold in range(INNER_FOLDS):\n",
    "            val_std_ids = random.sample(fold_ids[outer_fold]['val_ids'][f'f{inner_fold}_val'], k=len(fold_ids[outer_fold]['val_ids'][f'f{inner_fold}_val'])//10)\n",
    "            train_std_ids = [planet for planet in fold_ids[outer_fold]['val_ids'][f'f{inner_fold}_val'] if planet not in val_std_ids]\n",
    "                \n",
    "            error_models, error_feat_imp = train_error_models(fold_features[f'fold_{outer_fold}_{inner_fold}'],  #features\n",
    "                                                              error_dfs[f'fold_{outer_fold}_{inner_fold}'].abs(),  #targets\n",
    "                                                              train_std_ids,\n",
    "                                                              val_std_ids,\n",
    "                                                              LGBM_ERROR_PARAMETERS,\n",
    "                                                              error_preprocess,\n",
    "                                                              EARLY_STOPPING,\n",
    "                                                              )\n",
    "        \n",
    "            destn = outer_destn / f'fold_{inner_fold}'\n",
    "            destn.mkdir(exist_ok=True)\n",
    "            error_feat_imps.append(error_feat_imp)\n",
    "            for name, model in error_models.items():\n",
    "                joblib.dump(model, destn / f'{name}.pkl')"
   ]
  },
  {
   "cell_type": "code",
   "execution_count": 101,
   "id": "19380e03",
   "metadata": {
    "execution": {
     "iopub.execute_input": "2025-09-24T22:47:53.362541Z",
     "iopub.status.busy": "2025-09-24T22:47:53.362191Z",
     "iopub.status.idle": "2025-09-24T22:47:53.367158Z",
     "shell.execute_reply": "2025-09-24T22:47:53.366199Z"
    },
    "papermill": {
     "duration": 0.045704,
     "end_time": "2025-09-24T22:47:53.369149",
     "exception": false,
     "start_time": "2025-09-24T22:47:53.323445",
     "status": "completed"
    },
    "tags": []
   },
   "outputs": [],
   "source": [
    "if TRAIN_NEW_MODELS:\n",
    "    error_feat_imp_df = pd.concat(error_feat_imps, axis=0)\n",
    "    plt.figure(figsize=(6, 8))\n",
    "    sns.barplot(x=\"Value\", y=\"Feature\", data=error_feat_imp_df)  #.head(100)\n",
    "    plt.show()"
   ]
  },
  {
   "cell_type": "code",
   "execution_count": 102,
   "id": "4b5d340f",
   "metadata": {
    "execution": {
     "iopub.execute_input": "2025-09-24T22:47:53.443796Z",
     "iopub.status.busy": "2025-09-24T22:47:53.442912Z",
     "iopub.status.idle": "2025-09-24T22:48:05.043986Z",
     "shell.execute_reply": "2025-09-24T22:48:05.042921Z"
    },
    "papermill": {
     "duration": 11.640497,
     "end_time": "2025-09-24T22:48:05.046490",
     "exception": false,
     "start_time": "2025-09-24T22:47:53.405993",
     "status": "completed"
    },
    "tags": []
   },
   "outputs": [],
   "source": [
    "rmse_cols = [b.replace(\"bin_\", \"rmse_\") for b in poly_df.columns]  \n",
    "error_models = {}\n",
    "for outer_fold in range(FOLDS):\n",
    "    inner_models = {}\n",
    "    for inner_fold in range(INNER_FOLDS):\n",
    "        column_models = {}\n",
    "        for column in rmse_cols:\n",
    "            model_path = paths.error_models / f'outer_fold_{outer_fold}' / f'fold_{inner_fold}' / f'{column}.pkl'\n",
    "            column_models[column] = joblib.load(model_path)\n",
    "        inner_models[f'inner_fold_{inner_fold}'] = column_models\n",
    "    error_models[f'outer_fold_{outer_fold}'] = inner_models"
   ]
  },
  {
   "cell_type": "markdown",
   "id": "b4d97375",
   "metadata": {
    "papermill": {
     "duration": 0.037888,
     "end_time": "2025-09-24T22:48:05.122804",
     "exception": false,
     "start_time": "2025-09-24T22:48:05.084916",
     "status": "completed"
    },
    "tags": []
   },
   "source": [
    "Let's re-sort the fallback factor into a more useful form"
   ]
  },
  {
   "cell_type": "code",
   "execution_count": 103,
   "id": "800ee5f4",
   "metadata": {
    "execution": {
     "iopub.execute_input": "2025-09-24T22:48:05.195813Z",
     "iopub.status.busy": "2025-09-24T22:48:05.195467Z",
     "iopub.status.idle": "2025-09-24T22:48:05.209336Z",
     "shell.execute_reply": "2025-09-24T22:48:05.208427Z"
    },
    "papermill": {
     "duration": 0.051825,
     "end_time": "2025-09-24T22:48:05.211083",
     "exception": false,
     "start_time": "2025-09-24T22:48:05.159258",
     "status": "completed"
    },
    "tags": []
   },
   "outputs": [
    {
     "data": {
      "text/html": [
       "<div>\n",
       "<style scoped>\n",
       "    .dataframe tbody tr th:only-of-type {\n",
       "        vertical-align: middle;\n",
       "    }\n",
       "\n",
       "    .dataframe tbody tr th {\n",
       "        vertical-align: top;\n",
       "    }\n",
       "\n",
       "    .dataframe thead th {\n",
       "        text-align: right;\n",
       "    }\n",
       "</style>\n",
       "<table border=\"1\" class=\"dataframe\">\n",
       "  <thead>\n",
       "    <tr style=\"text-align: right;\">\n",
       "      <th></th>\n",
       "      <th>bin_0</th>\n",
       "      <th>bin_5</th>\n",
       "      <th>bin_29</th>\n",
       "      <th>bin_54</th>\n",
       "      <th>bin_79</th>\n",
       "      <th>bin_103</th>\n",
       "      <th>bin_128</th>\n",
       "      <th>bin_153</th>\n",
       "      <th>bin_178</th>\n",
       "      <th>bin_202</th>\n",
       "      <th>bin_227</th>\n",
       "      <th>bin_252</th>\n",
       "      <th>bin_277</th>\n",
       "    </tr>\n",
       "    <tr>\n",
       "      <th>planet_id</th>\n",
       "      <th></th>\n",
       "      <th></th>\n",
       "      <th></th>\n",
       "      <th></th>\n",
       "      <th></th>\n",
       "      <th></th>\n",
       "      <th></th>\n",
       "      <th></th>\n",
       "      <th></th>\n",
       "      <th></th>\n",
       "      <th></th>\n",
       "      <th></th>\n",
       "      <th></th>\n",
       "    </tr>\n",
       "  </thead>\n",
       "  <tbody>\n",
       "    <tr>\n",
       "      <th>1103775</th>\n",
       "      <td>1</td>\n",
       "      <td>1</td>\n",
       "      <td>1</td>\n",
       "      <td>1</td>\n",
       "      <td>1</td>\n",
       "      <td>1</td>\n",
       "      <td>1</td>\n",
       "      <td>1</td>\n",
       "      <td>1</td>\n",
       "      <td>1</td>\n",
       "      <td>1</td>\n",
       "      <td>1</td>\n",
       "      <td>1</td>\n",
       "    </tr>\n",
       "  </tbody>\n",
       "</table>\n",
       "</div>"
      ],
      "text/plain": [
       "           bin_0  bin_5  bin_29  bin_54  bin_79  bin_103  bin_128  bin_153  \\\n",
       "planet_id                                                                    \n",
       "1103775        1      1       1       1       1        1        1        1   \n",
       "\n",
       "           bin_178  bin_202  bin_227  bin_252  bin_277  \n",
       "planet_id                                               \n",
       "1103775          1        1        1        1        1  "
      ]
     },
     "execution_count": 103,
     "metadata": {},
     "output_type": "execute_result"
    }
   ],
   "source": [
    "rows = {}\n",
    "for idx, (row_idx, row) in enumerate(star_info.iterrows()):\n",
    "    row = {}\n",
    "    for col in poly_df.columns:\n",
    "        wl_fit = all_wl_fits[idx][col]\n",
    "        row[col] = wl_fit['fallback_factor']\n",
    "    rows[idx] = row\n",
    "fallback_df = pd.DataFrame.from_dict(rows, orient=\"index\")\n",
    "fallback_df.index = star_info.index\n",
    "fallback_df.head()"
   ]
  },
  {
   "cell_type": "code",
   "execution_count": 104,
   "id": "f9318f7b",
   "metadata": {
    "execution": {
     "iopub.execute_input": "2025-09-24T22:48:05.289695Z",
     "iopub.status.busy": "2025-09-24T22:48:05.289023Z",
     "iopub.status.idle": "2025-09-24T22:48:05.301292Z",
     "shell.execute_reply": "2025-09-24T22:48:05.300391Z"
    },
    "papermill": {
     "duration": 0.054012,
     "end_time": "2025-09-24T22:48:05.302991",
     "exception": false,
     "start_time": "2025-09-24T22:48:05.248979",
     "status": "completed"
    },
    "tags": []
   },
   "outputs": [
    {
     "data": {
      "text/plain": [
       "1    13\n",
       "Name: count, dtype: int64"
      ]
     },
     "execution_count": 104,
     "metadata": {},
     "output_type": "execute_result"
    }
   ],
   "source": [
    "fallback_df.stack().value_counts()"
   ]
  },
  {
   "cell_type": "code",
   "execution_count": 105,
   "id": "fde7ae57",
   "metadata": {
    "execution": {
     "iopub.execute_input": "2025-09-24T22:48:05.376386Z",
     "iopub.status.busy": "2025-09-24T22:48:05.376008Z",
     "iopub.status.idle": "2025-09-24T22:48:05.380848Z",
     "shell.execute_reply": "2025-09-24T22:48:05.379908Z"
    },
    "papermill": {
     "duration": 0.044594,
     "end_time": "2025-09-24T22:48:05.382530",
     "exception": false,
     "start_time": "2025-09-24T22:48:05.337936",
     "status": "completed"
    },
    "tags": []
   },
   "outputs": [],
   "source": [
    "no_breakpoint_mask = (extra_feats_df['has_no_breakpoints'] == 1)"
   ]
  },
  {
   "cell_type": "code",
   "execution_count": 106,
   "id": "ebe78d29",
   "metadata": {
    "execution": {
     "iopub.execute_input": "2025-09-24T22:48:05.458838Z",
     "iopub.status.busy": "2025-09-24T22:48:05.458497Z",
     "iopub.status.idle": "2025-09-24T22:48:08.270690Z",
     "shell.execute_reply": "2025-09-24T22:48:08.269607Z"
    },
    "papermill": {
     "duration": 2.853909,
     "end_time": "2025-09-24T22:48:08.272629",
     "exception": false,
     "start_time": "2025-09-24T22:48:05.418720",
     "status": "completed"
    },
    "tags": []
   },
   "outputs": [
    {
     "name": "stderr",
     "output_type": "stream",
     "text": [
      "100%|██████████| 10/10 [00:02<00:00,  3.59it/s]"
     ]
    },
    {
     "name": "stdout",
     "output_type": "stream",
     "text": [
      "The head from fold 0-0\n"
     ]
    },
    {
     "name": "stderr",
     "output_type": "stream",
     "text": [
      "\n"
     ]
    },
    {
     "data": {
      "text/html": [
       "<div>\n",
       "<style scoped>\n",
       "    .dataframe tbody tr th:only-of-type {\n",
       "        vertical-align: middle;\n",
       "    }\n",
       "\n",
       "    .dataframe tbody tr th {\n",
       "        vertical-align: top;\n",
       "    }\n",
       "\n",
       "    .dataframe thead th {\n",
       "        text-align: right;\n",
       "    }\n",
       "</style>\n",
       "<table border=\"1\" class=\"dataframe\">\n",
       "  <thead>\n",
       "    <tr style=\"text-align: right;\">\n",
       "      <th></th>\n",
       "      <th>rmse_0</th>\n",
       "      <th>rmse_5</th>\n",
       "      <th>rmse_29</th>\n",
       "      <th>rmse_54</th>\n",
       "      <th>rmse_79</th>\n",
       "      <th>rmse_103</th>\n",
       "      <th>rmse_128</th>\n",
       "      <th>rmse_153</th>\n",
       "      <th>rmse_178</th>\n",
       "      <th>rmse_202</th>\n",
       "      <th>rmse_227</th>\n",
       "      <th>rmse_252</th>\n",
       "      <th>rmse_277</th>\n",
       "    </tr>\n",
       "  </thead>\n",
       "  <tbody>\n",
       "    <tr>\n",
       "      <th>1103775</th>\n",
       "      <td>0.000226</td>\n",
       "      <td>0.000122</td>\n",
       "      <td>0.000169</td>\n",
       "      <td>0.000079</td>\n",
       "      <td>0.000095</td>\n",
       "      <td>0.000092</td>\n",
       "      <td>0.000116</td>\n",
       "      <td>0.000085</td>\n",
       "      <td>0.00013</td>\n",
       "      <td>0.000123</td>\n",
       "      <td>0.00015</td>\n",
       "      <td>0.000134</td>\n",
       "      <td>0.000167</td>\n",
       "    </tr>\n",
       "  </tbody>\n",
       "</table>\n",
       "</div>"
      ],
      "text/plain": [
       "           rmse_0    rmse_5   rmse_29   rmse_54   rmse_79  rmse_103  rmse_128  \\\n",
       "1103775  0.000226  0.000122  0.000169  0.000079  0.000095  0.000092  0.000116   \n",
       "\n",
       "         rmse_153  rmse_178  rmse_202  rmse_227  rmse_252  rmse_277  \n",
       "1103775  0.000085   0.00013  0.000123   0.00015  0.000134  0.000167  "
      ]
     },
     "metadata": {},
     "output_type": "display_data"
    }
   ],
   "source": [
    "error_predictions = {}\n",
    "for outer_fold in tqdm(range(FOLDS)):\n",
    "    inner_predictions = {}\n",
    "    for inner_fold in range(INNER_FOLDS):\n",
    "        rsme_predictions= {}\n",
    "        for rmse_id, model in  error_models[f'outer_fold_{outer_fold}'][f'inner_fold_{inner_fold}'].items():\n",
    "            if ERROR_PCA:\n",
    "                pca_feats = error_preprocess.transform(fold_features[f'fold_{outer_fold}_{inner_fold}'][rmse_id]) #.drop(columns = ['has_two_breakpoints'])) .drop(columns = ['has_two_breakpoints'])\n",
    "                pca_columns = [f\"PC{i+1}\" for i in range(pca_feats.shape[1])]\n",
    "                pca_feat_df = pd.DataFrame(pca_feats,\n",
    "                                           index=fold_features[f'fold_{outer_fold}_{inner_fold}'][rmse_id].index,\n",
    "                                           columns=pca_columns\n",
    "                                           )\n",
    "                wl_feats = pd.concat([fold_features[f'fold_{outer_fold}_{inner_fold}'][rmse_id], pca_feat_df], axis=1)\n",
    "            else: wl_feats = fold_features[f'fold_{outer_fold}_{inner_fold}'][rmse_id]\n",
    "            # success = feature_dfs[bin?]\n",
    "\n",
    "            rsme_predictions[rmse_id] =  model.predict(wl_feats)  # success factor\n",
    "            error_df = pd.DataFrame(rsme_predictions, index = feat_dfs['bin_0'].index)  #, index = feat_dfs['bin_0'].index\n",
    "            error_df = error_df.reindex(columns=rmse_cols)\n",
    "\n",
    "            #print(error_df.dtypes)       # make sure all are numeric\n",
    "            #print(f'NaNs per column: {error_df.isna().sum()}') # count NaNs per column\n",
    "            #print(f'The error df head: {error_df.head()}')\n",
    "            #print(f'The error df shape: {error_df.shape}')\n",
    "\n",
    "        \n",
    "        error_df = pd.DataFrame(error_df.to_numpy() * fallback_df.to_numpy(),\n",
    "                    index=error_df.index, columns=error_df.columns)\n",
    "\n",
    "        error_df.loc[no_breakpoint_mask] = error_df.loc[no_breakpoint_mask] * NO_BREAKPOINTS_ERROR_FACTOR\n",
    "\n",
    "        \n",
    "        inner_predictions[f'fold_{inner_fold}'] = error_df\n",
    "    error_predictions[outer_fold] = inner_predictions\n",
    "\n",
    "print('The head from fold 0-0')\n",
    "display(error_predictions[0]['fold_0'].head(2))"
   ]
  },
  {
   "cell_type": "code",
   "execution_count": 107,
   "id": "baa16d8d",
   "metadata": {
    "execution": {
     "iopub.execute_input": "2025-09-24T22:48:08.347333Z",
     "iopub.status.busy": "2025-09-24T22:48:08.346644Z",
     "iopub.status.idle": "2025-09-24T22:48:08.362159Z",
     "shell.execute_reply": "2025-09-24T22:48:08.361177Z"
    },
    "papermill": {
     "duration": 0.054191,
     "end_time": "2025-09-24T22:48:08.364045",
     "exception": false,
     "start_time": "2025-09-24T22:48:08.309854",
     "status": "completed"
    },
    "tags": []
   },
   "outputs": [],
   "source": [
    "fold_std = {}\n",
    "for outer_fold in range(FOLDS):\n",
    "    fold_error = error_predictions[outer_fold]\n",
    "    stacked_error = np.abs(np.stack([values for values in fold_error.values()]))\n",
    "    #stacked_error = np.clip(stacked_error, a_min=AIRS_MIN_SIGMA, a_max=AIRS_MAX_SIGMA)\n",
    "    # Compute the mean across the first axis (i.e., across DataFrames)\n",
    "    ensembled_error = np.sqrt((stacked_error**2).mean(axis=0))\n",
    "    output_length = 282\n",
    "    airs_error = ensembled_error[:,1:]\n",
    "    pred_indices = [0] + centres + [output_length]  #rmse_cols already includes a 0 that can match the first_col being added\n",
    "    first_col = airs_error[:, [0]]\n",
    "    last_col = airs_error[:, [-1]]\n",
    "    extended = np.hstack([first_col, airs_error, last_col])  #Just ensuring that the first and last column have values\n",
    "    num_preds = extended.shape[1]\n",
    "\n",
    "    x_full = np.arange(output_length)\n",
    "\n",
    "    interp_func = interp1d(pred_indices, extended, kind='quadratic', fill_value=\"extrapolate\")  #extended[i]\n",
    "    interpolated = np.concatenate([ensembled_error[:,0][:, None], interp_func(x_full)], axis=1)  #putting back the fgs values\n",
    "    \n",
    "    columns = [f'sigma_{i}' for i in range(1,284)]\n",
    "    std_df = pd.DataFrame(interpolated, index = star_info.index, columns=columns )\n",
    "    fold_std[outer_fold] = std_df"
   ]
  },
  {
   "cell_type": "markdown",
   "id": "071e3f0d",
   "metadata": {
    "papermill": {
     "duration": 0.038363,
     "end_time": "2025-09-24T22:48:08.437497",
     "exception": false,
     "start_time": "2025-09-24T22:48:08.399134",
     "status": "completed"
    },
    "tags": []
   },
   "source": [
    "### Ensemble Inner Folds and Format"
   ]
  },
  {
   "cell_type": "code",
   "execution_count": 108,
   "id": "b24ec2f3",
   "metadata": {
    "execution": {
     "iopub.execute_input": "2025-09-24T22:48:08.509915Z",
     "iopub.status.busy": "2025-09-24T22:48:08.509240Z",
     "iopub.status.idle": "2025-09-24T22:48:08.516915Z",
     "shell.execute_reply": "2025-09-24T22:48:08.515777Z"
    },
    "papermill": {
     "duration": 0.046684,
     "end_time": "2025-09-24T22:48:08.518878",
     "exception": false,
     "start_time": "2025-09-24T22:48:08.472194",
     "status": "completed"
    },
    "tags": []
   },
   "outputs": [
    {
     "name": "stdout",
     "output_type": "stream",
     "text": [
      "(5, 1, 283)\n",
      "(5, 1, 283)\n",
      "(5, 1, 283)\n",
      "(5, 1, 283)\n",
      "(5, 1, 283)\n",
      "(5, 1, 283)\n",
      "(5, 1, 283)\n",
      "(5, 1, 283)\n",
      "(5, 1, 283)\n",
      "(5, 1, 283)\n"
     ]
    }
   ],
   "source": [
    "inner_predictions = {}\n",
    "for outer_fold in range(FOLDS):\n",
    "    stacked = np.stack([values for values in combined_predictions[outer_fold].values()])  #threw an error because predictions only had 13 columns\n",
    "    print(stacked.shape)\n",
    "    mean_preds = stacked.mean(axis=0)\n",
    "    inner_predictions[outer_fold] = pd.DataFrame(mean_preds.clip(0,None), index = star_info.index, columns = wavelengths.columns)"
   ]
  },
  {
   "cell_type": "markdown",
   "id": "a7526820",
   "metadata": {
    "papermill": {
     "duration": 0.035991,
     "end_time": "2025-09-24T22:48:08.595117",
     "exception": false,
     "start_time": "2025-09-24T22:48:08.559126",
     "status": "completed"
    },
    "tags": []
   },
   "source": [
    "Let's also look at the std of the predictions themselves from the outer folds"
   ]
  },
  {
   "cell_type": "code",
   "execution_count": 109,
   "id": "37773219",
   "metadata": {
    "execution": {
     "iopub.execute_input": "2025-09-24T22:48:08.668729Z",
     "iopub.status.busy": "2025-09-24T22:48:08.668386Z",
     "iopub.status.idle": "2025-09-24T22:48:08.675063Z",
     "shell.execute_reply": "2025-09-24T22:48:08.674309Z"
    },
    "papermill": {
     "duration": 0.045912,
     "end_time": "2025-09-24T22:48:08.677079",
     "exception": false,
     "start_time": "2025-09-24T22:48:08.631167",
     "status": "completed"
    },
    "tags": []
   },
   "outputs": [
    {
     "data": {
      "text/plain": [
       "(1, 283)"
      ]
     },
     "execution_count": 109,
     "metadata": {},
     "output_type": "execute_result"
    }
   ],
   "source": [
    "stacked_preds = np.stack([values for values in inner_predictions.values()])\n",
    "fold_preds_std = np.std(stacked_preds, axis=0, ddof=0) #so now it's just a 1x\n",
    "fold_preds_std.shape"
   ]
  },
  {
   "cell_type": "code",
   "execution_count": 110,
   "id": "a64760a2",
   "metadata": {
    "execution": {
     "iopub.execute_input": "2025-09-24T22:48:08.750976Z",
     "iopub.status.busy": "2025-09-24T22:48:08.750711Z",
     "iopub.status.idle": "2025-09-24T22:48:08.755036Z",
     "shell.execute_reply": "2025-09-24T22:48:08.754347Z"
    },
    "papermill": {
     "duration": 0.041849,
     "end_time": "2025-09-24T22:48:08.756760",
     "exception": false,
     "start_time": "2025-09-24T22:48:08.714911",
     "status": "completed"
    },
    "tags": []
   },
   "outputs": [],
   "source": [
    "stacked_preds = np.stack([values for values in inner_predictions.values()])\n",
    "fold_preds_std = np.std(stacked_preds, axis=0, ddof=0) #so now it's just a 1x"
   ]
  },
  {
   "cell_type": "markdown",
   "id": "25d70e0d",
   "metadata": {
    "papermill": {
     "duration": 0.033591,
     "end_time": "2025-09-24T22:48:08.824913",
     "exception": false,
     "start_time": "2025-09-24T22:48:08.791322",
     "status": "completed"
    },
    "tags": []
   },
   "source": [
    "We could combine the two types of error here, but for now let's just compare them."
   ]
  },
  {
   "cell_type": "code",
   "execution_count": 111,
   "id": "d57d907a",
   "metadata": {
    "execution": {
     "iopub.execute_input": "2025-09-24T22:48:08.894870Z",
     "iopub.status.busy": "2025-09-24T22:48:08.894632Z",
     "iopub.status.idle": "2025-09-24T22:48:08.901218Z",
     "shell.execute_reply": "2025-09-24T22:48:08.900400Z"
    },
    "papermill": {
     "duration": 0.043787,
     "end_time": "2025-09-24T22:48:08.902783",
     "exception": false,
     "start_time": "2025-09-24T22:48:08.858996",
     "status": "completed"
    },
    "tags": []
   },
   "outputs": [
    {
     "data": {
      "text/plain": [
       "(1, 283)"
      ]
     },
     "execution_count": 111,
     "metadata": {},
     "output_type": "execute_result"
    }
   ],
   "source": [
    "stacked_errors= np.stack([values for values in fold_std.values()])\n",
    "model_error = np.sqrt((stacked_errors**2).mean(axis=0))\n",
    "model_error.shape"
   ]
  },
  {
   "cell_type": "code",
   "execution_count": 112,
   "id": "bafeeb50",
   "metadata": {
    "execution": {
     "iopub.execute_input": "2025-09-24T22:48:08.972940Z",
     "iopub.status.busy": "2025-09-24T22:48:08.972686Z",
     "iopub.status.idle": "2025-09-24T22:48:09.483602Z",
     "shell.execute_reply": "2025-09-24T22:48:09.482510Z"
    },
    "papermill": {
     "duration": 0.548746,
     "end_time": "2025-09-24T22:48:09.485850",
     "exception": false,
     "start_time": "2025-09-24T22:48:08.937104",
     "status": "completed"
    },
    "tags": []
   },
   "outputs": [
    {
     "data": {
      "image/png": "[encoded data removed]",
      "text/plain": [
       "<Figure size 640x480 with 1 Axes>"
      ]
     },
     "metadata": {},
     "output_type": "display_data"
    }
   ],
   "source": [
    "mean_err1 = model_error.mean(axis=1)\n",
    "mean_err2 = fold_preds_std.mean(axis=1)\n",
    "\n",
    "plt.plot(mean_err1, label=\"Modelled error\")\n",
    "plt.plot(mean_err2, label=\"std of the fold predictions\")\n",
    "plt.xlabel(\"Sample index (1100)\")\n",
    "plt.ylabel(\"Mean predicted error\")\n",
    "plt.title(\"Per-sample mean error (collapsed across x)\")\n",
    "plt.legend()\n",
    "plt.show()"
   ]
  },
  {
   "cell_type": "code",
   "execution_count": 113,
   "id": "c3078d0f",
   "metadata": {
    "execution": {
     "iopub.execute_input": "2025-09-24T22:48:09.566726Z",
     "iopub.status.busy": "2025-09-24T22:48:09.566397Z",
     "iopub.status.idle": "2025-09-24T22:48:09.824543Z",
     "shell.execute_reply": "2025-09-24T22:48:09.823515Z"
    },
    "papermill": {
     "duration": 0.301128,
     "end_time": "2025-09-24T22:48:09.826917",
     "exception": false,
     "start_time": "2025-09-24T22:48:09.525789",
     "status": "completed"
    },
    "tags": []
   },
   "outputs": [
    {
     "name": "stderr",
     "output_type": "stream",
     "text": [
      "/tmp/ipykernel_24/560834762.py:2: RankWarning: Polyfit may be poorly conditioned\n",
      "  m, c = np.polyfit(mean_err1[mask], mean_err2[mask], deg=1)\n"
     ]
    },
    {
     "data": {
      "image/png": "[encoded data removed]",
      "text/plain": [
       "<Figure size 600x600 with 1 Axes>"
      ]
     },
     "metadata": {},
     "output_type": "display_data"
    }
   ],
   "source": [
    "mask = mean_err1 <= WEIGHTED_ENSEMBLE_THRESHOLD\n",
    "m, c = np.polyfit(mean_err1[mask], mean_err2[mask], deg=1)\n",
    "\n",
    "plt.figure(figsize=(6,6))\n",
    "plt.scatter(mean_err1, mean_err2, s=10, alpha=0.5, label=\"Samples\")\n",
    "x_vals = np.linspace(mean_err1.min(), mean_err1.max(), 200)\n",
    "plt.plot(x_vals, m*x_vals + c, 'r-', label=f\"Fit: y={m:.2f}x+{c:.2f}\")\n",
    "plt.scatter(0, c, color=\"black\", zorder=5, label=f\"Intercept (0,{c:.2f})\")\n",
    "plt.axhline(c, color=\"gray\", linestyle=\"--\", alpha=0.5)  # horizontal guide\n",
    "plt.xlabel(\"Modelled 1 sigma\")\n",
    "plt.ylabel(\"std of the fold predictions\")\n",
    "plt.title(\"Per-sample mean error comparison with linear fit\")\n",
    "plt.legend()\n",
    "plt.show()"
   ]
  },
  {
   "cell_type": "markdown",
   "id": "93d4384a",
   "metadata": {
    "papermill": {
     "duration": 0.037473,
     "end_time": "2025-09-24T22:48:09.906485",
     "exception": false,
     "start_time": "2025-09-24T22:48:09.869012",
     "status": "completed"
    },
    "tags": []
   },
   "source": [
    "So the rms error by fold is about one quarter of the modelled error predictions, and the relationship is correllated but not linear. Let's allow the hidden dataset to determine the relative size.    Let's compare these modelled predictions with the actual error."
   ]
  },
  {
   "cell_type": "code",
   "execution_count": 114,
   "id": "f494c9d9",
   "metadata": {
    "execution": {
     "iopub.execute_input": "2025-09-24T22:48:09.981797Z",
     "iopub.status.busy": "2025-09-24T22:48:09.981487Z",
     "iopub.status.idle": "2025-09-24T22:48:10.138472Z",
     "shell.execute_reply": "2025-09-24T22:48:10.137429Z"
    },
    "papermill": {
     "duration": 0.196888,
     "end_time": "2025-09-24T22:48:10.140423",
     "exception": false,
     "start_time": "2025-09-24T22:48:09.943535",
     "status": "completed"
    },
    "tags": []
   },
   "outputs": [
    {
     "data": {
      "text/html": [
       "<div>\n",
       "<style scoped>\n",
       "    .dataframe tbody tr th:only-of-type {\n",
       "        vertical-align: middle;\n",
       "    }\n",
       "\n",
       "    .dataframe tbody tr th {\n",
       "        vertical-align: top;\n",
       "    }\n",
       "\n",
       "    .dataframe thead th {\n",
       "        text-align: right;\n",
       "    }\n",
       "</style>\n",
       "<table border=\"1\" class=\"dataframe\">\n",
       "  <thead>\n",
       "    <tr style=\"text-align: right;\">\n",
       "      <th></th>\n",
       "      <th>wl_1</th>\n",
       "      <th>wl_2</th>\n",
       "      <th>wl_3</th>\n",
       "      <th>wl_4</th>\n",
       "      <th>wl_5</th>\n",
       "      <th>wl_6</th>\n",
       "      <th>wl_7</th>\n",
       "      <th>wl_8</th>\n",
       "      <th>wl_9</th>\n",
       "      <th>wl_10</th>\n",
       "      <th>...</th>\n",
       "      <th>wl_274</th>\n",
       "      <th>wl_275</th>\n",
       "      <th>wl_276</th>\n",
       "      <th>wl_277</th>\n",
       "      <th>wl_278</th>\n",
       "      <th>wl_279</th>\n",
       "      <th>wl_280</th>\n",
       "      <th>wl_281</th>\n",
       "      <th>wl_282</th>\n",
       "      <th>wl_283</th>\n",
       "    </tr>\n",
       "    <tr>\n",
       "      <th>planet_id</th>\n",
       "      <th></th>\n",
       "      <th></th>\n",
       "      <th></th>\n",
       "      <th></th>\n",
       "      <th></th>\n",
       "      <th></th>\n",
       "      <th></th>\n",
       "      <th></th>\n",
       "      <th></th>\n",
       "      <th></th>\n",
       "      <th></th>\n",
       "      <th></th>\n",
       "      <th></th>\n",
       "      <th></th>\n",
       "      <th></th>\n",
       "      <th></th>\n",
       "      <th></th>\n",
       "      <th></th>\n",
       "      <th></th>\n",
       "      <th></th>\n",
       "      <th></th>\n",
       "    </tr>\n",
       "  </thead>\n",
       "  <tbody>\n",
       "    <tr>\n",
       "      <th>34983</th>\n",
       "      <td>0.018291</td>\n",
       "      <td>0.018088</td>\n",
       "      <td>0.018087</td>\n",
       "      <td>0.018085</td>\n",
       "      <td>0.018084</td>\n",
       "      <td>0.018084</td>\n",
       "      <td>0.018084</td>\n",
       "      <td>0.018084</td>\n",
       "      <td>0.018085</td>\n",
       "      <td>0.018084</td>\n",
       "      <td>...</td>\n",
       "      <td>0.018109</td>\n",
       "      <td>0.018112</td>\n",
       "      <td>0.018118</td>\n",
       "      <td>0.018123</td>\n",
       "      <td>0.018125</td>\n",
       "      <td>0.018127</td>\n",
       "      <td>0.018130</td>\n",
       "      <td>0.018134</td>\n",
       "      <td>0.018138</td>\n",
       "      <td>0.018142</td>\n",
       "    </tr>\n",
       "    <tr>\n",
       "      <th>1873185</th>\n",
       "      <td>0.006347</td>\n",
       "      <td>0.006343</td>\n",
       "      <td>0.006343</td>\n",
       "      <td>0.006343</td>\n",
       "      <td>0.006343</td>\n",
       "      <td>0.006343</td>\n",
       "      <td>0.006343</td>\n",
       "      <td>0.006342</td>\n",
       "      <td>0.006342</td>\n",
       "      <td>0.006341</td>\n",
       "      <td>...</td>\n",
       "      <td>0.006340</td>\n",
       "      <td>0.006340</td>\n",
       "      <td>0.006339</td>\n",
       "      <td>0.006339</td>\n",
       "      <td>0.006339</td>\n",
       "      <td>0.006339</td>\n",
       "      <td>0.006339</td>\n",
       "      <td>0.006339</td>\n",
       "      <td>0.006339</td>\n",
       "      <td>0.006339</td>\n",
       "    </tr>\n",
       "    <tr>\n",
       "      <th>3849793</th>\n",
       "      <td>0.046061</td>\n",
       "      <td>0.046139</td>\n",
       "      <td>0.046130</td>\n",
       "      <td>0.046117</td>\n",
       "      <td>0.046107</td>\n",
       "      <td>0.046105</td>\n",
       "      <td>0.046109</td>\n",
       "      <td>0.046112</td>\n",
       "      <td>0.046111</td>\n",
       "      <td>0.046104</td>\n",
       "      <td>...</td>\n",
       "      <td>0.046144</td>\n",
       "      <td>0.046133</td>\n",
       "      <td>0.046131</td>\n",
       "      <td>0.046138</td>\n",
       "      <td>0.046141</td>\n",
       "      <td>0.046147</td>\n",
       "      <td>0.046147</td>\n",
       "      <td>0.046139</td>\n",
       "      <td>0.046134</td>\n",
       "      <td>0.046133</td>\n",
       "    </tr>\n",
       "    <tr>\n",
       "      <th>8456603</th>\n",
       "      <td>0.015363</td>\n",
       "      <td>0.015387</td>\n",
       "      <td>0.015385</td>\n",
       "      <td>0.015385</td>\n",
       "      <td>0.015385</td>\n",
       "      <td>0.015385</td>\n",
       "      <td>0.015384</td>\n",
       "      <td>0.015383</td>\n",
       "      <td>0.015383</td>\n",
       "      <td>0.015384</td>\n",
       "      <td>...</td>\n",
       "      <td>0.015471</td>\n",
       "      <td>0.015471</td>\n",
       "      <td>0.015467</td>\n",
       "      <td>0.015465</td>\n",
       "      <td>0.015465</td>\n",
       "      <td>0.015464</td>\n",
       "      <td>0.015461</td>\n",
       "      <td>0.015460</td>\n",
       "      <td>0.015460</td>\n",
       "      <td>0.015460</td>\n",
       "    </tr>\n",
       "    <tr>\n",
       "      <th>23615382</th>\n",
       "      <td>0.014474</td>\n",
       "      <td>0.014636</td>\n",
       "      <td>0.014628</td>\n",
       "      <td>0.014635</td>\n",
       "      <td>0.014643</td>\n",
       "      <td>0.014642</td>\n",
       "      <td>0.014637</td>\n",
       "      <td>0.014635</td>\n",
       "      <td>0.014639</td>\n",
       "      <td>0.014644</td>\n",
       "      <td>...</td>\n",
       "      <td>0.014473</td>\n",
       "      <td>0.014467</td>\n",
       "      <td>0.014433</td>\n",
       "      <td>0.014426</td>\n",
       "      <td>0.014435</td>\n",
       "      <td>0.014422</td>\n",
       "      <td>0.014399</td>\n",
       "      <td>0.014429</td>\n",
       "      <td>0.014444</td>\n",
       "      <td>0.014418</td>\n",
       "    </tr>\n",
       "  </tbody>\n",
       "</table>\n",
       "<p>5 rows × 283 columns</p>\n",
       "</div>"
      ],
      "text/plain": [
       "               wl_1      wl_2      wl_3      wl_4      wl_5      wl_6  \\\n",
       "planet_id                                                               \n",
       "34983      0.018291  0.018088  0.018087  0.018085  0.018084  0.018084   \n",
       "1873185    0.006347  0.006343  0.006343  0.006343  0.006343  0.006343   \n",
       "3849793    0.046061  0.046139  0.046130  0.046117  0.046107  0.046105   \n",
       "8456603    0.015363  0.015387  0.015385  0.015385  0.015385  0.015385   \n",
       "23615382   0.014474  0.014636  0.014628  0.014635  0.014643  0.014642   \n",
       "\n",
       "               wl_7      wl_8      wl_9     wl_10  ...    wl_274    wl_275  \\\n",
       "planet_id                                          ...                       \n",
       "34983      0.018084  0.018084  0.018085  0.018084  ...  0.018109  0.018112   \n",
       "1873185    0.006343  0.006342  0.006342  0.006341  ...  0.006340  0.006340   \n",
       "3849793    0.046109  0.046112  0.046111  0.046104  ...  0.046144  0.046133   \n",
       "8456603    0.015384  0.015383  0.015383  0.015384  ...  0.015471  0.015471   \n",
       "23615382   0.014637  0.014635  0.014639  0.014644  ...  0.014473  0.014467   \n",
       "\n",
       "             wl_276    wl_277    wl_278    wl_279    wl_280    wl_281  \\\n",
       "planet_id                                                               \n",
       "34983      0.018118  0.018123  0.018125  0.018127  0.018130  0.018134   \n",
       "1873185    0.006339  0.006339  0.006339  0.006339  0.006339  0.006339   \n",
       "3849793    0.046131  0.046138  0.046141  0.046147  0.046147  0.046139   \n",
       "8456603    0.015467  0.015465  0.015465  0.015464  0.015461  0.015460   \n",
       "23615382   0.014433  0.014426  0.014435  0.014422  0.014399  0.014429   \n",
       "\n",
       "             wl_282    wl_283  \n",
       "planet_id                      \n",
       "34983      0.018138  0.018142  \n",
       "1873185    0.006339  0.006339  \n",
       "3849793    0.046134  0.046133  \n",
       "8456603    0.015460  0.015460  \n",
       "23615382   0.014444  0.014418  \n",
       "\n",
       "[5 rows x 283 columns]"
      ]
     },
     "execution_count": 114,
     "metadata": {},
     "output_type": "execute_result"
    }
   ],
   "source": [
    "train_labels = pd.read_csv(paths.train_csv, index_col=\"planet_id\")\n",
    "train_labels.head()"
   ]
  },
  {
   "cell_type": "code",
   "execution_count": 115,
   "id": "45daa23d",
   "metadata": {
    "execution": {
     "iopub.execute_input": "2025-09-24T22:48:10.216750Z",
     "iopub.status.busy": "2025-09-24T22:48:10.216417Z",
     "iopub.status.idle": "2025-09-24T22:48:10.220636Z",
     "shell.execute_reply": "2025-09-24T22:48:10.219907Z"
    },
    "papermill": {
     "duration": 0.043469,
     "end_time": "2025-09-24T22:48:10.222207",
     "exception": false,
     "start_time": "2025-09-24T22:48:10.178738",
     "status": "completed"
    },
    "tags": []
   },
   "outputs": [],
   "source": [
    "scale = 1 / m if len(star_info) > 1 else 4   #just fixing it to 4 to make parameter tuning easier\n",
    "fold_preds_std = fold_preds_std * scale"
   ]
  },
  {
   "cell_type": "code",
   "execution_count": 116,
   "id": "405534c5",
   "metadata": {
    "execution": {
     "iopub.execute_input": "2025-09-24T22:48:10.297780Z",
     "iopub.status.busy": "2025-09-24T22:48:10.297458Z",
     "iopub.status.idle": "2025-09-24T22:48:10.307386Z",
     "shell.execute_reply": "2025-09-24T22:48:10.306570Z"
    },
    "papermill": {
     "duration": 0.049824,
     "end_time": "2025-09-24T22:48:10.309148",
     "exception": false,
     "start_time": "2025-09-24T22:48:10.259324",
     "status": "completed"
    },
    "tags": []
   },
   "outputs": [],
   "source": [
    "fold_submissions = {}\n",
    "for outer_fold in range(FOLDS):\n",
    "    fold_submissions[f'fold_{outer_fold}'] = pd.concat([inner_predictions[outer_fold], fold_std[outer_fold]], axis=1)"
   ]
  },
  {
   "cell_type": "markdown",
   "id": "515e51ac",
   "metadata": {
    "papermill": {
     "duration": 0.035091,
     "end_time": "2025-09-24T22:48:10.381921",
     "exception": false,
     "start_time": "2025-09-24T22:48:10.346830",
     "status": "completed"
    },
    "tags": []
   },
   "source": [
    "## Ensemble"
   ]
  },
  {
   "cell_type": "code",
   "execution_count": 117,
   "id": "685cbb61",
   "metadata": {
    "execution": {
     "iopub.execute_input": "2025-09-24T22:48:10.453273Z",
     "iopub.status.busy": "2025-09-24T22:48:10.452915Z",
     "iopub.status.idle": "2025-09-24T22:48:10.474196Z",
     "shell.execute_reply": "2025-09-24T22:48:10.473285Z"
    },
    "papermill": {
     "duration": 0.059222,
     "end_time": "2025-09-24T22:48:10.475932",
     "exception": false,
     "start_time": "2025-09-24T22:48:10.416710",
     "status": "completed"
    },
    "tags": []
   },
   "outputs": [
    {
     "data": {
      "text/html": [
       "<div>\n",
       "<style scoped>\n",
       "    .dataframe tbody tr th:only-of-type {\n",
       "        vertical-align: middle;\n",
       "    }\n",
       "\n",
       "    .dataframe tbody tr th {\n",
       "        vertical-align: top;\n",
       "    }\n",
       "\n",
       "    .dataframe thead th {\n",
       "        text-align: right;\n",
       "    }\n",
       "</style>\n",
       "<table border=\"1\" class=\"dataframe\">\n",
       "  <thead>\n",
       "    <tr style=\"text-align: right;\">\n",
       "      <th></th>\n",
       "      <th>wl_1</th>\n",
       "      <th>wl_2</th>\n",
       "      <th>wl_3</th>\n",
       "      <th>wl_4</th>\n",
       "      <th>wl_5</th>\n",
       "      <th>wl_6</th>\n",
       "      <th>wl_7</th>\n",
       "      <th>wl_8</th>\n",
       "      <th>wl_9</th>\n",
       "      <th>wl_10</th>\n",
       "      <th>...</th>\n",
       "      <th>wl_274</th>\n",
       "      <th>wl_275</th>\n",
       "      <th>wl_276</th>\n",
       "      <th>wl_277</th>\n",
       "      <th>wl_278</th>\n",
       "      <th>wl_279</th>\n",
       "      <th>wl_280</th>\n",
       "      <th>wl_281</th>\n",
       "      <th>wl_282</th>\n",
       "      <th>wl_283</th>\n",
       "    </tr>\n",
       "    <tr>\n",
       "      <th>planet_id</th>\n",
       "      <th></th>\n",
       "      <th></th>\n",
       "      <th></th>\n",
       "      <th></th>\n",
       "      <th></th>\n",
       "      <th></th>\n",
       "      <th></th>\n",
       "      <th></th>\n",
       "      <th></th>\n",
       "      <th></th>\n",
       "      <th></th>\n",
       "      <th></th>\n",
       "      <th></th>\n",
       "      <th></th>\n",
       "      <th></th>\n",
       "      <th></th>\n",
       "      <th></th>\n",
       "      <th></th>\n",
       "      <th></th>\n",
       "      <th></th>\n",
       "      <th></th>\n",
       "    </tr>\n",
       "  </thead>\n",
       "  <tbody>\n",
       "    <tr>\n",
       "      <th>1103775</th>\n",
       "      <td>0.015801</td>\n",
       "      <td>0.015828</td>\n",
       "      <td>0.015829</td>\n",
       "      <td>0.015829</td>\n",
       "      <td>0.015829</td>\n",
       "      <td>0.015829</td>\n",
       "      <td>0.015828</td>\n",
       "      <td>0.015828</td>\n",
       "      <td>0.015827</td>\n",
       "      <td>0.015826</td>\n",
       "      <td>...</td>\n",
       "      <td>0.015899</td>\n",
       "      <td>0.015898</td>\n",
       "      <td>0.015897</td>\n",
       "      <td>0.015896</td>\n",
       "      <td>0.015896</td>\n",
       "      <td>0.015895</td>\n",
       "      <td>0.015895</td>\n",
       "      <td>0.015895</td>\n",
       "      <td>0.015895</td>\n",
       "      <td>0.015895</td>\n",
       "    </tr>\n",
       "  </tbody>\n",
       "</table>\n",
       "<p>1 rows × 283 columns</p>\n",
       "</div>"
      ],
      "text/plain": [
       "               wl_1      wl_2      wl_3      wl_4      wl_5      wl_6  \\\n",
       "planet_id                                                               \n",
       "1103775    0.015801  0.015828  0.015829  0.015829  0.015829  0.015829   \n",
       "\n",
       "               wl_7      wl_8      wl_9     wl_10  ...    wl_274    wl_275  \\\n",
       "planet_id                                          ...                       \n",
       "1103775    0.015828  0.015828  0.015827  0.015826  ...  0.015899  0.015898   \n",
       "\n",
       "             wl_276    wl_277    wl_278    wl_279    wl_280    wl_281  \\\n",
       "planet_id                                                               \n",
       "1103775    0.015897  0.015896  0.015896  0.015895  0.015895  0.015895   \n",
       "\n",
       "             wl_282    wl_283  \n",
       "planet_id                      \n",
       "1103775    0.015895  0.015895  \n",
       "\n",
       "[1 rows x 283 columns]"
      ]
     },
     "execution_count": 117,
     "metadata": {},
     "output_type": "execute_result"
    }
   ],
   "source": [
    "stacked = np.stack([df.values for df in inner_predictions.values()])\n",
    "mean_array = stacked.mean(axis=0)\n",
    "columns = [f'wl_{wl+1}' for wl in range(283)]\n",
    "ensembled_preds_df = pd.DataFrame(mean_array.clip(0, None), index=star_info.index, columns=columns)\n",
    "ensembled_preds_df.head(2)"
   ]
  },
  {
   "cell_type": "markdown",
   "id": "8f9c97f9",
   "metadata": {
    "papermill": {
     "duration": 0.037715,
     "end_time": "2025-09-24T22:48:10.549203",
     "exception": false,
     "start_time": "2025-09-24T22:48:10.511488",
     "status": "completed"
    },
    "tags": []
   },
   "source": [
    "Now let's find the average error by planet and compare that to the error models!"
   ]
  },
  {
   "cell_type": "code",
   "execution_count": 118,
   "id": "d7ba4369",
   "metadata": {
    "execution": {
     "iopub.execute_input": "2025-09-24T22:48:10.629980Z",
     "iopub.status.busy": "2025-09-24T22:48:10.629625Z",
     "iopub.status.idle": "2025-09-24T22:48:10.634598Z",
     "shell.execute_reply": "2025-09-24T22:48:10.633779Z"
    },
    "papermill": {
     "duration": 0.046625,
     "end_time": "2025-09-24T22:48:10.636332",
     "exception": false,
     "start_time": "2025-09-24T22:48:10.589707",
     "status": "completed"
    },
    "tags": []
   },
   "outputs": [],
   "source": [
    "if not SUBMIT_TO_COMPETITION:\n",
    "    rms_df = pd.DataFrame(\n",
    "    np.sqrt(((ensembled_preds_df - train_labels)**2).mean(axis=1)),\n",
    "    index=ensembled_preds_df.index,\n",
    "    columns=[\"rms\"]\n",
    "    )\n",
    "    rms_df['modelled'] = mean_err1\n",
    "    rms_df['scaled_fold_std'] = mean_err2 / 4\n",
    "    display(rms_df.head())"
   ]
  },
  {
   "cell_type": "code",
   "execution_count": 119,
   "id": "d75d24e7",
   "metadata": {
    "execution": {
     "iopub.execute_input": "2025-09-24T22:48:10.720798Z",
     "iopub.status.busy": "2025-09-24T22:48:10.720412Z",
     "iopub.status.idle": "2025-09-24T22:48:10.726973Z",
     "shell.execute_reply": "2025-09-24T22:48:10.726035Z"
    },
    "papermill": {
     "duration": 0.050488,
     "end_time": "2025-09-24T22:48:10.728805",
     "exception": false,
     "start_time": "2025-09-24T22:48:10.678317",
     "status": "completed"
    },
    "tags": []
   },
   "outputs": [],
   "source": [
    "if not SUBMIT_TO_COMPETITION:\n",
    "    plt.figure(figsize=(6,6))\n",
    "\n",
    "    # Scatter both methods against truth\n",
    "    plt.scatter(rms_df[\"rms\"], rms_df[\"modelled\"], \n",
    "                s=20, alpha=0.6, label=\"Modelled\", color=\"tab:blue\")\n",
    "    plt.scatter(rms_df[\"rms\"], rms_df[\"scaled_fold_std\"], \n",
    "                s=20, alpha=0.6, label=\"Scaled fold std\", color=\"tab:orange\")\n",
    "    \n",
    "    # 1:1 line\n",
    "    lims = [0, 0.0015]\n",
    "    plt.plot(lims, lims, \"k--\", alpha=0.7, label=\"1:1 line\")\n",
    "    \n",
    "    plt.xlabel(\"Ground truth (RMS)\")\n",
    "    plt.xlim(0,0.0015)\n",
    "    plt.ylabel(\"Predicted value\")\n",
    "    plt.title(\"Comparison of prediction methods against ground truth\")\n",
    "    plt.legend()\n",
    "    plt.grid(alpha=0.3)\n",
    "    plt.show()"
   ]
  },
  {
   "cell_type": "markdown",
   "id": "5dd533bb",
   "metadata": {
    "papermill": {
     "duration": 0.03916,
     "end_time": "2025-09-24T22:48:10.807769",
     "exception": false,
     "start_time": "2025-09-24T22:48:10.768609",
     "status": "completed"
    },
    "tags": []
   },
   "source": [
    "This gets to the heart of the problem.  The LGBM model under-estimates the error for the higher variance samples.  I wonder if a simpler linear model would be better for those?"
   ]
  },
  {
   "cell_type": "code",
   "execution_count": 120,
   "id": "fb2d85cd",
   "metadata": {
    "execution": {
     "iopub.execute_input": "2025-09-24T22:48:10.897973Z",
     "iopub.status.busy": "2025-09-24T22:48:10.897581Z",
     "iopub.status.idle": "2025-09-24T22:48:10.903246Z",
     "shell.execute_reply": "2025-09-24T22:48:10.902073Z"
    },
    "papermill": {
     "duration": 0.055745,
     "end_time": "2025-09-24T22:48:10.905612",
     "exception": false,
     "start_time": "2025-09-24T22:48:10.849867",
     "status": "completed"
    },
    "tags": []
   },
   "outputs": [],
   "source": [
    "w1 = MODEL_FOLD_VAR_ENSEMBLE_WEIGHTS\n",
    "w2 = 1 - w1\n",
    "\n",
    "ensembled_error = np.where(\n",
    "    model_error > WEIGHTED_ENSEMBLE_THRESHOLD,\n",
    "    np.sqrt(w1**2 * model_error**2 + w2**2 * fold_preds_std**2),\n",
    "    model_error\n",
    "    ) * ERROR_FACTOR + ERROR_OFFSET"
   ]
  },
  {
   "cell_type": "code",
   "execution_count": 121,
   "id": "a3878d58",
   "metadata": {
    "execution": {
     "iopub.execute_input": "2025-09-24T22:48:10.990590Z",
     "iopub.status.busy": "2025-09-24T22:48:10.990221Z",
     "iopub.status.idle": "2025-09-24T22:48:11.015106Z",
     "shell.execute_reply": "2025-09-24T22:48:11.014096Z"
    },
    "papermill": {
     "duration": 0.06886,
     "end_time": "2025-09-24T22:48:11.016734",
     "exception": false,
     "start_time": "2025-09-24T22:48:10.947874",
     "status": "completed"
    },
    "tags": []
   },
   "outputs": [
    {
     "data": {
      "text/html": [
       "<div>\n",
       "<style scoped>\n",
       "    .dataframe tbody tr th:only-of-type {\n",
       "        vertical-align: middle;\n",
       "    }\n",
       "\n",
       "    .dataframe tbody tr th {\n",
       "        vertical-align: top;\n",
       "    }\n",
       "\n",
       "    .dataframe thead th {\n",
       "        text-align: right;\n",
       "    }\n",
       "</style>\n",
       "<table border=\"1\" class=\"dataframe\">\n",
       "  <thead>\n",
       "    <tr style=\"text-align: right;\">\n",
       "      <th></th>\n",
       "      <th>sigma_1</th>\n",
       "      <th>sigma_2</th>\n",
       "      <th>sigma_3</th>\n",
       "      <th>sigma_4</th>\n",
       "      <th>sigma_5</th>\n",
       "      <th>sigma_6</th>\n",
       "      <th>sigma_7</th>\n",
       "      <th>sigma_8</th>\n",
       "      <th>sigma_9</th>\n",
       "      <th>sigma_10</th>\n",
       "      <th>...</th>\n",
       "      <th>sigma_274</th>\n",
       "      <th>sigma_275</th>\n",
       "      <th>sigma_276</th>\n",
       "      <th>sigma_277</th>\n",
       "      <th>sigma_278</th>\n",
       "      <th>sigma_279</th>\n",
       "      <th>sigma_280</th>\n",
       "      <th>sigma_281</th>\n",
       "      <th>sigma_282</th>\n",
       "      <th>sigma_283</th>\n",
       "    </tr>\n",
       "    <tr>\n",
       "      <th>planet_id</th>\n",
       "      <th></th>\n",
       "      <th></th>\n",
       "      <th></th>\n",
       "      <th></th>\n",
       "      <th></th>\n",
       "      <th></th>\n",
       "      <th></th>\n",
       "      <th></th>\n",
       "      <th></th>\n",
       "      <th></th>\n",
       "      <th></th>\n",
       "      <th></th>\n",
       "      <th></th>\n",
       "      <th></th>\n",
       "      <th></th>\n",
       "      <th></th>\n",
       "      <th></th>\n",
       "      <th></th>\n",
       "      <th></th>\n",
       "      <th></th>\n",
       "      <th></th>\n",
       "    </tr>\n",
       "  </thead>\n",
       "  <tbody>\n",
       "    <tr>\n",
       "      <th>1103775</th>\n",
       "      <td>0.000265</td>\n",
       "      <td>0.00014</td>\n",
       "      <td>0.00014</td>\n",
       "      <td>0.00014</td>\n",
       "      <td>0.00014</td>\n",
       "      <td>0.00014</td>\n",
       "      <td>0.00014</td>\n",
       "      <td>0.000139</td>\n",
       "      <td>0.000139</td>\n",
       "      <td>0.000139</td>\n",
       "      <td>...</td>\n",
       "      <td>0.000177</td>\n",
       "      <td>0.000178</td>\n",
       "      <td>0.000179</td>\n",
       "      <td>0.000179</td>\n",
       "      <td>0.00018</td>\n",
       "      <td>0.00018</td>\n",
       "      <td>0.00018</td>\n",
       "      <td>0.00018</td>\n",
       "      <td>0.00018</td>\n",
       "      <td>0.00018</td>\n",
       "    </tr>\n",
       "  </tbody>\n",
       "</table>\n",
       "<p>1 rows × 283 columns</p>\n",
       "</div>"
      ],
      "text/plain": [
       "            sigma_1  sigma_2  sigma_3  sigma_4  sigma_5  sigma_6  sigma_7  \\\n",
       "planet_id                                                                   \n",
       "1103775    0.000265  0.00014  0.00014  0.00014  0.00014  0.00014  0.00014   \n",
       "\n",
       "            sigma_8   sigma_9  sigma_10  ...  sigma_274  sigma_275  sigma_276  \\\n",
       "planet_id                                ...                                    \n",
       "1103775    0.000139  0.000139  0.000139  ...   0.000177   0.000178   0.000179   \n",
       "\n",
       "           sigma_277  sigma_278  sigma_279  sigma_280  sigma_281  sigma_282  \\\n",
       "planet_id                                                                     \n",
       "1103775     0.000179    0.00018    0.00018    0.00018    0.00018    0.00018   \n",
       "\n",
       "           sigma_283  \n",
       "planet_id             \n",
       "1103775      0.00018  \n",
       "\n",
       "[1 rows x 283 columns]"
      ]
     },
     "execution_count": 121,
     "metadata": {},
     "output_type": "execute_result"
    }
   ],
   "source": [
    "sigma_cols = [f'sigma_{i+1}' for i in range(283)]\n",
    "ensembled_error_df = pd.DataFrame(ensembled_error, index = star_info.index, columns = sigma_cols)\n",
    "ensembled_error_df.iloc[:,:1] = ensembled_error_df.iloc[:,:1].clip(AIRS_MIN_SIGMA*2, AIRS_MAX_SIGMA*2)\n",
    "ensembled_error_df.iloc[:,1:] = ensembled_error_df.iloc[:,1:].clip(AIRS_MIN_SIGMA, AIRS_MAX_SIGMA)\n",
    "ensembled_error_df.head(2)"
   ]
  },
  {
   "cell_type": "code",
   "execution_count": 122,
   "id": "a8609727",
   "metadata": {
    "execution": {
     "iopub.execute_input": "2025-09-24T22:48:11.094785Z",
     "iopub.status.busy": "2025-09-24T22:48:11.093971Z",
     "iopub.status.idle": "2025-09-24T22:48:11.115391Z",
     "shell.execute_reply": "2025-09-24T22:48:11.114508Z"
    },
    "papermill": {
     "duration": 0.063601,
     "end_time": "2025-09-24T22:48:11.117309",
     "exception": false,
     "start_time": "2025-09-24T22:48:11.053708",
     "status": "completed"
    },
    "tags": []
   },
   "outputs": [
    {
     "data": {
      "text/html": [
       "<div>\n",
       "<style scoped>\n",
       "    .dataframe tbody tr th:only-of-type {\n",
       "        vertical-align: middle;\n",
       "    }\n",
       "\n",
       "    .dataframe tbody tr th {\n",
       "        vertical-align: top;\n",
       "    }\n",
       "\n",
       "    .dataframe thead th {\n",
       "        text-align: right;\n",
       "    }\n",
       "</style>\n",
       "<table border=\"1\" class=\"dataframe\">\n",
       "  <thead>\n",
       "    <tr style=\"text-align: right;\">\n",
       "      <th></th>\n",
       "      <th>wl_1</th>\n",
       "      <th>wl_2</th>\n",
       "      <th>wl_3</th>\n",
       "      <th>wl_4</th>\n",
       "      <th>wl_5</th>\n",
       "      <th>wl_6</th>\n",
       "      <th>wl_7</th>\n",
       "      <th>wl_8</th>\n",
       "      <th>wl_9</th>\n",
       "      <th>wl_10</th>\n",
       "      <th>...</th>\n",
       "      <th>sigma_274</th>\n",
       "      <th>sigma_275</th>\n",
       "      <th>sigma_276</th>\n",
       "      <th>sigma_277</th>\n",
       "      <th>sigma_278</th>\n",
       "      <th>sigma_279</th>\n",
       "      <th>sigma_280</th>\n",
       "      <th>sigma_281</th>\n",
       "      <th>sigma_282</th>\n",
       "      <th>sigma_283</th>\n",
       "    </tr>\n",
       "    <tr>\n",
       "      <th>planet_id</th>\n",
       "      <th></th>\n",
       "      <th></th>\n",
       "      <th></th>\n",
       "      <th></th>\n",
       "      <th></th>\n",
       "      <th></th>\n",
       "      <th></th>\n",
       "      <th></th>\n",
       "      <th></th>\n",
       "      <th></th>\n",
       "      <th></th>\n",
       "      <th></th>\n",
       "      <th></th>\n",
       "      <th></th>\n",
       "      <th></th>\n",
       "      <th></th>\n",
       "      <th></th>\n",
       "      <th></th>\n",
       "      <th></th>\n",
       "      <th></th>\n",
       "      <th></th>\n",
       "    </tr>\n",
       "  </thead>\n",
       "  <tbody>\n",
       "    <tr>\n",
       "      <th>1103775</th>\n",
       "      <td>0.015801</td>\n",
       "      <td>0.015828</td>\n",
       "      <td>0.015829</td>\n",
       "      <td>0.015829</td>\n",
       "      <td>0.015829</td>\n",
       "      <td>0.015829</td>\n",
       "      <td>0.015828</td>\n",
       "      <td>0.015828</td>\n",
       "      <td>0.015827</td>\n",
       "      <td>0.015826</td>\n",
       "      <td>...</td>\n",
       "      <td>0.000177</td>\n",
       "      <td>0.000178</td>\n",
       "      <td>0.000179</td>\n",
       "      <td>0.000179</td>\n",
       "      <td>0.00018</td>\n",
       "      <td>0.00018</td>\n",
       "      <td>0.00018</td>\n",
       "      <td>0.00018</td>\n",
       "      <td>0.00018</td>\n",
       "      <td>0.00018</td>\n",
       "    </tr>\n",
       "  </tbody>\n",
       "</table>\n",
       "<p>1 rows × 566 columns</p>\n",
       "</div>"
      ],
      "text/plain": [
       "               wl_1      wl_2      wl_3      wl_4      wl_5      wl_6  \\\n",
       "planet_id                                                               \n",
       "1103775    0.015801  0.015828  0.015829  0.015829  0.015829  0.015829   \n",
       "\n",
       "               wl_7      wl_8      wl_9     wl_10  ...  sigma_274  sigma_275  \\\n",
       "planet_id                                          ...                         \n",
       "1103775    0.015828  0.015828  0.015827  0.015826  ...   0.000177   0.000178   \n",
       "\n",
       "           sigma_276  sigma_277  sigma_278  sigma_279  sigma_280  sigma_281  \\\n",
       "planet_id                                                                     \n",
       "1103775     0.000179   0.000179    0.00018    0.00018    0.00018    0.00018   \n",
       "\n",
       "           sigma_282  sigma_283  \n",
       "planet_id                        \n",
       "1103775      0.00018    0.00018  \n",
       "\n",
       "[1 rows x 566 columns]"
      ]
     },
     "execution_count": 122,
     "metadata": {},
     "output_type": "execute_result"
    }
   ],
   "source": [
    "sub_df = pd.concat([ensembled_preds_df.clip(0,None), ensembled_error_df], axis=1)\n",
    "sub_df.head(2)"
   ]
  },
  {
   "cell_type": "code",
   "execution_count": 123,
   "id": "65062e5a",
   "metadata": {
    "execution": {
     "iopub.execute_input": "2025-09-24T22:48:11.195778Z",
     "iopub.status.busy": "2025-09-24T22:48:11.195207Z",
     "iopub.status.idle": "2025-09-24T22:48:11.199881Z",
     "shell.execute_reply": "2025-09-24T22:48:11.198990Z"
    },
    "papermill": {
     "duration": 0.044841,
     "end_time": "2025-09-24T22:48:11.201507",
     "exception": false,
     "start_time": "2025-09-24T22:48:11.156666",
     "status": "completed"
    },
    "tags": []
   },
   "outputs": [],
   "source": [
    "if not SUBMIT_TO_COMPETITION:\n",
    "    plotter = PlanetPlotter(planet_ids,\n",
    "                            all_signal,\n",
    "                            all_wl_fits,  #These are the original fits of the mean signal used to create the baseline, and their b & c parameters in a dictionary\n",
    "                            breakpoints,\n",
    "                            edges,\n",
    "                            poly_df,\n",
    "                            sub_df,\n",
    "                            targ_df,\n",
    "                            extra_feats_df,\n",
    "                            )\n",
    "    plotter.plot_planet(1739553248)"
   ]
  },
  {
   "cell_type": "code",
   "execution_count": 124,
   "id": "fcc23fc1",
   "metadata": {
    "execution": {
     "iopub.execute_input": "2025-09-24T22:48:11.280251Z",
     "iopub.status.busy": "2025-09-24T22:48:11.279918Z",
     "iopub.status.idle": "2025-09-24T22:48:11.283875Z",
     "shell.execute_reply": "2025-09-24T22:48:11.283177Z"
    },
    "papermill": {
     "duration": 0.045123,
     "end_time": "2025-09-24T22:48:11.285543",
     "exception": false,
     "start_time": "2025-09-24T22:48:11.240420",
     "status": "completed"
    },
    "tags": []
   },
   "outputs": [],
   "source": [
    "if not SUBMIT_TO_COMPETITION:\n",
    "    plotter.plot_planet(1124834224)"
   ]
  },
  {
   "cell_type": "code",
   "execution_count": 125,
   "id": "501bfc64",
   "metadata": {
    "execution": {
     "iopub.execute_input": "2025-09-24T22:48:11.365611Z",
     "iopub.status.busy": "2025-09-24T22:48:11.365254Z",
     "iopub.status.idle": "2025-09-24T22:48:11.369524Z",
     "shell.execute_reply": "2025-09-24T22:48:11.368636Z"
    },
    "papermill": {
     "duration": 0.046605,
     "end_time": "2025-09-24T22:48:11.371309",
     "exception": false,
     "start_time": "2025-09-24T22:48:11.324704",
     "status": "completed"
    },
    "tags": []
   },
   "outputs": [],
   "source": [
    "if not SUBMIT_TO_COMPETITION:\n",
    "    plotter.plot_planet(2554928345)"
   ]
  },
  {
   "cell_type": "code",
   "execution_count": 126,
   "id": "bfd34896",
   "metadata": {
    "execution": {
     "iopub.execute_input": "2025-09-24T22:48:11.448278Z",
     "iopub.status.busy": "2025-09-24T22:48:11.447655Z",
     "iopub.status.idle": "2025-09-24T22:48:11.451734Z",
     "shell.execute_reply": "2025-09-24T22:48:11.450891Z"
    },
    "papermill": {
     "duration": 0.044255,
     "end_time": "2025-09-24T22:48:11.453418",
     "exception": false,
     "start_time": "2025-09-24T22:48:11.409163",
     "status": "completed"
    },
    "tags": []
   },
   "outputs": [],
   "source": [
    "if not SUBMIT_TO_COMPETITION:\n",
    "    plotter.plot_planet(t_y_range=0.002)  #will use any planet id"
   ]
  },
  {
   "cell_type": "code",
   "execution_count": 127,
   "id": "d2494e9c",
   "metadata": {
    "execution": {
     "iopub.execute_input": "2025-09-24T22:48:11.528862Z",
     "iopub.status.busy": "2025-09-24T22:48:11.528071Z",
     "iopub.status.idle": "2025-09-24T22:48:11.532289Z",
     "shell.execute_reply": "2025-09-24T22:48:11.531496Z"
    },
    "papermill": {
     "duration": 0.043716,
     "end_time": "2025-09-24T22:48:11.533814",
     "exception": false,
     "start_time": "2025-09-24T22:48:11.490098",
     "status": "completed"
    },
    "tags": []
   },
   "outputs": [],
   "source": [
    "if not SUBMIT_TO_COMPETITION:\n",
    "    random_baddie = random.choice([3608862334])\n",
    "    plotter.plot_planet(random_baddie)"
   ]
  },
  {
   "cell_type": "code",
   "execution_count": 128,
   "id": "a605541d",
   "metadata": {
    "execution": {
     "iopub.execute_input": "2025-09-24T22:48:11.613324Z",
     "iopub.status.busy": "2025-09-24T22:48:11.612661Z",
     "iopub.status.idle": "2025-09-24T22:48:11.616983Z",
     "shell.execute_reply": "2025-09-24T22:48:11.616201Z"
    },
    "papermill": {
     "duration": 0.046523,
     "end_time": "2025-09-24T22:48:11.618852",
     "exception": false,
     "start_time": "2025-09-24T22:48:11.572329",
     "status": "completed"
    },
    "tags": []
   },
   "outputs": [],
   "source": [
    "if not SUBMIT_TO_COMPETITION:\n",
    "    random_baddie = random.choice([1665810843])\n",
    "    plotter.plot_planet(random_baddie, t_y_range=0.02)"
   ]
  },
  {
   "cell_type": "code",
   "execution_count": 129,
   "id": "4d6d2029",
   "metadata": {
    "execution": {
     "iopub.execute_input": "2025-09-24T22:48:11.694117Z",
     "iopub.status.busy": "2025-09-24T22:48:11.693880Z",
     "iopub.status.idle": "2025-09-24T22:48:11.697975Z",
     "shell.execute_reply": "2025-09-24T22:48:11.697256Z"
    },
    "papermill": {
     "duration": 0.043189,
     "end_time": "2025-09-24T22:48:11.699592",
     "exception": false,
     "start_time": "2025-09-24T22:48:11.656403",
     "status": "completed"
    },
    "tags": []
   },
   "outputs": [],
   "source": [
    "if not SUBMIT_TO_COMPETITION:\n",
    "    random_baddie = random.choice([204264160, 1267010874, 1349926825, 1597331512, 2270815333, 2557736212, 3786449677, 2609891029, 1401409675])\n",
    "    plotter.plot_planet(random_baddie, t_y_range=0.02)"
   ]
  },
  {
   "cell_type": "code",
   "execution_count": 130,
   "id": "fba5b1ec",
   "metadata": {
    "execution": {
     "iopub.execute_input": "2025-09-24T22:48:11.772753Z",
     "iopub.status.busy": "2025-09-24T22:48:11.772523Z",
     "iopub.status.idle": "2025-09-24T22:48:12.958773Z",
     "shell.execute_reply": "2025-09-24T22:48:12.957890Z"
    },
    "papermill": {
     "duration": 1.225636,
     "end_time": "2025-09-24T22:48:12.960916",
     "exception": false,
     "start_time": "2025-09-24T22:48:11.735280",
     "status": "completed"
    },
    "tags": []
   },
   "outputs": [
    {
     "name": "stdout",
     "output_type": "stream",
     "text": [
      "__notebook__.ipynb  signal_v5.npy\r\n"
     ]
    }
   ],
   "source": [
    "!ls"
   ]
  },
  {
   "cell_type": "code",
   "execution_count": 131,
   "id": "aa92434f",
   "metadata": {
    "execution": {
     "iopub.execute_input": "2025-09-24T22:48:13.035672Z",
     "iopub.status.busy": "2025-09-24T22:48:13.035388Z",
     "iopub.status.idle": "2025-09-24T22:48:13.045776Z",
     "shell.execute_reply": "2025-09-24T22:48:13.044988Z"
    },
    "papermill": {
     "duration": 0.049497,
     "end_time": "2025-09-24T22:48:13.047343",
     "exception": false,
     "start_time": "2025-09-24T22:48:12.997846",
     "status": "completed"
    },
    "tags": []
   },
   "outputs": [],
   "source": [
    "def competition_score(\n",
    "    solution: pd.DataFrame,\n",
    "    submission: pd.DataFrame,\n",
    "    naive_mean: float,\n",
    "    naive_sigma: float,\n",
    "    sigma_true: float = 0.00001,\n",
    "    row_id_column_name: str = \"planet_id\",\n",
    "    return_worst: int | None = None,  # new: optionally return worst fitting ids\n",
    ") -> float | tuple[float, pd.DataFrame]:\n",
    "    \"\"\"\n",
    "    Modified version: returns worst fitting predictions if return_worst is set.\n",
    "    \"\"\"\n",
    "\n",
    "    row_ids = solution[row_id_column_name].values  # keep before dropping\n",
    "    del solution[row_id_column_name]\n",
    "    del submission[row_id_column_name]\n",
    "\n",
    "    if submission.min().min() < 0:\n",
    "        raise ParticipantVisibleError(\"Negative values in the submission\")\n",
    "    for col in submission.columns:\n",
    "        if not pd.api.types.is_numeric_dtype(submission[col]):\n",
    "            raise ParticipantVisibleError(f\"Submission column {col} must be a number\")\n",
    "\n",
    "    n_wavelengths = len(solution.columns)\n",
    "    if len(submission.columns) != n_wavelengths * 2:\n",
    "        raise ParticipantVisibleError(\"Wrong number of columns in the submission\")\n",
    "\n",
    "    y_pred = submission.iloc[:, :n_wavelengths].values\n",
    "    sigma_pred = np.clip(\n",
    "        submission.iloc[:, n_wavelengths:].values, a_min=10**-15, a_max=None\n",
    "    )\n",
    "    y_true = solution.values\n",
    "\n",
    "    # per-row log-likelihood (sum over wavelengths for each sample)\n",
    "    row_gll = np.sum(\n",
    "        scipy.stats.norm.logpdf(y_true, loc=y_pred, scale=sigma_pred), axis=1\n",
    "    )\n",
    "\n",
    "    # overall scores\n",
    "    GLL_pred = row_gll.sum()\n",
    "    GLL_true = np.sum(\n",
    "        scipy.stats.norm.logpdf(\n",
    "            y_true, loc=y_true, scale=sigma_true * np.ones_like(y_true)\n",
    "        )\n",
    "    )\n",
    "    GLL_mean = np.sum(\n",
    "        scipy.stats.norm.logpdf(\n",
    "            y_true,\n",
    "            loc=naive_mean * np.ones_like(y_true),\n",
    "            scale=naive_sigma * np.ones_like(y_true),\n",
    "        )\n",
    "    )\n",
    "\n",
    "    score = (GLL_pred - GLL_mean) / (GLL_true - GLL_mean)\n",
    "\n",
    "    if return_worst is not None:\n",
    "        # Attach row_ids and sort by worst log-likelihood\n",
    "        worst_df = pd.DataFrame({\n",
    "            row_id_column_name: row_ids,\n",
    "            \"row_loglikelihood\": row_gll\n",
    "        }).sort_values(\"row_loglikelihood\").head(return_worst)\n",
    "\n",
    "        first_index = worst_df.index[0]\n",
    "        #print(f'The worst planet is {first_index}')\n",
    "\n",
    "        return score, worst_df\n",
    "\n",
    "    return score, None"
   ]
  },
  {
   "cell_type": "code",
   "execution_count": 132,
   "id": "94709c94",
   "metadata": {
    "execution": {
     "iopub.execute_input": "2025-09-24T22:48:13.123908Z",
     "iopub.status.busy": "2025-09-24T22:48:13.123601Z",
     "iopub.status.idle": "2025-09-24T22:48:13.131393Z",
     "shell.execute_reply": "2025-09-24T22:48:13.130498Z"
    },
    "papermill": {
     "duration": 0.050361,
     "end_time": "2025-09-24T22:48:13.133065",
     "exception": false,
     "start_time": "2025-09-24T22:48:13.082704",
     "status": "completed"
    },
    "tags": []
   },
   "outputs": [],
   "source": [
    "def get_metrics(all_labels, fold_predictions, fold_ids, plotter):\n",
    "    worst_rows = {}\n",
    "    scores = []\n",
    "    for fold in fold_ids:\n",
    "        labels = all_labels.copy().loc[fold_ids[fold]['test_ids']].reset_index()\n",
    "        predictions = fold_predictions[f'fold_{fold}'].copy().loc[fold_ids[fold]['test_ids']].reset_index()\n",
    "\n",
    "        gll_score, badies_df = competition_score(\n",
    "            labels,\n",
    "            predictions,\n",
    "            naive_mean=all_labels.values.mean(),\n",
    "            naive_sigma=all_labels.values.std(),\n",
    "            return_worst=5\n",
    "        )\n",
    "        print(f\"Estimated competition score for fold {fold}: {gll_score:.3f}\")\n",
    "\n",
    "        worst_planet= badies_df['planet_id'].iloc[0]\n",
    "        worst_score= badies_df.iloc[0]['row_loglikelihood']\n",
    "        print(f'The worst planet was {worst_planet} with a score of {worst_score:.0f}')\n",
    "        plotter.plot_planet(planet_id = worst_planet)\n",
    "\n",
    "        scores.append(gll_score)\n",
    "        worst_rows[fold] = badies_df\n",
    "\n",
    "    mean = np.mean(scores)\n",
    "    sigma = np.std(scores, ddof=1)  # sample standard deviation\n",
    "    mean_minus_sigma = mean - sigma\n",
    "\n",
    "    print(f\"\\nMean: {mean:.3}, 1σ:{sigma:.3}, Mean - 1σ: {mean_minus_sigma:.3}\")\n",
    "    \n",
    "    return worst_rows\n",
    "\n",
    "\n",
    "if GET_METRICS:\n",
    "    train_labels = pd.read_csv(paths.train_csv, index_col=\"planet_id\")\n",
    "    badies_df = get_metrics(train_labels, fold_submissions, fold_ids, plotter)\n",
    "    "
   ]
  },
  {
   "cell_type": "markdown",
   "id": "d16deb62",
   "metadata": {
    "papermill": {
     "duration": 0.038335,
     "end_time": "2025-09-24T22:48:13.212411",
     "exception": false,
     "start_time": "2025-09-24T22:48:13.174076",
     "status": "completed"
    },
    "tags": []
   },
   "source": [
    "WITH FACTOR 5   MEAN - SIGMA = 0.39  \n",
    "WITH FACTOR 10   MEAN - SIGMA = .385  \n",
    "WITH FACTOR 5   MEAN - SIGMA = 0.392  "
   ]
  },
  {
   "cell_type": "markdown",
   "id": "08c8282a",
   "metadata": {
    "papermill": {
     "duration": 0.041793,
     "end_time": "2025-09-24T22:48:13.295342",
     "exception": false,
     "start_time": "2025-09-24T22:48:13.253549",
     "status": "completed"
    },
    "tags": []
   },
   "source": [
    "* Directly after bug fixes (fgs sigma factor 1):       Mean: 0.487  1σ: 0.0148  Mean - 1σ: 0.472  \n",
    "* Error and FGS factors changed to 1.1, fgs 1.5:       Mean: 0.49,  1σ:0.00967, Mean - 1σ: 0.48\n",
    "* Removed less relevent reatures:                      Mean: 0.487, 1σ:0.0113, Mean - 1σ: 0.476\n",
    "* Set error factor to 1.4:                             Mean: 0.485, 1σ:0.0086, Mean - 1σ: 0.476\n",
    "  \n",
    "It seems to peak around 1.1\n",
    "\n",
    "* Reduced   fgs_sigma factor to 1.2:                     Mean: 0.488, 1σ:0.012, Mean - 1σ: 0.476  \n",
    "* Increased fgs_sigma factor to 1.8:                     Mean: 0.49, 1σ:0.00982, Mean - 1σ: 0.481  \n",
    "* Increased fgs_sigma factor to 2:                       Mean: 0.49, 1σ:0.00982, Mean - 1σ: 0.481  \n",
    "\n",
    "\n",
    "* Increased min_child_samples for error to 20          Mean: 0.487, 1σ:0.0122, Mean - 1σ: 0.475\n",
    "* child-samples 8, num_leaves 10                       Mean: 0.489, 1σ:0.00996, Mean - 1σ: 0.479 \n",
    "* child-samples 8, num_leaves 6                        Mean: 0.489, 1σ:0.0095, Mean - 1σ: 0.479\n",
    "\n",
    "Tried increasing the kernel to 35 but no improvement\n",
    "Tried using build_serial_tree but no improvement\n",
    "\n",
    "\n",
    "Forced reflection in any case where left > right (removed breakpoint condition)\n",
    "* Mean: 0.493, 1σ:0.00792, Mean - 1σ: 0.485\n",
    "\n",
    "\n",
    "Added a darkening correction feature\n",
    "\n",
    "* Original Mean: 0.494, 1σ:0.0078, Mean - 1σ: 0.486\n",
    "* Corrected cos_i, extra features:                                  Mean: 0.502, 1σ:0.00918, Mean - 1σ: 0.493  #LB score 0.424\n",
    "* Reduced error factor 1.1 to 1, and lower limit .00015 to .0001:   Mean: 0.499, 1σ:0.0102, Mean - 1σ: 0.488\n",
    "* Put back error factor, but left the lower limit at .0001          Mean: 0.502, 1σ:0.0139, Mean - 1σ: 0.488\n",
    "* Increased leaves from 10 to 12                                    Mean: 0.502, 1σ:0.0105, Mean - 1σ: 0.492   #LB score current best 0.426\n",
    "* Removed the polynomeal dataframe from the features                Mean: 0.498, 1σ:0.0197, Mean - 1σ: 0.478\n",
    "* Tried a variable conv kernel from 15 to 35                        Mean: 0.497, 1σ:0.017, Mean - 1σ: 0.48\n",
    "\n",
    "* New scheme to fit the x0 and x2 to a straight line                Mean: 0.502, 1σ:0.0116, Mean - 1σ: 0.49\n",
    "* Added edge detection                                              Mean: 0.507, 1σ:0.0134, Mean - 1σ: 0.494\n",
    "* New features added (with over curve depth, egress/width)          Mean: 0.512, 1σ:0.0133, Mean - 1σ: 0.499\n",
    "* Changed max right edges from (10 and 30) to 20,20                 Mean: 0.512, 1σ:0.0125, Mean - 1σ: 0.5\n",
    "* Incresed the baseline number of samples from 5 per side to 10     Mean: 0.51, 1σ:0.0113, Mean - 1σ: 0.498\n",
    "* Added a max_slope feature                                         Mean: 0.519, 1σ:0.0149, Mean - 1σ: 0.505\n",
    "* Incresed number of leaves for the fit to 14                       Mean: 0.52, 1σ:0.0163, Mean - 1σ: 0.503\n",
    "* New Localised features for the error                              Mean: 0.521, 1σ:0.00775, Mean - 1σ: 0.513\n",
    "* Increased error model leaves and depth                            Mean: 0.521, 1σ:0.00782, Mean - 1σ: 0.513\n",
    "* Submission with 10 folds                                          Mean: 0.522, 1σ:0.00842, Mean - 1σ: 0.513\n",
    "* conv kernel: min 15, max 25                                       Mean: 0.513, 1σ:0.00603, Mean - 1σ: 0.507\n",
    "* Changed so first fits use the max.  min 17, max 25                Mean: 0.518, 1σ:0.0115, Mean - 1σ: 0.506\n",
    "* Constant kernel of 19                                             Mean: 0.516, 1σ:0.00937, Mean - 1σ: 0.506\n",
    "* Switched to a gaussian weighted kernel width 25                   Mean: 0.521, 1σ:0.0059, Mean - 1σ: 0.516\n",
    "* Gaussian Kernel for the bins                                      Mean: 0.508, 1σ:0.0175, Mean - 1σ: 0.49\n",
    "* Reduced all kernels to 21                                         Mean: 0.51, 1σ:0.0061, Mean - 1σ: 0.504\n",
    "* Increased all kerneld to 29                                       Mean: 0.512, 1σ:0.0146, Mean - 1σ: 0.498\n",
    "* Kernels 25, top points 10, fixed bug with top_points?             Mean: 0.511, 1σ:0.00359, Mean - 1σ: 0.507\n",
    "* Left_edge 10, right edge 30, top points 10                        Mean: 0.513, 1σ:0.00479, Mean - 1σ: 0.508\n",
    "* Left_edge 10, right edge 50                                       Mean: 0.508, 1σ:0.00752, Mean - 1σ: 0.5\n",
    "* Left_edge 2, right edge 40    Modified the gaussian edge case     Mean: 0.524, 1σ:0.00614, Mean - 1σ: 0.518\n",
    "* Added localised second order differential mean and max            Mean: 0.519, 1σ:0.0168, Mean - 1σ: 0.502\n",
    "* Introduced PCA and a threshold for interpolated fit of 0.002      Mean: 0.543, 1σ:0.00991, Mean - 1σ: 0.533\n",
    "* Changed intperolated kernel to 17                                 Mean: 0.533, 1σ:0.0111, Mean - 1σ: 0.521\n",
    "* interpolated fit of threshold 0.003  (put kernel back to 21)      Mean: 0.535, 1σ:0.0157, Mean - 1σ: 0.519\n",
    "* Threshold back to 0.002, main fitting kernel to 27                Mean: 0.53, 1σ:0.00612, Mean - 1σ: 0.524\n",
    "* Changed the polypoints range to ignore the fgs bin                Mean: 0.539, 1σ:0.0108, Mean - 1σ: 0.528\n",
    "* Changed the interp threshold to .0015                             Mean: 0.532, 1σ:0.00714, Mean - 1σ: 0.525\n",
    "* Changed the interp threshold to .0025                             Mean: 0.537, 1σ:0.0121, Mean - 1σ: 0.524\n",
    "\n",
    "\n",
    "\n",
    "* Tentatively putting back the fgs score into the polypoints calculation, and the threshold back to 0.002.  Not convinced these last ethree experiments made any meaningful change.\n",
    "* New pre-process with no hot-pixel mask                           Mean: 0.54, 1σ:0.00986, Mean - 1σ: 0.53\n",
    "* Increase num_leaves to 13                                        Mean: 0.533, 1σ:0.0104, Mean - 1σ: 0.523\n",
    "*  Changed to 11 leaves                                            Mean: 0.534, 1σ:0.00756, Mean - 1σ: 0.527\n",
    "*  Added features, and put PCA back into error model               Mean: 0.538, 1σ:0.0089, Mean - 1σ: 0.53    New best LB score .472\n",
    "*  Incresed to 14 fit points, reduced conv kernel to 19            Mean: 0.539, 1σ:0.0103, Mean - 1σ: 0.529\n",
    "*  Back to 12 Bins, reduced conv kernel to 17                      Mean: 0.539, 1σ:0.0166, Mean - 1σ: 0.522\n",
    "*  Increased min leaves to 15 for the fit                          Mean: 0.533, 1σ:0.00598, Mean - 1σ: 0.527\n",
    "*  Added a *  w*2/width  and adjusted the limb darekening feature  Mean: 0.536, 1σ:0.0035, Mean - 1σ: 0.533\n",
    "   With error factor 1.2                                           Mean: 0.538, 1σ:0.00909, Mean - 1σ: 0.529\n",
    "*  With error factor 1.2, put back old limb darkening              Mean: 0.538, 1σ:0.0146, Mean - 1σ: 0.523\n",
    "*  Error factor 1.2, new darkenging,removed the a * w*2/width term\n",
    "*  Added a bunch of new features from the wavelength fits          Mean: 0.535, 1σ:0.00428, Mean - 1σ: 0.531\n",
    "*  Fixed up bug in the crop_transitions                            Mean: 0.536, 1σ:0.00996, Mean - 1σ: 0.526   New best score 0.479\n",
    "*  removed has_two_bps, transit_delta_height:                      Mean: 0.538, 1σ:0.0129, Mean - 1σ: 0.525\n",
    "*  Added PCA fit features                                          Mean: 0.535, 1σ:0.0109, Mean - 1σ: 0.524\n",
    "*  5 inner folds instead of 4                                      Mean: 0.537, 1σ:0.0108, Mean - 1σ: 0.526   New best score 0.482\n",
    "*  Error feature from the variance and changed inner ensembling    Mean: 0.537, 1σ:0.0125, Mean - 1σ: 0.524\n",
    "*  Added Batman fits and a bunch of other changes                  Mean: 0.526, 1σ:0.0161, Mean - 1σ: 0.51   New bast LB score 0.494"
   ]
  },
  {
   "cell_type": "code",
   "execution_count": 133,
   "id": "b393b7c9",
   "metadata": {
    "execution": {
     "iopub.execute_input": "2025-09-24T22:48:13.378090Z",
     "iopub.status.busy": "2025-09-24T22:48:13.377328Z",
     "iopub.status.idle": "2025-09-24T22:48:13.381509Z",
     "shell.execute_reply": "2025-09-24T22:48:13.380768Z"
    },
    "papermill": {
     "duration": 0.047213,
     "end_time": "2025-09-24T22:48:13.383116",
     "exception": false,
     "start_time": "2025-09-24T22:48:13.335903",
     "status": "completed"
    },
    "tags": []
   },
   "outputs": [],
   "source": [
    "if GET_METRICS:\n",
    "    display(badies_df[0])"
   ]
  },
  {
   "cell_type": "code",
   "execution_count": 134,
   "id": "f297fdb8",
   "metadata": {
    "execution": {
     "iopub.execute_input": "2025-09-24T22:48:13.465436Z",
     "iopub.status.busy": "2025-09-24T22:48:13.464594Z",
     "iopub.status.idle": "2025-09-24T22:48:13.469151Z",
     "shell.execute_reply": "2025-09-24T22:48:13.468229Z"
    },
    "papermill": {
     "duration": 0.047588,
     "end_time": "2025-09-24T22:48:13.470965",
     "exception": false,
     "start_time": "2025-09-24T22:48:13.423377",
     "status": "completed"
    },
    "tags": []
   },
   "outputs": [],
   "source": [
    "if GET_METRICS:\n",
    "    display(badies_df[1])"
   ]
  },
  {
   "cell_type": "code",
   "execution_count": 135,
   "id": "963e8ae0",
   "metadata": {
    "execution": {
     "iopub.execute_input": "2025-09-24T22:48:13.558281Z",
     "iopub.status.busy": "2025-09-24T22:48:13.557427Z",
     "iopub.status.idle": "2025-09-24T22:48:13.561881Z",
     "shell.execute_reply": "2025-09-24T22:48:13.560987Z"
    },
    "papermill": {
     "duration": 0.051738,
     "end_time": "2025-09-24T22:48:13.563596",
     "exception": false,
     "start_time": "2025-09-24T22:48:13.511858",
     "status": "completed"
    },
    "tags": []
   },
   "outputs": [],
   "source": [
    "if GET_METRICS:\n",
    "    display(badies_df[2])"
   ]
  },
  {
   "cell_type": "code",
   "execution_count": 136,
   "id": "ce5585de",
   "metadata": {
    "execution": {
     "iopub.execute_input": "2025-09-24T22:48:13.642818Z",
     "iopub.status.busy": "2025-09-24T22:48:13.642153Z",
     "iopub.status.idle": "2025-09-24T22:48:13.646552Z",
     "shell.execute_reply": "2025-09-24T22:48:13.645598Z"
    },
    "papermill": {
     "duration": 0.045824,
     "end_time": "2025-09-24T22:48:13.648384",
     "exception": false,
     "start_time": "2025-09-24T22:48:13.602560",
     "status": "completed"
    },
    "tags": []
   },
   "outputs": [],
   "source": [
    "if GET_METRICS:\n",
    "    display(badies_df[4])"
   ]
  },
  {
   "cell_type": "code",
   "execution_count": 137,
   "id": "5674f060",
   "metadata": {
    "execution": {
     "iopub.execute_input": "2025-09-24T22:48:13.727539Z",
     "iopub.status.busy": "2025-09-24T22:48:13.727235Z",
     "iopub.status.idle": "2025-09-24T22:48:13.744075Z",
     "shell.execute_reply": "2025-09-24T22:48:13.743238Z"
    },
    "papermill": {
     "duration": 0.058035,
     "end_time": "2025-09-24T22:48:13.745768",
     "exception": false,
     "start_time": "2025-09-24T22:48:13.687733",
     "status": "completed"
    },
    "tags": []
   },
   "outputs": [
    {
     "data": {
      "text/html": [
       "<div>\n",
       "<style scoped>\n",
       "    .dataframe tbody tr th:only-of-type {\n",
       "        vertical-align: middle;\n",
       "    }\n",
       "\n",
       "    .dataframe tbody tr th {\n",
       "        vertical-align: top;\n",
       "    }\n",
       "\n",
       "    .dataframe thead th {\n",
       "        text-align: right;\n",
       "    }\n",
       "</style>\n",
       "<table border=\"1\" class=\"dataframe\">\n",
       "  <thead>\n",
       "    <tr style=\"text-align: right;\">\n",
       "      <th></th>\n",
       "      <th>transit_width</th>\n",
       "      <th>max_wl_depth</th>\n",
       "      <th>mean_wl_depth</th>\n",
       "      <th>transit_residual_std</th>\n",
       "      <th>rel_noise</th>\n",
       "      <th>aspect</th>\n",
       "      <th>transit_fit_a</th>\n",
       "      <th>mean_depth</th>\n",
       "      <th>a</th>\n",
       "      <th>b</th>\n",
       "      <th>...</th>\n",
       "      <th>fgs_diff</th>\n",
       "      <th>a_w2_depth</th>\n",
       "      <th>polypoints_range</th>\n",
       "      <th>polypoints_std</th>\n",
       "      <th>polypoints_mean</th>\n",
       "      <th>original_fgs</th>\n",
       "      <th>mean_first_diff</th>\n",
       "      <th>mean_second_diff</th>\n",
       "      <th>first_second_std_sum</th>\n",
       "      <th>c_delta</th>\n",
       "    </tr>\n",
       "    <tr>\n",
       "      <th>planet_id</th>\n",
       "      <th></th>\n",
       "      <th></th>\n",
       "      <th></th>\n",
       "      <th></th>\n",
       "      <th></th>\n",
       "      <th></th>\n",
       "      <th></th>\n",
       "      <th></th>\n",
       "      <th></th>\n",
       "      <th></th>\n",
       "      <th></th>\n",
       "      <th></th>\n",
       "      <th></th>\n",
       "      <th></th>\n",
       "      <th></th>\n",
       "      <th></th>\n",
       "      <th></th>\n",
       "      <th></th>\n",
       "      <th></th>\n",
       "      <th></th>\n",
       "      <th></th>\n",
       "    </tr>\n",
       "  </thead>\n",
       "  <tbody>\n",
       "  </tbody>\n",
       "</table>\n",
       "<p>0 rows × 42 columns</p>\n",
       "</div>"
      ],
      "text/plain": [
       "Empty DataFrame\n",
       "Columns: [transit_width, max_wl_depth, mean_wl_depth, transit_residual_std, rel_noise, aspect, transit_fit_a, mean_depth, a, b, c, a_c, delta, x_centre, transit_delta, half_delta, transit_delta_width, transit_half_delta_height, max_slope, fallback_factor, transit_ratio, transit_ratio_2, has_no_breakpoints, has_two_breakpoints, darkening_correction, left_transition, centre, right_transition, asymmetry, reflected, x_offset, bat_correction, fgs_diff, a_w2_depth, polypoints_range, polypoints_std, polypoints_mean, original_fgs, mean_first_diff, mean_second_diff, first_second_std_sum, c_delta]\n",
       "Index: []\n",
       "\n",
       "[0 rows x 42 columns]"
      ]
     },
     "execution_count": 137,
     "metadata": {},
     "output_type": "execute_result"
    }
   ],
   "source": [
    "extra_feats_df[extra_feats_df['has_no_breakpoints'] == True]"
   ]
  },
  {
   "cell_type": "code",
   "execution_count": 138,
   "id": "d54ddcc5",
   "metadata": {
    "execution": {
     "iopub.execute_input": "2025-09-24T22:48:13.824251Z",
     "iopub.status.busy": "2025-09-24T22:48:13.823573Z",
     "iopub.status.idle": "2025-09-24T22:48:13.827900Z",
     "shell.execute_reply": "2025-09-24T22:48:13.826995Z"
    },
    "papermill": {
     "duration": 0.045719,
     "end_time": "2025-09-24T22:48:13.829558",
     "exception": false,
     "start_time": "2025-09-24T22:48:13.783839",
     "status": "completed"
    },
    "tags": []
   },
   "outputs": [],
   "source": [
    "if not SUBMIT_TO_COMPETITION:\n",
    "    plotter.plot_planet(158006264, t_y_range=0.02)"
   ]
  },
  {
   "cell_type": "code",
   "execution_count": 139,
   "id": "c4725b3c",
   "metadata": {
    "execution": {
     "iopub.execute_input": "2025-09-24T22:48:13.907422Z",
     "iopub.status.busy": "2025-09-24T22:48:13.906747Z",
     "iopub.status.idle": "2025-09-24T22:48:13.911185Z",
     "shell.execute_reply": "2025-09-24T22:48:13.910255Z"
    },
    "papermill": {
     "duration": 0.045867,
     "end_time": "2025-09-24T22:48:13.913097",
     "exception": false,
     "start_time": "2025-09-24T22:48:13.867230",
     "status": "completed"
    },
    "tags": []
   },
   "outputs": [],
   "source": [
    "if not SUBMIT_TO_COMPETITION:\n",
    "    plotter.plot_planet(926530491, t_y_range=0.02)"
   ]
  },
  {
   "cell_type": "code",
   "execution_count": 140,
   "id": "3bc2de3a",
   "metadata": {
    "execution": {
     "iopub.execute_input": "2025-09-24T22:48:13.992510Z",
     "iopub.status.busy": "2025-09-24T22:48:13.991801Z",
     "iopub.status.idle": "2025-09-24T22:48:13.996165Z",
     "shell.execute_reply": "2025-09-24T22:48:13.995366Z"
    },
    "papermill": {
     "duration": 0.045371,
     "end_time": "2025-09-24T22:48:13.997874",
     "exception": false,
     "start_time": "2025-09-24T22:48:13.952503",
     "status": "completed"
    },
    "tags": []
   },
   "outputs": [],
   "source": [
    "if not SUBMIT_TO_COMPETITION:\n",
    "    plotter.plot_planet(1124834224, t_y_range=0.005)"
   ]
  },
  {
   "cell_type": "code",
   "execution_count": 141,
   "id": "367922d9",
   "metadata": {
    "execution": {
     "iopub.execute_input": "2025-09-24T22:48:14.077959Z",
     "iopub.status.busy": "2025-09-24T22:48:14.077618Z",
     "iopub.status.idle": "2025-09-24T22:48:14.081751Z",
     "shell.execute_reply": "2025-09-24T22:48:14.080976Z"
    },
    "papermill": {
     "duration": 0.045938,
     "end_time": "2025-09-24T22:48:14.083337",
     "exception": false,
     "start_time": "2025-09-24T22:48:14.037399",
     "status": "completed"
    },
    "tags": []
   },
   "outputs": [],
   "source": [
    "if not SUBMIT_TO_COMPETITION:\n",
    "    plotter.plot_planet(1843015807, t_y_range=0.02)"
   ]
  },
  {
   "cell_type": "code",
   "execution_count": 142,
   "id": "3a284818",
   "metadata": {
    "execution": {
     "iopub.execute_input": "2025-09-24T22:48:14.162353Z",
     "iopub.status.busy": "2025-09-24T22:48:14.161719Z",
     "iopub.status.idle": "2025-09-24T22:48:14.165967Z",
     "shell.execute_reply": "2025-09-24T22:48:14.165078Z"
    },
    "papermill": {
     "duration": 0.045296,
     "end_time": "2025-09-24T22:48:14.167544",
     "exception": false,
     "start_time": "2025-09-24T22:48:14.122248",
     "status": "completed"
    },
    "tags": []
   },
   "outputs": [],
   "source": [
    "if not SUBMIT_TO_COMPETITION:\n",
    "    plotter.plot_planet(2154305089, t_y_range=0.01)\n",
    "    "
   ]
  },
  {
   "cell_type": "code",
   "execution_count": 143,
   "id": "8b2e5c0f",
   "metadata": {
    "execution": {
     "iopub.execute_input": "2025-09-24T22:48:14.242888Z",
     "iopub.status.busy": "2025-09-24T22:48:14.242618Z",
     "iopub.status.idle": "2025-09-24T22:48:14.246675Z",
     "shell.execute_reply": "2025-09-24T22:48:14.245836Z"
    },
    "papermill": {
     "duration": 0.042912,
     "end_time": "2025-09-24T22:48:14.248320",
     "exception": false,
     "start_time": "2025-09-24T22:48:14.205408",
     "status": "completed"
    },
    "tags": []
   },
   "outputs": [],
   "source": [
    "if not SUBMIT_TO_COMPETITION:\n",
    "    plotter.plot_planet(3649218579, t_y_range=0.01)"
   ]
  },
  {
   "cell_type": "code",
   "execution_count": 144,
   "id": "ca2a8be5",
   "metadata": {
    "execution": {
     "iopub.execute_input": "2025-09-24T22:48:14.322466Z",
     "iopub.status.busy": "2025-09-24T22:48:14.322077Z",
     "iopub.status.idle": "2025-09-24T22:48:14.355627Z",
     "shell.execute_reply": "2025-09-24T22:48:14.354778Z"
    },
    "papermill": {
     "duration": 0.072853,
     "end_time": "2025-09-24T22:48:14.357408",
     "exception": false,
     "start_time": "2025-09-24T22:48:14.284555",
     "status": "completed"
    },
    "tags": []
   },
   "outputs": [
    {
     "data": {
      "text/html": [
       "<div>\n",
       "<style scoped>\n",
       "    .dataframe tbody tr th:only-of-type {\n",
       "        vertical-align: middle;\n",
       "    }\n",
       "\n",
       "    .dataframe tbody tr th {\n",
       "        vertical-align: top;\n",
       "    }\n",
       "\n",
       "    .dataframe thead th {\n",
       "        text-align: right;\n",
       "    }\n",
       "</style>\n",
       "<table border=\"1\" class=\"dataframe\">\n",
       "  <thead>\n",
       "    <tr style=\"text-align: right;\">\n",
       "      <th></th>\n",
       "      <th>planet_id</th>\n",
       "      <th>wl_1</th>\n",
       "      <th>wl_2</th>\n",
       "      <th>wl_3</th>\n",
       "      <th>wl_4</th>\n",
       "      <th>wl_5</th>\n",
       "      <th>wl_6</th>\n",
       "      <th>wl_7</th>\n",
       "      <th>wl_8</th>\n",
       "      <th>wl_9</th>\n",
       "      <th>...</th>\n",
       "      <th>sigma_274</th>\n",
       "      <th>sigma_275</th>\n",
       "      <th>sigma_276</th>\n",
       "      <th>sigma_277</th>\n",
       "      <th>sigma_278</th>\n",
       "      <th>sigma_279</th>\n",
       "      <th>sigma_280</th>\n",
       "      <th>sigma_281</th>\n",
       "      <th>sigma_282</th>\n",
       "      <th>sigma_283</th>\n",
       "    </tr>\n",
       "  </thead>\n",
       "  <tbody>\n",
       "    <tr>\n",
       "      <th>0</th>\n",
       "      <td>1103775</td>\n",
       "      <td>0.015801</td>\n",
       "      <td>0.015828</td>\n",
       "      <td>0.015829</td>\n",
       "      <td>0.015829</td>\n",
       "      <td>0.015829</td>\n",
       "      <td>0.015829</td>\n",
       "      <td>0.015828</td>\n",
       "      <td>0.015828</td>\n",
       "      <td>0.015827</td>\n",
       "      <td>...</td>\n",
       "      <td>0.000177</td>\n",
       "      <td>0.000178</td>\n",
       "      <td>0.000179</td>\n",
       "      <td>0.000179</td>\n",
       "      <td>0.00018</td>\n",
       "      <td>0.00018</td>\n",
       "      <td>0.00018</td>\n",
       "      <td>0.00018</td>\n",
       "      <td>0.00018</td>\n",
       "      <td>0.00018</td>\n",
       "    </tr>\n",
       "  </tbody>\n",
       "</table>\n",
       "<p>1 rows × 567 columns</p>\n",
       "</div>"
      ],
      "text/plain": [
       "   planet_id      wl_1      wl_2      wl_3      wl_4      wl_5      wl_6  \\\n",
       "0    1103775  0.015801  0.015828  0.015829  0.015829  0.015829  0.015829   \n",
       "\n",
       "       wl_7      wl_8      wl_9  ...  sigma_274  sigma_275  sigma_276  \\\n",
       "0  0.015828  0.015828  0.015827  ...   0.000177   0.000178   0.000179   \n",
       "\n",
       "   sigma_277  sigma_278  sigma_279  sigma_280  sigma_281  sigma_282  sigma_283  \n",
       "0   0.000179    0.00018    0.00018    0.00018    0.00018    0.00018    0.00018  \n",
       "\n",
       "[1 rows x 567 columns]"
      ]
     },
     "execution_count": 144,
     "metadata": {},
     "output_type": "execute_result"
    }
   ],
   "source": [
    "sub_df.to_csv('submission.csv')\n",
    "check_df = pd.read_csv(\"submission.csv\")\n",
    "check_df.head(2)"
   ]
  }
 ],
 "metadata": {
  "kaggle": {
   "accelerator": "nvidiaTeslaT4",
   "dataSources": [
    {
     "databundleVersionId": 13093295,
     "sourceId": 101849,
     "sourceType": "competition"
    },
    {
     "datasetId": 7940489,
     "sourceId": 12573469,
     "sourceType": "datasetVersion"
    },
    {
     "datasetId": 8218122,
     "sourceId": 12983981,
     "sourceType": "datasetVersion"
    },
    {
     "datasetId": 8306864,
     "sourceId": 13113443,
     "sourceType": "datasetVersion"
    },
    {
     "datasetId": 8306891,
     "sourceId": 13113497,
     "sourceType": "datasetVersion"
    },
    {
     "modelId": 451928,
     "modelInstanceId": 435089,
     "sourceId": 582684,
     "sourceType": "modelInstanceVersion"
    },
    {
     "isSourceIdPinned": true,
     "modelId": 454660,
     "modelInstanceId": 438034,
     "sourceId": 586131,
     "sourceType": "modelInstanceVersion"
    },
    {
     "isSourceIdPinned": true,
     "modelId": 454781,
     "modelInstanceId": 438155,
     "sourceId": 586280,
     "sourceType": "modelInstanceVersion"
    },
    {
     "isSourceIdPinned": true,
     "modelId": 455331,
     "modelInstanceId": 438759,
     "sourceId": 586993,
     "sourceType": "modelInstanceVersion"
    },
    {
     "isSourceIdPinned": true,
     "modelId": 455623,
     "modelInstanceId": 439060,
     "sourceId": 587352,
     "sourceType": "modelInstanceVersion"
    },
    {
     "isSourceIdPinned": true,
     "modelId": 456060,
     "modelInstanceId": 439495,
     "sourceId": 587873,
     "sourceType": "modelInstanceVersion"
    },
    {
     "isSourceIdPinned": true,
     "modelId": 456351,
     "modelInstanceId": 439799,
     "sourceId": 588232,
     "sourceType": "modelInstanceVersion"
    },
    {
     "isSourceIdPinned": true,
     "modelId": 456808,
     "modelInstanceId": 440260,
     "sourceId": 588788,
     "sourceType": "modelInstanceVersion"
    },
    {
     "isSourceIdPinned": true,
     "modelId": 456943,
     "modelInstanceId": 440395,
     "sourceId": 588955,
     "sourceType": "modelInstanceVersion"
    },
    {
     "isSourceIdPinned": true,
     "modelId": 457498,
     "modelInstanceId": 440957,
     "sourceId": 589653,
     "sourceType": "modelInstanceVersion"
    }
   ],
   "dockerImageVersionId": 30747,
   "isGpuEnabled": true,
   "isInternetEnabled": false,
   "language": "python",
   "sourceType": "notebook"
  },
  "kernelspec": {
   "display_name": "Python 3",
   "language": "python",
   "name": "python3"
  },
  "language_info": {
   "codemirror_mode": {
    "name": "ipython",
    "version": 3
   },
   "file_extension": ".py",
   "mimetype": "text/x-python",
   "name": "python",
   "nbconvert_exporter": "python",
   "pygments_lexer": "ipython3",
   "version": "3.10.13"
  },
  "papermill": {
   "default_parameters": {},
   "duration": 165.202189,
   "end_time": "2025-09-24T22:48:17.518624",
   "environment_variables": {},
   "exception": null,
   "input_path": "__notebook__.ipynb",
   "output_path": "__notebook__.ipynb",
   "parameters": {},
   "start_time": "2025-09-24T22:45:32.316435",
   "version": "2.5.0"
  }
 },
 "nbformat": 4,
 "nbformat_minor": 5
}
